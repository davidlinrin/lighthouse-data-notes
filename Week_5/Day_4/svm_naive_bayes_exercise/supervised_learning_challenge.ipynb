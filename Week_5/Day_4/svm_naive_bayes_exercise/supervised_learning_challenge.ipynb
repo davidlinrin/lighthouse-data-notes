{
 "cells": [
  {
   "cell_type": "markdown",
   "metadata": {},
   "source": [
    "## Supervised Learning: Challenge"
   ]
  },
  {
   "cell_type": "markdown",
   "metadata": {},
   "source": [
    "During this challenge, we will be working on the credit card fraud prediction. You can download the data from [here](https://drive.google.com/file/d/1FCQY1SiWIjh_ME6Wtb3FG8Y1sKoRwAUc/view?usp=sharing). The data is originally from [Kaggle Competition](https://www.kaggle.com/mlg-ulb/creditcardfraud)."
   ]
  },
  {
   "cell_type": "markdown",
   "metadata": {},
   "source": [
    "The datasets contains transactions made by credit cards in September 2013 by european cardholders.\n",
    "This dataset presents transactions that occurred in two days, where we have 492 frauds out of 284,807 transactions. The dataset is highly unbalanced, the positive class (frauds) account for 0.172% of all transactions."
   ]
  },
  {
   "cell_type": "markdown",
   "metadata": {},
   "source": [
    "**Challenge:** Identify fraudulent credit card transactions."
   ]
  },
  {
   "cell_type": "markdown",
   "metadata": {},
   "source": [
    "Features V1, V2, … V28 are the principal components obtained with PCA, the only features which have not been transformed with PCA are 'Time' and 'Amount'. Feature 'Time' contains the seconds elapsed between each transaction and the first transaction in the dataset. The feature 'Amount' is the transaction Amount, this feature can be used for example-dependant cost-senstive learning. Feature 'Class' is the response variable and it takes value 1 in case of fraud and 0 otherwise"
   ]
  },
  {
   "cell_type": "markdown",
   "metadata": {},
   "source": [
    "> #### Warning\n",
    "> There is a huge class imbalance ratio so we need to be careful when evaluating. It might be better to use method `.predict_proba()` with custom cut-off to search for fraudelent transactions."
   ]
  },
  {
   "cell_type": "code",
   "execution_count": 208,
   "metadata": {},
   "outputs": [],
   "source": [
    "# import pandas\n",
    "import numpy as np\n",
    "import pandas as pd\n",
    "import matplotlib.pyplot as plt\n",
    "\n",
    "from scipy import stats\n",
    "import seaborn as sns\n",
    "import xgboost as xgb\n",
    "\n",
    "from sklearn.ensemble import AdaBoostClassifier\n",
    "from sklearn.naive_bayes import GaussianNB\n",
    "from sklearn.tree import DecisionTreeClassifier \n",
    "from sklearn.model_selection import GridSearchCV\n",
    "from sklearn.model_selection import RandomizedSearchCV\n",
    "from sklearn.ensemble import RandomForestClassifier\n",
    "from sklearn.ensemble import RandomForestRegressor\n",
    "from sklearn.model_selection import train_test_split \n",
    "from sklearn.metrics import roc_curve, auc\n",
    "from sklearn import metrics\n",
    "from sklearn import svm\n",
    "from sklearn.metrics import mean_squared_error\n",
    "from sklearn import preprocessing\n",
    "from sklearn.tree import export_graphviz\n",
    "\n",
    "import graphviz\n",
    "from io import StringIO\n",
    "from IPython.display import Image  \n",
    "import pydotplus\n",
    "import os\n",
    "import copy\n",
    "import datetime\n",
    "\n",
    "%matplotlib inline"
   ]
  },
  {
   "cell_type": "code",
   "execution_count": 153,
   "metadata": {},
   "outputs": [
    {
     "data": {
      "text/html": [
       "<div>\n",
       "<style scoped>\n",
       "    .dataframe tbody tr th:only-of-type {\n",
       "        vertical-align: middle;\n",
       "    }\n",
       "\n",
       "    .dataframe tbody tr th {\n",
       "        vertical-align: top;\n",
       "    }\n",
       "\n",
       "    .dataframe thead th {\n",
       "        text-align: right;\n",
       "    }\n",
       "</style>\n",
       "<table border=\"1\" class=\"dataframe\">\n",
       "  <thead>\n",
       "    <tr style=\"text-align: right;\">\n",
       "      <th></th>\n",
       "      <th>Time</th>\n",
       "      <th>V1</th>\n",
       "      <th>V2</th>\n",
       "      <th>V3</th>\n",
       "      <th>V4</th>\n",
       "      <th>V5</th>\n",
       "      <th>V6</th>\n",
       "      <th>V7</th>\n",
       "      <th>V8</th>\n",
       "      <th>V9</th>\n",
       "      <th>...</th>\n",
       "      <th>V21</th>\n",
       "      <th>V22</th>\n",
       "      <th>V23</th>\n",
       "      <th>V24</th>\n",
       "      <th>V25</th>\n",
       "      <th>V26</th>\n",
       "      <th>V27</th>\n",
       "      <th>V28</th>\n",
       "      <th>Amount</th>\n",
       "      <th>Class</th>\n",
       "    </tr>\n",
       "  </thead>\n",
       "  <tbody>\n",
       "    <tr>\n",
       "      <th>0</th>\n",
       "      <td>0.0</td>\n",
       "      <td>-1.359807</td>\n",
       "      <td>-0.072781</td>\n",
       "      <td>2.536347</td>\n",
       "      <td>1.378155</td>\n",
       "      <td>-0.338321</td>\n",
       "      <td>0.462388</td>\n",
       "      <td>0.239599</td>\n",
       "      <td>0.098698</td>\n",
       "      <td>0.363787</td>\n",
       "      <td>...</td>\n",
       "      <td>-0.018307</td>\n",
       "      <td>0.277838</td>\n",
       "      <td>-0.110474</td>\n",
       "      <td>0.066928</td>\n",
       "      <td>0.128539</td>\n",
       "      <td>-0.189115</td>\n",
       "      <td>0.133558</td>\n",
       "      <td>-0.021053</td>\n",
       "      <td>149.62</td>\n",
       "      <td>0</td>\n",
       "    </tr>\n",
       "    <tr>\n",
       "      <th>1</th>\n",
       "      <td>0.0</td>\n",
       "      <td>1.191857</td>\n",
       "      <td>0.266151</td>\n",
       "      <td>0.166480</td>\n",
       "      <td>0.448154</td>\n",
       "      <td>0.060018</td>\n",
       "      <td>-0.082361</td>\n",
       "      <td>-0.078803</td>\n",
       "      <td>0.085102</td>\n",
       "      <td>-0.255425</td>\n",
       "      <td>...</td>\n",
       "      <td>-0.225775</td>\n",
       "      <td>-0.638672</td>\n",
       "      <td>0.101288</td>\n",
       "      <td>-0.339846</td>\n",
       "      <td>0.167170</td>\n",
       "      <td>0.125895</td>\n",
       "      <td>-0.008983</td>\n",
       "      <td>0.014724</td>\n",
       "      <td>2.69</td>\n",
       "      <td>0</td>\n",
       "    </tr>\n",
       "    <tr>\n",
       "      <th>2</th>\n",
       "      <td>1.0</td>\n",
       "      <td>-1.358354</td>\n",
       "      <td>-1.340163</td>\n",
       "      <td>1.773209</td>\n",
       "      <td>0.379780</td>\n",
       "      <td>-0.503198</td>\n",
       "      <td>1.800499</td>\n",
       "      <td>0.791461</td>\n",
       "      <td>0.247676</td>\n",
       "      <td>-1.514654</td>\n",
       "      <td>...</td>\n",
       "      <td>0.247998</td>\n",
       "      <td>0.771679</td>\n",
       "      <td>0.909412</td>\n",
       "      <td>-0.689281</td>\n",
       "      <td>-0.327642</td>\n",
       "      <td>-0.139097</td>\n",
       "      <td>-0.055353</td>\n",
       "      <td>-0.059752</td>\n",
       "      <td>378.66</td>\n",
       "      <td>0</td>\n",
       "    </tr>\n",
       "    <tr>\n",
       "      <th>3</th>\n",
       "      <td>1.0</td>\n",
       "      <td>-0.966272</td>\n",
       "      <td>-0.185226</td>\n",
       "      <td>1.792993</td>\n",
       "      <td>-0.863291</td>\n",
       "      <td>-0.010309</td>\n",
       "      <td>1.247203</td>\n",
       "      <td>0.237609</td>\n",
       "      <td>0.377436</td>\n",
       "      <td>-1.387024</td>\n",
       "      <td>...</td>\n",
       "      <td>-0.108300</td>\n",
       "      <td>0.005274</td>\n",
       "      <td>-0.190321</td>\n",
       "      <td>-1.175575</td>\n",
       "      <td>0.647376</td>\n",
       "      <td>-0.221929</td>\n",
       "      <td>0.062723</td>\n",
       "      <td>0.061458</td>\n",
       "      <td>123.50</td>\n",
       "      <td>0</td>\n",
       "    </tr>\n",
       "    <tr>\n",
       "      <th>4</th>\n",
       "      <td>2.0</td>\n",
       "      <td>-1.158233</td>\n",
       "      <td>0.877737</td>\n",
       "      <td>1.548718</td>\n",
       "      <td>0.403034</td>\n",
       "      <td>-0.407193</td>\n",
       "      <td>0.095921</td>\n",
       "      <td>0.592941</td>\n",
       "      <td>-0.270533</td>\n",
       "      <td>0.817739</td>\n",
       "      <td>...</td>\n",
       "      <td>-0.009431</td>\n",
       "      <td>0.798278</td>\n",
       "      <td>-0.137458</td>\n",
       "      <td>0.141267</td>\n",
       "      <td>-0.206010</td>\n",
       "      <td>0.502292</td>\n",
       "      <td>0.219422</td>\n",
       "      <td>0.215153</td>\n",
       "      <td>69.99</td>\n",
       "      <td>0</td>\n",
       "    </tr>\n",
       "  </tbody>\n",
       "</table>\n",
       "<p>5 rows × 31 columns</p>\n",
       "</div>"
      ],
      "text/plain": [
       "   Time        V1        V2        V3        V4        V5        V6        V7  \\\n",
       "0   0.0 -1.359807 -0.072781  2.536347  1.378155 -0.338321  0.462388  0.239599   \n",
       "1   0.0  1.191857  0.266151  0.166480  0.448154  0.060018 -0.082361 -0.078803   \n",
       "2   1.0 -1.358354 -1.340163  1.773209  0.379780 -0.503198  1.800499  0.791461   \n",
       "3   1.0 -0.966272 -0.185226  1.792993 -0.863291 -0.010309  1.247203  0.237609   \n",
       "4   2.0 -1.158233  0.877737  1.548718  0.403034 -0.407193  0.095921  0.592941   \n",
       "\n",
       "         V8        V9  ...       V21       V22       V23       V24       V25  \\\n",
       "0  0.098698  0.363787  ... -0.018307  0.277838 -0.110474  0.066928  0.128539   \n",
       "1  0.085102 -0.255425  ... -0.225775 -0.638672  0.101288 -0.339846  0.167170   \n",
       "2  0.247676 -1.514654  ...  0.247998  0.771679  0.909412 -0.689281 -0.327642   \n",
       "3  0.377436 -1.387024  ... -0.108300  0.005274 -0.190321 -1.175575  0.647376   \n",
       "4 -0.270533  0.817739  ... -0.009431  0.798278 -0.137458  0.141267 -0.206010   \n",
       "\n",
       "        V26       V27       V28  Amount  Class  \n",
       "0 -0.189115  0.133558 -0.021053  149.62      0  \n",
       "1  0.125895 -0.008983  0.014724    2.69      0  \n",
       "2 -0.139097 -0.055353 -0.059752  378.66      0  \n",
       "3 -0.221929  0.062723  0.061458  123.50      0  \n",
       "4  0.502292  0.219422  0.215153   69.99      0  \n",
       "\n",
       "[5 rows x 31 columns]"
      ]
     },
     "execution_count": 153,
     "metadata": {},
     "output_type": "execute_result"
    }
   ],
   "source": [
    "# 284807 x 31\n",
    "data = pd.read_csv('creditcard.csv', header = 0)\n",
    "data.head()"
   ]
  },
  {
   "cell_type": "code",
   "execution_count": 154,
   "metadata": {},
   "outputs": [],
   "source": [
    "X = data.drop('Class', axis = 1)\n",
    "y = data['Class']"
   ]
  },
  {
   "cell_type": "code",
   "execution_count": 155,
   "metadata": {},
   "outputs": [],
   "source": [
    "X_train, X_test, y_train, y_test = train_test_split(X,y, test_size = 0.3)"
   ]
  },
  {
   "cell_type": "markdown",
   "metadata": {},
   "source": [
    "# All independent into SVM"
   ]
  },
  {
   "cell_type": "markdown",
   "metadata": {},
   "source": [
    "### Poly"
   ]
  },
  {
   "cell_type": "code",
   "execution_count": 5,
   "metadata": {},
   "outputs": [
    {
     "data": {
      "text/plain": [
       "array([[85308,     0],\n",
       "       [  135,     0]])"
      ]
     },
     "execution_count": 5,
     "metadata": {},
     "output_type": "execute_result"
    }
   ],
   "source": [
    "SVM = svm.SVC(kernel = \"poly\")\n",
    "SVM.fit(X_train,y_train)\n",
    "y_pred = SVM.predict(X_test)\n",
    "con_mat = metrics.confusion_matrix(y_test,y_pred)\n",
    "con_mat"
   ]
  },
  {
   "cell_type": "code",
   "execution_count": 6,
   "metadata": {},
   "outputs": [
    {
     "data": {
      "text/plain": [
       "0.9984199992977775"
      ]
     },
     "execution_count": 6,
     "metadata": {},
     "output_type": "execute_result"
    }
   ],
   "source": [
    "metrics.accuracy_score(y_test,y_pred)"
   ]
  },
  {
   "cell_type": "markdown",
   "metadata": {},
   "source": [
    "### RBF"
   ]
  },
  {
   "cell_type": "code",
   "execution_count": 7,
   "metadata": {},
   "outputs": [
    {
     "data": {
      "text/plain": [
       "array([[85308,     0],\n",
       "       [  135,     0]])"
      ]
     },
     "execution_count": 7,
     "metadata": {},
     "output_type": "execute_result"
    }
   ],
   "source": [
    "SVM = svm.SVC(kernel = \"rbf\")\n",
    "SVM.fit(X_train,y_train)\n",
    "y_pred = SVM.predict(X_test)\n",
    "con_mat = metrics.confusion_matrix(y_test,y_pred)\n",
    "con_mat"
   ]
  },
  {
   "cell_type": "code",
   "execution_count": 8,
   "metadata": {},
   "outputs": [
    {
     "data": {
      "text/plain": [
       "0.9984199992977775"
      ]
     },
     "execution_count": 8,
     "metadata": {},
     "output_type": "execute_result"
    }
   ],
   "source": [
    "metrics.accuracy_score(y_test,y_pred)"
   ]
  },
  {
   "cell_type": "markdown",
   "metadata": {},
   "source": [
    "# Naive Bayes"
   ]
  },
  {
   "cell_type": "code",
   "execution_count": 157,
   "metadata": {},
   "outputs": [],
   "source": [
    "#data\n",
    "#data_0 = data[data['Class'] == 0]\n",
    "#data_0"
   ]
  },
  {
   "cell_type": "code",
   "execution_count": 158,
   "metadata": {},
   "outputs": [],
   "source": [
    "#sns.distplot(data_0.V24)"
   ]
  },
  {
   "cell_type": "code",
   "execution_count": 159,
   "metadata": {},
   "outputs": [],
   "source": [
    "gnb = GaussianNB()"
   ]
  },
  {
   "cell_type": "code",
   "execution_count": 160,
   "metadata": {},
   "outputs": [
    {
     "data": {
      "text/plain": [
       "GaussianNB()"
      ]
     },
     "execution_count": 160,
     "metadata": {},
     "output_type": "execute_result"
    }
   ],
   "source": [
    "gnb.fit(X_train, y_train) "
   ]
  },
  {
   "cell_type": "code",
   "execution_count": 161,
   "metadata": {},
   "outputs": [],
   "source": [
    "y_pred = gnb.predict(X_test)"
   ]
  },
  {
   "cell_type": "code",
   "execution_count": 162,
   "metadata": {},
   "outputs": [
    {
     "data": {
      "text/plain": [
       "0.9924159966293319"
      ]
     },
     "execution_count": 162,
     "metadata": {},
     "output_type": "execute_result"
    }
   ],
   "source": [
    "metrics.accuracy_score(y_test,y_pred)"
   ]
  },
  {
   "cell_type": "code",
   "execution_count": 163,
   "metadata": {},
   "outputs": [
    {
     "data": {
      "text/plain": [
       "array([[84686,   595],\n",
       "       [   53,   109]])"
      ]
     },
     "execution_count": 163,
     "metadata": {},
     "output_type": "execute_result"
    }
   ],
   "source": [
    "con_mat = metrics.confusion_matrix(y_test,y_pred)\n",
    "con_mat"
   ]
  },
  {
   "cell_type": "code",
   "execution_count": 164,
   "metadata": {},
   "outputs": [
    {
     "data": {
      "text/plain": [
       "162"
      ]
     },
     "execution_count": 164,
     "metadata": {},
     "output_type": "execute_result"
    }
   ],
   "source": [
    "sum(y_test)"
   ]
  },
  {
   "cell_type": "markdown",
   "metadata": {},
   "source": [
    "# Undersampling"
   ]
  },
  {
   "cell_type": "code",
   "execution_count": 167,
   "metadata": {},
   "outputs": [],
   "source": [
    "# Class count\n",
    "count_class_0, count_class_1 = data.Class.value_counts()\n",
    "\n",
    "# Divide by class\n",
    "data_class_0 = data[data['Class'] == 0]\n",
    "data_class_1 = data[data['Class'] == 1]"
   ]
  },
  {
   "cell_type": "code",
   "execution_count": 168,
   "metadata": {},
   "outputs": [
    {
     "name": "stdout",
     "output_type": "stream",
     "text": [
      "Random under-sampling:\n",
      "1    492\n",
      "0    492\n",
      "Name: Class, dtype: int64\n"
     ]
    }
   ],
   "source": [
    "data_class_0_under = data_class_0.sample(count_class_1)\n",
    "data_under = pd.concat([data_class_0_under, data_class_1], axis=0)\n",
    "\n",
    "print('Random under-sampling:')\n",
    "print(data_under.Class.value_counts())"
   ]
  },
  {
   "cell_type": "code",
   "execution_count": 169,
   "metadata": {},
   "outputs": [
    {
     "data": {
      "text/html": [
       "<div>\n",
       "<style scoped>\n",
       "    .dataframe tbody tr th:only-of-type {\n",
       "        vertical-align: middle;\n",
       "    }\n",
       "\n",
       "    .dataframe tbody tr th {\n",
       "        vertical-align: top;\n",
       "    }\n",
       "\n",
       "    .dataframe thead th {\n",
       "        text-align: right;\n",
       "    }\n",
       "</style>\n",
       "<table border=\"1\" class=\"dataframe\">\n",
       "  <thead>\n",
       "    <tr style=\"text-align: right;\">\n",
       "      <th></th>\n",
       "      <th>Time</th>\n",
       "      <th>V1</th>\n",
       "      <th>V2</th>\n",
       "      <th>V3</th>\n",
       "      <th>V4</th>\n",
       "      <th>V5</th>\n",
       "      <th>V6</th>\n",
       "      <th>V7</th>\n",
       "      <th>V8</th>\n",
       "      <th>V9</th>\n",
       "      <th>...</th>\n",
       "      <th>V21</th>\n",
       "      <th>V22</th>\n",
       "      <th>V23</th>\n",
       "      <th>V24</th>\n",
       "      <th>V25</th>\n",
       "      <th>V26</th>\n",
       "      <th>V27</th>\n",
       "      <th>V28</th>\n",
       "      <th>Amount</th>\n",
       "      <th>Class</th>\n",
       "    </tr>\n",
       "  </thead>\n",
       "  <tbody>\n",
       "    <tr>\n",
       "      <th>0</th>\n",
       "      <td>144294.0</td>\n",
       "      <td>2.061777</td>\n",
       "      <td>-0.041485</td>\n",
       "      <td>-1.058479</td>\n",
       "      <td>0.417426</td>\n",
       "      <td>-0.137964</td>\n",
       "      <td>-1.216341</td>\n",
       "      <td>0.192753</td>\n",
       "      <td>-0.342173</td>\n",
       "      <td>0.523384</td>\n",
       "      <td>...</td>\n",
       "      <td>-0.287353</td>\n",
       "      <td>-0.687960</td>\n",
       "      <td>0.339932</td>\n",
       "      <td>0.049481</td>\n",
       "      <td>-0.295653</td>\n",
       "      <td>0.194995</td>\n",
       "      <td>-0.069963</td>\n",
       "      <td>-0.059599</td>\n",
       "      <td>1.79</td>\n",
       "      <td>0</td>\n",
       "    </tr>\n",
       "    <tr>\n",
       "      <th>1</th>\n",
       "      <td>172348.0</td>\n",
       "      <td>2.038278</td>\n",
       "      <td>0.198144</td>\n",
       "      <td>-1.734459</td>\n",
       "      <td>0.515580</td>\n",
       "      <td>0.236668</td>\n",
       "      <td>-1.391897</td>\n",
       "      <td>0.286938</td>\n",
       "      <td>-0.383104</td>\n",
       "      <td>0.553431</td>\n",
       "      <td>...</td>\n",
       "      <td>0.204669</td>\n",
       "      <td>0.769628</td>\n",
       "      <td>-0.032565</td>\n",
       "      <td>-0.139852</td>\n",
       "      <td>0.253668</td>\n",
       "      <td>-0.095694</td>\n",
       "      <td>0.000959</td>\n",
       "      <td>-0.030442</td>\n",
       "      <td>11.37</td>\n",
       "      <td>0</td>\n",
       "    </tr>\n",
       "    <tr>\n",
       "      <th>2</th>\n",
       "      <td>133184.0</td>\n",
       "      <td>-1.212682</td>\n",
       "      <td>-2.484824</td>\n",
       "      <td>-6.397186</td>\n",
       "      <td>3.670562</td>\n",
       "      <td>-0.863375</td>\n",
       "      <td>-1.855855</td>\n",
       "      <td>1.017732</td>\n",
       "      <td>-0.544704</td>\n",
       "      <td>-1.703378</td>\n",
       "      <td>...</td>\n",
       "      <td>1.396872</td>\n",
       "      <td>0.092073</td>\n",
       "      <td>-1.492882</td>\n",
       "      <td>-0.204227</td>\n",
       "      <td>0.532511</td>\n",
       "      <td>-0.293871</td>\n",
       "      <td>0.212663</td>\n",
       "      <td>0.431095</td>\n",
       "      <td>1335.00</td>\n",
       "      <td>1</td>\n",
       "    </tr>\n",
       "    <tr>\n",
       "      <th>3</th>\n",
       "      <td>141524.0</td>\n",
       "      <td>0.025977</td>\n",
       "      <td>0.533894</td>\n",
       "      <td>-1.191769</td>\n",
       "      <td>-1.727196</td>\n",
       "      <td>2.920477</td>\n",
       "      <td>3.408321</td>\n",
       "      <td>0.351968</td>\n",
       "      <td>0.924018</td>\n",
       "      <td>-0.167337</td>\n",
       "      <td>...</td>\n",
       "      <td>-0.263639</td>\n",
       "      <td>-0.716622</td>\n",
       "      <td>0.118396</td>\n",
       "      <td>0.688015</td>\n",
       "      <td>-0.458492</td>\n",
       "      <td>0.161805</td>\n",
       "      <td>0.263906</td>\n",
       "      <td>0.090550</td>\n",
       "      <td>5.99</td>\n",
       "      <td>0</td>\n",
       "    </tr>\n",
       "    <tr>\n",
       "      <th>4</th>\n",
       "      <td>32686.0</td>\n",
       "      <td>0.287953</td>\n",
       "      <td>1.728735</td>\n",
       "      <td>-1.652173</td>\n",
       "      <td>3.813544</td>\n",
       "      <td>-1.090927</td>\n",
       "      <td>-0.984745</td>\n",
       "      <td>-2.202318</td>\n",
       "      <td>0.555088</td>\n",
       "      <td>-2.033892</td>\n",
       "      <td>...</td>\n",
       "      <td>0.262202</td>\n",
       "      <td>-0.633528</td>\n",
       "      <td>0.092891</td>\n",
       "      <td>0.187613</td>\n",
       "      <td>0.368708</td>\n",
       "      <td>-0.132474</td>\n",
       "      <td>0.576561</td>\n",
       "      <td>0.309843</td>\n",
       "      <td>0.00</td>\n",
       "      <td>1</td>\n",
       "    </tr>\n",
       "    <tr>\n",
       "      <th>...</th>\n",
       "      <td>...</td>\n",
       "      <td>...</td>\n",
       "      <td>...</td>\n",
       "      <td>...</td>\n",
       "      <td>...</td>\n",
       "      <td>...</td>\n",
       "      <td>...</td>\n",
       "      <td>...</td>\n",
       "      <td>...</td>\n",
       "      <td>...</td>\n",
       "      <td>...</td>\n",
       "      <td>...</td>\n",
       "      <td>...</td>\n",
       "      <td>...</td>\n",
       "      <td>...</td>\n",
       "      <td>...</td>\n",
       "      <td>...</td>\n",
       "      <td>...</td>\n",
       "      <td>...</td>\n",
       "      <td>...</td>\n",
       "      <td>...</td>\n",
       "    </tr>\n",
       "    <tr>\n",
       "      <th>979</th>\n",
       "      <td>67857.0</td>\n",
       "      <td>-1.739334</td>\n",
       "      <td>-1.304655</td>\n",
       "      <td>0.314103</td>\n",
       "      <td>0.053740</td>\n",
       "      <td>-0.058696</td>\n",
       "      <td>0.071260</td>\n",
       "      <td>0.694862</td>\n",
       "      <td>-0.313270</td>\n",
       "      <td>-0.649377</td>\n",
       "      <td>...</td>\n",
       "      <td>-0.665172</td>\n",
       "      <td>-0.632078</td>\n",
       "      <td>-0.421176</td>\n",
       "      <td>-0.400774</td>\n",
       "      <td>-0.001640</td>\n",
       "      <td>-0.495162</td>\n",
       "      <td>0.031633</td>\n",
       "      <td>0.066280</td>\n",
       "      <td>320.00</td>\n",
       "      <td>1</td>\n",
       "    </tr>\n",
       "    <tr>\n",
       "      <th>980</th>\n",
       "      <td>93853.0</td>\n",
       "      <td>-5.839192</td>\n",
       "      <td>7.151532</td>\n",
       "      <td>-12.816760</td>\n",
       "      <td>7.031115</td>\n",
       "      <td>-9.651272</td>\n",
       "      <td>-2.938427</td>\n",
       "      <td>-11.543207</td>\n",
       "      <td>4.843627</td>\n",
       "      <td>-3.494276</td>\n",
       "      <td>...</td>\n",
       "      <td>2.462056</td>\n",
       "      <td>1.054865</td>\n",
       "      <td>0.530481</td>\n",
       "      <td>0.472670</td>\n",
       "      <td>-0.275998</td>\n",
       "      <td>0.282435</td>\n",
       "      <td>0.104886</td>\n",
       "      <td>0.254417</td>\n",
       "      <td>316.06</td>\n",
       "      <td>1</td>\n",
       "    </tr>\n",
       "    <tr>\n",
       "      <th>981</th>\n",
       "      <td>154197.0</td>\n",
       "      <td>-3.377409</td>\n",
       "      <td>-0.875164</td>\n",
       "      <td>-3.313172</td>\n",
       "      <td>0.109019</td>\n",
       "      <td>1.653239</td>\n",
       "      <td>-1.938749</td>\n",
       "      <td>1.449613</td>\n",
       "      <td>-0.203814</td>\n",
       "      <td>0.503379</td>\n",
       "      <td>...</td>\n",
       "      <td>-0.066409</td>\n",
       "      <td>1.900572</td>\n",
       "      <td>0.963391</td>\n",
       "      <td>-0.289807</td>\n",
       "      <td>-0.403511</td>\n",
       "      <td>-0.037650</td>\n",
       "      <td>1.099396</td>\n",
       "      <td>1.346125</td>\n",
       "      <td>106.49</td>\n",
       "      <td>0</td>\n",
       "    </tr>\n",
       "    <tr>\n",
       "      <th>982</th>\n",
       "      <td>76825.0</td>\n",
       "      <td>-0.416285</td>\n",
       "      <td>0.588658</td>\n",
       "      <td>1.185738</td>\n",
       "      <td>-2.091479</td>\n",
       "      <td>0.033349</td>\n",
       "      <td>-1.322596</td>\n",
       "      <td>1.001690</td>\n",
       "      <td>-0.247473</td>\n",
       "      <td>0.724273</td>\n",
       "      <td>...</td>\n",
       "      <td>0.113082</td>\n",
       "      <td>0.615876</td>\n",
       "      <td>-0.270214</td>\n",
       "      <td>0.511572</td>\n",
       "      <td>-0.020916</td>\n",
       "      <td>-0.865917</td>\n",
       "      <td>0.228222</td>\n",
       "      <td>-0.024121</td>\n",
       "      <td>1.00</td>\n",
       "      <td>0</td>\n",
       "    </tr>\n",
       "    <tr>\n",
       "      <th>983</th>\n",
       "      <td>161535.0</td>\n",
       "      <td>-0.230781</td>\n",
       "      <td>0.627988</td>\n",
       "      <td>-2.503882</td>\n",
       "      <td>-0.460782</td>\n",
       "      <td>0.575084</td>\n",
       "      <td>-1.048487</td>\n",
       "      <td>2.034126</td>\n",
       "      <td>-0.013146</td>\n",
       "      <td>-0.792101</td>\n",
       "      <td>...</td>\n",
       "      <td>0.636019</td>\n",
       "      <td>1.570728</td>\n",
       "      <td>0.400019</td>\n",
       "      <td>-0.456425</td>\n",
       "      <td>-1.068337</td>\n",
       "      <td>0.397677</td>\n",
       "      <td>0.294761</td>\n",
       "      <td>0.318067</td>\n",
       "      <td>212.65</td>\n",
       "      <td>0</td>\n",
       "    </tr>\n",
       "  </tbody>\n",
       "</table>\n",
       "<p>984 rows × 31 columns</p>\n",
       "</div>"
      ],
      "text/plain": [
       "         Time        V1        V2         V3        V4        V5        V6  \\\n",
       "0    144294.0  2.061777 -0.041485  -1.058479  0.417426 -0.137964 -1.216341   \n",
       "1    172348.0  2.038278  0.198144  -1.734459  0.515580  0.236668 -1.391897   \n",
       "2    133184.0 -1.212682 -2.484824  -6.397186  3.670562 -0.863375 -1.855855   \n",
       "3    141524.0  0.025977  0.533894  -1.191769 -1.727196  2.920477  3.408321   \n",
       "4     32686.0  0.287953  1.728735  -1.652173  3.813544 -1.090927 -0.984745   \n",
       "..        ...       ...       ...        ...       ...       ...       ...   \n",
       "979   67857.0 -1.739334 -1.304655   0.314103  0.053740 -0.058696  0.071260   \n",
       "980   93853.0 -5.839192  7.151532 -12.816760  7.031115 -9.651272 -2.938427   \n",
       "981  154197.0 -3.377409 -0.875164  -3.313172  0.109019  1.653239 -1.938749   \n",
       "982   76825.0 -0.416285  0.588658   1.185738 -2.091479  0.033349 -1.322596   \n",
       "983  161535.0 -0.230781  0.627988  -2.503882 -0.460782  0.575084 -1.048487   \n",
       "\n",
       "            V7        V8        V9  ...       V21       V22       V23  \\\n",
       "0     0.192753 -0.342173  0.523384  ... -0.287353 -0.687960  0.339932   \n",
       "1     0.286938 -0.383104  0.553431  ...  0.204669  0.769628 -0.032565   \n",
       "2     1.017732 -0.544704 -1.703378  ...  1.396872  0.092073 -1.492882   \n",
       "3     0.351968  0.924018 -0.167337  ... -0.263639 -0.716622  0.118396   \n",
       "4    -2.202318  0.555088 -2.033892  ...  0.262202 -0.633528  0.092891   \n",
       "..         ...       ...       ...  ...       ...       ...       ...   \n",
       "979   0.694862 -0.313270 -0.649377  ... -0.665172 -0.632078 -0.421176   \n",
       "980 -11.543207  4.843627 -3.494276  ...  2.462056  1.054865  0.530481   \n",
       "981   1.449613 -0.203814  0.503379  ... -0.066409  1.900572  0.963391   \n",
       "982   1.001690 -0.247473  0.724273  ...  0.113082  0.615876 -0.270214   \n",
       "983   2.034126 -0.013146 -0.792101  ...  0.636019  1.570728  0.400019   \n",
       "\n",
       "          V24       V25       V26       V27       V28   Amount  Class  \n",
       "0    0.049481 -0.295653  0.194995 -0.069963 -0.059599     1.79      0  \n",
       "1   -0.139852  0.253668 -0.095694  0.000959 -0.030442    11.37      0  \n",
       "2   -0.204227  0.532511 -0.293871  0.212663  0.431095  1335.00      1  \n",
       "3    0.688015 -0.458492  0.161805  0.263906  0.090550     5.99      0  \n",
       "4    0.187613  0.368708 -0.132474  0.576561  0.309843     0.00      1  \n",
       "..        ...       ...       ...       ...       ...      ...    ...  \n",
       "979 -0.400774 -0.001640 -0.495162  0.031633  0.066280   320.00      1  \n",
       "980  0.472670 -0.275998  0.282435  0.104886  0.254417   316.06      1  \n",
       "981 -0.289807 -0.403511 -0.037650  1.099396  1.346125   106.49      0  \n",
       "982  0.511572 -0.020916 -0.865917  0.228222 -0.024121     1.00      0  \n",
       "983 -0.456425 -1.068337  0.397677  0.294761  0.318067   212.65      0  \n",
       "\n",
       "[984 rows x 31 columns]"
      ]
     },
     "execution_count": 169,
     "metadata": {},
     "output_type": "execute_result"
    }
   ],
   "source": [
    "data_under = data_under.sample(frac=1).reset_index(drop=True)\n",
    "data_under"
   ]
  },
  {
   "cell_type": "code",
   "execution_count": 170,
   "metadata": {},
   "outputs": [],
   "source": [
    "X = data_under.drop('Class', axis = 1)\n",
    "y = data_under['Class']\n",
    "X_train, X_test, y_train, y_test = train_test_split(X,y, test_size = 0.3)"
   ]
  },
  {
   "cell_type": "markdown",
   "metadata": {},
   "source": [
    "# SVM"
   ]
  },
  {
   "cell_type": "markdown",
   "metadata": {},
   "source": [
    "### Poly"
   ]
  },
  {
   "cell_type": "code",
   "execution_count": 46,
   "metadata": {},
   "outputs": [
    {
     "data": {
      "text/plain": [
       "array([[ 56,  99],\n",
       "       [ 38, 103]])"
      ]
     },
     "execution_count": 46,
     "metadata": {},
     "output_type": "execute_result"
    }
   ],
   "source": [
    "SVM = svm.SVC(kernel = \"poly\")\n",
    "SVM.fit(X_train,y_train)\n",
    "y_pred = SVM.predict(X_test)\n",
    "con_mat = metrics.confusion_matrix(y_test,y_pred)\n",
    "con_mat"
   ]
  },
  {
   "cell_type": "code",
   "execution_count": 47,
   "metadata": {},
   "outputs": [
    {
     "data": {
      "text/plain": [
       "0.5371621621621622"
      ]
     },
     "execution_count": 47,
     "metadata": {},
     "output_type": "execute_result"
    }
   ],
   "source": [
    "metrics.accuracy_score(y_test,y_pred)"
   ]
  },
  {
   "cell_type": "markdown",
   "metadata": {},
   "source": [
    "### rbf"
   ]
  },
  {
   "cell_type": "code",
   "execution_count": 48,
   "metadata": {},
   "outputs": [
    {
     "data": {
      "text/plain": [
       "array([[75, 80],\n",
       "       [45, 96]])"
      ]
     },
     "execution_count": 48,
     "metadata": {},
     "output_type": "execute_result"
    }
   ],
   "source": [
    "SVM = svm.SVC(kernel = \"rbf\")\n",
    "SVM.fit(X_train,y_train)\n",
    "y_pred = SVM.predict(X_test)\n",
    "con_mat = metrics.confusion_matrix(y_test,y_pred)\n",
    "con_mat"
   ]
  },
  {
   "cell_type": "code",
   "execution_count": 49,
   "metadata": {},
   "outputs": [
    {
     "data": {
      "text/plain": [
       "0.5777027027027027"
      ]
     },
     "execution_count": 49,
     "metadata": {},
     "output_type": "execute_result"
    }
   ],
   "source": [
    "metrics.accuracy_score(y_test,y_pred)"
   ]
  },
  {
   "cell_type": "markdown",
   "metadata": {},
   "source": [
    "# Naive bayes"
   ]
  },
  {
   "cell_type": "code",
   "execution_count": 171,
   "metadata": {},
   "outputs": [
    {
     "data": {
      "text/plain": [
       "0.8513513513513513"
      ]
     },
     "execution_count": 171,
     "metadata": {},
     "output_type": "execute_result"
    }
   ],
   "source": [
    "gnb = GaussianNB()\n",
    "gnb.fit(X_train, y_train) \n",
    "y_pred = gnb.predict(X_test)\n",
    "metrics.accuracy_score(y_test,y_pred)"
   ]
  },
  {
   "cell_type": "code",
   "execution_count": 172,
   "metadata": {},
   "outputs": [
    {
     "data": {
      "text/plain": [
       "array([[145,   0],\n",
       "       [ 44, 107]])"
      ]
     },
     "execution_count": 172,
     "metadata": {},
     "output_type": "execute_result"
    }
   ],
   "source": [
    "con_mat = metrics.confusion_matrix(y_test,y_pred)\n",
    "con_mat"
   ]
  },
  {
   "cell_type": "markdown",
   "metadata": {},
   "source": [
    "# Oversampling"
   ]
  },
  {
   "cell_type": "code",
   "execution_count": 456,
   "metadata": {},
   "outputs": [],
   "source": [
    "# Class count\n",
    "count_class_0, count_class_1 = data.Class.value_counts()\n",
    "# Divide by class\n",
    "data_class_0 = data[data['Class'] == 0]\n",
    "data_class_1 = data[data['Class'] == 1]"
   ]
  },
  {
   "cell_type": "code",
   "execution_count": 457,
   "metadata": {},
   "outputs": [
    {
     "name": "stdout",
     "output_type": "stream",
     "text": [
      "284315\n",
      "492\n"
     ]
    }
   ],
   "source": [
    "print(count_class_0)\n",
    "print(count_class_1)"
   ]
  },
  {
   "cell_type": "code",
   "execution_count": 400,
   "metadata": {},
   "outputs": [
    {
     "name": "stdout",
     "output_type": "stream",
     "text": [
      "1    284315\n",
      "0    284315\n",
      "Name: Class, dtype: int64\n"
     ]
    }
   ],
   "source": [
    "data_class_1_over = data_class_1.sample(count_class_0, replace = True)\n",
    "data_over = pd.concat([data_class_1_over, data_class_0], axis=0)\n",
    "\n",
    "print(data_over.Class.value_counts())"
   ]
  },
  {
   "cell_type": "code",
   "execution_count": 401,
   "metadata": {},
   "outputs": [
    {
     "data": {
      "text/html": [
       "<div>\n",
       "<style scoped>\n",
       "    .dataframe tbody tr th:only-of-type {\n",
       "        vertical-align: middle;\n",
       "    }\n",
       "\n",
       "    .dataframe tbody tr th {\n",
       "        vertical-align: top;\n",
       "    }\n",
       "\n",
       "    .dataframe thead th {\n",
       "        text-align: right;\n",
       "    }\n",
       "</style>\n",
       "<table border=\"1\" class=\"dataframe\">\n",
       "  <thead>\n",
       "    <tr style=\"text-align: right;\">\n",
       "      <th></th>\n",
       "      <th>Time</th>\n",
       "      <th>V1</th>\n",
       "      <th>V2</th>\n",
       "      <th>V3</th>\n",
       "      <th>V4</th>\n",
       "      <th>V5</th>\n",
       "      <th>V6</th>\n",
       "      <th>V7</th>\n",
       "      <th>V8</th>\n",
       "      <th>V9</th>\n",
       "      <th>...</th>\n",
       "      <th>V21</th>\n",
       "      <th>V22</th>\n",
       "      <th>V23</th>\n",
       "      <th>V24</th>\n",
       "      <th>V25</th>\n",
       "      <th>V26</th>\n",
       "      <th>V27</th>\n",
       "      <th>V28</th>\n",
       "      <th>Amount</th>\n",
       "      <th>Class</th>\n",
       "    </tr>\n",
       "  </thead>\n",
       "  <tbody>\n",
       "    <tr>\n",
       "      <th>0</th>\n",
       "      <td>156627.0</td>\n",
       "      <td>-0.133727</td>\n",
       "      <td>1.052124</td>\n",
       "      <td>-0.474298</td>\n",
       "      <td>-0.666742</td>\n",
       "      <td>0.694496</td>\n",
       "      <td>-0.620680</td>\n",
       "      <td>0.798116</td>\n",
       "      <td>0.116516</td>\n",
       "      <td>0.094418</td>\n",
       "      <td>...</td>\n",
       "      <td>-0.329171</td>\n",
       "      <td>-0.840537</td>\n",
       "      <td>0.131661</td>\n",
       "      <td>0.616733</td>\n",
       "      <td>-0.465911</td>\n",
       "      <td>0.096295</td>\n",
       "      <td>0.317867</td>\n",
       "      <td>0.131662</td>\n",
       "      <td>10.76</td>\n",
       "      <td>0</td>\n",
       "    </tr>\n",
       "    <tr>\n",
       "      <th>1</th>\n",
       "      <td>43369.0</td>\n",
       "      <td>-3.365319</td>\n",
       "      <td>2.426503</td>\n",
       "      <td>-3.752227</td>\n",
       "      <td>0.276017</td>\n",
       "      <td>-2.305870</td>\n",
       "      <td>-1.961578</td>\n",
       "      <td>-3.029283</td>\n",
       "      <td>-1.674462</td>\n",
       "      <td>0.183961</td>\n",
       "      <td>...</td>\n",
       "      <td>2.070008</td>\n",
       "      <td>-0.512626</td>\n",
       "      <td>-0.248502</td>\n",
       "      <td>0.126550</td>\n",
       "      <td>0.104166</td>\n",
       "      <td>-1.055997</td>\n",
       "      <td>-1.200165</td>\n",
       "      <td>-1.012066</td>\n",
       "      <td>88.00</td>\n",
       "      <td>1</td>\n",
       "    </tr>\n",
       "    <tr>\n",
       "      <th>2</th>\n",
       "      <td>25095.0</td>\n",
       "      <td>1.192396</td>\n",
       "      <td>1.338974</td>\n",
       "      <td>-0.678876</td>\n",
       "      <td>3.123672</td>\n",
       "      <td>0.643245</td>\n",
       "      <td>-1.184323</td>\n",
       "      <td>0.397586</td>\n",
       "      <td>-0.253499</td>\n",
       "      <td>0.411135</td>\n",
       "      <td>...</td>\n",
       "      <td>-0.377503</td>\n",
       "      <td>-0.889597</td>\n",
       "      <td>-0.074208</td>\n",
       "      <td>0.035446</td>\n",
       "      <td>0.550578</td>\n",
       "      <td>-0.027171</td>\n",
       "      <td>-0.024921</td>\n",
       "      <td>0.073605</td>\n",
       "      <td>3.12</td>\n",
       "      <td>1</td>\n",
       "    </tr>\n",
       "    <tr>\n",
       "      <th>3</th>\n",
       "      <td>127739.0</td>\n",
       "      <td>-2.564231</td>\n",
       "      <td>-4.785287</td>\n",
       "      <td>-1.300657</td>\n",
       "      <td>-0.589793</td>\n",
       "      <td>5.449142</td>\n",
       "      <td>-4.870094</td>\n",
       "      <td>-1.829964</td>\n",
       "      <td>-0.419558</td>\n",
       "      <td>-0.975617</td>\n",
       "      <td>...</td>\n",
       "      <td>1.081863</td>\n",
       "      <td>1.920132</td>\n",
       "      <td>0.849055</td>\n",
       "      <td>1.218187</td>\n",
       "      <td>-0.988068</td>\n",
       "      <td>-0.150630</td>\n",
       "      <td>-0.055534</td>\n",
       "      <td>0.201689</td>\n",
       "      <td>10.00</td>\n",
       "      <td>0</td>\n",
       "    </tr>\n",
       "    <tr>\n",
       "      <th>4</th>\n",
       "      <td>170028.0</td>\n",
       "      <td>-0.178337</td>\n",
       "      <td>1.026973</td>\n",
       "      <td>0.157718</td>\n",
       "      <td>-0.665094</td>\n",
       "      <td>0.416159</td>\n",
       "      <td>-1.021489</td>\n",
       "      <td>0.972965</td>\n",
       "      <td>-0.158472</td>\n",
       "      <td>0.169949</td>\n",
       "      <td>...</td>\n",
       "      <td>-0.291811</td>\n",
       "      <td>-0.593567</td>\n",
       "      <td>0.075308</td>\n",
       "      <td>-0.098105</td>\n",
       "      <td>-0.449154</td>\n",
       "      <td>0.152863</td>\n",
       "      <td>0.356235</td>\n",
       "      <td>0.155428</td>\n",
       "      <td>1.98</td>\n",
       "      <td>0</td>\n",
       "    </tr>\n",
       "    <tr>\n",
       "      <th>...</th>\n",
       "      <td>...</td>\n",
       "      <td>...</td>\n",
       "      <td>...</td>\n",
       "      <td>...</td>\n",
       "      <td>...</td>\n",
       "      <td>...</td>\n",
       "      <td>...</td>\n",
       "      <td>...</td>\n",
       "      <td>...</td>\n",
       "      <td>...</td>\n",
       "      <td>...</td>\n",
       "      <td>...</td>\n",
       "      <td>...</td>\n",
       "      <td>...</td>\n",
       "      <td>...</td>\n",
       "      <td>...</td>\n",
       "      <td>...</td>\n",
       "      <td>...</td>\n",
       "      <td>...</td>\n",
       "      <td>...</td>\n",
       "      <td>...</td>\n",
       "    </tr>\n",
       "    <tr>\n",
       "      <th>568625</th>\n",
       "      <td>41397.0</td>\n",
       "      <td>-14.970346</td>\n",
       "      <td>8.401421</td>\n",
       "      <td>-16.867238</td>\n",
       "      <td>8.252334</td>\n",
       "      <td>-13.565130</td>\n",
       "      <td>-2.782438</td>\n",
       "      <td>-14.263735</td>\n",
       "      <td>9.643419</td>\n",
       "      <td>-7.701499</td>\n",
       "      <td>...</td>\n",
       "      <td>2.714045</td>\n",
       "      <td>-0.101355</td>\n",
       "      <td>-0.439666</td>\n",
       "      <td>0.519514</td>\n",
       "      <td>0.789328</td>\n",
       "      <td>0.064357</td>\n",
       "      <td>-1.621386</td>\n",
       "      <td>-1.104819</td>\n",
       "      <td>273.01</td>\n",
       "      <td>1</td>\n",
       "    </tr>\n",
       "    <tr>\n",
       "      <th>568626</th>\n",
       "      <td>57163.0</td>\n",
       "      <td>-10.363049</td>\n",
       "      <td>4.543672</td>\n",
       "      <td>-9.795898</td>\n",
       "      <td>5.508003</td>\n",
       "      <td>-6.037156</td>\n",
       "      <td>-0.133493</td>\n",
       "      <td>-11.724346</td>\n",
       "      <td>-3.198346</td>\n",
       "      <td>-4.767842</td>\n",
       "      <td>...</td>\n",
       "      <td>-2.457145</td>\n",
       "      <td>1.687257</td>\n",
       "      <td>0.977178</td>\n",
       "      <td>-0.543369</td>\n",
       "      <td>-0.289125</td>\n",
       "      <td>-0.107586</td>\n",
       "      <td>0.330642</td>\n",
       "      <td>0.163577</td>\n",
       "      <td>1.00</td>\n",
       "      <td>1</td>\n",
       "    </tr>\n",
       "    <tr>\n",
       "      <th>568627</th>\n",
       "      <td>7543.0</td>\n",
       "      <td>0.329594</td>\n",
       "      <td>3.712889</td>\n",
       "      <td>-5.775935</td>\n",
       "      <td>6.078266</td>\n",
       "      <td>1.667359</td>\n",
       "      <td>-2.420168</td>\n",
       "      <td>-0.812891</td>\n",
       "      <td>0.133080</td>\n",
       "      <td>-2.214311</td>\n",
       "      <td>...</td>\n",
       "      <td>0.156617</td>\n",
       "      <td>-0.652450</td>\n",
       "      <td>-0.551572</td>\n",
       "      <td>-0.716522</td>\n",
       "      <td>1.415717</td>\n",
       "      <td>0.555265</td>\n",
       "      <td>0.530507</td>\n",
       "      <td>0.404474</td>\n",
       "      <td>1.00</td>\n",
       "      <td>1</td>\n",
       "    </tr>\n",
       "    <tr>\n",
       "      <th>568628</th>\n",
       "      <td>75849.0</td>\n",
       "      <td>1.207149</td>\n",
       "      <td>1.198063</td>\n",
       "      <td>-1.397083</td>\n",
       "      <td>1.788805</td>\n",
       "      <td>0.434367</td>\n",
       "      <td>-2.173857</td>\n",
       "      <td>0.681740</td>\n",
       "      <td>-0.331268</td>\n",
       "      <td>-0.243732</td>\n",
       "      <td>...</td>\n",
       "      <td>-0.193027</td>\n",
       "      <td>-0.537324</td>\n",
       "      <td>-0.124465</td>\n",
       "      <td>0.549680</td>\n",
       "      <td>0.732565</td>\n",
       "      <td>-0.322035</td>\n",
       "      <td>0.030126</td>\n",
       "      <td>0.099137</td>\n",
       "      <td>1.99</td>\n",
       "      <td>0</td>\n",
       "    </tr>\n",
       "    <tr>\n",
       "      <th>568629</th>\n",
       "      <td>148468.0</td>\n",
       "      <td>0.218810</td>\n",
       "      <td>2.715855</td>\n",
       "      <td>-5.111658</td>\n",
       "      <td>6.310661</td>\n",
       "      <td>-0.848345</td>\n",
       "      <td>-0.882446</td>\n",
       "      <td>-2.902079</td>\n",
       "      <td>0.939162</td>\n",
       "      <td>-3.627698</td>\n",
       "      <td>...</td>\n",
       "      <td>1.083640</td>\n",
       "      <td>1.037324</td>\n",
       "      <td>0.062325</td>\n",
       "      <td>0.532490</td>\n",
       "      <td>-0.149145</td>\n",
       "      <td>0.639580</td>\n",
       "      <td>0.351568</td>\n",
       "      <td>-0.001817</td>\n",
       "      <td>0.76</td>\n",
       "      <td>1</td>\n",
       "    </tr>\n",
       "  </tbody>\n",
       "</table>\n",
       "<p>568630 rows × 31 columns</p>\n",
       "</div>"
      ],
      "text/plain": [
       "            Time         V1        V2         V3        V4         V5  \\\n",
       "0       156627.0  -0.133727  1.052124  -0.474298 -0.666742   0.694496   \n",
       "1        43369.0  -3.365319  2.426503  -3.752227  0.276017  -2.305870   \n",
       "2        25095.0   1.192396  1.338974  -0.678876  3.123672   0.643245   \n",
       "3       127739.0  -2.564231 -4.785287  -1.300657 -0.589793   5.449142   \n",
       "4       170028.0  -0.178337  1.026973   0.157718 -0.665094   0.416159   \n",
       "...          ...        ...       ...        ...       ...        ...   \n",
       "568625   41397.0 -14.970346  8.401421 -16.867238  8.252334 -13.565130   \n",
       "568626   57163.0 -10.363049  4.543672  -9.795898  5.508003  -6.037156   \n",
       "568627    7543.0   0.329594  3.712889  -5.775935  6.078266   1.667359   \n",
       "568628   75849.0   1.207149  1.198063  -1.397083  1.788805   0.434367   \n",
       "568629  148468.0   0.218810  2.715855  -5.111658  6.310661  -0.848345   \n",
       "\n",
       "              V6         V7        V8        V9  ...       V21       V22  \\\n",
       "0      -0.620680   0.798116  0.116516  0.094418  ... -0.329171 -0.840537   \n",
       "1      -1.961578  -3.029283 -1.674462  0.183961  ...  2.070008 -0.512626   \n",
       "2      -1.184323   0.397586 -0.253499  0.411135  ... -0.377503 -0.889597   \n",
       "3      -4.870094  -1.829964 -0.419558 -0.975617  ...  1.081863  1.920132   \n",
       "4      -1.021489   0.972965 -0.158472  0.169949  ... -0.291811 -0.593567   \n",
       "...          ...        ...       ...       ...  ...       ...       ...   \n",
       "568625 -2.782438 -14.263735  9.643419 -7.701499  ...  2.714045 -0.101355   \n",
       "568626 -0.133493 -11.724346 -3.198346 -4.767842  ... -2.457145  1.687257   \n",
       "568627 -2.420168  -0.812891  0.133080 -2.214311  ...  0.156617 -0.652450   \n",
       "568628 -2.173857   0.681740 -0.331268 -0.243732  ... -0.193027 -0.537324   \n",
       "568629 -0.882446  -2.902079  0.939162 -3.627698  ...  1.083640  1.037324   \n",
       "\n",
       "             V23       V24       V25       V26       V27       V28  Amount  \\\n",
       "0       0.131661  0.616733 -0.465911  0.096295  0.317867  0.131662   10.76   \n",
       "1      -0.248502  0.126550  0.104166 -1.055997 -1.200165 -1.012066   88.00   \n",
       "2      -0.074208  0.035446  0.550578 -0.027171 -0.024921  0.073605    3.12   \n",
       "3       0.849055  1.218187 -0.988068 -0.150630 -0.055534  0.201689   10.00   \n",
       "4       0.075308 -0.098105 -0.449154  0.152863  0.356235  0.155428    1.98   \n",
       "...          ...       ...       ...       ...       ...       ...     ...   \n",
       "568625 -0.439666  0.519514  0.789328  0.064357 -1.621386 -1.104819  273.01   \n",
       "568626  0.977178 -0.543369 -0.289125 -0.107586  0.330642  0.163577    1.00   \n",
       "568627 -0.551572 -0.716522  1.415717  0.555265  0.530507  0.404474    1.00   \n",
       "568628 -0.124465  0.549680  0.732565 -0.322035  0.030126  0.099137    1.99   \n",
       "568629  0.062325  0.532490 -0.149145  0.639580  0.351568 -0.001817    0.76   \n",
       "\n",
       "        Class  \n",
       "0           0  \n",
       "1           1  \n",
       "2           1  \n",
       "3           0  \n",
       "4           0  \n",
       "...       ...  \n",
       "568625      1  \n",
       "568626      1  \n",
       "568627      1  \n",
       "568628      0  \n",
       "568629      1  \n",
       "\n",
       "[568630 rows x 31 columns]"
      ]
     },
     "execution_count": 401,
     "metadata": {},
     "output_type": "execute_result"
    }
   ],
   "source": [
    "data_over  = data_over.sample(frac=1).reset_index(drop=True)\n",
    "data_over "
   ]
  },
  {
   "cell_type": "code",
   "execution_count": 402,
   "metadata": {},
   "outputs": [],
   "source": [
    "X = data_over.drop('Class', axis = 1)\n",
    "y = data_over['Class']\n",
    "X_train, X_test, y_train, y_test = train_test_split(X,y, test_size = 0.3)"
   ]
  },
  {
   "cell_type": "markdown",
   "metadata": {},
   "source": [
    "# Naive Bayes (too many rows, not trying SVM)"
   ]
  },
  {
   "cell_type": "code",
   "execution_count": 403,
   "metadata": {},
   "outputs": [],
   "source": [
    "gnb = GaussianNB()\n",
    "gnb.fit(X_train, y_train) \n",
    "y_pred = gnb.predict(X_test)\n",
    "y_proba = gnb.predict_proba(X_test)"
   ]
  },
  {
   "cell_type": "code",
   "execution_count": 404,
   "metadata": {},
   "outputs": [
    {
     "name": "stdout",
     "output_type": "stream",
     "text": [
      "0.8656302575195353\n"
     ]
    },
    {
     "data": {
      "text/plain": [
       "0.7404785584742292"
      ]
     },
     "execution_count": 404,
     "metadata": {},
     "output_type": "execute_result"
    }
   ],
   "source": [
    "print(metrics.accuracy_score(y_test,y_pred))\n",
    "metrics.recall_score(y_test,y_pred)"
   ]
  },
  {
   "cell_type": "code",
   "execution_count": 230,
   "metadata": {},
   "outputs": [
    {
     "data": {
      "text/plain": [
       "array([[84225,   769],\n",
       "       [22414, 63181]])"
      ]
     },
     "execution_count": 230,
     "metadata": {},
     "output_type": "execute_result"
    }
   ],
   "source": [
    "con_mat = metrics.confusion_matrix(y_test,y_pred)\n",
    "con_mat"
   ]
  },
  {
   "cell_type": "markdown",
   "metadata": {},
   "source": [
    "# Optimal cutoff "
   ]
  },
  {
   "cell_type": "code",
   "execution_count": 179,
   "metadata": {},
   "outputs": [
    {
     "name": "stdout",
     "output_type": "stream",
     "text": [
      "Area under the ROC curve : 0.866624\n"
     ]
    }
   ],
   "source": [
    "fpr, tpr, thresholds = roc_curve(y_test, y_pred)\n",
    "roc_auc = auc(fpr, tpr)\n",
    "print(\"Area under the ROC curve : %f\" % roc_auc)\n",
    "\n",
    "i = np.arange(len(tpr)) # index for df\n",
    "roc = pd.DataFrame({'fpr' : pd.Series(fpr, index=i),'tpr' : pd.Series(tpr, index = i), '1-fpr' : pd.Series(1-fpr, index = i), 'tf' : pd.Series(tpr - (1-fpr), index = i), 'thresholds' : pd.Series(thresholds, index = i)})"
   ]
  },
  {
   "cell_type": "code",
   "execution_count": 180,
   "metadata": {},
   "outputs": [
    {
     "data": {
      "text/html": [
       "<div>\n",
       "<style scoped>\n",
       "    .dataframe tbody tr th:only-of-type {\n",
       "        vertical-align: middle;\n",
       "    }\n",
       "\n",
       "    .dataframe tbody tr th {\n",
       "        vertical-align: top;\n",
       "    }\n",
       "\n",
       "    .dataframe thead th {\n",
       "        text-align: right;\n",
       "    }\n",
       "</style>\n",
       "<table border=\"1\" class=\"dataframe\">\n",
       "  <thead>\n",
       "    <tr style=\"text-align: right;\">\n",
       "      <th></th>\n",
       "      <th>fpr</th>\n",
       "      <th>tpr</th>\n",
       "      <th>1-fpr</th>\n",
       "      <th>tf</th>\n",
       "      <th>thresholds</th>\n",
       "    </tr>\n",
       "  </thead>\n",
       "  <tbody>\n",
       "    <tr>\n",
       "      <th>0</th>\n",
       "      <td>0.000000</td>\n",
       "      <td>0.000000</td>\n",
       "      <td>1.000000</td>\n",
       "      <td>-1.000000</td>\n",
       "      <td>2</td>\n",
       "    </tr>\n",
       "    <tr>\n",
       "      <th>1</th>\n",
       "      <td>0.008864</td>\n",
       "      <td>0.742111</td>\n",
       "      <td>0.991136</td>\n",
       "      <td>-0.249025</td>\n",
       "      <td>1</td>\n",
       "    </tr>\n",
       "    <tr>\n",
       "      <th>2</th>\n",
       "      <td>1.000000</td>\n",
       "      <td>1.000000</td>\n",
       "      <td>0.000000</td>\n",
       "      <td>1.000000</td>\n",
       "      <td>0</td>\n",
       "    </tr>\n",
       "  </tbody>\n",
       "</table>\n",
       "</div>"
      ],
      "text/plain": [
       "        fpr       tpr     1-fpr        tf  thresholds\n",
       "0  0.000000  0.000000  1.000000 -1.000000           2\n",
       "1  0.008864  0.742111  0.991136 -0.249025           1\n",
       "2  1.000000  1.000000  0.000000  1.000000           0"
      ]
     },
     "execution_count": 180,
     "metadata": {},
     "output_type": "execute_result"
    }
   ],
   "source": [
    "roc"
   ]
  },
  {
   "cell_type": "code",
   "execution_count": 181,
   "metadata": {},
   "outputs": [
    {
     "data": {
      "image/png": "[encoded data removed]",
      "text/plain": [
       "<Figure size 432x288 with 1 Axes>"
      ]
     },
     "metadata": {
      "needs_background": "light"
     },
     "output_type": "display_data"
    }
   ],
   "source": [
    "fig, ax = plt.subplots()\n",
    "plt.plot(roc['tpr'])\n",
    "plt.plot(roc['1-fpr'], color = 'red')\n",
    "plt.xlabel('1-False Positive Rate')\n",
    "plt.ylabel('True Positive Rate')\n",
    "plt.title('Receiver operating characteristic')\n",
    "ax.set_xticklabels([])\n",
    "plt.show()"
   ]
  },
  {
   "cell_type": "code",
   "execution_count": null,
   "metadata": {},
   "outputs": [],
   "source": [
    "### maybe try gridsearch"
   ]
  },
  {
   "cell_type": "code",
   "execution_count": 182,
   "metadata": {},
   "outputs": [],
   "source": [
    "cutoff = 0.74\n",
    "fitted_results = pd.DataFrame(y_proba)"
   ]
  },
  {
   "cell_type": "code",
   "execution_count": 183,
   "metadata": {},
   "outputs": [],
   "source": [
    "new_cutoff = []\n",
    "for i in range(len(y_proba)):\n",
    "    if y_proba[i][1] >= cutoff:\n",
    "        new_cutoff.append(1)\n",
    "    else:\n",
    "        new_cutoff.append(0)"
   ]
  },
  {
   "cell_type": "markdown",
   "metadata": {},
   "source": [
    "### New accuracy"
   ]
  },
  {
   "cell_type": "code",
   "execution_count": 184,
   "metadata": {},
   "outputs": [
    {
     "data": {
      "text/plain": [
       "0.8511920463804817"
      ]
     },
     "execution_count": 184,
     "metadata": {},
     "output_type": "execute_result"
    }
   ],
   "source": [
    "metrics.accuracy_score(y_test,new_cutoff)"
   ]
  },
  {
   "cell_type": "code",
   "execution_count": 185,
   "metadata": {},
   "outputs": [
    {
     "data": {
      "text/plain": [
       "array([[84690,   715],\n",
       "       [24670, 60514]])"
      ]
     },
     "execution_count": 185,
     "metadata": {},
     "output_type": "execute_result"
    }
   ],
   "source": [
    "con_mat = metrics.confusion_matrix(y_test,new_cutoff)\n",
    "con_mat"
   ]
  },
  {
   "cell_type": "markdown",
   "metadata": {},
   "source": [
    "# XGB classifier"
   ]
  },
  {
   "cell_type": "code",
   "execution_count": 433,
   "metadata": {},
   "outputs": [],
   "source": [
    "X = data.drop('Class', axis = 1)\n",
    "y = data['Class']"
   ]
  },
  {
   "cell_type": "code",
   "execution_count": 434,
   "metadata": {},
   "outputs": [
    {
     "data": {
      "text/plain": [
       "492"
      ]
     },
     "execution_count": 434,
     "metadata": {},
     "output_type": "execute_result"
    }
   ],
   "source": [
    "sum(y)"
   ]
  },
  {
   "cell_type": "code",
   "execution_count": 435,
   "metadata": {},
   "outputs": [],
   "source": [
    "X_train, X_test, y_train, y_test = train_test_split(X,y, test_size = 0.3)"
   ]
  },
  {
   "cell_type": "code",
   "execution_count": 436,
   "metadata": {},
   "outputs": [
    {
     "data": {
      "text/plain": [
       "577.8760162601626"
      ]
     },
     "execution_count": 436,
     "metadata": {},
     "output_type": "execute_result"
    }
   ],
   "source": [
    "# sum(negative instances) / sum(positive instances)\n",
    "scale_weight = 284315/492\n",
    "scale_weight"
   ]
  },
  {
   "cell_type": "code",
   "execution_count": 437,
   "metadata": {},
   "outputs": [],
   "source": [
    "xg_class = xgb.XGBClassifier(scale_pos_weight = scale_weight, n_jobs = -1, )"
   ]
  },
  {
   "cell_type": "code",
   "execution_count": 438,
   "metadata": {},
   "outputs": [],
   "source": [
    "xg_class.fit(X_train,y_train)\n",
    "y_pred = xg_class.predict(X_test)"
   ]
  },
  {
   "cell_type": "code",
   "execution_count": 439,
   "metadata": {},
   "outputs": [
    {
     "name": "stdout",
     "output_type": "stream",
     "text": [
      "0.9996371850239341\n",
      "0.9629629629629629\n",
      "0.8333333333333334\n"
     ]
    }
   ],
   "source": [
    "print(metrics.accuracy_score(y_test,y_pred))\n",
    "print(metrics.precision_score(y_test,y_pred))\n",
    "print(metrics.recall_score(y_test,y_pred))"
   ]
  },
  {
   "cell_type": "code",
   "execution_count": 440,
   "metadata": {},
   "outputs": [
    {
     "data": {
      "text/plain": [
       "array([[85282,     5],\n",
       "       [   26,   130]])"
      ]
     },
     "execution_count": 440,
     "metadata": {},
     "output_type": "execute_result"
    }
   ],
   "source": [
    "con_mat = metrics.confusion_matrix(y_test,y_pred)\n",
    "con_mat"
   ]
  },
  {
   "cell_type": "markdown",
   "metadata": {},
   "source": [
    "# Adaboosting NaiveBayes"
   ]
  },
  {
   "cell_type": "code",
   "execution_count": 449,
   "metadata": {},
   "outputs": [],
   "source": [
    "X = data.drop('Class', axis = 1)\n",
    "y = data['Class']"
   ]
  },
  {
   "cell_type": "code",
   "execution_count": 450,
   "metadata": {},
   "outputs": [],
   "source": [
    "X_train, X_test, y_train, y_test = train_test_split(X,y, test_size = 0.3)"
   ]
  },
  {
   "cell_type": "code",
   "execution_count": 451,
   "metadata": {},
   "outputs": [
    {
     "data": {
      "text/plain": [
       "AdaBoostClassifier(base_estimator=GaussianNB())"
      ]
     },
     "execution_count": 451,
     "metadata": {},
     "output_type": "execute_result"
    }
   ],
   "source": [
    "naive = GaussianNB()\n",
    "ada_naive = AdaBoostClassifier(base_estimator=naive)\n",
    "ada_naive.fit(X_train, y_train)"
   ]
  },
  {
   "cell_type": "code",
   "execution_count": 452,
   "metadata": {},
   "outputs": [],
   "source": [
    "y_pred = ada_naive.predict(X_test)"
   ]
  },
  {
   "cell_type": "code",
   "execution_count": 453,
   "metadata": {},
   "outputs": [
    {
     "name": "stdout",
     "output_type": "stream",
     "text": [
      "0.9919595519820231\n",
      "0.09531013615733737\n",
      "0.4144736842105263\n"
     ]
    }
   ],
   "source": [
    "print(metrics.accuracy_score(y_test,y_pred))\n",
    "print(metrics.precision_score(y_test,y_pred))\n",
    "print(metrics.recall_score(y_test,y_pred))"
   ]
  },
  {
   "cell_type": "code",
   "execution_count": 454,
   "metadata": {},
   "outputs": [
    {
     "data": {
      "text/plain": [
       "array([[84693,   598],\n",
       "       [   89,    63]])"
      ]
     },
     "execution_count": 454,
     "metadata": {},
     "output_type": "execute_result"
    }
   ],
   "source": [
    "con_mat = metrics.confusion_matrix(y_test,y_pred)\n",
    "con_mat"
   ]
  },
  {
   "cell_type": "markdown",
   "metadata": {},
   "source": [
    "# Bagging Naive Bayes (not Bootstrap)"
   ]
  },
  {
   "cell_type": "code",
   "execution_count": 406,
   "metadata": {},
   "outputs": [
    {
     "data": {
      "text/plain": [
       "(284807, 31)"
      ]
     },
     "execution_count": 406,
     "metadata": {},
     "output_type": "execute_result"
    }
   ],
   "source": [
    "data.shape"
   ]
  },
  {
   "cell_type": "code",
   "execution_count": 407,
   "metadata": {},
   "outputs": [],
   "source": [
    "X = data.drop('Class', axis = 1)\n",
    "y = data['Class']"
   ]
  },
  {
   "cell_type": "code",
   "execution_count": 408,
   "metadata": {},
   "outputs": [],
   "source": [
    "X_train, X_test, y_train, y_test = train_test_split(X,y, test_size = 0.3, random_state = 0)"
   ]
  },
  {
   "cell_type": "code",
   "execution_count": 409,
   "metadata": {},
   "outputs": [
    {
     "data": {
      "text/html": [
       "<div>\n",
       "<style scoped>\n",
       "    .dataframe tbody tr th:only-of-type {\n",
       "        vertical-align: middle;\n",
       "    }\n",
       "\n",
       "    .dataframe tbody tr th {\n",
       "        vertical-align: top;\n",
       "    }\n",
       "\n",
       "    .dataframe thead th {\n",
       "        text-align: right;\n",
       "    }\n",
       "</style>\n",
       "<table border=\"1\" class=\"dataframe\">\n",
       "  <thead>\n",
       "    <tr style=\"text-align: right;\">\n",
       "      <th></th>\n",
       "      <th>Time</th>\n",
       "      <th>V1</th>\n",
       "      <th>V2</th>\n",
       "      <th>V3</th>\n",
       "      <th>V4</th>\n",
       "      <th>V5</th>\n",
       "      <th>V6</th>\n",
       "      <th>V7</th>\n",
       "      <th>V8</th>\n",
       "      <th>V9</th>\n",
       "      <th>...</th>\n",
       "      <th>V21</th>\n",
       "      <th>V22</th>\n",
       "      <th>V23</th>\n",
       "      <th>V24</th>\n",
       "      <th>V25</th>\n",
       "      <th>V26</th>\n",
       "      <th>V27</th>\n",
       "      <th>V28</th>\n",
       "      <th>Amount</th>\n",
       "      <th>Class</th>\n",
       "    </tr>\n",
       "  </thead>\n",
       "  <tbody>\n",
       "    <tr>\n",
       "      <th>161145</th>\n",
       "      <td>113921.0</td>\n",
       "      <td>-0.132066</td>\n",
       "      <td>0.107044</td>\n",
       "      <td>-0.650588</td>\n",
       "      <td>-0.996032</td>\n",
       "      <td>1.814333</td>\n",
       "      <td>1.740740</td>\n",
       "      <td>0.496852</td>\n",
       "      <td>0.633016</td>\n",
       "      <td>0.017181</td>\n",
       "      <td>...</td>\n",
       "      <td>-0.062489</td>\n",
       "      <td>0.005292</td>\n",
       "      <td>0.251519</td>\n",
       "      <td>-2.466810</td>\n",
       "      <td>-0.889690</td>\n",
       "      <td>0.337462</td>\n",
       "      <td>0.306395</td>\n",
       "      <td>0.074817</td>\n",
       "      <td>47.89</td>\n",
       "      <td>0</td>\n",
       "    </tr>\n",
       "    <tr>\n",
       "      <th>204520</th>\n",
       "      <td>135319.0</td>\n",
       "      <td>2.125994</td>\n",
       "      <td>0.014207</td>\n",
       "      <td>-1.514760</td>\n",
       "      <td>0.115021</td>\n",
       "      <td>0.598510</td>\n",
       "      <td>-0.333235</td>\n",
       "      <td>0.199289</td>\n",
       "      <td>-0.264353</td>\n",
       "      <td>0.384111</td>\n",
       "      <td>...</td>\n",
       "      <td>-0.329368</td>\n",
       "      <td>-0.788150</td>\n",
       "      <td>0.267730</td>\n",
       "      <td>0.066122</td>\n",
       "      <td>-0.135785</td>\n",
       "      <td>0.203841</td>\n",
       "      <td>-0.068267</td>\n",
       "      <td>-0.057678</td>\n",
       "      <td>1.98</td>\n",
       "      <td>0</td>\n",
       "    </tr>\n",
       "    <tr>\n",
       "      <th>182659</th>\n",
       "      <td>125498.0</td>\n",
       "      <td>-0.086694</td>\n",
       "      <td>0.166240</td>\n",
       "      <td>1.573127</td>\n",
       "      <td>0.687266</td>\n",
       "      <td>0.222359</td>\n",
       "      <td>1.102606</td>\n",
       "      <td>1.575093</td>\n",
       "      <td>-1.098608</td>\n",
       "      <td>0.763887</td>\n",
       "      <td>...</td>\n",
       "      <td>0.015324</td>\n",
       "      <td>1.063663</td>\n",
       "      <td>-0.410841</td>\n",
       "      <td>0.722723</td>\n",
       "      <td>-0.171733</td>\n",
       "      <td>-0.613543</td>\n",
       "      <td>-1.201571</td>\n",
       "      <td>-1.139931</td>\n",
       "      <td>170.10</td>\n",
       "      <td>0</td>\n",
       "    </tr>\n",
       "    <tr>\n",
       "      <th>25117</th>\n",
       "      <td>33520.0</td>\n",
       "      <td>1.352339</td>\n",
       "      <td>-0.534984</td>\n",
       "      <td>0.555143</td>\n",
       "      <td>-0.629355</td>\n",
       "      <td>-1.144170</td>\n",
       "      <td>-0.852967</td>\n",
       "      <td>-0.642128</td>\n",
       "      <td>-0.032659</td>\n",
       "      <td>-0.654482</td>\n",
       "      <td>...</td>\n",
       "      <td>-0.014814</td>\n",
       "      <td>-0.180379</td>\n",
       "      <td>0.178112</td>\n",
       "      <td>0.347720</td>\n",
       "      <td>0.151810</td>\n",
       "      <td>-0.404361</td>\n",
       "      <td>0.013746</td>\n",
       "      <td>0.016152</td>\n",
       "      <td>5.96</td>\n",
       "      <td>0</td>\n",
       "    </tr>\n",
       "    <tr>\n",
       "      <th>227642</th>\n",
       "      <td>145152.0</td>\n",
       "      <td>-1.526760</td>\n",
       "      <td>0.647782</td>\n",
       "      <td>0.615391</td>\n",
       "      <td>-0.561114</td>\n",
       "      <td>0.836950</td>\n",
       "      <td>-0.514251</td>\n",
       "      <td>0.984325</td>\n",
       "      <td>-0.097430</td>\n",
       "      <td>-0.062634</td>\n",
       "      <td>...</td>\n",
       "      <td>-0.221533</td>\n",
       "      <td>-0.393158</td>\n",
       "      <td>-0.214990</td>\n",
       "      <td>0.588447</td>\n",
       "      <td>0.679496</td>\n",
       "      <td>0.518434</td>\n",
       "      <td>0.065022</td>\n",
       "      <td>0.147294</td>\n",
       "      <td>89.95</td>\n",
       "      <td>0</td>\n",
       "    </tr>\n",
       "    <tr>\n",
       "      <th>...</th>\n",
       "      <td>...</td>\n",
       "      <td>...</td>\n",
       "      <td>...</td>\n",
       "      <td>...</td>\n",
       "      <td>...</td>\n",
       "      <td>...</td>\n",
       "      <td>...</td>\n",
       "      <td>...</td>\n",
       "      <td>...</td>\n",
       "      <td>...</td>\n",
       "      <td>...</td>\n",
       "      <td>...</td>\n",
       "      <td>...</td>\n",
       "      <td>...</td>\n",
       "      <td>...</td>\n",
       "      <td>...</td>\n",
       "      <td>...</td>\n",
       "      <td>...</td>\n",
       "      <td>...</td>\n",
       "      <td>...</td>\n",
       "      <td>...</td>\n",
       "    </tr>\n",
       "    <tr>\n",
       "      <th>211543</th>\n",
       "      <td>138459.0</td>\n",
       "      <td>-1.321976</td>\n",
       "      <td>1.138686</td>\n",
       "      <td>-0.940861</td>\n",
       "      <td>0.154160</td>\n",
       "      <td>0.109802</td>\n",
       "      <td>-0.538822</td>\n",
       "      <td>0.490058</td>\n",
       "      <td>0.513762</td>\n",
       "      <td>-0.493834</td>\n",
       "      <td>...</td>\n",
       "      <td>-0.012778</td>\n",
       "      <td>-0.237503</td>\n",
       "      <td>0.008713</td>\n",
       "      <td>-0.767844</td>\n",
       "      <td>-0.397162</td>\n",
       "      <td>0.316379</td>\n",
       "      <td>-0.463125</td>\n",
       "      <td>-0.010589</td>\n",
       "      <td>49.89</td>\n",
       "      <td>0</td>\n",
       "    </tr>\n",
       "    <tr>\n",
       "      <th>86293</th>\n",
       "      <td>61167.0</td>\n",
       "      <td>-0.627810</td>\n",
       "      <td>0.918729</td>\n",
       "      <td>1.478453</td>\n",
       "      <td>0.213171</td>\n",
       "      <td>0.933695</td>\n",
       "      <td>1.261486</td>\n",
       "      <td>0.504752</td>\n",
       "      <td>0.404286</td>\n",
       "      <td>-0.939740</td>\n",
       "      <td>...</td>\n",
       "      <td>-0.051356</td>\n",
       "      <td>-0.004245</td>\n",
       "      <td>0.090535</td>\n",
       "      <td>-0.964599</td>\n",
       "      <td>-0.522294</td>\n",
       "      <td>0.296733</td>\n",
       "      <td>0.145939</td>\n",
       "      <td>0.110400</td>\n",
       "      <td>24.99</td>\n",
       "      <td>0</td>\n",
       "    </tr>\n",
       "    <tr>\n",
       "      <th>122579</th>\n",
       "      <td>76616.0</td>\n",
       "      <td>1.512602</td>\n",
       "      <td>-0.949435</td>\n",
       "      <td>-0.219062</td>\n",
       "      <td>-1.638850</td>\n",
       "      <td>-0.856348</td>\n",
       "      <td>-0.465996</td>\n",
       "      <td>-0.669193</td>\n",
       "      <td>-0.135566</td>\n",
       "      <td>-2.284345</td>\n",
       "      <td>...</td>\n",
       "      <td>-0.558803</td>\n",
       "      <td>-1.377240</td>\n",
       "      <td>0.080444</td>\n",
       "      <td>-0.579511</td>\n",
       "      <td>0.297851</td>\n",
       "      <td>-0.495367</td>\n",
       "      <td>-0.001415</td>\n",
       "      <td>0.003665</td>\n",
       "      <td>34.90</td>\n",
       "      <td>0</td>\n",
       "    </tr>\n",
       "    <tr>\n",
       "      <th>152315</th>\n",
       "      <td>97253.0</td>\n",
       "      <td>1.798863</td>\n",
       "      <td>-1.699791</td>\n",
       "      <td>-0.142182</td>\n",
       "      <td>-0.619533</td>\n",
       "      <td>-1.570248</td>\n",
       "      <td>0.083268</td>\n",
       "      <td>-1.501980</td>\n",
       "      <td>0.176287</td>\n",
       "      <td>1.755507</td>\n",
       "      <td>...</td>\n",
       "      <td>0.181914</td>\n",
       "      <td>0.351358</td>\n",
       "      <td>0.115638</td>\n",
       "      <td>-0.566188</td>\n",
       "      <td>-0.596200</td>\n",
       "      <td>-0.295152</td>\n",
       "      <td>-0.033616</td>\n",
       "      <td>-0.032471</td>\n",
       "      <td>171.31</td>\n",
       "      <td>0</td>\n",
       "    </tr>\n",
       "    <tr>\n",
       "      <th>117952</th>\n",
       "      <td>74887.0</td>\n",
       "      <td>-0.589400</td>\n",
       "      <td>0.747828</td>\n",
       "      <td>1.784781</td>\n",
       "      <td>0.899612</td>\n",
       "      <td>0.257067</td>\n",
       "      <td>-0.001301</td>\n",
       "      <td>0.122334</td>\n",
       "      <td>0.034736</td>\n",
       "      <td>-0.283998</td>\n",
       "      <td>...</td>\n",
       "      <td>-0.008910</td>\n",
       "      <td>0.000367</td>\n",
       "      <td>-0.238139</td>\n",
       "      <td>-0.463529</td>\n",
       "      <td>-0.243573</td>\n",
       "      <td>-0.370920</td>\n",
       "      <td>0.086592</td>\n",
       "      <td>0.118084</td>\n",
       "      <td>15.99</td>\n",
       "      <td>0</td>\n",
       "    </tr>\n",
       "  </tbody>\n",
       "</table>\n",
       "<p>199364 rows × 31 columns</p>\n",
       "</div>"
      ],
      "text/plain": [
       "            Time        V1        V2        V3        V4        V5        V6  \\\n",
       "161145  113921.0 -0.132066  0.107044 -0.650588 -0.996032  1.814333  1.740740   \n",
       "204520  135319.0  2.125994  0.014207 -1.514760  0.115021  0.598510 -0.333235   \n",
       "182659  125498.0 -0.086694  0.166240  1.573127  0.687266  0.222359  1.102606   \n",
       "25117    33520.0  1.352339 -0.534984  0.555143 -0.629355 -1.144170 -0.852967   \n",
       "227642  145152.0 -1.526760  0.647782  0.615391 -0.561114  0.836950 -0.514251   \n",
       "...          ...       ...       ...       ...       ...       ...       ...   \n",
       "211543  138459.0 -1.321976  1.138686 -0.940861  0.154160  0.109802 -0.538822   \n",
       "86293    61167.0 -0.627810  0.918729  1.478453  0.213171  0.933695  1.261486   \n",
       "122579   76616.0  1.512602 -0.949435 -0.219062 -1.638850 -0.856348 -0.465996   \n",
       "152315   97253.0  1.798863 -1.699791 -0.142182 -0.619533 -1.570248  0.083268   \n",
       "117952   74887.0 -0.589400  0.747828  1.784781  0.899612  0.257067 -0.001301   \n",
       "\n",
       "              V7        V8        V9  ...       V21       V22       V23  \\\n",
       "161145  0.496852  0.633016  0.017181  ... -0.062489  0.005292  0.251519   \n",
       "204520  0.199289 -0.264353  0.384111  ... -0.329368 -0.788150  0.267730   \n",
       "182659  1.575093 -1.098608  0.763887  ...  0.015324  1.063663 -0.410841   \n",
       "25117  -0.642128 -0.032659 -0.654482  ... -0.014814 -0.180379  0.178112   \n",
       "227642  0.984325 -0.097430 -0.062634  ... -0.221533 -0.393158 -0.214990   \n",
       "...          ...       ...       ...  ...       ...       ...       ...   \n",
       "211543  0.490058  0.513762 -0.493834  ... -0.012778 -0.237503  0.008713   \n",
       "86293   0.504752  0.404286 -0.939740  ... -0.051356 -0.004245  0.090535   \n",
       "122579 -0.669193 -0.135566 -2.284345  ... -0.558803 -1.377240  0.080444   \n",
       "152315 -1.501980  0.176287  1.755507  ...  0.181914  0.351358  0.115638   \n",
       "117952  0.122334  0.034736 -0.283998  ... -0.008910  0.000367 -0.238139   \n",
       "\n",
       "             V24       V25       V26       V27       V28  Amount  Class  \n",
       "161145 -2.466810 -0.889690  0.337462  0.306395  0.074817   47.89      0  \n",
       "204520  0.066122 -0.135785  0.203841 -0.068267 -0.057678    1.98      0  \n",
       "182659  0.722723 -0.171733 -0.613543 -1.201571 -1.139931  170.10      0  \n",
       "25117   0.347720  0.151810 -0.404361  0.013746  0.016152    5.96      0  \n",
       "227642  0.588447  0.679496  0.518434  0.065022  0.147294   89.95      0  \n",
       "...          ...       ...       ...       ...       ...     ...    ...  \n",
       "211543 -0.767844 -0.397162  0.316379 -0.463125 -0.010589   49.89      0  \n",
       "86293  -0.964599 -0.522294  0.296733  0.145939  0.110400   24.99      0  \n",
       "122579 -0.579511  0.297851 -0.495367 -0.001415  0.003665   34.90      0  \n",
       "152315 -0.566188 -0.596200 -0.295152 -0.033616 -0.032471  171.31      0  \n",
       "117952 -0.463529 -0.243573 -0.370920  0.086592  0.118084   15.99      0  \n",
       "\n",
       "[199364 rows x 31 columns]"
      ]
     },
     "execution_count": 409,
     "metadata": {},
     "output_type": "execute_result"
    }
   ],
   "source": [
    "train_data = X_train.merge(y_train, left_index=True, right_index=True)\n",
    "train_data"
   ]
  },
  {
   "cell_type": "code",
   "execution_count": 410,
   "metadata": {},
   "outputs": [
    {
     "name": "stdout",
     "output_type": "stream",
     "text": [
      "345 199019\n"
     ]
    }
   ],
   "source": [
    "# Class count\n",
    "count_class_1 = sum(train_data['Class'])\n",
    "count_class_0 = train_data.shape[0] - count_class_1\n",
    "print(count_class_1, count_class_0)"
   ]
  },
  {
   "cell_type": "code",
   "execution_count": 411,
   "metadata": {},
   "outputs": [
    {
     "data": {
      "text/plain": [
       "576"
      ]
     },
     "execution_count": 411,
     "metadata": {},
     "output_type": "execute_result"
    }
   ],
   "source": [
    "iterations = int(np.floor(count_class_0 / count_class_1))\n",
    "iterations"
   ]
  },
  {
   "cell_type": "code",
   "execution_count": 412,
   "metadata": {},
   "outputs": [],
   "source": [
    "not_fraud_0 = train_data[train_data['Class'] == 0]\n",
    "fraud_1 = train_data[train_data['Class'] == 1]"
   ]
  },
  {
   "cell_type": "code",
   "execution_count": 413,
   "metadata": {},
   "outputs": [],
   "source": [
    "for i in range(iterations):\n",
    "    x_boot = not_fraud_0.sample(count_class_1)\n",
    "    new_data = pd.concat([x_boot, fraud_1], axis=0)\n",
    "    new_data = new_data.sample(frac=1).reset_index(drop=True)\n",
    "    x_train = new_data.drop('Class', axis = 1)\n",
    "    y_train = new_data['Class']\n",
    "    \n",
    "    if i == 0:\n",
    "        gnb = GaussianNB()\n",
    "        gnb.fit(x_train, y_train) \n",
    "        sum_y_pred = gnb.predict(X_test)\n",
    "        sum_y_proba = gnb.predict_proba(X_test)\n",
    "    else:\n",
    "        gnb = GaussianNB()\n",
    "        gnb.fit(x_train, y_train) \n",
    "        sum_y_pred += gnb.predict(X_test)\n",
    "        sum_y_proba += gnb.predict_proba(X_test)"
   ]
  },
  {
   "cell_type": "code",
   "execution_count": 414,
   "metadata": {},
   "outputs": [],
   "source": [
    "avg_pred = sum_y_pred/iterations\n",
    "avg_proba = sum_y_proba/iterations"
   ]
  },
  {
   "cell_type": "code",
   "execution_count": 415,
   "metadata": {},
   "outputs": [],
   "source": [
    "cutoff = 0.75"
   ]
  },
  {
   "cell_type": "markdown",
   "metadata": {},
   "source": [
    "### average predicted"
   ]
  },
  {
   "cell_type": "code",
   "execution_count": 427,
   "metadata": {},
   "outputs": [],
   "source": [
    "new_cutoff = []\n",
    "for i in range(len(avg_pred)):\n",
    "    if avg_pred[i] >= cutoff:\n",
    "        new_cutoff.append(1)\n",
    "    else:\n",
    "        new_cutoff.append(0)"
   ]
  },
  {
   "cell_type": "code",
   "execution_count": 428,
   "metadata": {},
   "outputs": [
    {
     "name": "stdout",
     "output_type": "stream",
     "text": [
      "0.9913743665367555\n",
      "0.12846347607052896\n",
      "0.6938775510204082\n"
     ]
    }
   ],
   "source": [
    "print(metrics.accuracy_score(y_test,new_cutoff))\n",
    "print(metrics.precision_score(y_test,new_cutoff))\n",
    "print(metrics.recall_score(y_test,new_cutoff))"
   ]
  },
  {
   "cell_type": "code",
   "execution_count": 429,
   "metadata": {},
   "outputs": [
    {
     "data": {
      "text/plain": [
       "array([[84604,   692],\n",
       "       [   45,   102]])"
      ]
     },
     "execution_count": 429,
     "metadata": {},
     "output_type": "execute_result"
    }
   ],
   "source": [
    "con_mat = metrics.confusion_matrix(y_test,new_cutoff)\n",
    "con_mat"
   ]
  },
  {
   "cell_type": "markdown",
   "metadata": {},
   "source": [
    "### average probability"
   ]
  },
  {
   "cell_type": "code",
   "execution_count": 430,
   "metadata": {},
   "outputs": [],
   "source": [
    "new_cutoff = []\n",
    "for i in range(len(avg_proba)):\n",
    "    if avg_proba[i][1] >= cutoff:\n",
    "        new_cutoff.append(1)\n",
    "    else:\n",
    "        new_cutoff.append(0)"
   ]
  },
  {
   "cell_type": "code",
   "execution_count": 431,
   "metadata": {},
   "outputs": [
    {
     "name": "stdout",
     "output_type": "stream",
     "text": [
      "0.9915382184614304\n",
      "0.12886597938144329\n",
      "0.6802721088435374\n"
     ]
    }
   ],
   "source": [
    "print(metrics.accuracy_score(y_test,new_cutoff))\n",
    "print(metrics.precision_score(y_test,new_cutoff))\n",
    "print(metrics.recall_score(y_test,new_cutoff))"
   ]
  },
  {
   "cell_type": "code",
   "execution_count": 432,
   "metadata": {},
   "outputs": [
    {
     "data": {
      "text/plain": [
       "array([[84620,   676],\n",
       "       [   47,   100]])"
      ]
     },
     "execution_count": 432,
     "metadata": {},
     "output_type": "execute_result"
    }
   ],
   "source": [
    "con_mat = metrics.confusion_matrix(y_test,new_cutoff)\n",
    "con_mat"
   ]
  },
  {
   "cell_type": "code",
   "execution_count": null,
   "metadata": {},
   "outputs": [],
   "source": []
  },
  {
   "cell_type": "code",
   "execution_count": null,
   "metadata": {},
   "outputs": [],
   "source": []
  },
  {
   "cell_type": "code",
   "execution_count": null,
   "metadata": {},
   "outputs": [],
   "source": []
  },
  {
   "cell_type": "code",
   "execution_count": null,
   "metadata": {},
   "outputs": [],
   "source": []
  },
  {
   "cell_type": "code",
   "execution_count": null,
   "metadata": {},
   "outputs": [],
   "source": []
  },
  {
   "cell_type": "code",
   "execution_count": null,
   "metadata": {},
   "outputs": [],
   "source": []
  },
  {
   "cell_type": "code",
   "execution_count": null,
   "metadata": {},
   "outputs": [],
   "source": []
  },
  {
   "cell_type": "code",
   "execution_count": null,
   "metadata": {},
   "outputs": [],
   "source": []
  },
  {
   "cell_type": "code",
   "execution_count": null,
   "metadata": {},
   "outputs": [],
   "source": []
  },
  {
   "cell_type": "code",
   "execution_count": null,
   "metadata": {},
   "outputs": [],
   "source": []
  },
  {
   "cell_type": "code",
   "execution_count": null,
   "metadata": {},
   "outputs": [],
   "source": []
  }
 ],
 "metadata": {
  "kernelspec": {
   "display_name": "Python 3",
   "language": "python",
   "name": "python3"
  },
  "language_info": {
   "codemirror_mode": {
    "name": "ipython",
    "version": 3
   },
   "file_extension": ".py",
   "mimetype": "text/x-python",
   "name": "python",
   "nbconvert_exporter": "python",
   "pygments_lexer": "ipython3",
   "version": "3.8.2"
  }
 },
 "nbformat": 4,
 "nbformat_minor": 4
}
