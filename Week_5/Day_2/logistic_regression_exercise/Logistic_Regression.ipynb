{
 "cells": [
  {
   "cell_type": "code",
   "execution_count": 2,
   "metadata": {},
   "outputs": [],
   "source": [
    "#============================================================================\n",
    "#                           Importing Required Libraries\n",
    "#============================================================================\n",
    "\n",
    "import pandas as pd\n",
    "import os\n",
    "import numpy as np\n",
    "import matplotlib.pyplot as plt\n",
    "from sklearn.model_selection import train_test_split\n",
    "import statsmodels.formula.api as smf\n",
    "import statsmodels.api as sm\n",
    "from statsmodels.stats.outliers_influence import variance_inflation_factor\n",
    "import random\n",
    "from sklearn.metrics import confusion_matrix"
   ]
  },
  {
   "cell_type": "code",
   "execution_count": 3,
   "metadata": {},
   "outputs": [
    {
     "ename": "FileNotFoundError",
     "evalue": "[Errno 2] No such file or directory: 'E:\\\\Training\\\\Mindmap_Genpact\\\\Training_Material\\\\Inferential_Statistics\\\\Python_Hands_On'",
     "output_type": "error",
     "traceback": [
      "\u001b[0;31m---------------------------------------------------------------------------\u001b[0m",
      "\u001b[0;31mFileNotFoundError\u001b[0m                         Traceback (most recent call last)",
      "\u001b[0;32m<ipython-input-3-83bdb282fba0>\u001b[0m in \u001b[0;36m<module>\u001b[0;34m\u001b[0m\n\u001b[1;32m      1\u001b[0m \u001b[0;31m# change the directory\u001b[0m\u001b[0;34m\u001b[0m\u001b[0;34m\u001b[0m\u001b[0;34m\u001b[0m\u001b[0m\n\u001b[0;32m----> 2\u001b[0;31m \u001b[0mos\u001b[0m\u001b[0;34m.\u001b[0m\u001b[0mchdir\u001b[0m\u001b[0;34m(\u001b[0m\u001b[0;34m\"E:\\\\Training\\\\Mindmap_Genpact\\\\Training_Material\\\\Inferential_Statistics\\\\Python_Hands_On\"\u001b[0m\u001b[0;34m)\u001b[0m\u001b[0;34m\u001b[0m\u001b[0;34m\u001b[0m\u001b[0m\n\u001b[0m",
      "\u001b[0;31mFileNotFoundError\u001b[0m: [Errno 2] No such file or directory: 'E:\\\\Training\\\\Mindmap_Genpact\\\\Training_Material\\\\Inferential_Statistics\\\\Python_Hands_On'"
     ]
    }
   ],
   "source": [
    "# change the directory\n",
    "os.chdir(\"E:\\\\Training\\\\Mindmap_Genpact\\\\Training_Material\\\\Inferential_Statistics\\\\Python_Hands_On\")"
   ]
  },
  {
   "cell_type": "code",
   "execution_count": null,
   "metadata": {},
   "outputs": [],
   "source": [
    "#============================================================================\n",
    "#              Importing Data (with text as strings and not factors)\n",
    "#============================================================================\n",
    "\n",
    "adult_try_logistic = pd.read_csv(\"adult.csv\")\n",
    "type(adult_try_logistic)\n",
    "adult_try_logistic.dtypes"
   ]
  },
  {
   "cell_type": "code",
   "execution_count": null,
   "metadata": {},
   "outputs": [],
   "source": [
    "#============================================================================\n",
    "#              Replacing \"?\" with NA and Encoding Dependent Variable\n",
    "#                  1 = Preferred Event | 0 = Alternate Event\n",
    "#============================================================================\n",
    "\n",
    "stack = adult_try_logistic.stack()\n",
    "stack[stack == \"?\"] = None\n",
    "adult_try_logistic = stack.unstack()\n",
    "\n",
    "adult_try_logistic.income[adult_try_logistic.income == \">50K\"] = 1\n",
    "adult_try_logistic.income[adult_try_logistic.income == \"<=50K\"] = 0"
   ]
  },
  {
   "cell_type": "code",
   "execution_count": null,
   "metadata": {},
   "outputs": [],
   "source": [
    "#============================================================================\n",
    "#                       Converting text to lower case\n",
    "#============================================================================\n",
    "\n",
    "adult_try_logistic.workclass = adult_try_logistic.workclass.str.lower()\n",
    "adult_try_logistic.occupation = adult_try_logistic.occupation.str.lower()\n",
    "adult_try_logistic.education = adult_try_logistic.education.str.lower()\n",
    "adult_try_logistic.race = adult_try_logistic.race.str.lower()\n",
    "adult_try_logistic.gender = adult_try_logistic.gender.str.lower()\n",
    "adult_try_logistic['native-country'] = adult_try_logistic['native-country'].str.lower()\n",
    "adult_try_logistic['marital-status'] = adult_try_logistic['marital-status'].str.lower()\n",
    "adult_try_logistic.relationship = adult_try_logistic.relationship.str.lower()"
   ]
  },
  {
   "cell_type": "code",
   "execution_count": null,
   "metadata": {},
   "outputs": [],
   "source": [
    "#=============================================================================\n",
    "#                      Checking for % of Missing Values\n",
    "# Decide whether to impute or not. If yes, with or without category wise median /           mean / mode\n",
    "#                        If not, encode Missing Values\n",
    "#=============================================================================\n",
    "\n",
    "pd.isna(adult_try_logistic).mean() # gives col wise %age\n",
    "type(adult_try_logistic)\n",
    "adult_try_logistic.dtypes"
   ]
  },
  {
   "cell_type": "code",
   "execution_count": null,
   "metadata": {},
   "outputs": [],
   "source": [
    "#=============================================================================\n",
    "#                          Check for Imbalanced Data\n",
    "#=============================================================================\n",
    "adult_try_logistic.income.value_counts()"
   ]
  },
  {
   "cell_type": "code",
   "execution_count": null,
   "metadata": {},
   "outputs": [],
   "source": [
    "#=============================================================================\n",
    "#                          Missing Value Replacement\n",
    "#=============================================================================\n",
    "\n",
    "adult_try_logistic.workclass[pd.isna(adult_try_logistic.workclass)]= \"missing_workclass\"\n",
    "adult_try_logistic.occupation[pd.isna(adult_try_logistic.occupation)]= \"missing_occupation\"\n",
    "adult_try_logistic['native-country'][pd.isna(adult_try_logistic['native-country'])]= \"missing_country\""
   ]
  },
  {
   "cell_type": "code",
   "execution_count": null,
   "metadata": {},
   "outputs": [],
   "source": [
    "#=============================================================================\n",
    "#                         Check Information Value (IV)\n",
    "#=============================================================================\n",
    "def iv_woe(data, target, bins=10, show_woe=False):\n",
    "\n",
    "    #Empty Dataframe\n",
    "    newDF = pd.DataFrame()\n",
    "\n",
    "    #Extract Column Names\n",
    "    cols = data.columns\n",
    "\n",
    "    #Run WOE and IV on all the independent variables\n",
    "    for ivars in cols[~cols.isin([target])]:\n",
    "        if (data[ivars].dtype.kind in 'bifc') and (len(np.unique(data[ivars]))>10):\n",
    "            binned_x = pd.qcut(data[ivars], bins,  duplicates='drop')\n",
    "            d0 = pd.DataFrame({'x': binned_x, 'y': data[target]})\n",
    "        else:\n",
    "            d0 = pd.DataFrame({'x': data[ivars], 'y': data[target]})\n",
    "        d = d0.groupby(\"x\", as_index=False).agg({\"y\": [\"count\", \"sum\"]})\n",
    "        d.columns = ['Cutoff', 'N', 'Events']\n",
    "        d['% of Events'] = d['Events'] / d['Events'].sum()\n",
    "        d['Non-Events'] = d['N'] - d['Events']\n",
    "        d['% of Non-Events'] = d['Non-Events'] / d['Non-Events'].sum()\n",
    "        d['WoE'] = np.log(d['% of Events']/d['% of Non-Events'])\n",
    "        d['IV'] = d['WoE'] * (d['% of Events'] - d['% of Non-Events'])\n",
    "        print(\"Information value of \" + ivars + \" is \" + str(round(d['IV'].sum(),6)))\n",
    "        temp =pd.DataFrame({\"Variable\" : [ivars],\n",
    "                            \"IV\" : [d['IV'].sum()]}, columns = [\"Variable\", \"IV\"])\n",
    "        newDF=pd.concat([newDF,temp], axis=0)\n",
    "\n",
    "        #Show WOE Table\n",
    "        if show_woe == True:\n",
    "            print(d)\n",
    "    return newDF\n",
    "\n",
    "IV_Table = iv_woe(data = adult_try_logistic, target = 'income', bins=10, show_woe = True)\n",
    "\n",
    "# Taken from https://www.listendata.com/2015/03/weight-of-evidence-woe-and-information.html"
   ]
  },
  {
   "cell_type": "code",
   "execution_count": null,
   "metadata": {},
   "outputs": [],
   "source": [
    "#============================================================================\n",
    "#                             Thumb Rule for IV\n",
    "#============================================================================\n",
    "#Information Value\tPredictive Power\n",
    "#< 0.02\tuseless for prediction\n",
    "#0.02 to 0.1\tWeak predictor\n",
    "#0.1 to 0.3\tMedium predictor\n",
    "#0.3 to 0.5\tStrong predictor\n",
    "#>0.5\tSuspicious or too good to be true"
   ]
  },
  {
   "cell_type": "code",
   "execution_count": null,
   "metadata": {},
   "outputs": [],
   "source": [
    "#=============================================================================\n",
    "\n",
    "#=============================================================================\n",
    "#                          Converting back to Factor Variables\n",
    "#=============================================================================\n",
    "adult_try_logistic.workclass = adult_try_logistic.workclass.astype('category')\n",
    "adult_try_logistic.occupation = adult_try_logistic.occupation.astype('category')\n",
    "adult_try_logistic['native-country'] = adult_try_logistic['native-country'].astype('category')\n",
    "adult_try_logistic.race = adult_try_logistic.race.astype('category')\n",
    "adult_try_logistic.gender = adult_try_logistic.gender.astype('category')\n",
    "adult_try_logistic.relationship = adult_try_logistic.relationship.astype('category')\n",
    "adult_try_logistic.income = adult_try_logistic.income.astype('category')\n",
    "adult_try_logistic.education = adult_try_logistic.education.astype('category')\n",
    "adult_try_logistic['marital-status'] = adult_try_logistic['marital-status'].astype('category')\n",
    "adult_try_logistic.dtypes"
   ]
  },
  {
   "cell_type": "code",
   "execution_count": null,
   "metadata": {},
   "outputs": [],
   "source": [
    "#                      Choosing Relevant Independent Variables\n",
    "#=============================================================================\n",
    "\n",
    "adult_try_logistic = adult_try_logistic.drop(axis=1,columns=['fnlwgt','race','capital-loss','native-country'])"
   ]
  },
  {
   "cell_type": "code",
   "execution_count": null,
   "metadata": {},
   "outputs": [],
   "source": [
    "#============================================================================\n",
    "#                        Reducing Levels in Factor Variables (<10)\n",
    "#============================================================================\n",
    "\n",
    "# DIY"
   ]
  },
  {
   "cell_type": "code",
   "execution_count": null,
   "metadata": {},
   "outputs": [],
   "source": [
    "#============================================================================\n",
    "#                           Create Training Data (Bootstrapping)\n",
    "#============================================================================\n",
    "adult_try_logistic = adult_try_logistic.rename(columns={\"hours-per-week\":\"hours_per_week\"})\n",
    "adult_try_logistic.age = adult_try_logistic.age.astype('int')\n",
    "adult_try_logistic['educational-num'] = adult_try_logistic['educational-num'].astype('int')\n",
    "adult_try_logistic['capital-gain'] = adult_try_logistic['capital-gain'].astype('int')\n",
    "adult_try_logistic.hours_per_week = adult_try_logistic.hours_per_week.astype('int')\n",
    "\n",
    "\n",
    "input_ones = adult_try_logistic[adult_try_logistic.income == 1]  # all 1's code (encoding) of whichever level is lower in frequency\n",
    "input_zeroes = adult_try_logistic[adult_try_logistic.income == 0]  # all 0's\n",
    "random.seed(100)\n",
    "training_ones = input_ones.sample(frac=0.7)\n",
    "training_zeroes = input_zeroes.sample(frac=0.7)\n",
    "trainingData = pd.concat([training_ones,training_zeroes])"
   ]
  },
  {
   "cell_type": "code",
   "execution_count": null,
   "metadata": {},
   "outputs": [],
   "source": [
    "#===========================================================================\n",
    "#                               Create Test Data\n",
    "#===========================================================================\n",
    "test_ones = input_ones.loc[~input_ones.index.isin(training_ones.index)]\n",
    "test_zeroes = input_zeroes.loc[~input_zeroes.index.isin(training_zeroes.index)]\n",
    "testData = pd.concat([test_ones,test_zeroes])  # row bind the 1's and 0's"
   ]
  },
  {
   "cell_type": "code",
   "execution_count": null,
   "metadata": {},
   "outputs": [],
   "source": [
    "#===========================================================================\n",
    "#                      Modeling (Tuning based on p-values)\n",
    "#                  Number of Fisher Iterations should be less\n",
    "#===========================================================================\n",
    "logitMod = smf.glm('income ~ age + C(workclass) + C(education) + C(occupation) + hours_per_week', data=trainingData, family=sm.families.Binomial()).fit()\n",
    "logitMod.summary()"
   ]
  },
  {
   "cell_type": "code",
   "execution_count": null,
   "metadata": {},
   "outputs": [],
   "source": [
    "#===========================================================================\n",
    "#                            Testing (Prediction)\n",
    "#===========================================================================\n",
    "\n",
    "predicted = logitMod.predict(testData[['age','workclass','education','occupation','hours_per_week']])"
   ]
  },
  {
   "cell_type": "code",
   "execution_count": 1,
   "metadata": {},
   "outputs": [
    {
     "ename": "NameError",
     "evalue": "name 'testData' is not defined",
     "output_type": "error",
     "traceback": [
      "\u001b[0;31m---------------------------------------------------------------------------\u001b[0m",
      "\u001b[0;31mNameError\u001b[0m                                 Traceback (most recent call last)",
      "\u001b[0;32m<ipython-input-1-4ecc6a25b979>\u001b[0m in \u001b[0;36m<module>\u001b[0;34m\u001b[0m\n\u001b[1;32m      7\u001b[0m \u001b[0;34m\u001b[0m\u001b[0m\n\u001b[1;32m      8\u001b[0m \u001b[0;32mfrom\u001b[0m \u001b[0msklearn\u001b[0m\u001b[0;34m.\u001b[0m\u001b[0mmetrics\u001b[0m \u001b[0;32mimport\u001b[0m \u001b[0mroc_curve\u001b[0m\u001b[0;34m,\u001b[0m \u001b[0mauc\u001b[0m\u001b[0;34m\u001b[0m\u001b[0;34m\u001b[0m\u001b[0m\n\u001b[0;32m----> 9\u001b[0;31m \u001b[0mfpr\u001b[0m\u001b[0;34m,\u001b[0m \u001b[0mtpr\u001b[0m\u001b[0;34m,\u001b[0m \u001b[0mthresholds\u001b[0m \u001b[0;34m=\u001b[0m\u001b[0mroc_curve\u001b[0m\u001b[0;34m(\u001b[0m\u001b[0mtestData\u001b[0m\u001b[0;34m.\u001b[0m\u001b[0mincome\u001b[0m\u001b[0;34m,\u001b[0m \u001b[0mpredicted\u001b[0m\u001b[0;34m)\u001b[0m\u001b[0;34m\u001b[0m\u001b[0;34m\u001b[0m\u001b[0m\n\u001b[0m\u001b[1;32m     10\u001b[0m \u001b[0mroc_auc\u001b[0m \u001b[0;34m=\u001b[0m \u001b[0mauc\u001b[0m\u001b[0;34m(\u001b[0m\u001b[0mfpr\u001b[0m\u001b[0;34m,\u001b[0m \u001b[0mtpr\u001b[0m\u001b[0;34m)\u001b[0m\u001b[0;34m\u001b[0m\u001b[0;34m\u001b[0m\u001b[0m\n\u001b[1;32m     11\u001b[0m \u001b[0mprint\u001b[0m\u001b[0;34m(\u001b[0m\u001b[0;34m\"Area under the ROC curve : %f\"\u001b[0m \u001b[0;34m%\u001b[0m \u001b[0mroc_auc\u001b[0m\u001b[0;34m)\u001b[0m\u001b[0;34m\u001b[0m\u001b[0;34m\u001b[0m\u001b[0m\n",
      "\u001b[0;31mNameError\u001b[0m: name 'testData' is not defined"
     ]
    }
   ],
   "source": [
    "#===========================================================================\n",
    "#                          Deciding Optimal Cut-off\n",
    "# Cut-off is the point above which it is 1 (Preferred Event) and below it, is 0 (Alternate Event)\n",
    "# Ideal cut off is 0.5 which means if the prediction is 0.4 or 40% it is an Alternate Event, but sometimes due to imbalance\n",
    "# in your dataset, the cut-off is higher say 0.92 which means if your prediction is 0.88 it is still Alternate Event.\n",
    "#===========================================================================\n",
    "\n",
    "from sklearn.metrics import roc_curve, auc\n",
    "fpr, tpr, thresholds =roc_curve(testData.income, predicted)\n",
    "roc_auc = auc(fpr, tpr)\n",
    "print(\"Area under the ROC curve : %f\" % roc_auc)\n",
    "\n",
    "i = np.arange(len(tpr)) # index for df\n",
    "roc = pd.DataFrame({'fpr' : pd.Series(fpr, index=i),'tpr' : pd.Series(tpr, index = i), '1-fpr' : pd.Series(1-fpr, index = i), 'tf' : pd.Series(tpr - (1-fpr), index = i), 'thresholds' : pd.Series(thresholds, index = i)})"
   ]
  },
  {
   "cell_type": "markdown",
   "metadata": {},
   "source": [
    "# HERE"
   ]
  },
  {
   "cell_type": "code",
   "execution_count": null,
   "metadata": {},
   "outputs": [],
   "source": [
    "# Threshold\n",
    "optCutOff = roc.ix[(roc.tf-0).abs().argsort()[:1]]"
   ]
  },
  {
   "cell_type": "code",
   "execution_count": null,
   "metadata": {},
   "outputs": [],
   "source": [
    "# Plot tpr vs 1-fpr\n",
    "fig, ax = plt.subplots()\n",
    "plt.plot(roc['tpr'])\n",
    "plt.plot(roc['1-fpr'], color = 'red')\n",
    "plt.xlabel('1-False Positive Rate')\n",
    "plt.ylabel('True Positive Rate')\n",
    "plt.title('Receiver operating characteristic')\n",
    "ax.set_xticklabels([])\n",
    "plt.show()"
   ]
  },
  {
   "cell_type": "code",
   "execution_count": null,
   "metadata": {},
   "outputs": [],
   "source": [
    "#============================================================================\n",
    "#                        Checking Accuracy of the Model\n",
    "#============================================================================\n",
    "\n",
    "fitted_results = predicted\n",
    "for k in fitted_results.index:\n",
    "    print(k)\n",
    "    if fitted_results[k] >= optCutOff['thresholds'].values:\n",
    "        fitted_results[k]=1\n",
    "    else:\n",
    "        fitted_results[k]=0\n",
    "\n",
    "misClasificError = np.mean(fitted_results != testData.income)\n",
    "print('Accuracy',1-misClasificError)"
   ]
  },
  {
   "cell_type": "code",
   "execution_count": null,
   "metadata": {},
   "outputs": [],
   "source": [
    "#============================================================================\n",
    "#                               Confusion Matrix\n",
    "#============================================================================\n",
    "\n",
    "from sklearn.metrics import confusion_matrix\n",
    "from sklearn.metrics import accuracy_score\n",
    "from sklearn.metrics import classification_report\n",
    "\n",
    "results = confusion_matrix(testData.income, fitted_results)\n",
    "print('Confusion Matrix :')\n",
    "print(results)\n",
    "print('Accuracy Score :',accuracy_score(testData.income, fitted_results))\n",
    "print('Report : ')\n",
    "print(classification_report(testData.income, fitted_results))\n",
    "\n",
    "tn, fp, fn, tp = results.ravel()"
   ]
  },
  {
   "cell_type": "code",
   "execution_count": null,
   "metadata": {},
   "outputs": [],
   "source": [
    "#============================================================================\n",
    "#                                Sensitivity\n",
    "#============================================================================\n",
    "print(tp/(tp+fn))"
   ]
  },
  {
   "cell_type": "code",
   "execution_count": null,
   "metadata": {},
   "outputs": [],
   "source": [
    "#============================================================================\n",
    "#                                Specificity\n",
    "#============================================================================\n",
    "print(tn/(tn+fp))"
   ]
  }
 ],
 "metadata": {
  "kernelspec": {
   "display_name": "Python 3",
   "language": "python",
   "name": "python3"
  },
  "language_info": {
   "codemirror_mode": {
    "name": "ipython",
    "version": 3
   },
   "file_extension": ".py",
   "mimetype": "text/x-python",
   "name": "python",
   "nbconvert_exporter": "python",
   "pygments_lexer": "ipython3",
   "version": "3.8.2"
  }
 },
 "nbformat": 4,
 "nbformat_minor": 2
}
