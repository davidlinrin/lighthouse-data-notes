{
 "cells": [
  {
   "cell_type": "markdown",
   "metadata": {},
   "source": [
    "# Train Test Frameworks\n",
    "These are simple exercises for practicing syntax of various functions from sklearn that split data into the train and test sets. The goal is to get familiar with these methods prior to the more complex challenge at the end of the day."
   ]
  },
  {
   "cell_type": "code",
   "execution_count": 1,
   "metadata": {
    "ExecuteTime": {
     "end_time": "2020-04-27T07:17:19.733929Z",
     "start_time": "2020-04-27T07:17:19.730983Z"
    }
   },
   "outputs": [],
   "source": [
    "# import numpy\n",
    "import numpy as np"
   ]
  },
  {
   "cell_type": "code",
   "execution_count": 2,
   "metadata": {
    "ExecuteTime": {
     "end_time": "2020-04-27T07:17:20.442277Z",
     "start_time": "2020-04-27T07:17:20.436036Z"
    }
   },
   "outputs": [],
   "source": [
    "X = np.random.normal(0,1,20).reshape(10,2)\n",
    "y = np.random.normal(0,1,10)"
   ]
  },
  {
   "cell_type": "markdown",
   "metadata": {},
   "source": [
    "* print X"
   ]
  },
  {
   "cell_type": "code",
   "execution_count": 3,
   "metadata": {
    "ExecuteTime": {
     "end_time": "2020-02-25T10:10:05.516072Z",
     "start_time": "2020-02-25T10:10:05.507842Z"
    }
   },
   "outputs": [
    {
     "data": {
      "text/plain": [
       "array([[-1.13377282,  0.71500998],\n",
       "       [-0.89742635, -1.37772541],\n",
       "       [ 0.96306088,  0.57774713],\n",
       "       [-1.1238182 ,  1.79261756],\n",
       "       [ 0.76851426,  1.42743475],\n",
       "       [-1.46568917, -0.77163853],\n",
       "       [ 0.29601714, -0.09067391],\n",
       "       [-1.06681018, -0.51583161],\n",
       "       [-0.91043122, -1.09797278],\n",
       "       [ 1.46472921, -0.78259073]])"
      ]
     },
     "execution_count": 3,
     "metadata": {},
     "output_type": "execute_result"
    }
   ],
   "source": [
    "X"
   ]
  },
  {
   "cell_type": "markdown",
   "metadata": {},
   "source": [
    "* print y"
   ]
  },
  {
   "cell_type": "code",
   "execution_count": 5,
   "metadata": {
    "ExecuteTime": {
     "end_time": "2020-02-25T10:10:06.238921Z",
     "start_time": "2020-02-25T10:10:06.228202Z"
    }
   },
   "outputs": [
    {
     "data": {
      "text/plain": [
       "array([-0.88062406, -0.69791619, -0.94813565,  0.84502812,  0.38885409,\n",
       "        0.91244908, -1.19348118, -0.07944834,  1.12909956, -0.94869943])"
      ]
     },
     "execution_count": 5,
     "metadata": {},
     "output_type": "execute_result"
    }
   ],
   "source": [
    "y"
   ]
  },
  {
   "cell_type": "markdown",
   "metadata": {},
   "source": [
    "## HOLDOUT split"
   ]
  },
  {
   "cell_type": "markdown",
   "metadata": {},
   "source": [
    "* import train_test_split function from sklearn"
   ]
  },
  {
   "cell_type": "code",
   "execution_count": 6,
   "metadata": {
    "ExecuteTime": {
     "end_time": "2020-04-27T07:19:36.229754Z",
     "start_time": "2020-04-27T07:19:36.224380Z"
    }
   },
   "outputs": [],
   "source": [
    "import sklearn.model_selection as model_selection"
   ]
  },
  {
   "cell_type": "markdown",
   "metadata": {},
   "source": [
    "* split the data to train set (70%) and test set (30%)"
   ]
  },
  {
   "cell_type": "code",
   "execution_count": 9,
   "metadata": {
    "ExecuteTime": {
     "end_time": "2020-04-27T07:19:36.690033Z",
     "start_time": "2020-04-27T07:19:36.679323Z"
    }
   },
   "outputs": [],
   "source": [
    "X_train, X_test, y_train, y_test = model_selection.train_test_split(X,y,train_size = 0.7, test_size = 0.3, random_state = 0)"
   ]
  },
  {
   "cell_type": "markdown",
   "metadata": {},
   "source": [
    "* print X_train"
   ]
  },
  {
   "cell_type": "code",
   "execution_count": 10,
   "metadata": {
    "ExecuteTime": {
     "end_time": "2020-04-27T07:19:37.410555Z",
     "start_time": "2020-04-27T07:19:37.384346Z"
    }
   },
   "outputs": [
    {
     "data": {
      "text/plain": [
       "array([[ 1.46472921, -0.78259073],\n",
       "       [-0.89742635, -1.37772541],\n",
       "       [ 0.29601714, -0.09067391],\n",
       "       [-1.06681018, -0.51583161],\n",
       "       [-1.1238182 ,  1.79261756],\n",
       "       [-1.13377282,  0.71500998],\n",
       "       [-1.46568917, -0.77163853]])"
      ]
     },
     "execution_count": 10,
     "metadata": {},
     "output_type": "execute_result"
    }
   ],
   "source": [
    "X_train"
   ]
  },
  {
   "cell_type": "markdown",
   "metadata": {},
   "source": [
    "* split the data again but now with  shuttle=False"
   ]
  },
  {
   "cell_type": "code",
   "execution_count": 11,
   "metadata": {
    "ExecuteTime": {
     "end_time": "2020-04-27T07:19:38.392368Z",
     "start_time": "2020-04-27T07:19:38.387406Z"
    }
   },
   "outputs": [],
   "source": [
    "X_train, X_test, y_train, y_test = model_selection.train_test_split(X,y,train_size = 0.7, test_size = 0.3, shuffle = False,random_state = 0)"
   ]
  },
  {
   "cell_type": "markdown",
   "metadata": {},
   "source": [
    "* print X_train"
   ]
  },
  {
   "cell_type": "code",
   "execution_count": 12,
   "metadata": {
    "ExecuteTime": {
     "end_time": "2020-04-27T07:19:56.965372Z",
     "start_time": "2020-04-27T07:19:56.954696Z"
    }
   },
   "outputs": [
    {
     "data": {
      "text/plain": [
       "array([[-1.13377282,  0.71500998],\n",
       "       [-0.89742635, -1.37772541],\n",
       "       [ 0.96306088,  0.57774713],\n",
       "       [-1.1238182 ,  1.79261756],\n",
       "       [ 0.76851426,  1.42743475],\n",
       "       [-1.46568917, -0.77163853],\n",
       "       [ 0.29601714, -0.09067391]])"
      ]
     },
     "execution_count": 12,
     "metadata": {},
     "output_type": "execute_result"
    }
   ],
   "source": [
    "X_train"
   ]
  },
  {
   "cell_type": "markdown",
   "metadata": {},
   "source": [
    "* print shape of X_train and X_test"
   ]
  },
  {
   "cell_type": "code",
   "execution_count": 14,
   "metadata": {},
   "outputs": [
    {
     "name": "stdout",
     "output_type": "stream",
     "text": [
      "(7, 2)\n",
      "(3, 2)\n"
     ]
    }
   ],
   "source": [
    "print(X_train.shape)\n",
    "print(X_test.shape)"
   ]
  },
  {
   "cell_type": "markdown",
   "metadata": {},
   "source": [
    "## K-FOLD split "
   ]
  },
  {
   "cell_type": "markdown",
   "metadata": {},
   "source": [
    "* import KFold from sklearn"
   ]
  },
  {
   "cell_type": "code",
   "execution_count": 19,
   "metadata": {
    "ExecuteTime": {
     "end_time": "2020-04-27T07:20:20.040524Z",
     "start_time": "2020-04-27T07:20:20.034774Z"
    }
   },
   "outputs": [],
   "source": [
    "from sklearn.model_selection import KFold"
   ]
  },
  {
   "cell_type": "markdown",
   "metadata": {},
   "source": [
    "* instantiate KFold with k=5"
   ]
  },
  {
   "cell_type": "code",
   "execution_count": 20,
   "metadata": {
    "ExecuteTime": {
     "end_time": "2020-04-27T07:21:02.886273Z",
     "start_time": "2020-04-27T07:21:02.882100Z"
    }
   },
   "outputs": [],
   "source": [
    "KF = KFold(5)"
   ]
  },
  {
   "cell_type": "markdown",
   "metadata": {},
   "source": [
    "* iterate over train_index and test_index in kf.split(X) and print them"
   ]
  },
  {
   "cell_type": "code",
   "execution_count": 23,
   "metadata": {
    "ExecuteTime": {
     "end_time": "2020-04-27T07:21:30.570119Z",
     "start_time": "2020-04-27T07:21:30.560118Z"
    }
   },
   "outputs": [
    {
     "name": "stdout",
     "output_type": "stream",
     "text": [
      "[2 3 4 5 6 7 8 9] [0 1]\n",
      "[0 1 4 5 6 7 8 9] [2 3]\n",
      "[0 1 2 3 6 7 8 9] [4 5]\n",
      "[0 1 2 3 4 5 8 9] [6 7]\n",
      "[0 1 2 3 4 5 6 7] [8 9]\n"
     ]
    }
   ],
   "source": [
    "for train_index, test_index in KF.split(X):\n",
    "    print(train_index,test_index)"
   ]
  },
  {
   "cell_type": "markdown",
   "metadata": {},
   "source": [
    "* instantiate KFold with k=5 and shuffle=True"
   ]
  },
  {
   "cell_type": "code",
   "execution_count": 24,
   "metadata": {
    "ExecuteTime": {
     "end_time": "2020-04-27T07:21:52.693825Z",
     "start_time": "2020-04-27T07:21:52.687089Z"
    }
   },
   "outputs": [],
   "source": [
    "KF = KFold(5, shuffle = True)"
   ]
  },
  {
   "cell_type": "markdown",
   "metadata": {},
   "source": [
    "* iterate over train_index and test_index in kf.split(X) and print them"
   ]
  },
  {
   "cell_type": "code",
   "execution_count": 25,
   "metadata": {
    "ExecuteTime": {
     "end_time": "2020-02-25T10:19:37.219179Z",
     "start_time": "2020-02-25T10:19:37.210814Z"
    }
   },
   "outputs": [
    {
     "name": "stdout",
     "output_type": "stream",
     "text": [
      "[1 3 4 5 6 7 8 9] [0 2]\n",
      "[0 1 2 4 5 6 7 8] [3 9]\n",
      "[0 2 3 4 5 7 8 9] [1 6]\n",
      "[0 1 2 3 4 6 8 9] [5 7]\n",
      "[0 1 2 3 5 6 7 9] [4 8]\n"
     ]
    }
   ],
   "source": [
    "for train_index, test_index in KF.split(X):\n",
    "    print(train_index,test_index)"
   ]
  },
  {
   "cell_type": "markdown",
   "metadata": {
    "ExecuteTime": {
     "end_time": "2020-02-25T10:20:50.997776Z",
     "start_time": "2020-02-25T10:20:50.991967Z"
    }
   },
   "source": [
    "## LEAVE-ONE-OUT split\n",
    "this is a similar technique like the Leave-p-out in the previous readings, with p=1. Each observation is used as test set separately.\n",
    "- it's popular method for very small datasets\n",
    "- takes a lot of time for bigger data and can lead to overfitting of a final model."
   ]
  },
  {
   "cell_type": "markdown",
   "metadata": {},
   "source": [
    "* import LeaveOneOut from sklearn"
   ]
  },
  {
   "cell_type": "code",
   "execution_count": null,
   "metadata": {
    "ExecuteTime": {
     "end_time": "2020-04-27T07:22:57.562338Z",
     "start_time": "2020-04-27T07:22:57.557038Z"
    }
   },
   "outputs": [],
   "source": [
    "from sklearn.model_selection import LeaveOneOut"
   ]
  },
  {
   "cell_type": "markdown",
   "metadata": {},
   "source": [
    "* instantiate LeaveOneOut"
   ]
  },
  {
   "cell_type": "code",
   "execution_count": 29,
   "metadata": {
    "ExecuteTime": {
     "end_time": "2020-04-27T07:22:58.073776Z",
     "start_time": "2020-04-27T07:22:58.069381Z"
    }
   },
   "outputs": [],
   "source": [
    "LOO = LeaveOneOut()"
   ]
  },
  {
   "cell_type": "markdown",
   "metadata": {},
   "source": [
    "* iterate over train_index and test_index in loo.split(X) and print them"
   ]
  },
  {
   "cell_type": "code",
   "execution_count": 40,
   "metadata": {
    "ExecuteTime": {
     "end_time": "2020-04-27T07:23:15.893291Z",
     "start_time": "2020-04-27T07:23:15.882373Z"
    }
   },
   "outputs": [
    {
     "name": "stdout",
     "output_type": "stream",
     "text": [
      "[1 2 3 4 5 6 7 8 9] [0]\n",
      "[[-0.89742635 -1.37772541]\n",
      " [ 0.96306088  0.57774713]\n",
      " [-1.1238182   1.79261756]\n",
      " [ 0.76851426  1.42743475]\n",
      " [-1.46568917 -0.77163853]\n",
      " [ 0.29601714 -0.09067391]\n",
      " [-1.06681018 -0.51583161]\n",
      " [-0.91043122 -1.09797278]\n",
      " [ 1.46472921 -0.78259073]] [[-1.13377282  0.71500998]] \n",
      "\n",
      "[0 2 3 4 5 6 7 8 9] [1]\n",
      "[[-1.13377282  0.71500998]\n",
      " [ 0.96306088  0.57774713]\n",
      " [-1.1238182   1.79261756]\n",
      " [ 0.76851426  1.42743475]\n",
      " [-1.46568917 -0.77163853]\n",
      " [ 0.29601714 -0.09067391]\n",
      " [-1.06681018 -0.51583161]\n",
      " [-0.91043122 -1.09797278]\n",
      " [ 1.46472921 -0.78259073]] [[-0.89742635 -1.37772541]] \n",
      "\n",
      "[0 1 3 4 5 6 7 8 9] [2]\n",
      "[[-1.13377282  0.71500998]\n",
      " [-0.89742635 -1.37772541]\n",
      " [-1.1238182   1.79261756]\n",
      " [ 0.76851426  1.42743475]\n",
      " [-1.46568917 -0.77163853]\n",
      " [ 0.29601714 -0.09067391]\n",
      " [-1.06681018 -0.51583161]\n",
      " [-0.91043122 -1.09797278]\n",
      " [ 1.46472921 -0.78259073]] [[0.96306088 0.57774713]] \n",
      "\n",
      "[0 1 2 4 5 6 7 8 9] [3]\n",
      "[[-1.13377282  0.71500998]\n",
      " [-0.89742635 -1.37772541]\n",
      " [ 0.96306088  0.57774713]\n",
      " [ 0.76851426  1.42743475]\n",
      " [-1.46568917 -0.77163853]\n",
      " [ 0.29601714 -0.09067391]\n",
      " [-1.06681018 -0.51583161]\n",
      " [-0.91043122 -1.09797278]\n",
      " [ 1.46472921 -0.78259073]] [[-1.1238182   1.79261756]] \n",
      "\n",
      "[0 1 2 3 5 6 7 8 9] [4]\n",
      "[[-1.13377282  0.71500998]\n",
      " [-0.89742635 -1.37772541]\n",
      " [ 0.96306088  0.57774713]\n",
      " [-1.1238182   1.79261756]\n",
      " [-1.46568917 -0.77163853]\n",
      " [ 0.29601714 -0.09067391]\n",
      " [-1.06681018 -0.51583161]\n",
      " [-0.91043122 -1.09797278]\n",
      " [ 1.46472921 -0.78259073]] [[0.76851426 1.42743475]] \n",
      "\n",
      "[0 1 2 3 4 6 7 8 9] [5]\n",
      "[[-1.13377282  0.71500998]\n",
      " [-0.89742635 -1.37772541]\n",
      " [ 0.96306088  0.57774713]\n",
      " [-1.1238182   1.79261756]\n",
      " [ 0.76851426  1.42743475]\n",
      " [ 0.29601714 -0.09067391]\n",
      " [-1.06681018 -0.51583161]\n",
      " [-0.91043122 -1.09797278]\n",
      " [ 1.46472921 -0.78259073]] [[-1.46568917 -0.77163853]] \n",
      "\n",
      "[0 1 2 3 4 5 7 8 9] [6]\n",
      "[[-1.13377282  0.71500998]\n",
      " [-0.89742635 -1.37772541]\n",
      " [ 0.96306088  0.57774713]\n",
      " [-1.1238182   1.79261756]\n",
      " [ 0.76851426  1.42743475]\n",
      " [-1.46568917 -0.77163853]\n",
      " [-1.06681018 -0.51583161]\n",
      " [-0.91043122 -1.09797278]\n",
      " [ 1.46472921 -0.78259073]] [[ 0.29601714 -0.09067391]] \n",
      "\n",
      "[0 1 2 3 4 5 6 8 9] [7]\n",
      "[[-1.13377282  0.71500998]\n",
      " [-0.89742635 -1.37772541]\n",
      " [ 0.96306088  0.57774713]\n",
      " [-1.1238182   1.79261756]\n",
      " [ 0.76851426  1.42743475]\n",
      " [-1.46568917 -0.77163853]\n",
      " [ 0.29601714 -0.09067391]\n",
      " [-0.91043122 -1.09797278]\n",
      " [ 1.46472921 -0.78259073]] [[-1.06681018 -0.51583161]] \n",
      "\n",
      "[0 1 2 3 4 5 6 7 9] [8]\n",
      "[[-1.13377282  0.71500998]\n",
      " [-0.89742635 -1.37772541]\n",
      " [ 0.96306088  0.57774713]\n",
      " [-1.1238182   1.79261756]\n",
      " [ 0.76851426  1.42743475]\n",
      " [-1.46568917 -0.77163853]\n",
      " [ 0.29601714 -0.09067391]\n",
      " [-1.06681018 -0.51583161]\n",
      " [ 1.46472921 -0.78259073]] [[-0.91043122 -1.09797278]] \n",
      "\n",
      "[0 1 2 3 4 5 6 7 8] [9]\n",
      "[[-1.13377282  0.71500998]\n",
      " [-0.89742635 -1.37772541]\n",
      " [ 0.96306088  0.57774713]\n",
      " [-1.1238182   1.79261756]\n",
      " [ 0.76851426  1.42743475]\n",
      " [-1.46568917 -0.77163853]\n",
      " [ 0.29601714 -0.09067391]\n",
      " [-1.06681018 -0.51583161]\n",
      " [-0.91043122 -1.09797278]] [[ 1.46472921 -0.78259073]] \n",
      "\n"
     ]
    }
   ],
   "source": [
    "for train_index, test_index in LOO.split(X):\n",
    "    X_train, X_test = X[train_index], X[test_index]\n",
    "    print(train_index,test_index)\n",
    "    print(X_train, X_test, '\\n')"
   ]
  },
  {
   "cell_type": "markdown",
   "metadata": {
    "ExecuteTime": {
     "end_time": "2020-04-27T07:23:32.091854Z",
     "start_time": "2020-04-27T07:23:32.084557Z"
    }
   },
   "source": [
    "* print the number of splits"
   ]
  },
  {
   "cell_type": "code",
   "execution_count": 36,
   "metadata": {
    "ExecuteTime": {
     "end_time": "2020-04-27T07:23:44.088113Z",
     "start_time": "2020-04-27T07:23:44.079901Z"
    }
   },
   "outputs": [
    {
     "data": {
      "text/plain": [
       "10"
      ]
     },
     "execution_count": 36,
     "metadata": {},
     "output_type": "execute_result"
    }
   ],
   "source": [
    "LOO.get_n_splits(X)"
   ]
  }
 ],
 "metadata": {
  "kernelspec": {
   "display_name": "Python 3",
   "language": "python",
   "name": "python3"
  },
  "language_info": {
   "codemirror_mode": {
    "name": "ipython",
    "version": 3
   },
   "file_extension": ".py",
   "mimetype": "text/x-python",
   "name": "python",
   "nbconvert_exporter": "python",
   "pygments_lexer": "ipython3",
   "version": "3.8.2"
  },
  "toc": {
   "base_numbering": 1,
   "nav_menu": {},
   "number_sections": true,
   "sideBar": true,
   "skip_h1_title": false,
   "title_cell": "Table of Contents",
   "title_sidebar": "Contents",
   "toc_cell": false,
   "toc_position": {},
   "toc_section_display": true,
   "toc_window_display": false
  },
  "varInspector": {
   "cols": {
    "lenName": 16,
    "lenType": 16,
    "lenVar": 40
   },
   "kernels_config": {
    "python": {
     "delete_cmd_postfix": "",
     "delete_cmd_prefix": "del ",
     "library": "var_list.py",
     "varRefreshCmd": "print(var_dic_list())"
    },
    "r": {
     "delete_cmd_postfix": ") ",
     "delete_cmd_prefix": "rm(",
     "library": "var_list.r",
     "varRefreshCmd": "cat(var_dic_list()) "
    }
   },
   "types_to_exclude": [
    "module",
    "function",
    "builtin_function_or_method",
    "instance",
    "_Feature"
   ],
   "window_display": false
  }
 },
 "nbformat": 4,
 "nbformat_minor": 4
}
