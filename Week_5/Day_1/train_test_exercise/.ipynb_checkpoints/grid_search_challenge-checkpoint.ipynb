{
 "cells": [
  {
   "cell_type": "markdown",
   "metadata": {},
   "source": [
    "# UFO sightings\n",
    "\n",
    "## Data\n",
    "\n",
    "The original data are reports of 80+k UFO sightings from more than 50 years, originally obtained from [here](https://github.com/planetsig/ufo-reports). We are already familiar with this data because we used it to practice different data preparation and dimensionality reduction techniques.\n",
    "\n",
    "### Final data\n",
    "\n",
    "In this exercise, we should use dataset from the earlier dimensionality reduction exercise in Week 4 Day 1. If you didn't export the table back then, feel free to take our pre-prepared dataset from [here](https://drive.google.com/file/d/1Q0gj7_DK2Sz-se8hf5-luu2GESDCsndb/view?usp=sharing)."
   ]
  },
  {
   "cell_type": "code",
   "execution_count": 427,
   "metadata": {},
   "outputs": [],
   "source": [
    "import numpy as np \n",
    "import pandas as pd\n",
    "from sklearn.model_selection import GridSearchCV\n",
    "import matplotlib.pyplot as plt\n",
    "from sklearn.linear_model import LassoCV\n",
    "from sklearn.linear_model import RidgeCV\n",
    "from sklearn.linear_model import Lasso"
   ]
  },
  {
   "cell_type": "code",
   "execution_count": 48,
   "metadata": {},
   "outputs": [],
   "source": [
    "data = pd.read_csv('df_prepared.csv', header = 0)\n",
    "data['ast_dangerous'] = np.where((data['ast_is_dangerous']==True) | (data['ast_is_dangerous']=='True'),1,data['ast_is_dangerous'])\n",
    "data['ast_dangerous'] = np.where((data['ast_is_dangerous']==False) | (data['ast_is_dangerous']=='False'),0,data['ast_dangerous'])\n",
    "data['ast_dangerous'] = np.where((data['ast_is_dangerous']=='0.0'),0,data['ast_dangerous'])\n",
    "data.drop('ast_is_dangerous',axis = 1, inplace = True)"
   ]
  },
  {
   "cell_type": "code",
   "execution_count": 225,
   "metadata": {},
   "outputs": [
    {
     "data": {
      "text/html": [
       "<div>\n",
       "<style scoped>\n",
       "    .dataframe tbody tr th:only-of-type {\n",
       "        vertical-align: middle;\n",
       "    }\n",
       "\n",
       "    .dataframe tbody tr th {\n",
       "        vertical-align: top;\n",
       "    }\n",
       "\n",
       "    .dataframe thead th {\n",
       "        text-align: right;\n",
       "    }\n",
       "</style>\n",
       "<table border=\"1\" class=\"dataframe\">\n",
       "  <thead>\n",
       "    <tr style=\"text-align: right;\">\n",
       "      <th></th>\n",
       "      <th>pca_1</th>\n",
       "      <th>pca_2</th>\n",
       "      <th>pca_3</th>\n",
       "      <th>pca_4</th>\n",
       "      <th>lat</th>\n",
       "      <th>lng</th>\n",
       "      <th>ast_absolute_magnitude_h</th>\n",
       "      <th>hour</th>\n",
       "      <th>day_of_the_week</th>\n",
       "      <th>month</th>\n",
       "      <th>...</th>\n",
       "      <th>shape_other</th>\n",
       "      <th>shape_oval</th>\n",
       "      <th>shape_rectangle</th>\n",
       "      <th>shape_round</th>\n",
       "      <th>shape_sphere</th>\n",
       "      <th>shape_teardrop</th>\n",
       "      <th>shape_triangle</th>\n",
       "      <th>shape_unknown</th>\n",
       "      <th>duration_seconds</th>\n",
       "      <th>ast_dangerous</th>\n",
       "    </tr>\n",
       "  </thead>\n",
       "  <tbody>\n",
       "    <tr>\n",
       "      <th>0</th>\n",
       "      <td>2.586827</td>\n",
       "      <td>-0.691122</td>\n",
       "      <td>0.383378</td>\n",
       "      <td>-0.392817</td>\n",
       "      <td>29.883056</td>\n",
       "      <td>-97.941111</td>\n",
       "      <td>21.5</td>\n",
       "      <td>20.0</td>\n",
       "      <td>0.0</td>\n",
       "      <td>10.0</td>\n",
       "      <td>...</td>\n",
       "      <td>0</td>\n",
       "      <td>0</td>\n",
       "      <td>0</td>\n",
       "      <td>0</td>\n",
       "      <td>0</td>\n",
       "      <td>0</td>\n",
       "      <td>0</td>\n",
       "      <td>0</td>\n",
       "      <td>2700.0</td>\n",
       "      <td>1</td>\n",
       "    </tr>\n",
       "    <tr>\n",
       "      <th>1</th>\n",
       "      <td>2.705866</td>\n",
       "      <td>-0.500283</td>\n",
       "      <td>0.805411</td>\n",
       "      <td>-0.762964</td>\n",
       "      <td>29.384210</td>\n",
       "      <td>-98.581082</td>\n",
       "      <td>21.5</td>\n",
       "      <td>21.0</td>\n",
       "      <td>0.0</td>\n",
       "      <td>10.0</td>\n",
       "      <td>...</td>\n",
       "      <td>0</td>\n",
       "      <td>0</td>\n",
       "      <td>0</td>\n",
       "      <td>0</td>\n",
       "      <td>0</td>\n",
       "      <td>0</td>\n",
       "      <td>0</td>\n",
       "      <td>0</td>\n",
       "      <td>7200.0</td>\n",
       "      <td>1</td>\n",
       "    </tr>\n",
       "    <tr>\n",
       "      <th>2</th>\n",
       "      <td>0.828969</td>\n",
       "      <td>3.089038</td>\n",
       "      <td>-1.496677</td>\n",
       "      <td>-2.100431</td>\n",
       "      <td>53.200000</td>\n",
       "      <td>-2.916667</td>\n",
       "      <td>21.5</td>\n",
       "      <td>17.0</td>\n",
       "      <td>0.0</td>\n",
       "      <td>10.0</td>\n",
       "      <td>...</td>\n",
       "      <td>0</td>\n",
       "      <td>0</td>\n",
       "      <td>0</td>\n",
       "      <td>0</td>\n",
       "      <td>0</td>\n",
       "      <td>0</td>\n",
       "      <td>0</td>\n",
       "      <td>0</td>\n",
       "      <td>20.0</td>\n",
       "      <td>1</td>\n",
       "    </tr>\n",
       "    <tr>\n",
       "      <th>3</th>\n",
       "      <td>1.499912</td>\n",
       "      <td>-0.667672</td>\n",
       "      <td>-0.962770</td>\n",
       "      <td>0.447635</td>\n",
       "      <td>28.978333</td>\n",
       "      <td>-96.645833</td>\n",
       "      <td>21.5</td>\n",
       "      <td>21.0</td>\n",
       "      <td>2.0</td>\n",
       "      <td>10.0</td>\n",
       "      <td>...</td>\n",
       "      <td>0</td>\n",
       "      <td>0</td>\n",
       "      <td>0</td>\n",
       "      <td>0</td>\n",
       "      <td>0</td>\n",
       "      <td>0</td>\n",
       "      <td>0</td>\n",
       "      <td>0</td>\n",
       "      <td>20.0</td>\n",
       "      <td>1</td>\n",
       "    </tr>\n",
       "    <tr>\n",
       "      <th>4</th>\n",
       "      <td>2.461555</td>\n",
       "      <td>0.334459</td>\n",
       "      <td>-0.601018</td>\n",
       "      <td>-0.502296</td>\n",
       "      <td>21.418056</td>\n",
       "      <td>-157.803611</td>\n",
       "      <td>21.5</td>\n",
       "      <td>20.0</td>\n",
       "      <td>0.0</td>\n",
       "      <td>10.0</td>\n",
       "      <td>...</td>\n",
       "      <td>0</td>\n",
       "      <td>0</td>\n",
       "      <td>0</td>\n",
       "      <td>0</td>\n",
       "      <td>0</td>\n",
       "      <td>0</td>\n",
       "      <td>0</td>\n",
       "      <td>0</td>\n",
       "      <td>900.0</td>\n",
       "      <td>1</td>\n",
       "    </tr>\n",
       "  </tbody>\n",
       "</table>\n",
       "<p>5 rows × 40 columns</p>\n",
       "</div>"
      ],
      "text/plain": [
       "      pca_1     pca_2     pca_3     pca_4        lat         lng  \\\n",
       "0  2.586827 -0.691122  0.383378 -0.392817  29.883056  -97.941111   \n",
       "1  2.705866 -0.500283  0.805411 -0.762964  29.384210  -98.581082   \n",
       "2  0.828969  3.089038 -1.496677 -2.100431  53.200000   -2.916667   \n",
       "3  1.499912 -0.667672 -0.962770  0.447635  28.978333  -96.645833   \n",
       "4  2.461555  0.334459 -0.601018 -0.502296  21.418056 -157.803611   \n",
       "\n",
       "   ast_absolute_magnitude_h  hour  day_of_the_week  month  ...  shape_other  \\\n",
       "0                      21.5  20.0              0.0   10.0  ...            0   \n",
       "1                      21.5  21.0              0.0   10.0  ...            0   \n",
       "2                      21.5  17.0              0.0   10.0  ...            0   \n",
       "3                      21.5  21.0              2.0   10.0  ...            0   \n",
       "4                      21.5  20.0              0.0   10.0  ...            0   \n",
       "\n",
       "   shape_oval  shape_rectangle  shape_round  shape_sphere  shape_teardrop  \\\n",
       "0           0                0            0             0               0   \n",
       "1           0                0            0             0               0   \n",
       "2           0                0            0             0               0   \n",
       "3           0                0            0             0               0   \n",
       "4           0                0            0             0               0   \n",
       "\n",
       "   shape_triangle  shape_unknown  duration_seconds  ast_dangerous  \n",
       "0               0              0            2700.0              1  \n",
       "1               0              0            7200.0              1  \n",
       "2               0              0              20.0              1  \n",
       "3               0              0              20.0              1  \n",
       "4               0              0             900.0              1  \n",
       "\n",
       "[5 rows x 40 columns]"
      ]
     },
     "execution_count": 225,
     "metadata": {},
     "output_type": "execute_result"
    }
   ],
   "source": [
    "data.head()"
   ]
  },
  {
   "cell_type": "markdown",
   "metadata": {},
   "source": [
    "### Regression Task\n",
    " \n",
    "Predict the **duration_in_seconds** of the UFO sighting given the predictors in the dataset.\n",
    "- Use Lasso and Ridge regression and find optimal **alpha** using GridSearch method."
   ]
  },
  {
   "cell_type": "markdown",
   "metadata": {},
   "source": [
    "### PCA only"
   ]
  },
  {
   "cell_type": "code",
   "execution_count": 341,
   "metadata": {},
   "outputs": [],
   "source": [
    "#features = data[['pca_1','pca_2','pca_3','pca_4']].values\n",
    "#targets = data['duration_seconds'].values"
   ]
  },
  {
   "cell_type": "markdown",
   "metadata": {},
   "source": [
    "### All independent variables"
   ]
  },
  {
   "cell_type": "code",
   "execution_count": 157,
   "metadata": {},
   "outputs": [],
   "source": [
    "#features = data.drop('duration_seconds', axis = 1).values\n",
    "#targets = data['duration_seconds'].values"
   ]
  },
  {
   "cell_type": "markdown",
   "metadata": {},
   "source": [
    "### without PCA"
   ]
  },
  {
   "cell_type": "code",
   "execution_count": 356,
   "metadata": {},
   "outputs": [],
   "source": [
    "features = data.drop(['pca_1','pca_2','pca_3','pca_4','duration_seconds'], axis = 1).values\n",
    "targets = data['duration_seconds'].values"
   ]
  },
  {
   "cell_type": "markdown",
   "metadata": {},
   "source": [
    "### splitting into two sets"
   ]
  },
  {
   "cell_type": "code",
   "execution_count": 371,
   "metadata": {},
   "outputs": [],
   "source": [
    "x1 = features[:64000]\n",
    "y1 = targets[:64000]\n",
    "\n",
    "x2 = features[64000:]\n",
    "y2 = targets[64000:]"
   ]
  },
  {
   "cell_type": "code",
   "execution_count": 372,
   "metadata": {},
   "outputs": [
    {
     "data": {
      "text/plain": [
       "(64000, 35)"
      ]
     },
     "execution_count": 372,
     "metadata": {},
     "output_type": "execute_result"
    }
   ],
   "source": [
    "x1.shape"
   ]
  },
  {
   "cell_type": "code",
   "execution_count": 373,
   "metadata": {},
   "outputs": [
    {
     "data": {
      "text/plain": [
       "(64000,)"
      ]
     },
     "execution_count": 373,
     "metadata": {},
     "output_type": "execute_result"
    }
   ],
   "source": [
    "y1.shape"
   ]
  },
  {
   "cell_type": "markdown",
   "metadata": {},
   "source": [
    "# Rdige regression using RidgeCV"
   ]
  },
  {
   "cell_type": "code",
   "execution_count": 376,
   "metadata": {},
   "outputs": [],
   "source": [
    "ridge = RidgeCV(alphas=[1e-3, 1e-2, 1e-1, 1,10,20,30,40,45,50,60,70,80,90,100,573,51234121,100000000]).fit(x1, y1)"
   ]
  },
  {
   "cell_type": "code",
   "execution_count": 377,
   "metadata": {},
   "outputs": [
    {
     "data": {
      "text/plain": [
       "1000.0"
      ]
     },
     "execution_count": 377,
     "metadata": {},
     "output_type": "execute_result"
    }
   ],
   "source": [
    "ridge.alpha_"
   ]
  },
  {
   "cell_type": "code",
   "execution_count": 362,
   "metadata": {},
   "outputs": [
    {
     "data": {
      "text/plain": [
       "0.00010375355129210728"
      ]
     },
     "execution_count": 362,
     "metadata": {},
     "output_type": "execute_result"
    }
   ],
   "source": [
    "ridge.score(x1, y1)"
   ]
  },
  {
   "cell_type": "code",
   "execution_count": 369,
   "metadata": {},
   "outputs": [
    {
     "data": {
      "text/plain": [
       "array([ 5.14690989e+01,  9.69739475e+01,  9.12612738e+00,  1.37420704e+01,\n",
       "        1.87514009e+00,  4.30246407e+00,  1.32495942e+00,  2.04759937e-02,\n",
       "        1.94507837e+00, -3.80993285e+00, -1.78085368e-01, -1.07233718e-01,\n",
       "       -1.94202684e-01, -3.04556430e-01,  4.65971536e-01,  3.89474865e-04,\n",
       "       -2.76296678e-02, -8.42007214e-02, -6.57999339e-04, -1.23569827e-01,\n",
       "       -5.42974274e-01, -7.70551404e-02, -4.91021890e-01, -9.10097083e-02,\n",
       "       -2.52451494e-01, -1.21137231e+00,  1.53435256e+00, -2.24968842e-01,\n",
       "       -1.42945072e-01, -2.54355728e-04,  1.59465686e+00, -8.45336294e-02,\n",
       "       -7.40298554e-01, -1.22480763e-01,  1.41107195e+00])"
      ]
     },
     "execution_count": 369,
     "metadata": {},
     "output_type": "execute_result"
    }
   ],
   "source": [
    "ridge.coef_"
   ]
  },
  {
   "cell_type": "markdown",
   "metadata": {},
   "source": [
    "# Lasso regression using LassoCV"
   ]
  },
  {
   "cell_type": "markdown",
   "metadata": {},
   "source": [
    "## higher the alpha value, more restriction on the coefficients; "
   ]
  },
  {
   "cell_type": "markdown",
   "metadata": {},
   "source": [
    "## low alpha > more generalization, coefficients are barely restricted and in this case linear and ridge regression resembles"
   ]
  },
  {
   "cell_type": "code",
   "execution_count": 428,
   "metadata": {},
   "outputs": [],
   "source": [
    "las = Lasso()"
   ]
  },
  {
   "cell_type": "code",
   "execution_count": null,
   "metadata": {},
   "outputs": [],
   "source": []
  },
  {
   "cell_type": "code",
   "execution_count": null,
   "metadata": {},
   "outputs": [],
   "source": []
  },
  {
   "cell_type": "code",
   "execution_count": null,
   "metadata": {},
   "outputs": [],
   "source": []
  },
  {
   "cell_type": "code",
   "execution_count": null,
   "metadata": {},
   "outputs": [],
   "source": []
  },
  {
   "cell_type": "code",
   "execution_count": 363,
   "metadata": {},
   "outputs": [],
   "source": [
    "lasso = LassoCV(cv = 5,random_state=0).fit(x1,y1)"
   ]
  },
  {
   "cell_type": "code",
   "execution_count": 364,
   "metadata": {},
   "outputs": [],
   "source": [
    "lasso_res = lasso.fit(x1,y1)"
   ]
  },
  {
   "cell_type": "code",
   "execution_count": 365,
   "metadata": {},
   "outputs": [
    {
     "data": {
      "text/plain": [
       "0.00018958273272706716"
      ]
     },
     "execution_count": 365,
     "metadata": {},
     "output_type": "execute_result"
    }
   ],
   "source": [
    "lasso.score(x1,y1)"
   ]
  },
  {
   "cell_type": "code",
   "execution_count": 366,
   "metadata": {},
   "outputs": [
    {
     "data": {
      "text/plain": [
       "10539.14915739557"
      ]
     },
     "execution_count": 366,
     "metadata": {},
     "output_type": "execute_result"
    }
   ],
   "source": [
    "lasso.alpha_"
   ]
  },
  {
   "cell_type": "code",
   "execution_count": 367,
   "metadata": {},
   "outputs": [
    {
     "data": {
      "text/plain": [
       "array([446.54661127, 181.49042517,   0.        ,  23.89584787,\n",
       "         0.        ,   0.        ,   0.        ,  -0.        ,\n",
       "         0.        ,  -0.        ,  -0.        ,  -0.        ,\n",
       "        -0.        ,  -0.        ,   0.        ,   0.        ,\n",
       "        -0.        ,  -0.        ,  -0.        ,  -0.        ,\n",
       "        -0.        ,  -0.        ,  -0.        ,  -0.        ,\n",
       "        -0.        ,  -0.        ,   0.        ,  -0.        ,\n",
       "        -0.        ,  -0.        ,   0.        ,  -0.        ,\n",
       "        -0.        ,  -0.        ,   0.        ])"
      ]
     },
     "execution_count": 367,
     "metadata": {},
     "output_type": "execute_result"
    }
   ],
   "source": [
    "lasso.coef_"
   ]
  },
  {
   "cell_type": "code",
   "execution_count": 368,
   "metadata": {},
   "outputs": [
    {
     "data": {
      "text/html": [
       "<div>\n",
       "<style scoped>\n",
       "    .dataframe tbody tr th:only-of-type {\n",
       "        vertical-align: middle;\n",
       "    }\n",
       "\n",
       "    .dataframe tbody tr th {\n",
       "        vertical-align: top;\n",
       "    }\n",
       "\n",
       "    .dataframe thead th {\n",
       "        text-align: right;\n",
       "    }\n",
       "</style>\n",
       "<table border=\"1\" class=\"dataframe\">\n",
       "  <thead>\n",
       "    <tr style=\"text-align: right;\">\n",
       "      <th></th>\n",
       "      <th>pca_1</th>\n",
       "      <th>pca_2</th>\n",
       "      <th>pca_3</th>\n",
       "      <th>pca_4</th>\n",
       "      <th>lat</th>\n",
       "      <th>lng</th>\n",
       "      <th>ast_absolute_magnitude_h</th>\n",
       "      <th>hour</th>\n",
       "      <th>day_of_the_week</th>\n",
       "      <th>month</th>\n",
       "      <th>...</th>\n",
       "      <th>shape_other</th>\n",
       "      <th>shape_oval</th>\n",
       "      <th>shape_rectangle</th>\n",
       "      <th>shape_round</th>\n",
       "      <th>shape_sphere</th>\n",
       "      <th>shape_teardrop</th>\n",
       "      <th>shape_triangle</th>\n",
       "      <th>shape_unknown</th>\n",
       "      <th>duration_seconds</th>\n",
       "      <th>ast_dangerous</th>\n",
       "    </tr>\n",
       "  </thead>\n",
       "  <tbody>\n",
       "    <tr>\n",
       "      <th>0</th>\n",
       "      <td>2.586827</td>\n",
       "      <td>-0.691122</td>\n",
       "      <td>0.383378</td>\n",
       "      <td>-0.392817</td>\n",
       "      <td>29.883056</td>\n",
       "      <td>-97.941111</td>\n",
       "      <td>21.5</td>\n",
       "      <td>20.0</td>\n",
       "      <td>0.0</td>\n",
       "      <td>10.0</td>\n",
       "      <td>...</td>\n",
       "      <td>0</td>\n",
       "      <td>0</td>\n",
       "      <td>0</td>\n",
       "      <td>0</td>\n",
       "      <td>0</td>\n",
       "      <td>0</td>\n",
       "      <td>0</td>\n",
       "      <td>0</td>\n",
       "      <td>2700.0</td>\n",
       "      <td>1</td>\n",
       "    </tr>\n",
       "    <tr>\n",
       "      <th>1</th>\n",
       "      <td>2.705866</td>\n",
       "      <td>-0.500283</td>\n",
       "      <td>0.805411</td>\n",
       "      <td>-0.762964</td>\n",
       "      <td>29.384210</td>\n",
       "      <td>-98.581082</td>\n",
       "      <td>21.5</td>\n",
       "      <td>21.0</td>\n",
       "      <td>0.0</td>\n",
       "      <td>10.0</td>\n",
       "      <td>...</td>\n",
       "      <td>0</td>\n",
       "      <td>0</td>\n",
       "      <td>0</td>\n",
       "      <td>0</td>\n",
       "      <td>0</td>\n",
       "      <td>0</td>\n",
       "      <td>0</td>\n",
       "      <td>0</td>\n",
       "      <td>7200.0</td>\n",
       "      <td>1</td>\n",
       "    </tr>\n",
       "    <tr>\n",
       "      <th>2</th>\n",
       "      <td>0.828969</td>\n",
       "      <td>3.089038</td>\n",
       "      <td>-1.496677</td>\n",
       "      <td>-2.100431</td>\n",
       "      <td>53.200000</td>\n",
       "      <td>-2.916667</td>\n",
       "      <td>21.5</td>\n",
       "      <td>17.0</td>\n",
       "      <td>0.0</td>\n",
       "      <td>10.0</td>\n",
       "      <td>...</td>\n",
       "      <td>0</td>\n",
       "      <td>0</td>\n",
       "      <td>0</td>\n",
       "      <td>0</td>\n",
       "      <td>0</td>\n",
       "      <td>0</td>\n",
       "      <td>0</td>\n",
       "      <td>0</td>\n",
       "      <td>20.0</td>\n",
       "      <td>1</td>\n",
       "    </tr>\n",
       "    <tr>\n",
       "      <th>3</th>\n",
       "      <td>1.499912</td>\n",
       "      <td>-0.667672</td>\n",
       "      <td>-0.962770</td>\n",
       "      <td>0.447635</td>\n",
       "      <td>28.978333</td>\n",
       "      <td>-96.645833</td>\n",
       "      <td>21.5</td>\n",
       "      <td>21.0</td>\n",
       "      <td>2.0</td>\n",
       "      <td>10.0</td>\n",
       "      <td>...</td>\n",
       "      <td>0</td>\n",
       "      <td>0</td>\n",
       "      <td>0</td>\n",
       "      <td>0</td>\n",
       "      <td>0</td>\n",
       "      <td>0</td>\n",
       "      <td>0</td>\n",
       "      <td>0</td>\n",
       "      <td>20.0</td>\n",
       "      <td>1</td>\n",
       "    </tr>\n",
       "    <tr>\n",
       "      <th>4</th>\n",
       "      <td>2.461555</td>\n",
       "      <td>0.334459</td>\n",
       "      <td>-0.601018</td>\n",
       "      <td>-0.502296</td>\n",
       "      <td>21.418056</td>\n",
       "      <td>-157.803611</td>\n",
       "      <td>21.5</td>\n",
       "      <td>20.0</td>\n",
       "      <td>0.0</td>\n",
       "      <td>10.0</td>\n",
       "      <td>...</td>\n",
       "      <td>0</td>\n",
       "      <td>0</td>\n",
       "      <td>0</td>\n",
       "      <td>0</td>\n",
       "      <td>0</td>\n",
       "      <td>0</td>\n",
       "      <td>0</td>\n",
       "      <td>0</td>\n",
       "      <td>900.0</td>\n",
       "      <td>1</td>\n",
       "    </tr>\n",
       "  </tbody>\n",
       "</table>\n",
       "<p>5 rows × 40 columns</p>\n",
       "</div>"
      ],
      "text/plain": [
       "      pca_1     pca_2     pca_3     pca_4        lat         lng  \\\n",
       "0  2.586827 -0.691122  0.383378 -0.392817  29.883056  -97.941111   \n",
       "1  2.705866 -0.500283  0.805411 -0.762964  29.384210  -98.581082   \n",
       "2  0.828969  3.089038 -1.496677 -2.100431  53.200000   -2.916667   \n",
       "3  1.499912 -0.667672 -0.962770  0.447635  28.978333  -96.645833   \n",
       "4  2.461555  0.334459 -0.601018 -0.502296  21.418056 -157.803611   \n",
       "\n",
       "   ast_absolute_magnitude_h  hour  day_of_the_week  month  ...  shape_other  \\\n",
       "0                      21.5  20.0              0.0   10.0  ...            0   \n",
       "1                      21.5  21.0              0.0   10.0  ...            0   \n",
       "2                      21.5  17.0              0.0   10.0  ...            0   \n",
       "3                      21.5  21.0              2.0   10.0  ...            0   \n",
       "4                      21.5  20.0              0.0   10.0  ...            0   \n",
       "\n",
       "   shape_oval  shape_rectangle  shape_round  shape_sphere  shape_teardrop  \\\n",
       "0           0                0            0             0               0   \n",
       "1           0                0            0             0               0   \n",
       "2           0                0            0             0               0   \n",
       "3           0                0            0             0               0   \n",
       "4           0                0            0             0               0   \n",
       "\n",
       "   shape_triangle  shape_unknown  duration_seconds  ast_dangerous  \n",
       "0               0              0            2700.0              1  \n",
       "1               0              0            7200.0              1  \n",
       "2               0              0              20.0              1  \n",
       "3               0              0              20.0              1  \n",
       "4               0              0             900.0              1  \n",
       "\n",
       "[5 rows x 40 columns]"
      ]
     },
     "execution_count": 368,
     "metadata": {},
     "output_type": "execute_result"
    }
   ],
   "source": [
    "data.head()"
   ]
  },
  {
   "cell_type": "markdown",
   "metadata": {},
   "source": [
    "# Lasso"
   ]
  },
  {
   "cell_type": "code",
   "execution_count": 418,
   "metadata": {},
   "outputs": [],
   "source": [
    "alphas = np.logspace(-5, 50, 500)\n",
    "parameter_candidates = [{'alpha':alphas}]\n",
    "n_folds = 10"
   ]
  },
  {
   "cell_type": "code",
   "execution_count": 419,
   "metadata": {},
   "outputs": [
    {
     "data": {
      "text/plain": [
       "(500,)"
      ]
     },
     "execution_count": 419,
     "metadata": {},
     "output_type": "execute_result"
    }
   ],
   "source": [
    "alphas.shape"
   ]
  },
  {
   "cell_type": "code",
   "execution_count": 420,
   "metadata": {},
   "outputs": [],
   "source": [
    "lasso = Lasso(random_state=0)"
   ]
  },
  {
   "cell_type": "code",
   "execution_count": 421,
   "metadata": {},
   "outputs": [],
   "source": [
    "clf = GridSearchCV(estimator=lasso, param_grid=parameter_candidates, cv = n_folds)"
   ]
  },
  {
   "cell_type": "code",
   "execution_count": 422,
   "metadata": {},
   "outputs": [
    {
     "data": {
      "text/plain": [
       "GridSearchCV(cv=10, estimator=Lasso(random_state=0),\n",
       "             param_grid=[{'alpha': array([1.00000000e-05, 1.28890361e-05, 1.66127252e-05, 2.14122015e-05,\n",
       "       2.75982639e-05, 3.55715021e-05, 4.58482375e-05, 5.90939590e-05,\n",
       "       7.61664172e-05, 9.81711702e-05, 1.26533176e-04, 1.63089068e-04,\n",
       "       2.10206088e-04, 2.70935387e-04, 3.49209598e-04, 4.50097513e-04,\n",
       "       5.80132310e-04, 7.47734631e-04, 9...\n",
       "       2.91695588e+47, 3.75967497e+47, 4.84585864e+47, 6.24584471e+47,\n",
       "       8.05029181e+47, 1.03760502e+48, 1.33737286e+48, 1.72374471e+48,\n",
       "       2.22174078e+48, 2.86360972e+48, 3.69091691e+48, 4.75723614e+48,\n",
       "       6.13161884e+48, 7.90306568e+48, 1.01862899e+49, 1.31291459e+49,\n",
       "       1.69222035e+49, 2.18110892e+49, 2.81123917e+49, 3.62341632e+49,\n",
       "       4.67023439e+49, 6.01948197e+49, 7.75853206e+49, 1.00000000e+50])}])"
      ]
     },
     "execution_count": 422,
     "metadata": {},
     "output_type": "execute_result"
    }
   ],
   "source": [
    "clf.fit(x1, y1)"
   ]
  },
  {
   "cell_type": "code",
   "execution_count": 423,
   "metadata": {},
   "outputs": [
    {
     "data": {
      "text/plain": [
       "-0.0062267990595622266"
      ]
     },
     "execution_count": 423,
     "metadata": {},
     "output_type": "execute_result"
    }
   ],
   "source": [
    "clf.best_score_"
   ]
  },
  {
   "cell_type": "code",
   "execution_count": 426,
   "metadata": {},
   "outputs": [
    {
     "data": {
      "text/plain": [
       "Lasso(alpha=229467.6367231941, random_state=0)"
      ]
     },
     "execution_count": 426,
     "metadata": {},
     "output_type": "execute_result"
    }
   ],
   "source": [
    "clf.best_estimator_"
   ]
  },
  {
   "cell_type": "code",
   "execution_count": 425,
   "metadata": {},
   "outputs": [
    {
     "data": {
      "text/plain": [
       "{'alpha': 229467.6367231941}"
      ]
     },
     "execution_count": 425,
     "metadata": {},
     "output_type": "execute_result"
    }
   ],
   "source": [
    "clf.best_params_"
   ]
  },
  {
   "cell_type": "code",
   "execution_count": 332,
   "metadata": {},
   "outputs": [
    {
     "data": {
      "text/plain": [
       "masked_array(data=[1e-05, 2.592943797404667e-05, 6.723357536499335e-05,\n",
       "                   0.00017433288221999874, 0.00045203536563602405,\n",
       "                   0.0011721022975334804, 0.0030391953823131978,\n",
       "                   0.007880462815669913, 0.020433597178569417,\n",
       "                   0.05298316906283707, 0.1373823795883264,\n",
       "                   0.35622478902624444, 0.9236708571873865,\n",
       "                   2.395026619987486, 6.2101694189156165,\n",
       "                   16.102620275609393, 41.753189365604, 108.2636733874054,\n",
       "                   280.72162039411756, 727.8953843983146,\n",
       "                   1887.3918221350996, 4893.900918477499,\n",
       "                   12689.610031679234, 32903.44562312671,\n",
       "                   85316.78524172814, 221221.629107045, 573615.2510448681,\n",
       "                   1487352.1072935117, 3856620.4211634723, 10000000.0],\n",
       "             mask=[False, False, False, False, False, False, False, False,\n",
       "                   False, False, False, False, False, False, False, False,\n",
       "                   False, False, False, False, False, False, False, False,\n",
       "                   False, False, False, False, False, False],\n",
       "       fill_value='?',\n",
       "            dtype=object)"
      ]
     },
     "execution_count": 332,
     "metadata": {},
     "output_type": "execute_result"
    }
   ],
   "source": [
    "clf.cv_results_['param_alpha']"
   ]
  },
  {
   "cell_type": "code",
   "execution_count": null,
   "metadata": {},
   "outputs": [],
   "source": []
  }
 ],
 "metadata": {
  "anaconda-cloud": {},
  "kernelspec": {
   "display_name": "Python 3",
   "language": "python",
   "name": "python3"
  },
  "language_info": {
   "codemirror_mode": {
    "name": "ipython",
    "version": 3
   },
   "file_extension": ".py",
   "mimetype": "text/x-python",
   "name": "python",
   "nbconvert_exporter": "python",
   "pygments_lexer": "ipython3",
   "version": "3.8.2"
  }
 },
 "nbformat": 4,
 "nbformat_minor": 4
}
