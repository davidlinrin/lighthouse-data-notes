{
 "cells": [
  {
   "cell_type": "markdown",
   "metadata": {},
   "source": [
    "# UFO sightings\n",
    "\n",
    "## Data\n",
    "\n",
    "The original data are reports of 80+k UFO sightings from more than 50 years, originally obtained from [here](https://github.com/planetsig/ufo-reports). We are already familiar with this data because we used it to practice different data preparation and dimensionality reduction techniques.\n",
    "\n",
    "### Final data\n",
    "\n",
    "In this exercise, we should use dataset from the earlier dimensionality reduction exercise in Week 4 Day 1. If you didn't export the table back then, feel free to take our pre-prepared dataset from [here](https://drive.google.com/file/d/1Q0gj7_DK2Sz-se8hf5-luu2GESDCsndb/view?usp=sharing)."
   ]
  },
  {
   "cell_type": "code",
   "execution_count": 603,
   "metadata": {},
   "outputs": [],
   "source": [
    "import numpy as np \n",
    "import pandas as pd\n",
    "from sklearn.model_selection import GridSearchCV\n",
    "import seaborn as sns\n",
    "\n",
    "import statsmodels.api as sm\n",
    "import matplotlib.pyplot as plt\n",
    "\n",
    "from sklearn.linear_model import LinearRegression\n",
    "from sklearn.linear_model import LassoCV\n",
    "from sklearn.linear_model import RidgeCV\n",
    "from sklearn.linear_model import Ridge\n",
    "from sklearn.linear_model import Lasso"
   ]
  },
  {
   "cell_type": "code",
   "execution_count": 604,
   "metadata": {},
   "outputs": [
    {
     "name": "stderr",
     "output_type": "stream",
     "text": [
      "/home/david/.local/lib/python3.8/site-packages/IPython/core/interactiveshell.py:3071: DtypeWarning: Columns (7) have mixed types.Specify dtype option on import or set low_memory=False.\n",
      "  has_raised = await self.run_ast_nodes(code_ast.body, cell_name,\n"
     ]
    }
   ],
   "source": [
    "data = pd.read_csv('df_prepared.csv', header = 0)\n",
    "data['ast_dangerous'] = np.where((data['ast_is_dangerous']==True) | (data['ast_is_dangerous']=='True'),int(1),data['ast_is_dangerous'])\n",
    "data['ast_dangerous'] = np.where((data['ast_is_dangerous']==False) | (data['ast_is_dangerous']=='False'),int(0),data['ast_dangerous'])\n",
    "data['ast_dangerous'] = np.where((data['ast_is_dangerous']=='0.0'),int(0),data['ast_dangerous'])\n",
    "data['ast_is_dangerous'] = (data['ast_dangerous']).astype(int)\n",
    "data.drop('ast_dangerous',axis = 1, inplace = True)"
   ]
  },
  {
   "cell_type": "code",
   "execution_count": 698,
   "metadata": {},
   "outputs": [],
   "source": [
    "data = pd.read_csv('UFO_for_PCA.csv', header = 0)"
   ]
  },
  {
   "cell_type": "code",
   "execution_count": 699,
   "metadata": {},
   "outputs": [],
   "source": [
    "data['precip'] = np.where(data['precipType']=='None',0,1)"
   ]
  },
  {
   "cell_type": "code",
   "execution_count": 700,
   "metadata": {},
   "outputs": [],
   "source": [
    "shape_1 = ['light']\n",
    "shape_2 = ['cylinder','cigar','rectangle', 'chevron','formation', 'delta', 'changing', 'egg', 'diamond','flash', 'teardrop', 'cone', 'cross', 'pyramid', 'round','crescent', 'flare', 'hexagon', 'changed']\n",
    "shape_3 = ['circle','fireball','triangle']\n",
    "shape_4 = ['sphere', 'disk','unknown', 'oval', 'other']"
   ]
  },
  {
   "cell_type": "code",
   "execution_count": 701,
   "metadata": {},
   "outputs": [],
   "source": [
    "data['shapes'] = np.where(np.isin(data['shape'],shape_1),0,data['shape'])\n",
    "data['shapes'] = np.where(np.isin(data['shape'],shape_2),1,data['shapes'])\n",
    "data['shapes'] = np.where(np.isin(data['shape'],shape_3),2,data['shapes'])\n",
    "data['shapes'] = np.where(np.isin(data['shape'],shape_4),3,data['shapes'])"
   ]
  },
  {
   "cell_type": "code",
   "execution_count": 702,
   "metadata": {},
   "outputs": [],
   "source": [
    "data['shape'] = data['shapes'].astype(int)"
   ]
  },
  {
   "cell_type": "code",
   "execution_count": 703,
   "metadata": {},
   "outputs": [],
   "source": [
    "data.drop(['Unnamed: 0','ast_orbiting_body','shapes','precipType'], axis =1, inplace = True)"
   ]
  },
  {
   "cell_type": "code",
   "execution_count": 706,
   "metadata": {},
   "outputs": [
    {
     "data": {
      "text/html": [
       "<div>\n",
       "<style scoped>\n",
       "    .dataframe tbody tr th:only-of-type {\n",
       "        vertical-align: middle;\n",
       "    }\n",
       "\n",
       "    .dataframe tbody tr th {\n",
       "        vertical-align: top;\n",
       "    }\n",
       "\n",
       "    .dataframe thead th {\n",
       "        text-align: right;\n",
       "    }\n",
       "</style>\n",
       "<table border=\"1\" class=\"dataframe\">\n",
       "  <thead>\n",
       "    <tr style=\"text-align: right;\">\n",
       "      <th></th>\n",
       "      <th>shape</th>\n",
       "      <th>duration_seconds</th>\n",
       "      <th>lat</th>\n",
       "      <th>lng</th>\n",
       "      <th>cloudCover</th>\n",
       "      <th>humidity</th>\n",
       "      <th>precipIntensity</th>\n",
       "      <th>precipProbability</th>\n",
       "      <th>pressure</th>\n",
       "      <th>temperature</th>\n",
       "      <th>visibility</th>\n",
       "      <th>windBearing</th>\n",
       "      <th>windSpeed</th>\n",
       "      <th>ast_estimated_diameter</th>\n",
       "      <th>ast_miss_distance</th>\n",
       "      <th>ast_relative_velocity</th>\n",
       "      <th>month</th>\n",
       "      <th>precip</th>\n",
       "    </tr>\n",
       "  </thead>\n",
       "  <tbody>\n",
       "    <tr>\n",
       "      <th>0</th>\n",
       "      <td>1</td>\n",
       "      <td>2700.0</td>\n",
       "      <td>29.883056</td>\n",
       "      <td>-97.941111</td>\n",
       "      <td>0.00</td>\n",
       "      <td>0.730000</td>\n",
       "      <td>0.0</td>\n",
       "      <td>0.0</td>\n",
       "      <td>1009.050000</td>\n",
       "      <td>25.860000</td>\n",
       "      <td>16.09</td>\n",
       "      <td>154.0</td>\n",
       "      <td>4.89</td>\n",
       "      <td>0.297879</td>\n",
       "      <td>42621696.0</td>\n",
       "      <td>13778.372043</td>\n",
       "      <td>10</td>\n",
       "      <td>0</td>\n",
       "    </tr>\n",
       "    <tr>\n",
       "      <th>1</th>\n",
       "      <td>0</td>\n",
       "      <td>7200.0</td>\n",
       "      <td>29.384210</td>\n",
       "      <td>-98.581082</td>\n",
       "      <td>0.00</td>\n",
       "      <td>0.770000</td>\n",
       "      <td>0.0</td>\n",
       "      <td>0.0</td>\n",
       "      <td>1008.810000</td>\n",
       "      <td>26.120000</td>\n",
       "      <td>16.09</td>\n",
       "      <td>135.0</td>\n",
       "      <td>6.60</td>\n",
       "      <td>0.297879</td>\n",
       "      <td>42621696.0</td>\n",
       "      <td>13778.372043</td>\n",
       "      <td>10</td>\n",
       "      <td>0</td>\n",
       "    </tr>\n",
       "    <tr>\n",
       "      <th>2</th>\n",
       "      <td>2</td>\n",
       "      <td>20.0</td>\n",
       "      <td>53.200000</td>\n",
       "      <td>-2.916667</td>\n",
       "      <td>0.75</td>\n",
       "      <td>0.840000</td>\n",
       "      <td>0.0</td>\n",
       "      <td>0.0</td>\n",
       "      <td>1019.000000</td>\n",
       "      <td>15.560000</td>\n",
       "      <td>2.90</td>\n",
       "      <td>190.0</td>\n",
       "      <td>2.24</td>\n",
       "      <td>0.297879</td>\n",
       "      <td>42621696.0</td>\n",
       "      <td>13778.372043</td>\n",
       "      <td>10</td>\n",
       "      <td>1</td>\n",
       "    </tr>\n",
       "    <tr>\n",
       "      <th>3</th>\n",
       "      <td>2</td>\n",
       "      <td>20.0</td>\n",
       "      <td>28.978333</td>\n",
       "      <td>-96.645833</td>\n",
       "      <td>0.12</td>\n",
       "      <td>0.710000</td>\n",
       "      <td>0.0</td>\n",
       "      <td>0.0</td>\n",
       "      <td>1020.640000</td>\n",
       "      <td>22.680000</td>\n",
       "      <td>16.09</td>\n",
       "      <td>136.0</td>\n",
       "      <td>2.75</td>\n",
       "      <td>0.297879</td>\n",
       "      <td>42621696.0</td>\n",
       "      <td>13778.372043</td>\n",
       "      <td>10</td>\n",
       "      <td>1</td>\n",
       "    </tr>\n",
       "    <tr>\n",
       "      <th>4</th>\n",
       "      <td>0</td>\n",
       "      <td>900.0</td>\n",
       "      <td>21.418056</td>\n",
       "      <td>-157.803611</td>\n",
       "      <td>0.63</td>\n",
       "      <td>0.770000</td>\n",
       "      <td>0.0</td>\n",
       "      <td>0.0</td>\n",
       "      <td>1015.330000</td>\n",
       "      <td>25.740000</td>\n",
       "      <td>16.09</td>\n",
       "      <td>80.0</td>\n",
       "      <td>3.60</td>\n",
       "      <td>0.297879</td>\n",
       "      <td>42621696.0</td>\n",
       "      <td>13778.372043</td>\n",
       "      <td>10</td>\n",
       "      <td>1</td>\n",
       "    </tr>\n",
       "    <tr>\n",
       "      <th>...</th>\n",
       "      <td>...</td>\n",
       "      <td>...</td>\n",
       "      <td>...</td>\n",
       "      <td>...</td>\n",
       "      <td>...</td>\n",
       "      <td>...</td>\n",
       "      <td>...</td>\n",
       "      <td>...</td>\n",
       "      <td>...</td>\n",
       "      <td>...</td>\n",
       "      <td>...</td>\n",
       "      <td>...</td>\n",
       "      <td>...</td>\n",
       "      <td>...</td>\n",
       "      <td>...</td>\n",
       "      <td>...</td>\n",
       "      <td>...</td>\n",
       "      <td>...</td>\n",
       "    </tr>\n",
       "    <tr>\n",
       "      <th>78781</th>\n",
       "      <td>0</td>\n",
       "      <td>300.0</td>\n",
       "      <td>40.693611</td>\n",
       "      <td>-75.190556</td>\n",
       "      <td>0.00</td>\n",
       "      <td>0.660547</td>\n",
       "      <td>0.0</td>\n",
       "      <td>0.0</td>\n",
       "      <td>1016.819541</td>\n",
       "      <td>13.496951</td>\n",
       "      <td>16.09</td>\n",
       "      <td>190.0</td>\n",
       "      <td>2.24</td>\n",
       "      <td>0.056760</td>\n",
       "      <td>3610758.0</td>\n",
       "      <td>32868.357670</td>\n",
       "      <td>9</td>\n",
       "      <td>0</td>\n",
       "    </tr>\n",
       "    <tr>\n",
       "      <th>78782</th>\n",
       "      <td>2</td>\n",
       "      <td>300.0</td>\n",
       "      <td>47.483056</td>\n",
       "      <td>-122.215833</td>\n",
       "      <td>0.00</td>\n",
       "      <td>0.660547</td>\n",
       "      <td>0.0</td>\n",
       "      <td>0.0</td>\n",
       "      <td>1016.819541</td>\n",
       "      <td>13.496951</td>\n",
       "      <td>16.09</td>\n",
       "      <td>190.0</td>\n",
       "      <td>2.24</td>\n",
       "      <td>0.056760</td>\n",
       "      <td>3610758.0</td>\n",
       "      <td>32868.357670</td>\n",
       "      <td>9</td>\n",
       "      <td>0</td>\n",
       "    </tr>\n",
       "    <tr>\n",
       "      <th>78783</th>\n",
       "      <td>2</td>\n",
       "      <td>10.0</td>\n",
       "      <td>38.232500</td>\n",
       "      <td>-122.635556</td>\n",
       "      <td>0.00</td>\n",
       "      <td>0.660547</td>\n",
       "      <td>0.0</td>\n",
       "      <td>0.0</td>\n",
       "      <td>1016.819541</td>\n",
       "      <td>13.496951</td>\n",
       "      <td>16.09</td>\n",
       "      <td>190.0</td>\n",
       "      <td>2.24</td>\n",
       "      <td>0.056760</td>\n",
       "      <td>3610758.0</td>\n",
       "      <td>32868.357670</td>\n",
       "      <td>9</td>\n",
       "      <td>0</td>\n",
       "    </tr>\n",
       "    <tr>\n",
       "      <th>78784</th>\n",
       "      <td>3</td>\n",
       "      <td>180.0</td>\n",
       "      <td>40.499167</td>\n",
       "      <td>-74.399444</td>\n",
       "      <td>0.00</td>\n",
       "      <td>0.660547</td>\n",
       "      <td>0.0</td>\n",
       "      <td>0.0</td>\n",
       "      <td>1016.819541</td>\n",
       "      <td>13.496951</td>\n",
       "      <td>16.09</td>\n",
       "      <td>190.0</td>\n",
       "      <td>2.24</td>\n",
       "      <td>0.056760</td>\n",
       "      <td>3610758.0</td>\n",
       "      <td>32868.357670</td>\n",
       "      <td>9</td>\n",
       "      <td>0</td>\n",
       "    </tr>\n",
       "    <tr>\n",
       "      <th>78785</th>\n",
       "      <td>3</td>\n",
       "      <td>30.0</td>\n",
       "      <td>39.683611</td>\n",
       "      <td>-80.459167</td>\n",
       "      <td>0.00</td>\n",
       "      <td>0.660547</td>\n",
       "      <td>0.0</td>\n",
       "      <td>0.0</td>\n",
       "      <td>1016.819541</td>\n",
       "      <td>13.496951</td>\n",
       "      <td>16.09</td>\n",
       "      <td>190.0</td>\n",
       "      <td>2.24</td>\n",
       "      <td>0.056760</td>\n",
       "      <td>3610758.0</td>\n",
       "      <td>32868.357670</td>\n",
       "      <td>9</td>\n",
       "      <td>0</td>\n",
       "    </tr>\n",
       "  </tbody>\n",
       "</table>\n",
       "<p>78786 rows × 18 columns</p>\n",
       "</div>"
      ],
      "text/plain": [
       "       shape  duration_seconds        lat         lng  cloudCover  humidity  \\\n",
       "0          1            2700.0  29.883056  -97.941111        0.00  0.730000   \n",
       "1          0            7200.0  29.384210  -98.581082        0.00  0.770000   \n",
       "2          2              20.0  53.200000   -2.916667        0.75  0.840000   \n",
       "3          2              20.0  28.978333  -96.645833        0.12  0.710000   \n",
       "4          0             900.0  21.418056 -157.803611        0.63  0.770000   \n",
       "...      ...               ...        ...         ...         ...       ...   \n",
       "78781      0             300.0  40.693611  -75.190556        0.00  0.660547   \n",
       "78782      2             300.0  47.483056 -122.215833        0.00  0.660547   \n",
       "78783      2              10.0  38.232500 -122.635556        0.00  0.660547   \n",
       "78784      3             180.0  40.499167  -74.399444        0.00  0.660547   \n",
       "78785      3              30.0  39.683611  -80.459167        0.00  0.660547   \n",
       "\n",
       "       precipIntensity  precipProbability     pressure  temperature  \\\n",
       "0                  0.0                0.0  1009.050000    25.860000   \n",
       "1                  0.0                0.0  1008.810000    26.120000   \n",
       "2                  0.0                0.0  1019.000000    15.560000   \n",
       "3                  0.0                0.0  1020.640000    22.680000   \n",
       "4                  0.0                0.0  1015.330000    25.740000   \n",
       "...                ...                ...          ...          ...   \n",
       "78781              0.0                0.0  1016.819541    13.496951   \n",
       "78782              0.0                0.0  1016.819541    13.496951   \n",
       "78783              0.0                0.0  1016.819541    13.496951   \n",
       "78784              0.0                0.0  1016.819541    13.496951   \n",
       "78785              0.0                0.0  1016.819541    13.496951   \n",
       "\n",
       "       visibility  windBearing  windSpeed  ast_estimated_diameter  \\\n",
       "0           16.09        154.0       4.89                0.297879   \n",
       "1           16.09        135.0       6.60                0.297879   \n",
       "2            2.90        190.0       2.24                0.297879   \n",
       "3           16.09        136.0       2.75                0.297879   \n",
       "4           16.09         80.0       3.60                0.297879   \n",
       "...           ...          ...        ...                     ...   \n",
       "78781       16.09        190.0       2.24                0.056760   \n",
       "78782       16.09        190.0       2.24                0.056760   \n",
       "78783       16.09        190.0       2.24                0.056760   \n",
       "78784       16.09        190.0       2.24                0.056760   \n",
       "78785       16.09        190.0       2.24                0.056760   \n",
       "\n",
       "       ast_miss_distance  ast_relative_velocity  month  precip  \n",
       "0             42621696.0           13778.372043     10       0  \n",
       "1             42621696.0           13778.372043     10       0  \n",
       "2             42621696.0           13778.372043     10       1  \n",
       "3             42621696.0           13778.372043     10       1  \n",
       "4             42621696.0           13778.372043     10       1  \n",
       "...                  ...                    ...    ...     ...  \n",
       "78781          3610758.0           32868.357670      9       0  \n",
       "78782          3610758.0           32868.357670      9       0  \n",
       "78783          3610758.0           32868.357670      9       0  \n",
       "78784          3610758.0           32868.357670      9       0  \n",
       "78785          3610758.0           32868.357670      9       0  \n",
       "\n",
       "[78786 rows x 18 columns]"
      ]
     },
     "execution_count": 706,
     "metadata": {},
     "output_type": "execute_result"
    }
   ],
   "source": [
    "data"
   ]
  },
  {
   "cell_type": "markdown",
   "metadata": {},
   "source": [
    "### Regression Task\n",
    " \n",
    "Predict the **duration_in_seconds** of the UFO sighting given the predictors in the dataset.\n",
    "- Use Lasso and Ridge regression and find optimal **alpha** using GridSearch method."
   ]
  },
  {
   "cell_type": "markdown",
   "metadata": {},
   "source": [
    "### PCA only"
   ]
  },
  {
   "cell_type": "code",
   "execution_count": 611,
   "metadata": {},
   "outputs": [],
   "source": [
    "#features = data[['pca_1','pca_2','pca_3','pca_4']]\n",
    "#targets = data['duration_seconds']"
   ]
  },
  {
   "cell_type": "markdown",
   "metadata": {},
   "source": [
    "### All independent variables"
   ]
  },
  {
   "cell_type": "code",
   "execution_count": 801,
   "metadata": {},
   "outputs": [],
   "source": [
    "features = data.drop('duration_seconds', axis = 1)\n",
    "targets = data['duration_seconds']"
   ]
  },
  {
   "cell_type": "code",
   "execution_count": 804,
   "metadata": {},
   "outputs": [
    {
     "data": {
      "text/html": [
       "<div>\n",
       "<style scoped>\n",
       "    .dataframe tbody tr th:only-of-type {\n",
       "        vertical-align: middle;\n",
       "    }\n",
       "\n",
       "    .dataframe tbody tr th {\n",
       "        vertical-align: top;\n",
       "    }\n",
       "\n",
       "    .dataframe thead th {\n",
       "        text-align: right;\n",
       "    }\n",
       "</style>\n",
       "<table border=\"1\" class=\"dataframe\">\n",
       "  <thead>\n",
       "    <tr style=\"text-align: right;\">\n",
       "      <th></th>\n",
       "      <th>shape</th>\n",
       "      <th>duration_seconds</th>\n",
       "      <th>lat</th>\n",
       "      <th>lng</th>\n",
       "      <th>cloudCover</th>\n",
       "      <th>humidity</th>\n",
       "      <th>precipIntensity</th>\n",
       "      <th>precipProbability</th>\n",
       "      <th>pressure</th>\n",
       "      <th>temperature</th>\n",
       "      <th>visibility</th>\n",
       "      <th>windBearing</th>\n",
       "      <th>windSpeed</th>\n",
       "      <th>ast_estimated_diameter</th>\n",
       "      <th>ast_miss_distance</th>\n",
       "      <th>ast_relative_velocity</th>\n",
       "      <th>month</th>\n",
       "      <th>precip</th>\n",
       "    </tr>\n",
       "  </thead>\n",
       "  <tbody>\n",
       "    <tr>\n",
       "      <th>0</th>\n",
       "      <td>1</td>\n",
       "      <td>2700.0</td>\n",
       "      <td>29.883056</td>\n",
       "      <td>-97.941111</td>\n",
       "      <td>0.00</td>\n",
       "      <td>0.73</td>\n",
       "      <td>0.0</td>\n",
       "      <td>0.0</td>\n",
       "      <td>1009.05</td>\n",
       "      <td>25.86</td>\n",
       "      <td>16.09</td>\n",
       "      <td>154.0</td>\n",
       "      <td>4.89</td>\n",
       "      <td>0.297879</td>\n",
       "      <td>42621696.0</td>\n",
       "      <td>13778.372043</td>\n",
       "      <td>10</td>\n",
       "      <td>0</td>\n",
       "    </tr>\n",
       "    <tr>\n",
       "      <th>1</th>\n",
       "      <td>0</td>\n",
       "      <td>7200.0</td>\n",
       "      <td>29.384210</td>\n",
       "      <td>-98.581082</td>\n",
       "      <td>0.00</td>\n",
       "      <td>0.77</td>\n",
       "      <td>0.0</td>\n",
       "      <td>0.0</td>\n",
       "      <td>1008.81</td>\n",
       "      <td>26.12</td>\n",
       "      <td>16.09</td>\n",
       "      <td>135.0</td>\n",
       "      <td>6.60</td>\n",
       "      <td>0.297879</td>\n",
       "      <td>42621696.0</td>\n",
       "      <td>13778.372043</td>\n",
       "      <td>10</td>\n",
       "      <td>0</td>\n",
       "    </tr>\n",
       "    <tr>\n",
       "      <th>2</th>\n",
       "      <td>2</td>\n",
       "      <td>20.0</td>\n",
       "      <td>53.200000</td>\n",
       "      <td>-2.916667</td>\n",
       "      <td>0.75</td>\n",
       "      <td>0.84</td>\n",
       "      <td>0.0</td>\n",
       "      <td>0.0</td>\n",
       "      <td>1019.00</td>\n",
       "      <td>15.56</td>\n",
       "      <td>2.90</td>\n",
       "      <td>190.0</td>\n",
       "      <td>2.24</td>\n",
       "      <td>0.297879</td>\n",
       "      <td>42621696.0</td>\n",
       "      <td>13778.372043</td>\n",
       "      <td>10</td>\n",
       "      <td>1</td>\n",
       "    </tr>\n",
       "    <tr>\n",
       "      <th>3</th>\n",
       "      <td>2</td>\n",
       "      <td>20.0</td>\n",
       "      <td>28.978333</td>\n",
       "      <td>-96.645833</td>\n",
       "      <td>0.12</td>\n",
       "      <td>0.71</td>\n",
       "      <td>0.0</td>\n",
       "      <td>0.0</td>\n",
       "      <td>1020.64</td>\n",
       "      <td>22.68</td>\n",
       "      <td>16.09</td>\n",
       "      <td>136.0</td>\n",
       "      <td>2.75</td>\n",
       "      <td>0.297879</td>\n",
       "      <td>42621696.0</td>\n",
       "      <td>13778.372043</td>\n",
       "      <td>10</td>\n",
       "      <td>1</td>\n",
       "    </tr>\n",
       "    <tr>\n",
       "      <th>4</th>\n",
       "      <td>0</td>\n",
       "      <td>900.0</td>\n",
       "      <td>21.418056</td>\n",
       "      <td>-157.803611</td>\n",
       "      <td>0.63</td>\n",
       "      <td>0.77</td>\n",
       "      <td>0.0</td>\n",
       "      <td>0.0</td>\n",
       "      <td>1015.33</td>\n",
       "      <td>25.74</td>\n",
       "      <td>16.09</td>\n",
       "      <td>80.0</td>\n",
       "      <td>3.60</td>\n",
       "      <td>0.297879</td>\n",
       "      <td>42621696.0</td>\n",
       "      <td>13778.372043</td>\n",
       "      <td>10</td>\n",
       "      <td>1</td>\n",
       "    </tr>\n",
       "  </tbody>\n",
       "</table>\n",
       "</div>"
      ],
      "text/plain": [
       "   shape  duration_seconds        lat         lng  cloudCover  humidity  \\\n",
       "0      1            2700.0  29.883056  -97.941111        0.00      0.73   \n",
       "1      0            7200.0  29.384210  -98.581082        0.00      0.77   \n",
       "2      2              20.0  53.200000   -2.916667        0.75      0.84   \n",
       "3      2              20.0  28.978333  -96.645833        0.12      0.71   \n",
       "4      0             900.0  21.418056 -157.803611        0.63      0.77   \n",
       "\n",
       "   precipIntensity  precipProbability  pressure  temperature  visibility  \\\n",
       "0              0.0                0.0   1009.05        25.86       16.09   \n",
       "1              0.0                0.0   1008.81        26.12       16.09   \n",
       "2              0.0                0.0   1019.00        15.56        2.90   \n",
       "3              0.0                0.0   1020.64        22.68       16.09   \n",
       "4              0.0                0.0   1015.33        25.74       16.09   \n",
       "\n",
       "   windBearing  windSpeed  ast_estimated_diameter  ast_miss_distance  \\\n",
       "0        154.0       4.89                0.297879         42621696.0   \n",
       "1        135.0       6.60                0.297879         42621696.0   \n",
       "2        190.0       2.24                0.297879         42621696.0   \n",
       "3        136.0       2.75                0.297879         42621696.0   \n",
       "4         80.0       3.60                0.297879         42621696.0   \n",
       "\n",
       "   ast_relative_velocity  month  precip  \n",
       "0           13778.372043     10       0  \n",
       "1           13778.372043     10       0  \n",
       "2           13778.372043     10       1  \n",
       "3           13778.372043     10       1  \n",
       "4           13778.372043     10       1  "
      ]
     },
     "execution_count": 804,
     "metadata": {},
     "output_type": "execute_result"
    }
   ],
   "source": [
    "data.head()"
   ]
  },
  {
   "cell_type": "code",
   "execution_count": null,
   "metadata": {},
   "outputs": [],
   "source": [
    "x1 = features.values\n",
    "y1 = targets.values"
   ]
  },
  {
   "cell_type": "markdown",
   "metadata": {},
   "source": [
    "### without PCA"
   ]
  },
  {
   "cell_type": "code",
   "execution_count": 488,
   "metadata": {},
   "outputs": [],
   "source": [
    "#features = data.drop(['pca_1','pca_2','pca_3','pca_4','duration_seconds'], axis = 1)\n",
    "#targets = data['duration_seconds']"
   ]
  },
  {
   "cell_type": "markdown",
   "metadata": {},
   "source": [
    "### splitting into two sets"
   ]
  },
  {
   "cell_type": "code",
   "execution_count": 798,
   "metadata": {},
   "outputs": [],
   "source": [
    "x1 = features.values\n",
    "y1 = targets.values"
   ]
  },
  {
   "cell_type": "code",
   "execution_count": 800,
   "metadata": {},
   "outputs": [
    {
     "ename": "AttributeError",
     "evalue": "'numpy.ndarray' object has no attribute 'head'",
     "output_type": "error",
     "traceback": [
      "\u001b[0;31m---------------------------------------------------------------------------\u001b[0m",
      "\u001b[0;31mAttributeError\u001b[0m                            Traceback (most recent call last)",
      "\u001b[0;32m<ipython-input-800-e7e02f18494d>\u001b[0m in \u001b[0;36m<module>\u001b[0;34m\u001b[0m\n\u001b[0;32m----> 1\u001b[0;31m \u001b[0mx1\u001b[0m\u001b[0;34m.\u001b[0m\u001b[0mhead\u001b[0m\u001b[0;34m\u001b[0m\u001b[0;34m\u001b[0m\u001b[0m\n\u001b[0m",
      "\u001b[0;31mAttributeError\u001b[0m: 'numpy.ndarray' object has no attribute 'head'"
     ]
    }
   ],
   "source": [
    "x1.head"
   ]
  },
  {
   "cell_type": "code",
   "execution_count": 778,
   "metadata": {},
   "outputs": [
    {
     "data": {
      "text/plain": [
       "(78786,)"
      ]
     },
     "execution_count": 778,
     "metadata": {},
     "output_type": "execute_result"
    }
   ],
   "source": [
    "y1.shape"
   ]
  },
  {
   "cell_type": "markdown",
   "metadata": {},
   "source": [
    "# Rdige regression using RidgeCV"
   ]
  },
  {
   "cell_type": "code",
   "execution_count": 711,
   "metadata": {},
   "outputs": [],
   "source": [
    "ridge = RidgeCV(alphas=[1e-3, 1e-2, 1e-1, 1,10,20,30,40,45,50,60,70,80,90,100,573,51234121,100000000]).fit(x1, y1)"
   ]
  },
  {
   "cell_type": "code",
   "execution_count": 712,
   "metadata": {},
   "outputs": [
    {
     "data": {
      "text/plain": [
       "573.0"
      ]
     },
     "execution_count": 712,
     "metadata": {},
     "output_type": "execute_result"
    }
   ],
   "source": [
    "ridge.alpha_"
   ]
  },
  {
   "cell_type": "code",
   "execution_count": 713,
   "metadata": {},
   "outputs": [
    {
     "data": {
      "text/plain": [
       "-0.18647642124324437"
      ]
     },
     "execution_count": 713,
     "metadata": {},
     "output_type": "execute_result"
    }
   ],
   "source": [
    "ridge.score(x1, y1)"
   ]
  },
  {
   "cell_type": "code",
   "execution_count": 714,
   "metadata": {},
   "outputs": [
    {
     "data": {
      "text/plain": [
       "array([-2.59670388e+01, -2.91843494e+00, -8.51578469e-01, -2.99147826e+01,\n",
       "       -1.13247551e+01,  3.79137763e+01, -6.84815480e+01, -6.80441366e-01,\n",
       "       -2.33667415e+00, -1.14428063e+01, -3.14639166e-02, -6.26275092e+00,\n",
       "       -1.82711930e+01,  3.54647636e-05, -2.67461321e-04, -3.39907922e-01,\n",
       "        1.27455564e+01])"
      ]
     },
     "execution_count": 714,
     "metadata": {},
     "output_type": "execute_result"
    }
   ],
   "source": [
    "ridge.coef_"
   ]
  },
  {
   "cell_type": "markdown",
   "metadata": {},
   "source": [
    "# Lasso regression using LassoCV"
   ]
  },
  {
   "cell_type": "markdown",
   "metadata": {},
   "source": [
    "## higher the alpha value, more restriction on the coefficients; "
   ]
  },
  {
   "cell_type": "markdown",
   "metadata": {},
   "source": [
    "## low alpha > more generalization, coefficients are barely restricted and in this case linear and ridge regression resembles"
   ]
  },
  {
   "cell_type": "code",
   "execution_count": 715,
   "metadata": {},
   "outputs": [],
   "source": [
    "lasso = LassoCV(cv = 5,random_state=0)"
   ]
  },
  {
   "cell_type": "code",
   "execution_count": 716,
   "metadata": {},
   "outputs": [],
   "source": [
    "lasso_res = lasso.fit(x1,y1)"
   ]
  },
  {
   "cell_type": "code",
   "execution_count": 717,
   "metadata": {},
   "outputs": [
    {
     "data": {
      "text/plain": [
       "0.0"
      ]
     },
     "execution_count": 717,
     "metadata": {},
     "output_type": "execute_result"
    }
   ],
   "source": [
    "lasso.score(x1,y1)"
   ]
  },
  {
   "cell_type": "code",
   "execution_count": 718,
   "metadata": {},
   "outputs": [
    {
     "data": {
      "text/plain": [
       "177806659.6621479"
      ]
     },
     "execution_count": 718,
     "metadata": {},
     "output_type": "execute_result"
    }
   ],
   "source": [
    "lasso.alpha_"
   ]
  },
  {
   "cell_type": "code",
   "execution_count": 719,
   "metadata": {},
   "outputs": [
    {
     "data": {
      "text/plain": [
       "array([-0., -0., -0., -0.,  0.,  0.,  0.,  0., -0., -0., -0., -0., -0.,\n",
       "       -0., -0.,  0., -0.])"
      ]
     },
     "execution_count": 719,
     "metadata": {},
     "output_type": "execute_result"
    }
   ],
   "source": [
    "lasso.coef_"
   ]
  },
  {
   "cell_type": "markdown",
   "metadata": {},
   "source": [
    "# Lasso"
   ]
  },
  {
   "cell_type": "code",
   "execution_count": 771,
   "metadata": {},
   "outputs": [],
   "source": [
    "alphas = np.logspace(-5, 50, 50)\n",
    "parameter_candidates = [{'alpha':alphas}]\n",
    "n_folds = 10"
   ]
  },
  {
   "cell_type": "code",
   "execution_count": 772,
   "metadata": {},
   "outputs": [],
   "source": [
    "lasso = Lasso(random_state=0)"
   ]
  },
  {
   "cell_type": "code",
   "execution_count": 773,
   "metadata": {},
   "outputs": [],
   "source": [
    "clf = GridSearchCV(estimator=lasso, param_grid=parameter_candidates, cv = n_folds)"
   ]
  },
  {
   "cell_type": "code",
   "execution_count": 774,
   "metadata": {},
   "outputs": [
    {
     "data": {
      "text/plain": [
       "GridSearchCV(cv=10, estimator=Lasso(random_state=0),\n",
       "             param_grid=[{'alpha': array([1.00000000e-05, 1.32571137e-04, 1.75751062e-03, 2.32995181e-02,\n",
       "       3.08884360e-01, 4.09491506e+00, 5.42867544e+01, 7.19685673e+02,\n",
       "       9.54095476e+03, 1.26485522e+05, 1.67683294e+06, 2.22299648e+07,\n",
       "       2.94705170e+08, 3.90693994e+09, 5.17947468e+10, 6.86648845e+11,\n",
       "       9.10298178e+12, 1.20679264e+14, 1...\n",
       "       8.68511374e+21, 1.15139540e+23, 1.52641797e+24, 2.02358965e+25,\n",
       "       2.68269580e+26, 3.55648031e+27, 4.71486636e+28, 6.25055193e+29,\n",
       "       8.28642773e+30, 1.09854114e+32, 1.45634848e+33, 1.93069773e+34,\n",
       "       2.55954792e+35, 3.39322177e+36, 4.49843267e+37, 5.96362332e+38,\n",
       "       7.90604321e+39, 1.04811313e+41, 1.38949549e+42, 1.84206997e+43,\n",
       "       2.44205309e+44, 3.23745754e+45, 4.29193426e+46, 5.68986603e+47,\n",
       "       7.54312006e+48, 1.00000000e+50])}])"
      ]
     },
     "execution_count": 774,
     "metadata": {},
     "output_type": "execute_result"
    }
   ],
   "source": [
    "clf.fit(x1, y1)"
   ]
  },
  {
   "cell_type": "code",
   "execution_count": 781,
   "metadata": {},
   "outputs": [
    {
     "data": {
      "text/plain": [
       "-0.0002561605068575612"
      ]
     },
     "execution_count": 781,
     "metadata": {},
     "output_type": "execute_result"
    }
   ],
   "source": [
    "clf.best_score_"
   ]
  },
  {
   "cell_type": "code",
   "execution_count": 782,
   "metadata": {},
   "outputs": [
    {
     "data": {
      "text/plain": [
       "{'alpha': 4.094915062380419}"
      ]
     },
     "execution_count": 782,
     "metadata": {},
     "output_type": "execute_result"
    }
   ],
   "source": [
    "clf.best_params_"
   ]
  },
  {
   "cell_type": "markdown",
   "metadata": {},
   "source": [
    "# Ridge"
   ]
  },
  {
   "cell_type": "code",
   "execution_count": 791,
   "metadata": {},
   "outputs": [],
   "source": [
    "alphas = np.logspace(-5, 50, 500)\n",
    "parameter_candidates = [{'alpha':alphas}]\n",
    "n_folds = 10"
   ]
  },
  {
   "cell_type": "code",
   "execution_count": 792,
   "metadata": {},
   "outputs": [],
   "source": [
    "ridge = Ridge(random_state=0)"
   ]
  },
  {
   "cell_type": "code",
   "execution_count": 793,
   "metadata": {},
   "outputs": [],
   "source": [
    "clf_ridge = GridSearchCV(estimator=ridge, param_grid=parameter_candidates, cv = n_folds)"
   ]
  },
  {
   "cell_type": "code",
   "execution_count": 795,
   "metadata": {},
   "outputs": [],
   "source": [
    "clf_ridge.fit(x1, y1)"
   ]
  },
  {
   "cell_type": "code",
   "execution_count": 783,
   "metadata": {},
   "outputs": [
    {
     "data": {
      "text/plain": [
       "-0.00500706745863283"
      ]
     },
     "execution_count": 783,
     "metadata": {},
     "output_type": "execute_result"
    }
   ],
   "source": [
    "clf_ridge.best_score_"
   ]
  },
  {
   "cell_type": "code",
   "execution_count": 784,
   "metadata": {},
   "outputs": [
    {
     "data": {
      "text/plain": [
       "{'alpha': 995396230.9984244}"
      ]
     },
     "execution_count": 784,
     "metadata": {},
     "output_type": "execute_result"
    }
   ],
   "source": [
    "clf_ridge.best_params_"
   ]
  },
  {
   "cell_type": "markdown",
   "metadata": {},
   "source": [
    "# Regression"
   ]
  },
  {
   "cell_type": "code",
   "execution_count": 767,
   "metadata": {},
   "outputs": [],
   "source": [
    "lin_reg = sm.OLS(targets,temp)"
   ]
  },
  {
   "cell_type": "code",
   "execution_count": 768,
   "metadata": {},
   "outputs": [
    {
     "data": {
      "text/html": [
       "<table class=\"simpletable\">\n",
       "<caption>OLS Regression Results</caption>\n",
       "<tr>\n",
       "  <th>Dep. Variable:</th>    <td>duration_seconds</td> <th>  R-squared (uncentered):</th>       <td>   0.141</td>  \n",
       "</tr>\n",
       "<tr>\n",
       "  <th>Model:</th>                   <td>OLS</td>       <th>  Adj. R-squared (uncentered):</th>  <td>   0.141</td>  \n",
       "</tr>\n",
       "<tr>\n",
       "  <th>Method:</th>             <td>Least Squares</td>  <th>  F-statistic:       </th>           <td>   2155.</td>  \n",
       "</tr>\n",
       "<tr>\n",
       "  <th>Date:</th>             <td>Tue, 18 Aug 2020</td> <th>  Prob (F-statistic):</th>            <td>  0.00</td>   \n",
       "</tr>\n",
       "<tr>\n",
       "  <th>Time:</th>                 <td>01:40:11</td>     <th>  Log-Likelihood:    </th>          <td>-7.0805e+05</td>\n",
       "</tr>\n",
       "<tr>\n",
       "  <th>No. Observations:</th>      <td> 78786</td>      <th>  AIC:               </th>           <td>1.416e+06</td> \n",
       "</tr>\n",
       "<tr>\n",
       "  <th>Df Residuals:</th>          <td> 78780</td>      <th>  BIC:               </th>           <td>1.416e+06</td> \n",
       "</tr>\n",
       "<tr>\n",
       "  <th>Df Model:</th>              <td>     6</td>      <th>                     </th>               <td> </td>     \n",
       "</tr>\n",
       "<tr>\n",
       "  <th>Covariance Type:</th>      <td>nonrobust</td>    <th>                     </th>               <td> </td>     \n",
       "</tr>\n",
       "</table>\n",
       "<table class=\"simpletable\">\n",
       "<tr>\n",
       "             <td></td>               <th>coef</th>     <th>std err</th>      <th>t</th>      <th>P>|t|</th>  <th>[0.025</th>    <th>0.975]</th>  \n",
       "</tr>\n",
       "<tr>\n",
       "  <th>shape</th>                  <td>  -26.7813</td> <td>    6.014</td> <td>   -4.453</td> <td> 0.000</td> <td>  -38.570</td> <td>  -14.993</td>\n",
       "</tr>\n",
       "<tr>\n",
       "  <th>lat</th>                    <td>   -2.3090</td> <td>    0.718</td> <td>   -3.215</td> <td> 0.001</td> <td>   -3.717</td> <td>   -0.902</td>\n",
       "</tr>\n",
       "<tr>\n",
       "  <th>lng</th>                    <td>   -0.7819</td> <td>    0.195</td> <td>   -4.003</td> <td> 0.000</td> <td>   -1.165</td> <td>   -0.399</td>\n",
       "</tr>\n",
       "<tr>\n",
       "  <th>pressure</th>               <td>    0.9986</td> <td>    0.049</td> <td>   20.413</td> <td> 0.000</td> <td>    0.903</td> <td>    1.094</td>\n",
       "</tr>\n",
       "<tr>\n",
       "  <th>visibility</th>             <td>  -10.1260</td> <td>    2.871</td> <td>   -3.527</td> <td> 0.000</td> <td>  -15.754</td> <td>   -4.498</td>\n",
       "</tr>\n",
       "<tr>\n",
       "  <th>ast_estimated_diameter</th> <td>  -20.5689</td> <td>    8.028</td> <td>   -2.562</td> <td> 0.010</td> <td>  -36.304</td> <td>   -4.834</td>\n",
       "</tr>\n",
       "</table>\n",
       "<table class=\"simpletable\">\n",
       "<tr>\n",
       "  <th>Omnibus:</th>       <td>83482.795</td> <th>  Durbin-Watson:     </th>  <td>   1.918</td>  \n",
       "</tr>\n",
       "<tr>\n",
       "  <th>Prob(Omnibus):</th>  <td> 0.000</td>   <th>  Jarque-Bera (JB):  </th> <td>5263111.304</td>\n",
       "</tr>\n",
       "<tr>\n",
       "  <th>Skew:</th>           <td> 5.482</td>   <th>  Prob(JB):          </th>  <td>    0.00</td>  \n",
       "</tr>\n",
       "<tr>\n",
       "  <th>Kurtosis:</th>       <td>41.510</td>   <th>  Cond. No.          </th>  <td>1.19e+03</td>  \n",
       "</tr>\n",
       "</table><br/><br/>Warnings:<br/>[1] Standard Errors assume that the covariance matrix of the errors is correctly specified.<br/>[2] The condition number is large, 1.19e+03. This might indicate that there are<br/>strong multicollinearity or other numerical problems."
      ],
      "text/plain": [
       "<class 'statsmodels.iolib.summary.Summary'>\n",
       "\"\"\"\n",
       "                                 OLS Regression Results                                \n",
       "=======================================================================================\n",
       "Dep. Variable:       duration_seconds   R-squared (uncentered):                   0.141\n",
       "Model:                            OLS   Adj. R-squared (uncentered):              0.141\n",
       "Method:                 Least Squares   F-statistic:                              2155.\n",
       "Date:                Tue, 18 Aug 2020   Prob (F-statistic):                        0.00\n",
       "Time:                        01:40:11   Log-Likelihood:                     -7.0805e+05\n",
       "No. Observations:               78786   AIC:                                  1.416e+06\n",
       "Df Residuals:                   78780   BIC:                                  1.416e+06\n",
       "Df Model:                           6                                                  \n",
       "Covariance Type:            nonrobust                                                  \n",
       "==========================================================================================\n",
       "                             coef    std err          t      P>|t|      [0.025      0.975]\n",
       "------------------------------------------------------------------------------------------\n",
       "shape                    -26.7813      6.014     -4.453      0.000     -38.570     -14.993\n",
       "lat                       -2.3090      0.718     -3.215      0.001      -3.717      -0.902\n",
       "lng                       -0.7819      0.195     -4.003      0.000      -1.165      -0.399\n",
       "pressure                   0.9986      0.049     20.413      0.000       0.903       1.094\n",
       "visibility               -10.1260      2.871     -3.527      0.000     -15.754      -4.498\n",
       "ast_estimated_diameter   -20.5689      8.028     -2.562      0.010     -36.304      -4.834\n",
       "==============================================================================\n",
       "Omnibus:                    83482.795   Durbin-Watson:                   1.918\n",
       "Prob(Omnibus):                  0.000   Jarque-Bera (JB):          5263111.304\n",
       "Skew:                           5.482   Prob(JB):                         0.00\n",
       "Kurtosis:                      41.510   Cond. No.                     1.19e+03\n",
       "==============================================================================\n",
       "\n",
       "Warnings:\n",
       "[1] Standard Errors assume that the covariance matrix of the errors is correctly specified.\n",
       "[2] The condition number is large, 1.19e+03. This might indicate that there are\n",
       "strong multicollinearity or other numerical problems.\n",
       "\"\"\""
      ]
     },
     "execution_count": 768,
     "metadata": {},
     "output_type": "execute_result"
    }
   ],
   "source": [
    "model = lin_reg.fit()\n",
    "reg = model.summary()\n",
    "reg"
   ]
  },
  {
   "cell_type": "code",
   "execution_count": 769,
   "metadata": {},
   "outputs": [],
   "source": [
    "corr_mat = temp.corr().abs()\n",
    "indices = np.where(corr_mat > 0.8) \n",
    "indices = [(df_corr.index[x], df_corr.columns[y]) for x, y in zip(*indices) if x != y and x < y]"
   ]
  },
  {
   "cell_type": "code",
   "execution_count": 765,
   "metadata": {},
   "outputs": [],
   "source": [
    "import copy\n",
    "temp = copy.deepcopy(features)\n",
    "targets = data['duration_seconds']"
   ]
  },
  {
   "cell_type": "code",
   "execution_count": 766,
   "metadata": {},
   "outputs": [],
   "source": [
    "temp.drop(['month','humidity','windBearing','ast_relative_velocity','cloudCover','precip','windSpeed','precipProbability','precipIntensity','temperature','ast_miss_distance'],axis = 1, inplace= True)"
   ]
  },
  {
   "cell_type": "code",
   "execution_count": null,
   "metadata": {},
   "outputs": [],
   "source": []
  }
 ],
 "metadata": {
  "anaconda-cloud": {},
  "kernelspec": {
   "display_name": "Python 3",
   "language": "python",
   "name": "python3"
  },
  "language_info": {
   "codemirror_mode": {
    "name": "ipython",
    "version": 3
   },
   "file_extension": ".py",
   "mimetype": "text/x-python",
   "name": "python",
   "nbconvert_exporter": "python",
   "pygments_lexer": "ipython3",
   "version": "3.8.2"
  }
 },
 "nbformat": 4,
 "nbformat_minor": 4
}
