{
 "cells": [
  {
   "cell_type": "code",
   "execution_count": 1,
   "metadata": {},
   "outputs": [],
   "source": [
    "import requests"
   ]
  },
  {
   "cell_type": "markdown",
   "metadata": {},
   "source": [
    "### requests"
   ]
  },
  {
   "cell_type": "code",
   "execution_count": 3,
   "metadata": {},
   "outputs": [
    {
     "name": "stdout",
     "output_type": "stream",
     "text": [
      "<Response [200]>\n"
     ]
    }
   ],
   "source": [
    "request = requests.get('http://api.open-notify.org')\n",
    "print(request.text)"
   ]
  },
  {
   "cell_type": "code",
   "execution_count": 4,
   "metadata": {},
   "outputs": [
    {
     "name": "stdout",
     "output_type": "stream",
     "text": [
      "200\n"
     ]
    }
   ],
   "source": [
    "print(request.status_code)"
   ]
  },
  {
   "cell_type": "code",
   "execution_count": 7,
   "metadata": {},
   "outputs": [
    {
     "name": "stdout",
     "output_type": "stream",
     "text": [
      "404\n"
     ]
    }
   ],
   "source": [
    "request2 = requests.get('http://api.open-notify.org/fake-endpoint')\n",
    "print(request2.status_code)"
   ]
  },
  {
   "cell_type": "code",
   "execution_count": 8,
   "metadata": {},
   "outputs": [
    {
     "name": "stdout",
     "output_type": "stream",
     "text": [
      "{\"number\": 3, \"people\": [{\"craft\": \"ISS\", \"name\": \"Chris Cassidy\"}, {\"craft\": \"ISS\", \"name\": \"Anatoly Ivanishin\"}, {\"craft\": \"ISS\", \"name\": \"Ivan Vagner\"}], \"message\": \"success\"}\n"
     ]
    }
   ],
   "source": [
    "people = requests.get('http://api.open-notify.org/astros.json')\n",
    "print(people.text)"
   ]
  },
  {
   "cell_type": "markdown",
   "metadata": {},
   "source": [
    "### Parsing"
   ]
  },
  {
   "cell_type": "code",
   "execution_count": 9,
   "metadata": {},
   "outputs": [
    {
     "name": "stdout",
     "output_type": "stream",
     "text": [
      "{'number': 3, 'people': [{'craft': 'ISS', 'name': 'Chris Cassidy'}, {'craft': 'ISS', 'name': 'Anatoly Ivanishin'}, {'craft': 'ISS', 'name': 'Ivan Vagner'}], 'message': 'success'}\n"
     ]
    }
   ],
   "source": [
    "people_json  = people.json()\n",
    "print(people_json)"
   ]
  },
  {
   "cell_type": "code",
   "execution_count": 10,
   "metadata": {},
   "outputs": [
    {
     "name": "stdout",
     "output_type": "stream",
     "text": [
      "Number of people in space: 3\n",
      "Chris Cassidy\n",
      "Anatoly Ivanishin\n",
      "Ivan Vagner\n"
     ]
    }
   ],
   "source": [
    "#To print the number of people in space\n",
    "print(\"Number of people in space:\",people_json['number'])\n",
    "#To print the names of people in space using a for loop\n",
    "for p in people_json['people']:\n",
    "    print(p['name'])"
   ]
  },
  {
   "cell_type": "code",
   "execution_count": 11,
   "metadata": {},
   "outputs": [],
   "source": [
    "parameter = {\"rel_rhy\":\"jingle\"}\n",
    "request = requests.get('https://api.datamuse.com/words',parameter)"
   ]
  },
  {
   "cell_type": "code",
   "execution_count": 13,
   "metadata": {},
   "outputs": [
    {
     "name": "stdout",
     "output_type": "stream",
     "text": [
      "[{'word': 'single', 'score': 1270, 'numSyllables': 2}, {'word': 'mingle', 'score': 947, 'numSyllables': 2}, {'word': 'shingle', 'score': 807, 'numSyllables': 2}, {'word': 'ingle', 'score': 727, 'numSyllables': 2}, {'word': 'tingle', 'score': 601, 'numSyllables': 2}, {'word': 'commingle', 'score': 596, 'numSyllables': 3}, {'word': 'dingle', 'score': 477, 'numSyllables': 2}, {'word': 'pringle', 'score': 375, 'numSyllables': 2}, {'word': 'intermingle', 'score': 279, 'numSyllables': 4}, {'word': 'bingle', 'score': 258, 'numSyllables': 2}, {'word': 'swingle', 'score': 238, 'numSyllables': 2}, {'word': 'lingle', 'score': 84, 'numSyllables': 2}, {'word': 'ringle', 'score': 79, 'numSyllables': 2}, {'word': 'gingell', 'score': 11, 'numSyllables': 2}, {'word': 'ringel', 'score': 11, 'numSyllables': 2}, {'word': 'hingle', 'score': 10, 'numSyllables': 2}, {'word': 'dingel', 'score': 9, 'numSyllables': 2}, {'word': 'klingel', 'score': 9, 'numSyllables': 2}, {'word': 'dingell', 'score': 7, 'numSyllables': 2}, {'word': 'line single', 'score': 5, 'numSyllables': 3}, {'word': 'singel', 'score': 1, 'numSyllables': 2}, {'word': 'bingel', 'numSyllables': 2}, {'word': 'bringle', 'numSyllables': 2}, {'word': 'pettingill', 'numSyllables': 3}, {'word': 'pingel', 'numSyllables': 2}, {'word': 'singh gill', 'numSyllables': 2}]\n"
     ]
    }
   ],
   "source": [
    "print(request.json())"
   ]
  },
  {
   "cell_type": "code",
   "execution_count": 14,
   "metadata": {},
   "outputs": [
    {
     "name": "stdout",
     "output_type": "stream",
     "text": [
      "single\n",
      "mingle\n",
      "shingle\n"
     ]
    }
   ],
   "source": [
    "rhyme_json = request.json()\n",
    "for i in rhyme_json[0:3]:\n",
    "    print(i['word'])"
   ]
  },
  {
   "cell_type": "markdown",
   "metadata": {},
   "source": [
    "# twilio"
   ]
  },
  {
   "cell_type": "code",
   "execution_count": 15,
   "metadata": {},
   "outputs": [],
   "source": [
    "from twilio.rest import Client"
   ]
  },
  {
   "cell_type": "code",
   "execution_count": 18,
   "metadata": {},
   "outputs": [
    {
     "name": "stdout",
     "output_type": "stream",
     "text": [
      "SM2b7e91c5ab534097ab6627fc9de68920\n"
     ]
    }
   ],
   "source": [
    "account_sid = 'AC22ecd6aefd1405a3de171009eaf5fb9c'\n",
    "auth_token = '46ff176a1cbb99cae1449415f7259fbf'\n",
    "client = Client(account_sid, auth_token)\n",
    "r = requests.get('http://api.open-notify.org/astros.json')\n",
    "people = r.json()\n",
    "number_iss = people['number']\n",
    "Message = 'Hi Fun fact,Number of people in space right now is '+str(number_iss)\n",
    "#formulate the message that will be sent\n",
    "message = client.messages.create(\n",
    "    to=\"+14039266580\",\n",
    "    from_=\"+12059316183\",\n",
    "    body=Message)\n",
    "print(message.sid)"
   ]
  }
 ],
 "metadata": {
  "kernelspec": {
   "display_name": "Python 3",
   "language": "python",
   "name": "python3"
  },
  "language_info": {
   "codemirror_mode": {
    "name": "ipython",
    "version": 3
   },
   "file_extension": ".py",
   "mimetype": "text/x-python",
   "name": "python",
   "nbconvert_exporter": "python",
   "pygments_lexer": "ipython3",
   "version": "3.8.2"
  }
 },
 "nbformat": 4,
 "nbformat_minor": 4
}
