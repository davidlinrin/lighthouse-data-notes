{
 "cells": [
  {
   "cell_type": "markdown",
   "metadata": {},
   "source": [
    "# setting up SparkContext"
   ]
  },
  {
   "cell_type": "code",
   "execution_count": 1,
   "metadata": {},
   "outputs": [],
   "source": [
    "import pandas as pd\n",
    "import numpy as np\n",
    "import matplotlib.pyplot as plt\n",
    "import seaborn as sns"
   ]
  },
  {
   "cell_type": "code",
   "execution_count": 51,
   "metadata": {},
   "outputs": [],
   "source": [
    "from pyspark.sql import Row\n",
    "from pyspark.sql import SQLContext\n",
    "import pyspark\n",
    "from pyspark import SparkContext\n",
    "from pyspark.sql.functions import isnan, when, count, col, avg, udf\n",
    "from pyspark.ml.feature import Bucketizer, StringIndexer, VectorAssembler, StandardScaler\n",
    "from pyspark.ml.classification import LogisticRegression\n",
    "from pyspark.ml.evaluation import BinaryClassificationEvaluator\n",
    "from pyspark.ml.tuning import ParamGridBuilder, CrossValidator\n",
    "from pyspark.sql.types import *"
   ]
  },
  {
   "cell_type": "code",
   "execution_count": 3,
   "metadata": {},
   "outputs": [],
   "source": [
    "sc =SparkContext()\n",
    "sqlContext = SQLContext(sc)"
   ]
  },
  {
   "cell_type": "markdown",
   "metadata": {},
   "source": [
    "### Exploring using pandas"
   ]
  },
  {
   "cell_type": "code",
   "execution_count": 4,
   "metadata": {},
   "outputs": [],
   "source": [
    "data = pd.read_csv('titanic_dataset.csv', header = 0)"
   ]
  },
  {
   "cell_type": "code",
   "execution_count": 5,
   "metadata": {},
   "outputs": [],
   "source": [
    "data.drop(['PassengerId', 'Name', 'Ticket', 'Cabin'], axis =1, inplace = True)"
   ]
  },
  {
   "cell_type": "code",
   "execution_count": 6,
   "metadata": {},
   "outputs": [
    {
     "data": {
      "text/html": [
       "<div>\n",
       "<style scoped>\n",
       "    .dataframe tbody tr th:only-of-type {\n",
       "        vertical-align: middle;\n",
       "    }\n",
       "\n",
       "    .dataframe tbody tr th {\n",
       "        vertical-align: top;\n",
       "    }\n",
       "\n",
       "    .dataframe thead th {\n",
       "        text-align: right;\n",
       "    }\n",
       "</style>\n",
       "<table border=\"1\" class=\"dataframe\">\n",
       "  <thead>\n",
       "    <tr style=\"text-align: right;\">\n",
       "      <th></th>\n",
       "      <th>Survived</th>\n",
       "      <th>Pclass</th>\n",
       "      <th>Sex</th>\n",
       "      <th>Age</th>\n",
       "      <th>SibSp</th>\n",
       "      <th>Parch</th>\n",
       "      <th>Fare</th>\n",
       "      <th>Embarked</th>\n",
       "    </tr>\n",
       "  </thead>\n",
       "  <tbody>\n",
       "    <tr>\n",
       "      <th>0</th>\n",
       "      <td>0</td>\n",
       "      <td>3</td>\n",
       "      <td>male</td>\n",
       "      <td>22.0</td>\n",
       "      <td>1</td>\n",
       "      <td>0</td>\n",
       "      <td>7.2500</td>\n",
       "      <td>S</td>\n",
       "    </tr>\n",
       "    <tr>\n",
       "      <th>1</th>\n",
       "      <td>1</td>\n",
       "      <td>1</td>\n",
       "      <td>female</td>\n",
       "      <td>38.0</td>\n",
       "      <td>1</td>\n",
       "      <td>0</td>\n",
       "      <td>71.2833</td>\n",
       "      <td>C</td>\n",
       "    </tr>\n",
       "    <tr>\n",
       "      <th>2</th>\n",
       "      <td>1</td>\n",
       "      <td>3</td>\n",
       "      <td>female</td>\n",
       "      <td>26.0</td>\n",
       "      <td>0</td>\n",
       "      <td>0</td>\n",
       "      <td>7.9250</td>\n",
       "      <td>S</td>\n",
       "    </tr>\n",
       "    <tr>\n",
       "      <th>3</th>\n",
       "      <td>1</td>\n",
       "      <td>1</td>\n",
       "      <td>female</td>\n",
       "      <td>35.0</td>\n",
       "      <td>1</td>\n",
       "      <td>0</td>\n",
       "      <td>53.1000</td>\n",
       "      <td>S</td>\n",
       "    </tr>\n",
       "    <tr>\n",
       "      <th>4</th>\n",
       "      <td>0</td>\n",
       "      <td>3</td>\n",
       "      <td>male</td>\n",
       "      <td>35.0</td>\n",
       "      <td>0</td>\n",
       "      <td>0</td>\n",
       "      <td>8.0500</td>\n",
       "      <td>S</td>\n",
       "    </tr>\n",
       "    <tr>\n",
       "      <th>...</th>\n",
       "      <td>...</td>\n",
       "      <td>...</td>\n",
       "      <td>...</td>\n",
       "      <td>...</td>\n",
       "      <td>...</td>\n",
       "      <td>...</td>\n",
       "      <td>...</td>\n",
       "      <td>...</td>\n",
       "    </tr>\n",
       "    <tr>\n",
       "      <th>886</th>\n",
       "      <td>0</td>\n",
       "      <td>2</td>\n",
       "      <td>male</td>\n",
       "      <td>27.0</td>\n",
       "      <td>0</td>\n",
       "      <td>0</td>\n",
       "      <td>13.0000</td>\n",
       "      <td>S</td>\n",
       "    </tr>\n",
       "    <tr>\n",
       "      <th>887</th>\n",
       "      <td>1</td>\n",
       "      <td>1</td>\n",
       "      <td>female</td>\n",
       "      <td>19.0</td>\n",
       "      <td>0</td>\n",
       "      <td>0</td>\n",
       "      <td>30.0000</td>\n",
       "      <td>S</td>\n",
       "    </tr>\n",
       "    <tr>\n",
       "      <th>888</th>\n",
       "      <td>0</td>\n",
       "      <td>3</td>\n",
       "      <td>female</td>\n",
       "      <td>NaN</td>\n",
       "      <td>1</td>\n",
       "      <td>2</td>\n",
       "      <td>23.4500</td>\n",
       "      <td>S</td>\n",
       "    </tr>\n",
       "    <tr>\n",
       "      <th>889</th>\n",
       "      <td>1</td>\n",
       "      <td>1</td>\n",
       "      <td>male</td>\n",
       "      <td>26.0</td>\n",
       "      <td>0</td>\n",
       "      <td>0</td>\n",
       "      <td>30.0000</td>\n",
       "      <td>C</td>\n",
       "    </tr>\n",
       "    <tr>\n",
       "      <th>890</th>\n",
       "      <td>0</td>\n",
       "      <td>3</td>\n",
       "      <td>male</td>\n",
       "      <td>32.0</td>\n",
       "      <td>0</td>\n",
       "      <td>0</td>\n",
       "      <td>7.7500</td>\n",
       "      <td>Q</td>\n",
       "    </tr>\n",
       "  </tbody>\n",
       "</table>\n",
       "<p>891 rows × 8 columns</p>\n",
       "</div>"
      ],
      "text/plain": [
       "     Survived  Pclass     Sex   Age  SibSp  Parch     Fare Embarked\n",
       "0           0       3    male  22.0      1      0   7.2500        S\n",
       "1           1       1  female  38.0      1      0  71.2833        C\n",
       "2           1       3  female  26.0      0      0   7.9250        S\n",
       "3           1       1  female  35.0      1      0  53.1000        S\n",
       "4           0       3    male  35.0      0      0   8.0500        S\n",
       "..        ...     ...     ...   ...    ...    ...      ...      ...\n",
       "886         0       2    male  27.0      0      0  13.0000        S\n",
       "887         1       1  female  19.0      0      0  30.0000        S\n",
       "888         0       3  female   NaN      1      2  23.4500        S\n",
       "889         1       1    male  26.0      0      0  30.0000        C\n",
       "890         0       3    male  32.0      0      0   7.7500        Q\n",
       "\n",
       "[891 rows x 8 columns]"
      ]
     },
     "execution_count": 6,
     "metadata": {},
     "output_type": "execute_result"
    }
   ],
   "source": [
    "data"
   ]
  },
  {
   "cell_type": "markdown",
   "metadata": {},
   "source": [
    "# Read Data"
   ]
  },
  {
   "cell_type": "code",
   "execution_count": 7,
   "metadata": {},
   "outputs": [],
   "source": [
    "df = sqlContext.read.option(\"inferSchema\",True).option(\"header\",True).csv(\"titanic_dataset.csv\")"
   ]
  },
  {
   "cell_type": "code",
   "execution_count": 8,
   "metadata": {},
   "outputs": [
    {
     "name": "stdout",
     "output_type": "stream",
     "text": [
      "root\n",
      " |-- PassengerId: integer (nullable = true)\n",
      " |-- Survived: integer (nullable = true)\n",
      " |-- Pclass: integer (nullable = true)\n",
      " |-- Name: string (nullable = true)\n",
      " |-- Sex: string (nullable = true)\n",
      " |-- Age: double (nullable = true)\n",
      " |-- SibSp: integer (nullable = true)\n",
      " |-- Parch: integer (nullable = true)\n",
      " |-- Ticket: string (nullable = true)\n",
      " |-- Fare: double (nullable = true)\n",
      " |-- Cabin: string (nullable = true)\n",
      " |-- Embarked: string (nullable = true)\n",
      "\n"
     ]
    }
   ],
   "source": [
    "df.printSchema()"
   ]
  },
  {
   "cell_type": "markdown",
   "metadata": {},
   "source": [
    "### dropping columns"
   ]
  },
  {
   "cell_type": "code",
   "execution_count": 9,
   "metadata": {},
   "outputs": [
    {
     "name": "stdout",
     "output_type": "stream",
     "text": [
      "root\n",
      " |-- Survived: integer (nullable = true)\n",
      " |-- Pclass: integer (nullable = true)\n",
      " |-- Sex: string (nullable = true)\n",
      " |-- Age: double (nullable = true)\n",
      " |-- SibSp: integer (nullable = true)\n",
      " |-- Parch: integer (nullable = true)\n",
      " |-- Fare: double (nullable = true)\n",
      " |-- Embarked: string (nullable = true)\n",
      "\n"
     ]
    }
   ],
   "source": [
    "columns_to_drop = ['PassengerId', 'Name', 'Ticket', 'Cabin']\n",
    "df = df.drop(*columns_to_drop)\n",
    "df.printSchema()"
   ]
  },
  {
   "cell_type": "markdown",
   "metadata": {},
   "source": [
    "### Imputing Nan"
   ]
  },
  {
   "cell_type": "code",
   "execution_count": 10,
   "metadata": {},
   "outputs": [
    {
     "name": "stdout",
     "output_type": "stream",
     "text": [
      "+--------+------+---+---+-----+-----+----+--------+\n",
      "|Survived|Pclass|Sex|Age|SibSp|Parch|Fare|Embarked|\n",
      "+--------+------+---+---+-----+-----+----+--------+\n",
      "|       0|     0|  0|177|    0|    0|   0|       2|\n",
      "+--------+------+---+---+-----+-----+----+--------+\n",
      "\n"
     ]
    }
   ],
   "source": [
    "# Finds columns with Nan\n",
    "df.select([count(when(isnan(c) | col(c).isNull(), c)).alias(c) for c in df.columns]).show()"
   ]
  },
  {
   "cell_type": "code",
   "execution_count": 11,
   "metadata": {},
   "outputs": [
    {
     "name": "stdout",
     "output_type": "stream",
     "text": [
      "+-----------------+\n",
      "|         avg(age)|\n",
      "+-----------------+\n",
      "|29.69911764705882|\n",
      "+-----------------+\n",
      "\n"
     ]
    }
   ],
   "source": [
    "df.agg({'age': 'mean'}).show()"
   ]
  },
  {
   "cell_type": "code",
   "execution_count": 12,
   "metadata": {},
   "outputs": [
    {
     "name": "stdout",
     "output_type": "stream",
     "text": [
      "+-------+--------+\n",
      "|summary|Embarked|\n",
      "+-------+--------+\n",
      "|  count|     889|\n",
      "|   mean|    null|\n",
      "| stddev|    null|\n",
      "|    min|       C|\n",
      "|    max|       S|\n",
      "+-------+--------+\n",
      "\n"
     ]
    }
   ],
   "source": [
    "# How to find most frequent value?????????\n",
    "df.describe('Embarked').show()"
   ]
  },
  {
   "cell_type": "code",
   "execution_count": 13,
   "metadata": {},
   "outputs": [],
   "source": [
    "# imputing with mean and mode\n",
    "df = df.fillna('S', subset = ['Embarked'])\n",
    "df = df.fillna(29.699, subset=['Age'])"
   ]
  },
  {
   "cell_type": "markdown",
   "metadata": {},
   "source": [
    "### Binning"
   ]
  },
  {
   "cell_type": "code",
   "execution_count": 14,
   "metadata": {},
   "outputs": [
    {
     "name": "stdout",
     "output_type": "stream",
     "text": [
      "+--------+------+------+------+-----+-----+-------+--------+------------+\n",
      "|Survived|Pclass|   Sex|   Age|SibSp|Parch|   Fare|Embarked|SibSp_bucket|\n",
      "+--------+------+------+------+-----+-----+-------+--------+------------+\n",
      "|       0|     3|  male|  22.0|    1|    0|   7.25|       S|           1|\n",
      "|       1|     1|female|  38.0|    1|    0|71.2833|       C|           1|\n",
      "|       1|     3|female|  26.0|    0|    0|  7.925|       S|           0|\n",
      "|       1|     1|female|  35.0|    1|    0|   53.1|       S|           1|\n",
      "|       0|     3|  male|  35.0|    0|    0|   8.05|       S|           0|\n",
      "|       0|     3|  male|29.699|    0|    0| 8.4583|       Q|           0|\n",
      "|       0|     1|  male|  54.0|    0|    0|51.8625|       S|           0|\n",
      "|       0|     3|  male|   2.0|    3|    1| 21.075|       S|           2|\n",
      "|       1|     3|female|  27.0|    0|    2|11.1333|       S|           0|\n",
      "|       1|     2|female|  14.0|    1|    0|30.0708|       C|           1|\n",
      "|       1|     3|female|   4.0|    1|    1|   16.7|       S|           1|\n",
      "|       1|     1|female|  58.0|    0|    0|  26.55|       S|           0|\n",
      "|       0|     3|  male|  20.0|    0|    0|   8.05|       S|           0|\n",
      "|       0|     3|  male|  39.0|    1|    5| 31.275|       S|           1|\n",
      "|       0|     3|female|  14.0|    0|    0| 7.8542|       S|           0|\n",
      "|       1|     2|female|  55.0|    0|    0|   16.0|       S|           0|\n",
      "|       0|     3|  male|   2.0|    4|    1| 29.125|       Q|           2|\n",
      "|       1|     2|  male|29.699|    0|    0|   13.0|       S|           0|\n",
      "|       0|     3|female|  31.0|    1|    0|   18.0|       S|           1|\n",
      "|       1|     3|female|29.699|    0|    0|  7.225|       C|           0|\n",
      "+--------+------+------+------+-----+-----+-------+--------+------------+\n",
      "only showing top 20 rows\n",
      "\n"
     ]
    }
   ],
   "source": [
    "# binning SibSp\n",
    "t = {0:0, 1:1, 2:2, 3:2, 4:2, 5:2, 8:2}\n",
    "Sib = udf(lambda x: t[x], StringType())\n",
    "df_buck = df.withColumn(\"SibSp_bucket\", Sib(\"SibSp\"))\n",
    "df_buck.show()"
   ]
  },
  {
   "cell_type": "code",
   "execution_count": 15,
   "metadata": {},
   "outputs": [
    {
     "name": "stdout",
     "output_type": "stream",
     "text": [
      "+--------+------+------+------+-----+-----+-------+--------+------------+------------+\n",
      "|Survived|Pclass|   Sex|   Age|SibSp|Parch|   Fare|Embarked|SibSp_bucket|Parch_bucket|\n",
      "+--------+------+------+------+-----+-----+-------+--------+------------+------------+\n",
      "|       0|     3|  male|  22.0|    1|    0|   7.25|       S|           1|           0|\n",
      "|       1|     1|female|  38.0|    1|    0|71.2833|       C|           1|           0|\n",
      "|       1|     3|female|  26.0|    0|    0|  7.925|       S|           0|           0|\n",
      "|       1|     1|female|  35.0|    1|    0|   53.1|       S|           1|           0|\n",
      "|       0|     3|  male|  35.0|    0|    0|   8.05|       S|           0|           0|\n",
      "|       0|     3|  male|29.699|    0|    0| 8.4583|       Q|           0|           0|\n",
      "|       0|     1|  male|  54.0|    0|    0|51.8625|       S|           0|           0|\n",
      "|       0|     3|  male|   2.0|    3|    1| 21.075|       S|           2|           1|\n",
      "|       1|     3|female|  27.0|    0|    2|11.1333|       S|           0|           1|\n",
      "|       1|     2|female|  14.0|    1|    0|30.0708|       C|           1|           0|\n",
      "|       1|     3|female|   4.0|    1|    1|   16.7|       S|           1|           1|\n",
      "|       1|     1|female|  58.0|    0|    0|  26.55|       S|           0|           0|\n",
      "|       0|     3|  male|  20.0|    0|    0|   8.05|       S|           0|           0|\n",
      "|       0|     3|  male|  39.0|    1|    5| 31.275|       S|           1|           1|\n",
      "|       0|     3|female|  14.0|    0|    0| 7.8542|       S|           0|           0|\n",
      "|       1|     2|female|  55.0|    0|    0|   16.0|       S|           0|           0|\n",
      "|       0|     3|  male|   2.0|    4|    1| 29.125|       Q|           2|           1|\n",
      "|       1|     2|  male|29.699|    0|    0|   13.0|       S|           0|           0|\n",
      "|       0|     3|female|  31.0|    1|    0|   18.0|       S|           1|           0|\n",
      "|       1|     3|female|29.699|    0|    0|  7.225|       C|           0|           0|\n",
      "+--------+------+------+------+-----+-----+-------+--------+------------+------------+\n",
      "only showing top 20 rows\n",
      "\n"
     ]
    }
   ],
   "source": [
    "# binning Parch\n",
    "t = {0:0, 1:1, 2:1, 3:1, 4:1, 5:1, 6:1}\n",
    "P = udf(lambda x: t[x], StringType())\n",
    "df_buck = df_buck.withColumn(\"Parch_bucket\", P(\"Parch\"))\n",
    "df_buck.show()"
   ]
  },
  {
   "cell_type": "code",
   "execution_count": 16,
   "metadata": {},
   "outputs": [
    {
     "name": "stdout",
     "output_type": "stream",
     "text": [
      "+--------+------+------+------+-------+--------+------------+------------+\n",
      "|Survived|Pclass|   Sex|   Age|   Fare|Embarked|SibSp_bucket|Parch_bucket|\n",
      "+--------+------+------+------+-------+--------+------------+------------+\n",
      "|       0|     3|  male|  22.0|   7.25|       S|           1|           0|\n",
      "|       1|     1|female|  38.0|71.2833|       C|           1|           0|\n",
      "|       1|     3|female|  26.0|  7.925|       S|           0|           0|\n",
      "|       1|     1|female|  35.0|   53.1|       S|           1|           0|\n",
      "|       0|     3|  male|  35.0|   8.05|       S|           0|           0|\n",
      "|       0|     3|  male|29.699| 8.4583|       Q|           0|           0|\n",
      "|       0|     1|  male|  54.0|51.8625|       S|           0|           0|\n",
      "|       0|     3|  male|   2.0| 21.075|       S|           2|           1|\n",
      "|       1|     3|female|  27.0|11.1333|       S|           0|           1|\n",
      "|       1|     2|female|  14.0|30.0708|       C|           1|           0|\n",
      "|       1|     3|female|   4.0|   16.7|       S|           1|           1|\n",
      "|       1|     1|female|  58.0|  26.55|       S|           0|           0|\n",
      "|       0|     3|  male|  20.0|   8.05|       S|           0|           0|\n",
      "|       0|     3|  male|  39.0| 31.275|       S|           1|           1|\n",
      "|       0|     3|female|  14.0| 7.8542|       S|           0|           0|\n",
      "|       1|     2|female|  55.0|   16.0|       S|           0|           0|\n",
      "|       0|     3|  male|   2.0| 29.125|       Q|           2|           1|\n",
      "|       1|     2|  male|29.699|   13.0|       S|           0|           0|\n",
      "|       0|     3|female|  31.0|   18.0|       S|           1|           0|\n",
      "|       1|     3|female|29.699|  7.225|       C|           0|           0|\n",
      "+--------+------+------+------+-------+--------+------------+------------+\n",
      "only showing top 20 rows\n",
      "\n"
     ]
    }
   ],
   "source": [
    "# dropping binned columns\n",
    "columns_to_drop = ['SibSp', 'Parch']\n",
    "df_buck = df_buck.drop(*columns_to_drop)\n",
    "df_buck.show()"
   ]
  },
  {
   "cell_type": "markdown",
   "metadata": {},
   "source": [
    "### OneHotEncode"
   ]
  },
  {
   "cell_type": "code",
   "execution_count": 17,
   "metadata": {},
   "outputs": [
    {
     "name": "stdout",
     "output_type": "stream",
     "text": [
      "root\n",
      " |-- Survived: integer (nullable = true)\n",
      " |-- Pclass: integer (nullable = true)\n",
      " |-- Sex: string (nullable = true)\n",
      " |-- Age: double (nullable = false)\n",
      " |-- Fare: double (nullable = true)\n",
      " |-- Embarked: string (nullable = false)\n",
      " |-- SibSp_bucket: string (nullable = true)\n",
      " |-- Parch_bucket: string (nullable = true)\n",
      "\n"
     ]
    }
   ],
   "source": [
    "df_buck.printSchema()"
   ]
  },
  {
   "cell_type": "code",
   "execution_count": 18,
   "metadata": {},
   "outputs": [],
   "source": [
    "from pyspark.ml.feature import OneHotEncoder\n",
    "FULL_CATE = ['Survived', 'Pclass', 'Sex', 'Embarked', 'SibSp_bucket', 'Parch_bucket']\n",
    "CATE_FEATURES = ['Sex', 'Embarked']\n",
    "CONTI_FEATURES  = ['Age', 'Fare']"
   ]
  },
  {
   "cell_type": "code",
   "execution_count": 19,
   "metadata": {},
   "outputs": [],
   "source": [
    "# encoding sex\n",
    "stringIndexer = StringIndexer(inputCol=\"Sex\", outputCol=\"Sex_index\")\n",
    "model = stringIndexer.fit(df_buck)\n",
    "indexed = model.transform(df_buck)\n",
    "df_buck = indexed\n",
    "\n",
    "# onehotencoding into binary sparse vector\n",
    "encoder = OneHotEncoder(dropLast=False, inputCol=\"Sex_index\", outputCol=\"Sex_encoded\")\n",
    "model_2 = encoder.fit(df_buck)\n",
    "encoded = model_2.transform(df_buck)\n",
    "df_buck = encoded"
   ]
  },
  {
   "cell_type": "code",
   "execution_count": 20,
   "metadata": {},
   "outputs": [],
   "source": [
    "# encoding Embarked\n",
    "stringIndexer = StringIndexer(inputCol=\"Embarked\", outputCol=\"Embarked_index\")\n",
    "model = stringIndexer.fit(df_buck)\n",
    "indexed = model.transform(df_buck)\n",
    "df_buck = indexed\n",
    "\n",
    "encoder = OneHotEncoder(dropLast=False, inputCol=\"Embarked_index\", outputCol=\"Embarked_vec\")\n",
    "model_2 = encoder.fit(df_buck)\n",
    "encoded = model_2.transform(df_buck)\n",
    "df_buck = encoded"
   ]
  },
  {
   "cell_type": "code",
   "execution_count": 21,
   "metadata": {},
   "outputs": [
    {
     "name": "stdout",
     "output_type": "stream",
     "text": [
      "+--------+------+------+------+-------+--------+------------+------------+---------+-------------+--------------+-------------+\n",
      "|Survived|Pclass|   Sex|   Age|   Fare|Embarked|SibSp_bucket|Parch_bucket|Sex_index|  Sex_encoded|Embarked_index| Embarked_vec|\n",
      "+--------+------+------+------+-------+--------+------------+------------+---------+-------------+--------------+-------------+\n",
      "|       0|     3|  male|  22.0|   7.25|       S|           1|           0|      0.0|(2,[0],[1.0])|           0.0|(3,[0],[1.0])|\n",
      "|       1|     1|female|  38.0|71.2833|       C|           1|           0|      1.0|(2,[1],[1.0])|           1.0|(3,[1],[1.0])|\n",
      "|       1|     3|female|  26.0|  7.925|       S|           0|           0|      1.0|(2,[1],[1.0])|           0.0|(3,[0],[1.0])|\n",
      "|       1|     1|female|  35.0|   53.1|       S|           1|           0|      1.0|(2,[1],[1.0])|           0.0|(3,[0],[1.0])|\n",
      "|       0|     3|  male|  35.0|   8.05|       S|           0|           0|      0.0|(2,[0],[1.0])|           0.0|(3,[0],[1.0])|\n",
      "|       0|     3|  male|29.699| 8.4583|       Q|           0|           0|      0.0|(2,[0],[1.0])|           2.0|(3,[2],[1.0])|\n",
      "|       0|     1|  male|  54.0|51.8625|       S|           0|           0|      0.0|(2,[0],[1.0])|           0.0|(3,[0],[1.0])|\n",
      "|       0|     3|  male|   2.0| 21.075|       S|           2|           1|      0.0|(2,[0],[1.0])|           0.0|(3,[0],[1.0])|\n",
      "|       1|     3|female|  27.0|11.1333|       S|           0|           1|      1.0|(2,[1],[1.0])|           0.0|(3,[0],[1.0])|\n",
      "|       1|     2|female|  14.0|30.0708|       C|           1|           0|      1.0|(2,[1],[1.0])|           1.0|(3,[1],[1.0])|\n",
      "|       1|     3|female|   4.0|   16.7|       S|           1|           1|      1.0|(2,[1],[1.0])|           0.0|(3,[0],[1.0])|\n",
      "|       1|     1|female|  58.0|  26.55|       S|           0|           0|      1.0|(2,[1],[1.0])|           0.0|(3,[0],[1.0])|\n",
      "|       0|     3|  male|  20.0|   8.05|       S|           0|           0|      0.0|(2,[0],[1.0])|           0.0|(3,[0],[1.0])|\n",
      "|       0|     3|  male|  39.0| 31.275|       S|           1|           1|      0.0|(2,[0],[1.0])|           0.0|(3,[0],[1.0])|\n",
      "|       0|     3|female|  14.0| 7.8542|       S|           0|           0|      1.0|(2,[1],[1.0])|           0.0|(3,[0],[1.0])|\n",
      "|       1|     2|female|  55.0|   16.0|       S|           0|           0|      1.0|(2,[1],[1.0])|           0.0|(3,[0],[1.0])|\n",
      "|       0|     3|  male|   2.0| 29.125|       Q|           2|           1|      0.0|(2,[0],[1.0])|           2.0|(3,[2],[1.0])|\n",
      "|       1|     2|  male|29.699|   13.0|       S|           0|           0|      0.0|(2,[0],[1.0])|           0.0|(3,[0],[1.0])|\n",
      "|       0|     3|female|  31.0|   18.0|       S|           1|           0|      1.0|(2,[1],[1.0])|           0.0|(3,[0],[1.0])|\n",
      "|       1|     3|female|29.699|  7.225|       C|           0|           0|      1.0|(2,[1],[1.0])|           1.0|(3,[1],[1.0])|\n",
      "+--------+------+------+------+-------+--------+------------+------------+---------+-------------+--------------+-------------+\n",
      "only showing top 20 rows\n",
      "\n"
     ]
    }
   ],
   "source": [
    "df_buck.show()"
   ]
  },
  {
   "cell_type": "markdown",
   "metadata": {},
   "source": [
    "# Convert dataframe to input and label"
   ]
  },
  {
   "cell_type": "code",
   "execution_count": 26,
   "metadata": {},
   "outputs": [
    {
     "name": "stdout",
     "output_type": "stream",
     "text": [
      "root\n",
      " |-- Survived: integer (nullable = true)\n",
      " |-- Pclass: integer (nullable = true)\n",
      " |-- Sex: string (nullable = true)\n",
      " |-- Age: double (nullable = false)\n",
      " |-- Fare: double (nullable = true)\n",
      " |-- Embarked: string (nullable = false)\n",
      " |-- SibSp_bucket: string (nullable = true)\n",
      " |-- Parch_bucket: string (nullable = true)\n",
      " |-- Sex_index: double (nullable = false)\n",
      " |-- Sex_encoded: vector (nullable = true)\n",
      " |-- Embarked_index: double (nullable = false)\n",
      " |-- Embarked_vec: vector (nullable = true)\n",
      "\n"
     ]
    }
   ],
   "source": [
    "df_buck.printSchema()"
   ]
  },
  {
   "cell_type": "code",
   "execution_count": 27,
   "metadata": {},
   "outputs": [
    {
     "name": "stdout",
     "output_type": "stream",
     "text": [
      "root\n",
      " |-- Survived: integer (nullable = true)\n",
      " |-- Pclass: integer (nullable = true)\n",
      " |-- Sex: string (nullable = true)\n",
      " |-- Age: double (nullable = false)\n",
      " |-- Fare: double (nullable = true)\n",
      " |-- Embarked: string (nullable = false)\n",
      " |-- SibSp_bucket: float (nullable = true)\n",
      " |-- Parch_bucket: float (nullable = true)\n",
      " |-- Sex_index: double (nullable = false)\n",
      " |-- Sex_encoded: vector (nullable = true)\n",
      " |-- Embarked_index: double (nullable = false)\n",
      " |-- Embarked_vec: vector (nullable = true)\n",
      "\n"
     ]
    }
   ],
   "source": [
    "def convertColumn(df, names, newType):\n",
    "    for name in names: \n",
    "        df = df.withColumn(name, df[name].cast(newType))\n",
    "    return df \n",
    "\n",
    "f  = ['SibSp_bucket', 'Parch_bucket']\n",
    "# Convert the type\n",
    "df_buck = convertColumn(df_buck, f, FloatType())\n",
    "# Check the dataset\n",
    "df_buck.printSchema()"
   ]
  },
  {
   "cell_type": "code",
   "execution_count": 28,
   "metadata": {},
   "outputs": [],
   "source": [
    "feats = ['Pclass', 'Sex_encoded', 'Embarked_vec', 'SibSp_bucket', 'Parch_bucket', 'Age', 'Fare']"
   ]
  },
  {
   "cell_type": "code",
   "execution_count": 29,
   "metadata": {},
   "outputs": [],
   "source": [
    "assembler =VectorAssembler(inputCols=feats, outputCol=\"vectorized_features\")"
   ]
  },
  {
   "cell_type": "code",
   "execution_count": 30,
   "metadata": {},
   "outputs": [],
   "source": [
    "assembler_df = assembler.transform(df_buck)"
   ]
  },
  {
   "cell_type": "code",
   "execution_count": 34,
   "metadata": {},
   "outputs": [
    {
     "name": "stdout",
     "output_type": "stream",
     "text": [
      "+--------------------+\n",
      "| vectorized_features|\n",
      "+--------------------+\n",
      "|[3.0,1.0,0.0,1.0,...|\n",
      "|[1.0,0.0,1.0,0.0,...|\n",
      "|(10,[0,2,3,8,9],[...|\n",
      "|[1.0,0.0,1.0,1.0,...|\n",
      "|(10,[0,1,3,8,9],[...|\n",
      "|(10,[0,1,5,8,9],[...|\n",
      "|(10,[0,1,3,8,9],[...|\n",
      "|[3.0,1.0,0.0,1.0,...|\n",
      "|[3.0,0.0,1.0,1.0,...|\n",
      "|[2.0,0.0,1.0,0.0,...|\n",
      "|[3.0,0.0,1.0,1.0,...|\n",
      "|(10,[0,2,3,8,9],[...|\n",
      "|(10,[0,1,3,8,9],[...|\n",
      "|[3.0,1.0,0.0,1.0,...|\n",
      "|(10,[0,2,3,8,9],[...|\n",
      "|(10,[0,2,3,8,9],[...|\n",
      "|[3.0,1.0,0.0,0.0,...|\n",
      "|(10,[0,1,3,8,9],[...|\n",
      "|[3.0,0.0,1.0,1.0,...|\n",
      "|(10,[0,2,4,8,9],[...|\n",
      "+--------------------+\n",
      "only showing top 20 rows\n",
      "\n"
     ]
    }
   ],
   "source": [
    "assembler_df.select('vectorized_features').show()"
   ]
  },
  {
   "cell_type": "code",
   "execution_count": 36,
   "metadata": {},
   "outputs": [
    {
     "name": "stdout",
     "output_type": "stream",
     "text": [
      "root\n",
      " |-- Survived: integer (nullable = true)\n",
      " |-- Pclass: integer (nullable = true)\n",
      " |-- Sex: string (nullable = true)\n",
      " |-- Age: double (nullable = false)\n",
      " |-- Fare: double (nullable = true)\n",
      " |-- Embarked: string (nullable = false)\n",
      " |-- SibSp_bucket: float (nullable = true)\n",
      " |-- Parch_bucket: float (nullable = true)\n",
      " |-- Sex_index: double (nullable = false)\n",
      " |-- Sex_encoded: vector (nullable = true)\n",
      " |-- Embarked_index: double (nullable = false)\n",
      " |-- Embarked_vec: vector (nullable = true)\n",
      " |-- vectorized_features: vector (nullable = true)\n",
      "\n"
     ]
    }
   ],
   "source": [
    "assembler_df.printSchema()"
   ]
  },
  {
   "cell_type": "markdown",
   "metadata": {},
   "source": [
    "### StandardScaler"
   ]
  },
  {
   "cell_type": "code",
   "execution_count": 38,
   "metadata": {},
   "outputs": [],
   "source": [
    "scaler = StandardScaler(inputCol='vectorized_features', outputCol=\"features\")\n",
    "scaler_model = scaler.fit(assembler_df)\n",
    "scaler_df = scaler_model.transform(assembler_df)\n",
    "pd.set_option('display.max_colwidth', 100)"
   ]
  },
  {
   "cell_type": "code",
   "execution_count": 39,
   "metadata": {},
   "outputs": [
    {
     "data": {
      "text/html": [
       "<div>\n",
       "<style scoped>\n",
       "    .dataframe tbody tr th:only-of-type {\n",
       "        vertical-align: middle;\n",
       "    }\n",
       "\n",
       "    .dataframe tbody tr th {\n",
       "        vertical-align: top;\n",
       "    }\n",
       "\n",
       "    .dataframe thead th {\n",
       "        text-align: right;\n",
       "    }\n",
       "</style>\n",
       "<table border=\"1\" class=\"dataframe\">\n",
       "  <thead>\n",
       "    <tr style=\"text-align: right;\">\n",
       "      <th></th>\n",
       "      <th>features</th>\n",
       "    </tr>\n",
       "  </thead>\n",
       "  <tbody>\n",
       "    <tr>\n",
       "      <th>0</th>\n",
       "      <td>[3.5882109717039685, 2.0920936665593883, 0.0, 2.238383800770695, 0.0, 0.0, 1.5680682303737414, 0...</td>\n",
       "    </tr>\n",
       "    <tr>\n",
       "      <th>1</th>\n",
       "      <td>[1.1960703239013228, 0.0, 2.0920936665593883, 0.0, 2.5551127307778043, 0.0, 1.5680682303737414, ...</td>\n",
       "    </tr>\n",
       "    <tr>\n",
       "      <th>2</th>\n",
       "      <td>(3.5882109717039685, 0.0, 2.0920936665593883, 2.238383800770695, 0.0, 0.0, 0.0, 0.0, 1.999690013...</td>\n",
       "    </tr>\n",
       "    <tr>\n",
       "      <th>3</th>\n",
       "      <td>[1.1960703239013228, 0.0, 2.0920936665593883, 2.238383800770695, 0.0, 0.0, 1.5680682303737414, 0...</td>\n",
       "    </tr>\n",
       "    <tr>\n",
       "      <th>4</th>\n",
       "      <td>(3.5882109717039685, 2.0920936665593883, 0.0, 2.238383800770695, 0.0, 0.0, 0.0, 0.0, 2.691890402...</td>\n",
       "    </tr>\n",
       "  </tbody>\n",
       "</table>\n",
       "</div>"
      ],
      "text/plain": [
       "                                                                                              features\n",
       "0  [3.5882109717039685, 2.0920936665593883, 0.0, 2.238383800770695, 0.0, 0.0, 1.5680682303737414, 0...\n",
       "1  [1.1960703239013228, 0.0, 2.0920936665593883, 0.0, 2.5551127307778043, 0.0, 1.5680682303737414, ...\n",
       "2  (3.5882109717039685, 0.0, 2.0920936665593883, 2.238383800770695, 0.0, 0.0, 0.0, 0.0, 1.999690013...\n",
       "3  [1.1960703239013228, 0.0, 2.0920936665593883, 2.238383800770695, 0.0, 0.0, 1.5680682303737414, 0...\n",
       "4  (3.5882109717039685, 2.0920936665593883, 0.0, 2.238383800770695, 0.0, 0.0, 0.0, 0.0, 2.691890402..."
      ]
     },
     "execution_count": 39,
     "metadata": {},
     "output_type": "execute_result"
    }
   ],
   "source": [
    "scaler_df.select('features').toPandas().head()"
   ]
  },
  {
   "cell_type": "markdown",
   "metadata": {},
   "source": [
    "### train test split"
   ]
  },
  {
   "cell_type": "code",
   "execution_count": 81,
   "metadata": {},
   "outputs": [],
   "source": [
    "train, test = scaler_df.randomSplit([0.7,0.3])"
   ]
  },
  {
   "cell_type": "markdown",
   "metadata": {},
   "source": [
    "# Model"
   ]
  },
  {
   "cell_type": "code",
   "execution_count": 59,
   "metadata": {},
   "outputs": [],
   "source": [
    "lr = LogisticRegression(featuresCol = 'features', labelCol = 'Survived', maxIter = 5)\n",
    "log_model = lr.fit(train)\n",
    "pred = log_model.transform(test)"
   ]
  },
  {
   "cell_type": "code",
   "execution_count": 45,
   "metadata": {},
   "outputs": [
    {
     "name": "stdout",
     "output_type": "stream",
     "text": [
      "+--------+--------------------+----------+\n",
      "|Survived|         probability|prediction|\n",
      "+--------+--------------------+----------+\n",
      "|       0|[0.11113394681843...|       1.0|\n",
      "|       0|[0.08327034153581...|       1.0|\n",
      "|       0|[0.66184645404030...|       0.0|\n",
      "|       0|[0.43961486950708...|       1.0|\n",
      "|       0|[0.15585690268590...|       1.0|\n",
      "|       0|[0.19870020223729...|       1.0|\n",
      "|       0|[0.77698438009551...|       0.0|\n",
      "|       0|[0.53537494857857...|       0.0|\n",
      "|       0|[0.51578250322547...|       0.0|\n",
      "|       0|[0.70557102881787...|       0.0|\n",
      "|       0|[0.69144734591436...|       0.0|\n",
      "|       0|[0.16862345187322...|       1.0|\n",
      "|       0|[0.54126378656879...|       0.0|\n",
      "|       0|[0.68838090985130...|       0.0|\n",
      "|       0|[0.76472907398039...|       0.0|\n",
      "|       0|[0.53333286639490...|       0.0|\n",
      "|       0|[0.76578139257980...|       0.0|\n",
      "|       0|[0.46732611060681...|       1.0|\n",
      "|       0|[0.76440576151618...|       0.0|\n",
      "|       0|[0.52227230757257...|       0.0|\n",
      "+--------+--------------------+----------+\n",
      "only showing top 20 rows\n",
      "\n"
     ]
    }
   ],
   "source": [
    "pred.select('Survived', 'probability', 'prediction').show()"
   ]
  },
  {
   "cell_type": "code",
   "execution_count": 49,
   "metadata": {},
   "outputs": [
    {
     "name": "stdout",
     "output_type": "stream",
     "text": [
      "0.7793594306049823\n"
     ]
    }
   ],
   "source": [
    "acc = pred.filter(pred.Survived == pred.prediction).count()/pred.count()\n",
    "print(acc)"
   ]
  },
  {
   "cell_type": "markdown",
   "metadata": {},
   "source": [
    "# Hyper param Tuning"
   ]
  },
  {
   "cell_type": "code",
   "execution_count": 84,
   "metadata": {},
   "outputs": [
    {
     "name": "stdout",
     "output_type": "stream",
     "text": [
      "root\n",
      " |-- Survived: integer (nullable = true)\n",
      " |-- Pclass: integer (nullable = true)\n",
      " |-- Sex: string (nullable = true)\n",
      " |-- Age: double (nullable = false)\n",
      " |-- Fare: double (nullable = true)\n",
      " |-- Embarked: string (nullable = false)\n",
      " |-- SibSp_bucket: float (nullable = true)\n",
      " |-- Parch_bucket: float (nullable = true)\n",
      " |-- Sex_index: double (nullable = false)\n",
      " |-- Sex_encoded: vector (nullable = true)\n",
      " |-- Embarked_index: double (nullable = false)\n",
      " |-- Embarked_vec: vector (nullable = true)\n",
      " |-- vectorized_features: vector (nullable = true)\n",
      " |-- features: vector (nullable = true)\n",
      " |-- label: integer (nullable = true)\n",
      "\n"
     ]
    }
   ],
   "source": [
    "train.printSchema()"
   ]
  },
  {
   "cell_type": "code",
   "execution_count": 83,
   "metadata": {},
   "outputs": [],
   "source": [
    "train = train.withColumn(\"label\", col(\"Survived\"))"
   ]
  },
  {
   "cell_type": "code",
   "execution_count": 85,
   "metadata": {},
   "outputs": [],
   "source": [
    "#train = train.selectExpr(\"Survived as label\", \"features as features\")"
   ]
  },
  {
   "cell_type": "code",
   "execution_count": 86,
   "metadata": {},
   "outputs": [],
   "source": [
    "#train.show()"
   ]
  },
  {
   "cell_type": "code",
   "execution_count": 87,
   "metadata": {},
   "outputs": [],
   "source": [
    "params = (ParamGridBuilder()\n",
    "          .addGrid(lr.regParam, [0.01,0.5,1,1.5,2])\n",
    "          .addGrid(lr.elasticNetParam, [0,0.5,1])\n",
    "          .addGrid(lr.maxIter, [1,5,10])\n",
    "          .build()\n",
    "         )\n",
    "evaluator = BinaryClassificationEvaluator()"
   ]
  },
  {
   "cell_type": "code",
   "execution_count": 88,
   "metadata": {},
   "outputs": [],
   "source": [
    "cv = CrossValidator(estimator = lr, estimatorParamMaps= params,evaluator=evaluator, numFolds = 5)"
   ]
  },
  {
   "cell_type": "code",
   "execution_count": 89,
   "metadata": {},
   "outputs": [],
   "source": [
    "cv_model = cv.fit(train)"
   ]
  },
  {
   "cell_type": "code",
   "execution_count": 90,
   "metadata": {},
   "outputs": [],
   "source": [
    "new_pred = cv_model.transform(test)"
   ]
  },
  {
   "cell_type": "code",
   "execution_count": 92,
   "metadata": {},
   "outputs": [
    {
     "name": "stdout",
     "output_type": "stream",
     "text": [
      "0.8175895765472313\n"
     ]
    }
   ],
   "source": [
    "acc2 = new_pred.filter(new_pred.Survived == new_pred.prediction).count()/new_pred.count()\n",
    "print(acc2)"
   ]
  },
  {
   "cell_type": "markdown",
   "metadata": {},
   "source": [
    "### Feature weights"
   ]
  },
  {
   "cell_type": "code",
   "execution_count": 93,
   "metadata": {},
   "outputs": [],
   "source": [
    "weights = cv_model.bestModel.coefficients"
   ]
  },
  {
   "cell_type": "code",
   "execution_count": 94,
   "metadata": {},
   "outputs": [
    {
     "data": {
      "text/plain": [
       "DenseVector([-0.7317, 0.0167, 1.1621, 0.4665, 0.5712, 0.4006, -0.0409, -0.0364, -0.3812, 0.068])"
      ]
     },
     "execution_count": 94,
     "metadata": {},
     "output_type": "execute_result"
    }
   ],
   "source": [
    "weights"
   ]
  },
  {
   "cell_type": "code",
   "execution_count": null,
   "metadata": {},
   "outputs": [],
   "source": []
  },
  {
   "cell_type": "code",
   "execution_count": null,
   "metadata": {},
   "outputs": [],
   "source": []
  },
  {
   "cell_type": "code",
   "execution_count": null,
   "metadata": {},
   "outputs": [],
   "source": []
  },
  {
   "cell_type": "code",
   "execution_count": 32,
   "metadata": {},
   "outputs": [],
   "source": [
    "data['Age'] = data['Age'].fillna(np.mean(data['Age']))\n",
    "data['Embarked'] = data['Embarked'].fillna(data['Embarked'].mode()[0])"
   ]
  },
  {
   "cell_type": "code",
   "execution_count": 44,
   "metadata": {},
   "outputs": [
    {
     "data": {
      "text/plain": [
       "<matplotlib.axes._subplots.AxesSubplot at 0x7f53dc549220>"
      ]
     },
     "execution_count": 44,
     "metadata": {},
     "output_type": "execute_result"
    },
    {
     "data": {
      "image/png": "[encoded data removed]",
      "text/plain": [
       "<Figure size 1008x1008 with 8 Axes>"
      ]
     },
     "metadata": {
      "needs_background": "light"
     },
     "output_type": "display_data"
    }
   ],
   "source": [
    "fig, ax = plt.subplots(4,2, figsize=(14,14))\n",
    "\n",
    "sns.countplot(data['Survived'], ax = ax[0][0])\n",
    "sns.countplot(data['Pclass'], ax = ax[0][1])\n",
    "sns.countplot(data['Sex'], ax = ax[1][0])\n",
    "sns.distplot(data['Age'], ax = ax[1][1])\n",
    "sns.countplot(data['SibSp'], ax = ax[2][0])\n",
    "sns.countplot(data['Parch'], ax = ax[2][1])\n",
    "sns.distplot(data['Fare'], ax = ax[3][0])\n",
    "sns.countplot(data['Embarked'], ax = ax[3][1])"
   ]
  },
  {
   "cell_type": "code",
   "execution_count": null,
   "metadata": {},
   "outputs": [],
   "source": []
  }
 ],
 "metadata": {
  "kernelspec": {
   "display_name": "Python 3",
   "language": "python",
   "name": "python3"
  },
  "language_info": {
   "codemirror_mode": {
    "name": "ipython",
    "version": 3
   },
   "file_extension": ".py",
   "mimetype": "text/x-python",
   "name": "python",
   "nbconvert_exporter": "python",
   "pygments_lexer": "ipython3",
   "version": "3.8.5"
  }
 },
 "nbformat": 4,
 "nbformat_minor": 4
}
