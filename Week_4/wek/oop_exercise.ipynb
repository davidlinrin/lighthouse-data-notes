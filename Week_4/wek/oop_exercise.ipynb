{
 "cells": [
  {
   "cell_type": "markdown",
   "metadata": {},
   "source": [
    "## Exercise 1\n",
    "\n",
    "Write a Python class named `Circle` constructed by a radius and two methods which will compute the area and the perimeter of a circle."
   ]
  },
  {
   "cell_type": "code",
   "execution_count": 23,
   "metadata": {},
   "outputs": [],
   "source": [
    "class Circle():\n",
    "    \n",
    "    pi = 3.14\n",
    "    \n",
    "    def __init__(self, radius):\n",
    "        self.radius = radius\n",
    "        \n",
    "    def area(self):\n",
    "        return(self.pi * self.radius**2)\n",
    "    \n",
    "    def perimeter(self):\n",
    "        return(2*self.pi*self.radius)"
   ]
  },
  {
   "cell_type": "code",
   "execution_count": 24,
   "metadata": {},
   "outputs": [],
   "source": [
    "c1 = Circle(2)"
   ]
  },
  {
   "cell_type": "code",
   "execution_count": 25,
   "metadata": {},
   "outputs": [
    {
     "data": {
      "text/plain": [
       "12.56"
      ]
     },
     "execution_count": 25,
     "metadata": {},
     "output_type": "execute_result"
    }
   ],
   "source": [
    "c1.area()"
   ]
  },
  {
   "cell_type": "markdown",
   "metadata": {},
   "source": [
    "## Exercise 2\n",
    "\n",
    "Create a class called `Numbers`, which has a single class attribute called `MULTIPLIER`, and a constructor which takes the parameters `x` and `y` (these should all be numbers).\n",
    "\n",
    "1. Write a method called `add` which returns the sum of the attributes `x` and `y`.\n",
    "2. Write a class method called `multiply`, which takes a single number parameter `a` and returns the product of `a` and `MULTIPLIER`.\n",
    "3. Write a static method called `subtract`, which takes two number parameters, `b` and `c`, and returns `b - c`.\n",
    "4. (STRETCH) Write a method called `value` which returns a tuple containing the values of `x` and `y`. Make this method into a property, and write a `setter` and a `deleter` for manipulating the values of `x` and `y`."
   ]
  },
  {
   "cell_type": "code",
   "execution_count": 78,
   "metadata": {},
   "outputs": [],
   "source": [
    "class Numbers():\n",
    "    \n",
    "    MULTIPLIER = 5\n",
    "    \n",
    "    def __init__(self,x,y):\n",
    "        self.x = x\n",
    "        self.y = y\n",
    "        \n",
    "    def add(self):\n",
    "        return(self.x + self.y)\n",
    "    \n",
    "    @classmethod\n",
    "    def multiply(cls, a):\n",
    "        return(cls.MULTIPLIER*a)\n",
    "    \n",
    "    @staticmethod\n",
    "    def subtract(b,c):\n",
    "        return(b-c)\n",
    "    \n",
    "    @property\n",
    "    def value(self):\n",
    "        return((self.x,self.y))\n",
    "    \n",
    "    @value.setter\n",
    "    def value(self,tup):\n",
    "        self.x = tup[0]\n",
    "        self.y = tup[1]\n",
    "        \n",
    "    @value.deleter\n",
    "    def value(self):\n",
    "        self.x = None\n",
    "        self.y = None"
   ]
  },
  {
   "cell_type": "code",
   "execution_count": 79,
   "metadata": {},
   "outputs": [],
   "source": [
    "num_1 = Numbers(2,4)"
   ]
  },
  {
   "cell_type": "code",
   "execution_count": 80,
   "metadata": {},
   "outputs": [
    {
     "name": "stdout",
     "output_type": "stream",
     "text": [
      "2\n",
      "4\n",
      "6\n",
      "(2, 4)\n"
     ]
    }
   ],
   "source": [
    "print(num_1.x)\n",
    "print(num_1.y)\n",
    "print(num_1.add())\n",
    "print(num_1.value)"
   ]
  },
  {
   "cell_type": "code",
   "execution_count": 73,
   "metadata": {},
   "outputs": [],
   "source": [
    "num_1.value =(3,6)"
   ]
  },
  {
   "cell_type": "code",
   "execution_count": 74,
   "metadata": {},
   "outputs": [
    {
     "name": "stdout",
     "output_type": "stream",
     "text": [
      "3\n",
      "6\n",
      "9\n",
      "(3, 6)\n"
     ]
    }
   ],
   "source": [
    "print(num_1.x)\n",
    "print(num_1.y)\n",
    "print(num_1.add())\n",
    "print(num_1.value)"
   ]
  }
 ],
 "metadata": {
  "kernelspec": {
   "display_name": "Python 3",
   "language": "python",
   "name": "python3"
  },
  "language_info": {
   "codemirror_mode": {
    "name": "ipython",
    "version": 3
   },
   "file_extension": ".py",
   "mimetype": "text/x-python",
   "name": "python",
   "nbconvert_exporter": "python",
   "pygments_lexer": "ipython3",
   "version": "3.8.2"
  }
 },
 "nbformat": 4,
 "nbformat_minor": 4
}
