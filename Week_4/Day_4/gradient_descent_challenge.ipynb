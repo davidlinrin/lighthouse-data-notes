{
 "cells": [
  {
   "cell_type": "markdown",
   "metadata": {},
   "source": [
    "# Optimization exercise"
   ]
  },
  {
   "cell_type": "markdown",
   "metadata": {},
   "source": [
    "## Goal: Train the 2nd order polynomial predictor using both gradient descent and stochastic gradient descent. Optimize the stepsizes and compare against scikit-learn implementation"
   ]
  },
  {
   "cell_type": "markdown",
   "metadata": {},
   "source": [
    "1. Download data from https://drive.google.com/file/d/0Bz9_0VdXvv9bUUNlUTVrMF9VcVU/view?usp=sharing.\n",
    "2. Create a function psi(x), which transforms features AST (assists), REB (rebounds) and STL (steals) into 2nd order polynomial features (add each feature squared and each pair of features multiplied with every other)\n",
    "3. Create a transformed data matrix X, where each x is mapped to psi(x).\n",
    "4. Create a function p2(x,w), which outputs the value of the polynomial at x for given parameters w.\n",
    "5. Create a function Loss(X,y,w), which computes the squared loss of predicting y from X by p2(x,w) using parameters w. Take variable PTS as y. We will predict scored points based on assists, rebounds and steals.\n",
    "6. Code up the gradient descent. It should input a point w and a stepsize.\n",
    "7. Choose an arbitrary point and stepsize. Run gradient descent for 100 iterations and compute the Loss after each iteration. How does the loss behave? Does it converge to something?\n",
    "8. Can you find the stepsize, for which the loss is smallest after 100 iterations?"
   ]
  },
  {
   "cell_type": "code",
   "execution_count": 348,
   "metadata": {},
   "outputs": [],
   "source": [
    "# IMPORT PACKAGES\n",
    "import matplotlib.pyplot as plt\n",
    "import numpy as np \n",
    "import pandas as pd \n",
    "import random\n",
    "from matplotlib.pylab import rcParams\n",
    "from sklearn.preprocessing import PolynomialFeatures\n",
    "from sklearn.linear_model import LinearRegression\n",
    "from sklearn.linear_model import Ridge\n",
    "from sklearn.linear_model import Lasso\n",
    "import copy\n",
    "%matplotlib inline"
   ]
  },
  {
   "cell_type": "markdown",
   "metadata": {},
   "source": [
    "# 1)"
   ]
  },
  {
   "cell_type": "code",
   "execution_count": 389,
   "metadata": {},
   "outputs": [],
   "source": [
    "nb = pd.read_csv('nba_games_2013_2015.csv', delimiter=';')\n",
    "x = nb[['AST','REB','STL']]\n",
    "y = nb['PTS']"
   ]
  },
  {
   "cell_type": "code",
   "execution_count": 421,
   "metadata": {},
   "outputs": [
    {
     "data": {
      "text/html": [
       "<div>\n",
       "<style scoped>\n",
       "    .dataframe tbody tr th:only-of-type {\n",
       "        vertical-align: middle;\n",
       "    }\n",
       "\n",
       "    .dataframe tbody tr th {\n",
       "        vertical-align: top;\n",
       "    }\n",
       "\n",
       "    .dataframe thead th {\n",
       "        text-align: right;\n",
       "    }\n",
       "</style>\n",
       "<table border=\"1\" class=\"dataframe\">\n",
       "  <thead>\n",
       "    <tr style=\"text-align: right;\">\n",
       "      <th></th>\n",
       "      <th>AST</th>\n",
       "      <th>REB</th>\n",
       "      <th>STL</th>\n",
       "    </tr>\n",
       "  </thead>\n",
       "  <tbody>\n",
       "    <tr>\n",
       "      <th>0</th>\n",
       "      <td>41</td>\n",
       "      <td>43</td>\n",
       "      <td>14</td>\n",
       "    </tr>\n",
       "    <tr>\n",
       "      <th>1</th>\n",
       "      <td>23</td>\n",
       "      <td>43</td>\n",
       "      <td>8</td>\n",
       "    </tr>\n",
       "    <tr>\n",
       "      <th>2</th>\n",
       "      <td>20</td>\n",
       "      <td>39</td>\n",
       "      <td>7</td>\n",
       "    </tr>\n",
       "    <tr>\n",
       "      <th>3</th>\n",
       "      <td>19</td>\n",
       "      <td>47</td>\n",
       "      <td>6</td>\n",
       "    </tr>\n",
       "    <tr>\n",
       "      <th>4</th>\n",
       "      <td>21</td>\n",
       "      <td>43</td>\n",
       "      <td>4</td>\n",
       "    </tr>\n",
       "  </tbody>\n",
       "</table>\n",
       "</div>"
      ],
      "text/plain": [
       "   AST  REB  STL\n",
       "0   41   43   14\n",
       "1   23   43    8\n",
       "2   20   39    7\n",
       "3   19   47    6\n",
       "4   21   43    4"
      ]
     },
     "execution_count": 421,
     "metadata": {},
     "output_type": "execute_result"
    }
   ],
   "source": [
    "x.head()"
   ]
  },
  {
   "cell_type": "markdown",
   "metadata": {},
   "source": [
    "# 2)"
   ]
  },
  {
   "cell_type": "code",
   "execution_count": 350,
   "metadata": {},
   "outputs": [],
   "source": [
    "def psi(x):\n",
    "    X = copy.deepcopy(x)\n",
    "    length = len(X.columns)\n",
    "    for i in range(len(X.columns)):\n",
    "        X[f'{X.columns[i]}_squared'] = X[X.columns[i]]**2\n",
    "        for j in range(i+1,length):\n",
    "            X[f'{X.columns[i]}_{X.columns[j]}'] = X[X.columns[i]]*X[X.columns[j]]\n",
    "    return(X)"
   ]
  },
  {
   "cell_type": "markdown",
   "metadata": {},
   "source": [
    "# 3)"
   ]
  },
  {
   "cell_type": "code",
   "execution_count": 351,
   "metadata": {},
   "outputs": [
    {
     "data": {
      "text/html": [
       "<div>\n",
       "<style scoped>\n",
       "    .dataframe tbody tr th:only-of-type {\n",
       "        vertical-align: middle;\n",
       "    }\n",
       "\n",
       "    .dataframe tbody tr th {\n",
       "        vertical-align: top;\n",
       "    }\n",
       "\n",
       "    .dataframe thead th {\n",
       "        text-align: right;\n",
       "    }\n",
       "</style>\n",
       "<table border=\"1\" class=\"dataframe\">\n",
       "  <thead>\n",
       "    <tr style=\"text-align: right;\">\n",
       "      <th></th>\n",
       "      <th>AST</th>\n",
       "      <th>REB</th>\n",
       "      <th>STL</th>\n",
       "      <th>AST_squared</th>\n",
       "      <th>AST_REB</th>\n",
       "      <th>AST_STL</th>\n",
       "      <th>REB_squared</th>\n",
       "      <th>REB_STL</th>\n",
       "      <th>STL_squared</th>\n",
       "    </tr>\n",
       "  </thead>\n",
       "  <tbody>\n",
       "    <tr>\n",
       "      <th>0</th>\n",
       "      <td>41</td>\n",
       "      <td>43</td>\n",
       "      <td>14</td>\n",
       "      <td>1681</td>\n",
       "      <td>1763</td>\n",
       "      <td>574</td>\n",
       "      <td>1849</td>\n",
       "      <td>602</td>\n",
       "      <td>196</td>\n",
       "    </tr>\n",
       "    <tr>\n",
       "      <th>1</th>\n",
       "      <td>23</td>\n",
       "      <td>43</td>\n",
       "      <td>8</td>\n",
       "      <td>529</td>\n",
       "      <td>989</td>\n",
       "      <td>184</td>\n",
       "      <td>1849</td>\n",
       "      <td>344</td>\n",
       "      <td>64</td>\n",
       "    </tr>\n",
       "    <tr>\n",
       "      <th>2</th>\n",
       "      <td>20</td>\n",
       "      <td>39</td>\n",
       "      <td>7</td>\n",
       "      <td>400</td>\n",
       "      <td>780</td>\n",
       "      <td>140</td>\n",
       "      <td>1521</td>\n",
       "      <td>273</td>\n",
       "      <td>49</td>\n",
       "    </tr>\n",
       "    <tr>\n",
       "      <th>3</th>\n",
       "      <td>19</td>\n",
       "      <td>47</td>\n",
       "      <td>6</td>\n",
       "      <td>361</td>\n",
       "      <td>893</td>\n",
       "      <td>114</td>\n",
       "      <td>2209</td>\n",
       "      <td>282</td>\n",
       "      <td>36</td>\n",
       "    </tr>\n",
       "    <tr>\n",
       "      <th>4</th>\n",
       "      <td>21</td>\n",
       "      <td>43</td>\n",
       "      <td>4</td>\n",
       "      <td>441</td>\n",
       "      <td>903</td>\n",
       "      <td>84</td>\n",
       "      <td>1849</td>\n",
       "      <td>172</td>\n",
       "      <td>16</td>\n",
       "    </tr>\n",
       "  </tbody>\n",
       "</table>\n",
       "</div>"
      ],
      "text/plain": [
       "   AST  REB  STL  AST_squared  AST_REB  AST_STL  REB_squared  REB_STL  \\\n",
       "0   41   43   14         1681     1763      574         1849      602   \n",
       "1   23   43    8          529      989      184         1849      344   \n",
       "2   20   39    7          400      780      140         1521      273   \n",
       "3   19   47    6          361      893      114         2209      282   \n",
       "4   21   43    4          441      903       84         1849      172   \n",
       "\n",
       "   STL_squared  \n",
       "0          196  \n",
       "1           64  \n",
       "2           49  \n",
       "3           36  \n",
       "4           16  "
      ]
     },
     "execution_count": 351,
     "metadata": {},
     "output_type": "execute_result"
    }
   ],
   "source": [
    "X = psi(x)\n",
    "X.head()"
   ]
  },
  {
   "cell_type": "markdown",
   "metadata": {},
   "source": [
    "# 4)"
   ]
  },
  {
   "cell_type": "code",
   "execution_count": 398,
   "metadata": {},
   "outputs": [],
   "source": [
    "def p2(x,params):\n",
    "    y_pred = np.zeros(x.shape[0])\n",
    "    for i in range(len(x.columns)):\n",
    "        y_pred = y_pred + x[x.columns[i]]*params[i]\n",
    "    return(y_pred)"
   ]
  },
  {
   "cell_type": "code",
   "execution_count": 457,
   "metadata": {},
   "outputs": [
    {
     "data": {
      "text/plain": [
       "array([0., 0., 0., 0., 0., 0., 0., 0., 0.])"
      ]
     },
     "execution_count": 457,
     "metadata": {},
     "output_type": "execute_result"
    }
   ],
   "source": [
    "theta"
   ]
  },
  {
   "cell_type": "code",
   "execution_count": 458,
   "metadata": {},
   "outputs": [
    {
     "data": {
      "text/plain": [
       "0       0.0\n",
       "1       0.0\n",
       "2       0.0\n",
       "3       0.0\n",
       "4       0.0\n",
       "       ... \n",
       "7375    0.0\n",
       "7376    0.0\n",
       "7377    0.0\n",
       "7378    0.0\n",
       "7379    0.0\n",
       "Length: 7380, dtype: float64"
      ]
     },
     "execution_count": 458,
     "metadata": {},
     "output_type": "execute_result"
    }
   ],
   "source": [
    "y_result = p2(X,theta)\n",
    "y_result"
   ]
  },
  {
   "cell_type": "markdown",
   "metadata": {},
   "source": [
    "# 5)"
   ]
  },
  {
   "cell_type": "code",
   "execution_count": 431,
   "metadata": {},
   "outputs": [],
   "source": [
    "def p2(x,params):\n",
    "    y_pred = np.zeros(x.shape[0])\n",
    "    for i in range(len(x.columns)):\n",
    "        y_pred = y_pred + x[x.columns[i]]*params[i]\n",
    "    return(y_pred)"
   ]
  },
  {
   "cell_type": "code",
   "execution_count": 435,
   "metadata": {},
   "outputs": [
    {
     "data": {
      "text/html": [
       "<div>\n",
       "<style scoped>\n",
       "    .dataframe tbody tr th:only-of-type {\n",
       "        vertical-align: middle;\n",
       "    }\n",
       "\n",
       "    .dataframe tbody tr th {\n",
       "        vertical-align: top;\n",
       "    }\n",
       "\n",
       "    .dataframe thead th {\n",
       "        text-align: right;\n",
       "    }\n",
       "</style>\n",
       "<table border=\"1\" class=\"dataframe\">\n",
       "  <thead>\n",
       "    <tr style=\"text-align: right;\">\n",
       "      <th></th>\n",
       "      <th>AST</th>\n",
       "      <th>REB</th>\n",
       "      <th>STL</th>\n",
       "      <th>AST_squared</th>\n",
       "      <th>AST_REB</th>\n",
       "      <th>AST_STL</th>\n",
       "      <th>REB_squared</th>\n",
       "      <th>REB_STL</th>\n",
       "      <th>STL_squared</th>\n",
       "    </tr>\n",
       "  </thead>\n",
       "  <tbody>\n",
       "    <tr>\n",
       "      <th>0</th>\n",
       "      <td>41</td>\n",
       "      <td>43</td>\n",
       "      <td>14</td>\n",
       "      <td>1681</td>\n",
       "      <td>1763</td>\n",
       "      <td>574</td>\n",
       "      <td>1849</td>\n",
       "      <td>602</td>\n",
       "      <td>196</td>\n",
       "    </tr>\n",
       "    <tr>\n",
       "      <th>1</th>\n",
       "      <td>23</td>\n",
       "      <td>43</td>\n",
       "      <td>8</td>\n",
       "      <td>529</td>\n",
       "      <td>989</td>\n",
       "      <td>184</td>\n",
       "      <td>1849</td>\n",
       "      <td>344</td>\n",
       "      <td>64</td>\n",
       "    </tr>\n",
       "    <tr>\n",
       "      <th>2</th>\n",
       "      <td>20</td>\n",
       "      <td>39</td>\n",
       "      <td>7</td>\n",
       "      <td>400</td>\n",
       "      <td>780</td>\n",
       "      <td>140</td>\n",
       "      <td>1521</td>\n",
       "      <td>273</td>\n",
       "      <td>49</td>\n",
       "    </tr>\n",
       "    <tr>\n",
       "      <th>3</th>\n",
       "      <td>19</td>\n",
       "      <td>47</td>\n",
       "      <td>6</td>\n",
       "      <td>361</td>\n",
       "      <td>893</td>\n",
       "      <td>114</td>\n",
       "      <td>2209</td>\n",
       "      <td>282</td>\n",
       "      <td>36</td>\n",
       "    </tr>\n",
       "    <tr>\n",
       "      <th>4</th>\n",
       "      <td>21</td>\n",
       "      <td>43</td>\n",
       "      <td>4</td>\n",
       "      <td>441</td>\n",
       "      <td>903</td>\n",
       "      <td>84</td>\n",
       "      <td>1849</td>\n",
       "      <td>172</td>\n",
       "      <td>16</td>\n",
       "    </tr>\n",
       "  </tbody>\n",
       "</table>\n",
       "</div>"
      ],
      "text/plain": [
       "   AST  REB  STL  AST_squared  AST_REB  AST_STL  REB_squared  REB_STL  \\\n",
       "0   41   43   14         1681     1763      574         1849      602   \n",
       "1   23   43    8          529      989      184         1849      344   \n",
       "2   20   39    7          400      780      140         1521      273   \n",
       "3   19   47    6          361      893      114         2209      282   \n",
       "4   21   43    4          441      903       84         1849      172   \n",
       "\n",
       "   STL_squared  \n",
       "0          196  \n",
       "1           64  \n",
       "2           49  \n",
       "3           36  \n",
       "4           16  "
      ]
     },
     "execution_count": 435,
     "metadata": {},
     "output_type": "execute_result"
    }
   ],
   "source": [
    "X.head()"
   ]
  },
  {
   "cell_type": "code",
   "execution_count": 434,
   "metadata": {},
   "outputs": [
    {
     "data": {
      "text/plain": [
       "0       6763.0\n",
       "1       4033.0\n",
       "2       3229.0\n",
       "3       3967.0\n",
       "4       3533.0\n",
       "         ...  \n",
       "7375    3199.0\n",
       "7376    4152.0\n",
       "7377    5176.0\n",
       "7378    4053.0\n",
       "7379    3298.0\n",
       "Length: 7380, dtype: float64"
      ]
     },
     "execution_count": 434,
     "metadata": {},
     "output_type": "execute_result"
    }
   ],
   "source": [
    "y_result = p2(X,theta)\n",
    "y_result"
   ]
  },
  {
   "cell_type": "code",
   "execution_count": 432,
   "metadata": {},
   "outputs": [],
   "source": [
    "def Loss(X,y,w):\n",
    "    y_res = p2(X,w)\n",
    "    err = (y - y_res)**2\n",
    "    SSL = sum(err)\n",
    "    return(SSL)"
   ]
  },
  {
   "cell_type": "code",
   "execution_count": 433,
   "metadata": {},
   "outputs": [
    {
     "data": {
      "text/plain": [
       "120827940125.0"
      ]
     },
     "execution_count": 433,
     "metadata": {},
     "output_type": "execute_result"
    }
   ],
   "source": [
    "Loss(X,y,theta)"
   ]
  },
  {
   "cell_type": "markdown",
   "metadata": {},
   "source": [
    "# 6)"
   ]
  },
  {
   "cell_type": "code",
   "execution_count": 467,
   "metadata": {},
   "outputs": [],
   "source": [
    "alpha = 0.00000001 #learning rate\n",
    "iterations = 100 #No. of iterations\n",
    "m = y.size #No. of data points\n",
    "np.random.seed(0) #Set the seed\n",
    "theta = np.zeros(9) #Pick some random values to start with - we a"
   ]
  },
  {
   "cell_type": "code",
   "execution_count": 469,
   "metadata": {},
   "outputs": [],
   "source": [
    "def grad_descent(X_mat, y, alpha, w, max_iters):\n",
    "    \n",
    "    df = copy.deepcopy(X_mat)\n",
    "    m = len(y)\n",
    "    \n",
    "    loss_func_history = []\n",
    "    loss_func_history.append(Loss(X,y,w))\n",
    "    \n",
    "    for k in range(max_iters):\n",
    "        predictions = p2(x, w)\n",
    "        w_size = len(w)\n",
    "        \n",
    "        for i in range(w_size):\n",
    "            temp = df.iloc[:, i]\n",
    "            errors_x1 = (predictions - y) * temp\n",
    "            w[i] = w[i] - alpha * (1.0 / m) * errors_x1.sum()\n",
    "            \n",
    "        loss_func_history.append(Loss(X,y,w))\n",
    "        \n",
    "    return loss_func_history"
   ]
  },
  {
   "cell_type": "code",
   "execution_count": 459,
   "metadata": {},
   "outputs": [],
   "source": [
    "def gradient(df, y, theta, iterations, alpha):\n",
    "    \n",
    "    x = copy.deepcopy(df)\n",
    "    n = len(y)\n",
    "    \n",
    "    my_loss = [Loss(X,y,theta)]\n",
    "    my_theta = [theta]\n",
    "    cur_theta = theta\n",
    "    \n",
    "    for i in range(iterations):\n",
    "        \n",
    "        predictions = p2(x,theta)\n",
    "        error = y - predictions\n",
    "        my_loss.append(Loss(x,y,theta))\n",
    "        \n",
    "        theta = theta - ( (alpha/n) * np.dot(x.T, error))\n",
    "        \n",
    "        my_theta.append(theta)\n",
    "        \n",
    "    return(my_loss, my_theta)\n",
    "        "
   ]
  },
  {
   "cell_type": "markdown",
   "metadata": {},
   "source": [
    "# 7) does not converge...."
   ]
  },
  {
   "cell_type": "markdown",
   "metadata": {},
   "source": [
    "# 8) the initial random theta yields lowest loss...."
   ]
  },
  {
   "cell_type": "code",
   "execution_count": null,
   "metadata": {},
   "outputs": [],
   "source": []
  },
  {
   "cell_type": "code",
   "execution_count": null,
   "metadata": {},
   "outputs": [],
   "source": []
  },
  {
   "cell_type": "code",
   "execution_count": 455,
   "metadata": {},
   "outputs": [],
   "source": [
    "poly = PolynomialFeatures(2)\n",
    "X_test = pd.DataFrame(poly.fit_transform(x))"
   ]
  },
  {
   "cell_type": "code",
   "execution_count": 456,
   "metadata": {},
   "outputs": [
    {
     "data": {
      "text/html": [
       "<div>\n",
       "<style scoped>\n",
       "    .dataframe tbody tr th:only-of-type {\n",
       "        vertical-align: middle;\n",
       "    }\n",
       "\n",
       "    .dataframe tbody tr th {\n",
       "        vertical-align: top;\n",
       "    }\n",
       "\n",
       "    .dataframe thead th {\n",
       "        text-align: right;\n",
       "    }\n",
       "</style>\n",
       "<table border=\"1\" class=\"dataframe\">\n",
       "  <thead>\n",
       "    <tr style=\"text-align: right;\">\n",
       "      <th></th>\n",
       "      <th>0</th>\n",
       "      <th>1</th>\n",
       "      <th>2</th>\n",
       "      <th>3</th>\n",
       "      <th>4</th>\n",
       "      <th>5</th>\n",
       "      <th>6</th>\n",
       "      <th>7</th>\n",
       "      <th>8</th>\n",
       "      <th>9</th>\n",
       "    </tr>\n",
       "  </thead>\n",
       "  <tbody>\n",
       "    <tr>\n",
       "      <th>0</th>\n",
       "      <td>1.0</td>\n",
       "      <td>41.0</td>\n",
       "      <td>43.0</td>\n",
       "      <td>14.0</td>\n",
       "      <td>1681.0</td>\n",
       "      <td>1763.0</td>\n",
       "      <td>574.0</td>\n",
       "      <td>1849.0</td>\n",
       "      <td>602.0</td>\n",
       "      <td>196.0</td>\n",
       "    </tr>\n",
       "    <tr>\n",
       "      <th>1</th>\n",
       "      <td>1.0</td>\n",
       "      <td>23.0</td>\n",
       "      <td>43.0</td>\n",
       "      <td>8.0</td>\n",
       "      <td>529.0</td>\n",
       "      <td>989.0</td>\n",
       "      <td>184.0</td>\n",
       "      <td>1849.0</td>\n",
       "      <td>344.0</td>\n",
       "      <td>64.0</td>\n",
       "    </tr>\n",
       "    <tr>\n",
       "      <th>2</th>\n",
       "      <td>1.0</td>\n",
       "      <td>20.0</td>\n",
       "      <td>39.0</td>\n",
       "      <td>7.0</td>\n",
       "      <td>400.0</td>\n",
       "      <td>780.0</td>\n",
       "      <td>140.0</td>\n",
       "      <td>1521.0</td>\n",
       "      <td>273.0</td>\n",
       "      <td>49.0</td>\n",
       "    </tr>\n",
       "    <tr>\n",
       "      <th>3</th>\n",
       "      <td>1.0</td>\n",
       "      <td>19.0</td>\n",
       "      <td>47.0</td>\n",
       "      <td>6.0</td>\n",
       "      <td>361.0</td>\n",
       "      <td>893.0</td>\n",
       "      <td>114.0</td>\n",
       "      <td>2209.0</td>\n",
       "      <td>282.0</td>\n",
       "      <td>36.0</td>\n",
       "    </tr>\n",
       "    <tr>\n",
       "      <th>4</th>\n",
       "      <td>1.0</td>\n",
       "      <td>21.0</td>\n",
       "      <td>43.0</td>\n",
       "      <td>4.0</td>\n",
       "      <td>441.0</td>\n",
       "      <td>903.0</td>\n",
       "      <td>84.0</td>\n",
       "      <td>1849.0</td>\n",
       "      <td>172.0</td>\n",
       "      <td>16.0</td>\n",
       "    </tr>\n",
       "    <tr>\n",
       "      <th>...</th>\n",
       "      <td>...</td>\n",
       "      <td>...</td>\n",
       "      <td>...</td>\n",
       "      <td>...</td>\n",
       "      <td>...</td>\n",
       "      <td>...</td>\n",
       "      <td>...</td>\n",
       "      <td>...</td>\n",
       "      <td>...</td>\n",
       "      <td>...</td>\n",
       "    </tr>\n",
       "    <tr>\n",
       "      <th>7375</th>\n",
       "      <td>1.0</td>\n",
       "      <td>17.0</td>\n",
       "      <td>39.0</td>\n",
       "      <td>10.0</td>\n",
       "      <td>289.0</td>\n",
       "      <td>663.0</td>\n",
       "      <td>170.0</td>\n",
       "      <td>1521.0</td>\n",
       "      <td>390.0</td>\n",
       "      <td>100.0</td>\n",
       "    </tr>\n",
       "    <tr>\n",
       "      <th>7376</th>\n",
       "      <td>1.0</td>\n",
       "      <td>26.0</td>\n",
       "      <td>40.0</td>\n",
       "      <td>10.0</td>\n",
       "      <td>676.0</td>\n",
       "      <td>1040.0</td>\n",
       "      <td>260.0</td>\n",
       "      <td>1600.0</td>\n",
       "      <td>400.0</td>\n",
       "      <td>100.0</td>\n",
       "    </tr>\n",
       "    <tr>\n",
       "      <th>7377</th>\n",
       "      <td>1.0</td>\n",
       "      <td>23.0</td>\n",
       "      <td>52.0</td>\n",
       "      <td>8.0</td>\n",
       "      <td>529.0</td>\n",
       "      <td>1196.0</td>\n",
       "      <td>184.0</td>\n",
       "      <td>2704.0</td>\n",
       "      <td>416.0</td>\n",
       "      <td>64.0</td>\n",
       "    </tr>\n",
       "    <tr>\n",
       "      <th>7378</th>\n",
       "      <td>1.0</td>\n",
       "      <td>23.0</td>\n",
       "      <td>41.0</td>\n",
       "      <td>11.0</td>\n",
       "      <td>529.0</td>\n",
       "      <td>943.0</td>\n",
       "      <td>253.0</td>\n",
       "      <td>1681.0</td>\n",
       "      <td>451.0</td>\n",
       "      <td>121.0</td>\n",
       "    </tr>\n",
       "    <tr>\n",
       "      <th>7379</th>\n",
       "      <td>1.0</td>\n",
       "      <td>17.0</td>\n",
       "      <td>44.0</td>\n",
       "      <td>4.0</td>\n",
       "      <td>289.0</td>\n",
       "      <td>748.0</td>\n",
       "      <td>68.0</td>\n",
       "      <td>1936.0</td>\n",
       "      <td>176.0</td>\n",
       "      <td>16.0</td>\n",
       "    </tr>\n",
       "  </tbody>\n",
       "</table>\n",
       "<p>7380 rows × 10 columns</p>\n",
       "</div>"
      ],
      "text/plain": [
       "        0     1     2     3       4       5      6       7      8      9\n",
       "0     1.0  41.0  43.0  14.0  1681.0  1763.0  574.0  1849.0  602.0  196.0\n",
       "1     1.0  23.0  43.0   8.0   529.0   989.0  184.0  1849.0  344.0   64.0\n",
       "2     1.0  20.0  39.0   7.0   400.0   780.0  140.0  1521.0  273.0   49.0\n",
       "3     1.0  19.0  47.0   6.0   361.0   893.0  114.0  2209.0  282.0   36.0\n",
       "4     1.0  21.0  43.0   4.0   441.0   903.0   84.0  1849.0  172.0   16.0\n",
       "...   ...   ...   ...   ...     ...     ...    ...     ...    ...    ...\n",
       "7375  1.0  17.0  39.0  10.0   289.0   663.0  170.0  1521.0  390.0  100.0\n",
       "7376  1.0  26.0  40.0  10.0   676.0  1040.0  260.0  1600.0  400.0  100.0\n",
       "7377  1.0  23.0  52.0   8.0   529.0  1196.0  184.0  2704.0  416.0   64.0\n",
       "7378  1.0  23.0  41.0  11.0   529.0   943.0  253.0  1681.0  451.0  121.0\n",
       "7379  1.0  17.0  44.0   4.0   289.0   748.0   68.0  1936.0  176.0   16.0\n",
       "\n",
       "[7380 rows x 10 columns]"
      ]
     },
     "execution_count": 456,
     "metadata": {},
     "output_type": "execute_result"
    }
   ],
   "source": [
    "X_test"
   ]
  },
  {
   "cell_type": "code",
   "execution_count": null,
   "metadata": {},
   "outputs": [],
   "source": []
  }
 ],
 "metadata": {
  "kernelspec": {
   "display_name": "Python 3",
   "language": "python",
   "name": "python3"
  },
  "language_info": {
   "codemirror_mode": {
    "name": "ipython",
    "version": 3
   },
   "file_extension": ".py",
   "mimetype": "text/x-python",
   "name": "python",
   "nbconvert_exporter": "python",
   "pygments_lexer": "ipython3",
   "version": "3.8.2"
  }
 },
 "nbformat": 4,
 "nbformat_minor": 4
}
