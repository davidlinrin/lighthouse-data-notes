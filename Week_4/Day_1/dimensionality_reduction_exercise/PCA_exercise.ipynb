{
 "cells": [
  {
   "cell_type": "markdown",
   "metadata": {},
   "source": [
    "## Dimensionality reduction\n",
    "\n",
    "We will test some of the dimensionality reduction techniques on the [UFO dataset](https://drive.google.com/file/d/0B2gZvn36c5CmRTJpS3pkUllmX1U/view?usp=sharing) from the last week."
   ]
  },
  {
   "cell_type": "markdown",
   "metadata": {},
   "source": [
    "\n",
    "\n",
    "\n",
    "### PCA\n",
    "\n",
    "Subset all **weather related** features from the data and run PCA over it. \n",
    "\n",
    "\n",
    "1. Extract the 2 best principal components (k=2). \n",
    "1. Plot the **feature** space into the new space. \n",
    "    - We should create a scatter plot with 1st component on the axis x and second component on y. \n",
    "    - The length of each component is equal to number of columns (features) we have in our data before PCA.\n",
    "    - Points in the graph that are close to each other are similar features. We need to anotate the points with feature names.\n",
    "1. Observe which features have similar meaning and which have opposite.\n",
    "    - Features close to each other have similar meaning.\n",
    "1. Select the optimal number of dimensions to keep - *k* (find the explained variance of each component and use the elbow rule)\n",
    "1. Create a projection of your data into the *k* axes of the trained PCA\n",
    "1. Export the data with the new features. Number of rows should be the same as in the original dataset."
   ]
  },
  {
   "cell_type": "code",
   "execution_count": 505,
   "metadata": {},
   "outputs": [],
   "source": [
    "import pandas as pd\n",
    "import numpy as np\n",
    "\n",
    "import matplotlib.cm as cm\n",
    "import matplotlib.pyplot as plt\n",
    "import seaborn as sns\n",
    "import os\n",
    "\n",
    "from scipy import stats\n",
    "from sklearn.preprocessing import StandardScaler\n",
    "from sklearn.decomposition import PCA\n",
    "\n",
    "import datetime"
   ]
  },
  {
   "cell_type": "code",
   "execution_count": 512,
   "metadata": {},
   "outputs": [],
   "source": [
    "data = pd.read_csv('UFO_for_PCA.csv', header = 0, sep = ',')"
   ]
  },
  {
   "cell_type": "code",
   "execution_count": 513,
   "metadata": {},
   "outputs": [
    {
     "data": {
      "text/html": [
       "<div>\n",
       "<style scoped>\n",
       "    .dataframe tbody tr th:only-of-type {\n",
       "        vertical-align: middle;\n",
       "    }\n",
       "\n",
       "    .dataframe tbody tr th {\n",
       "        vertical-align: top;\n",
       "    }\n",
       "\n",
       "    .dataframe thead th {\n",
       "        text-align: right;\n",
       "    }\n",
       "</style>\n",
       "<table border=\"1\" class=\"dataframe\">\n",
       "  <thead>\n",
       "    <tr style=\"text-align: right;\">\n",
       "      <th></th>\n",
       "      <th>Unnamed: 0</th>\n",
       "      <th>shape</th>\n",
       "      <th>duration_seconds</th>\n",
       "      <th>lat</th>\n",
       "      <th>lng</th>\n",
       "      <th>cloudCover</th>\n",
       "      <th>humidity</th>\n",
       "      <th>precipIntensity</th>\n",
       "      <th>precipProbability</th>\n",
       "      <th>precipType</th>\n",
       "      <th>pressure</th>\n",
       "      <th>temperature</th>\n",
       "      <th>visibility</th>\n",
       "      <th>windBearing</th>\n",
       "      <th>windSpeed</th>\n",
       "      <th>ast_estimated_diameter</th>\n",
       "      <th>ast_miss_distance</th>\n",
       "      <th>ast_orbiting_body</th>\n",
       "      <th>ast_relative_velocity</th>\n",
       "      <th>month</th>\n",
       "    </tr>\n",
       "  </thead>\n",
       "  <tbody>\n",
       "    <tr>\n",
       "      <th>0</th>\n",
       "      <td>0</td>\n",
       "      <td>cylinder</td>\n",
       "      <td>2700.0</td>\n",
       "      <td>29.883056</td>\n",
       "      <td>-97.941111</td>\n",
       "      <td>0.00</td>\n",
       "      <td>0.73</td>\n",
       "      <td>0.0</td>\n",
       "      <td>0.0</td>\n",
       "      <td>None</td>\n",
       "      <td>1009.05</td>\n",
       "      <td>25.86</td>\n",
       "      <td>16.09</td>\n",
       "      <td>154.0</td>\n",
       "      <td>4.89</td>\n",
       "      <td>0.297879</td>\n",
       "      <td>42621696.0</td>\n",
       "      <td>Earth</td>\n",
       "      <td>13778.372043</td>\n",
       "      <td>10</td>\n",
       "    </tr>\n",
       "    <tr>\n",
       "      <th>1</th>\n",
       "      <td>1</td>\n",
       "      <td>light</td>\n",
       "      <td>7200.0</td>\n",
       "      <td>29.384210</td>\n",
       "      <td>-98.581082</td>\n",
       "      <td>0.00</td>\n",
       "      <td>0.77</td>\n",
       "      <td>0.0</td>\n",
       "      <td>0.0</td>\n",
       "      <td>None</td>\n",
       "      <td>1008.81</td>\n",
       "      <td>26.12</td>\n",
       "      <td>16.09</td>\n",
       "      <td>135.0</td>\n",
       "      <td>6.60</td>\n",
       "      <td>0.297879</td>\n",
       "      <td>42621696.0</td>\n",
       "      <td>Earth</td>\n",
       "      <td>13778.372043</td>\n",
       "      <td>10</td>\n",
       "    </tr>\n",
       "    <tr>\n",
       "      <th>2</th>\n",
       "      <td>2</td>\n",
       "      <td>circle</td>\n",
       "      <td>20.0</td>\n",
       "      <td>53.200000</td>\n",
       "      <td>-2.916667</td>\n",
       "      <td>0.75</td>\n",
       "      <td>0.84</td>\n",
       "      <td>0.0</td>\n",
       "      <td>0.0</td>\n",
       "      <td>rain</td>\n",
       "      <td>1019.00</td>\n",
       "      <td>15.56</td>\n",
       "      <td>2.90</td>\n",
       "      <td>190.0</td>\n",
       "      <td>2.24</td>\n",
       "      <td>0.297879</td>\n",
       "      <td>42621696.0</td>\n",
       "      <td>Earth</td>\n",
       "      <td>13778.372043</td>\n",
       "      <td>10</td>\n",
       "    </tr>\n",
       "    <tr>\n",
       "      <th>3</th>\n",
       "      <td>3</td>\n",
       "      <td>circle</td>\n",
       "      <td>20.0</td>\n",
       "      <td>28.978333</td>\n",
       "      <td>-96.645833</td>\n",
       "      <td>0.12</td>\n",
       "      <td>0.71</td>\n",
       "      <td>0.0</td>\n",
       "      <td>0.0</td>\n",
       "      <td>rain</td>\n",
       "      <td>1020.64</td>\n",
       "      <td>22.68</td>\n",
       "      <td>16.09</td>\n",
       "      <td>136.0</td>\n",
       "      <td>2.75</td>\n",
       "      <td>0.297879</td>\n",
       "      <td>42621696.0</td>\n",
       "      <td>Earth</td>\n",
       "      <td>13778.372043</td>\n",
       "      <td>10</td>\n",
       "    </tr>\n",
       "    <tr>\n",
       "      <th>4</th>\n",
       "      <td>4</td>\n",
       "      <td>light</td>\n",
       "      <td>900.0</td>\n",
       "      <td>21.418056</td>\n",
       "      <td>-157.803611</td>\n",
       "      <td>0.63</td>\n",
       "      <td>0.77</td>\n",
       "      <td>0.0</td>\n",
       "      <td>0.0</td>\n",
       "      <td>rain</td>\n",
       "      <td>1015.33</td>\n",
       "      <td>25.74</td>\n",
       "      <td>16.09</td>\n",
       "      <td>80.0</td>\n",
       "      <td>3.60</td>\n",
       "      <td>0.297879</td>\n",
       "      <td>42621696.0</td>\n",
       "      <td>Earth</td>\n",
       "      <td>13778.372043</td>\n",
       "      <td>10</td>\n",
       "    </tr>\n",
       "  </tbody>\n",
       "</table>\n",
       "</div>"
      ],
      "text/plain": [
       "   Unnamed: 0     shape  duration_seconds        lat         lng  cloudCover  \\\n",
       "0           0  cylinder            2700.0  29.883056  -97.941111        0.00   \n",
       "1           1     light            7200.0  29.384210  -98.581082        0.00   \n",
       "2           2    circle              20.0  53.200000   -2.916667        0.75   \n",
       "3           3    circle              20.0  28.978333  -96.645833        0.12   \n",
       "4           4     light             900.0  21.418056 -157.803611        0.63   \n",
       "\n",
       "   humidity  precipIntensity  precipProbability precipType  pressure  \\\n",
       "0      0.73              0.0                0.0       None   1009.05   \n",
       "1      0.77              0.0                0.0       None   1008.81   \n",
       "2      0.84              0.0                0.0       rain   1019.00   \n",
       "3      0.71              0.0                0.0       rain   1020.64   \n",
       "4      0.77              0.0                0.0       rain   1015.33   \n",
       "\n",
       "   temperature  visibility  windBearing  windSpeed  ast_estimated_diameter  \\\n",
       "0        25.86       16.09        154.0       4.89                0.297879   \n",
       "1        26.12       16.09        135.0       6.60                0.297879   \n",
       "2        15.56        2.90        190.0       2.24                0.297879   \n",
       "3        22.68       16.09        136.0       2.75                0.297879   \n",
       "4        25.74       16.09         80.0       3.60                0.297879   \n",
       "\n",
       "   ast_miss_distance ast_orbiting_body  ast_relative_velocity  month  \n",
       "0         42621696.0             Earth           13778.372043     10  \n",
       "1         42621696.0             Earth           13778.372043     10  \n",
       "2         42621696.0             Earth           13778.372043     10  \n",
       "3         42621696.0             Earth           13778.372043     10  \n",
       "4         42621696.0             Earth           13778.372043     10  "
      ]
     },
     "execution_count": 513,
     "metadata": {},
     "output_type": "execute_result"
    }
   ],
   "source": [
    "data.head()"
   ]
  },
  {
   "cell_type": "code",
   "execution_count": 514,
   "metadata": {},
   "outputs": [],
   "source": [
    "data = data.drop('Unnamed: 0', axis = 1)"
   ]
  },
  {
   "cell_type": "code",
   "execution_count": 515,
   "metadata": {},
   "outputs": [
    {
     "data": {
      "text/html": [
       "<div>\n",
       "<style scoped>\n",
       "    .dataframe tbody tr th:only-of-type {\n",
       "        vertical-align: middle;\n",
       "    }\n",
       "\n",
       "    .dataframe tbody tr th {\n",
       "        vertical-align: top;\n",
       "    }\n",
       "\n",
       "    .dataframe thead th {\n",
       "        text-align: right;\n",
       "    }\n",
       "</style>\n",
       "<table border=\"1\" class=\"dataframe\">\n",
       "  <thead>\n",
       "    <tr style=\"text-align: right;\">\n",
       "      <th></th>\n",
       "      <th>shape</th>\n",
       "      <th>duration_seconds</th>\n",
       "      <th>lat</th>\n",
       "      <th>lng</th>\n",
       "      <th>cloudCover</th>\n",
       "      <th>humidity</th>\n",
       "      <th>precipIntensity</th>\n",
       "      <th>precipProbability</th>\n",
       "      <th>precipType</th>\n",
       "      <th>pressure</th>\n",
       "      <th>temperature</th>\n",
       "      <th>visibility</th>\n",
       "      <th>windBearing</th>\n",
       "      <th>windSpeed</th>\n",
       "      <th>ast_estimated_diameter</th>\n",
       "      <th>ast_miss_distance</th>\n",
       "      <th>ast_orbiting_body</th>\n",
       "      <th>ast_relative_velocity</th>\n",
       "      <th>month</th>\n",
       "    </tr>\n",
       "  </thead>\n",
       "  <tbody>\n",
       "    <tr>\n",
       "      <th>0</th>\n",
       "      <td>cylinder</td>\n",
       "      <td>2700.0</td>\n",
       "      <td>29.883056</td>\n",
       "      <td>-97.941111</td>\n",
       "      <td>0.00</td>\n",
       "      <td>0.730000</td>\n",
       "      <td>0.0</td>\n",
       "      <td>0.0</td>\n",
       "      <td>None</td>\n",
       "      <td>1009.050000</td>\n",
       "      <td>25.860000</td>\n",
       "      <td>16.09</td>\n",
       "      <td>154.0</td>\n",
       "      <td>4.89</td>\n",
       "      <td>0.297879</td>\n",
       "      <td>42621696.0</td>\n",
       "      <td>Earth</td>\n",
       "      <td>13778.372043</td>\n",
       "      <td>10</td>\n",
       "    </tr>\n",
       "    <tr>\n",
       "      <th>1</th>\n",
       "      <td>light</td>\n",
       "      <td>7200.0</td>\n",
       "      <td>29.384210</td>\n",
       "      <td>-98.581082</td>\n",
       "      <td>0.00</td>\n",
       "      <td>0.770000</td>\n",
       "      <td>0.0</td>\n",
       "      <td>0.0</td>\n",
       "      <td>None</td>\n",
       "      <td>1008.810000</td>\n",
       "      <td>26.120000</td>\n",
       "      <td>16.09</td>\n",
       "      <td>135.0</td>\n",
       "      <td>6.60</td>\n",
       "      <td>0.297879</td>\n",
       "      <td>42621696.0</td>\n",
       "      <td>Earth</td>\n",
       "      <td>13778.372043</td>\n",
       "      <td>10</td>\n",
       "    </tr>\n",
       "    <tr>\n",
       "      <th>2</th>\n",
       "      <td>circle</td>\n",
       "      <td>20.0</td>\n",
       "      <td>53.200000</td>\n",
       "      <td>-2.916667</td>\n",
       "      <td>0.75</td>\n",
       "      <td>0.840000</td>\n",
       "      <td>0.0</td>\n",
       "      <td>0.0</td>\n",
       "      <td>rain</td>\n",
       "      <td>1019.000000</td>\n",
       "      <td>15.560000</td>\n",
       "      <td>2.90</td>\n",
       "      <td>190.0</td>\n",
       "      <td>2.24</td>\n",
       "      <td>0.297879</td>\n",
       "      <td>42621696.0</td>\n",
       "      <td>Earth</td>\n",
       "      <td>13778.372043</td>\n",
       "      <td>10</td>\n",
       "    </tr>\n",
       "    <tr>\n",
       "      <th>3</th>\n",
       "      <td>circle</td>\n",
       "      <td>20.0</td>\n",
       "      <td>28.978333</td>\n",
       "      <td>-96.645833</td>\n",
       "      <td>0.12</td>\n",
       "      <td>0.710000</td>\n",
       "      <td>0.0</td>\n",
       "      <td>0.0</td>\n",
       "      <td>rain</td>\n",
       "      <td>1020.640000</td>\n",
       "      <td>22.680000</td>\n",
       "      <td>16.09</td>\n",
       "      <td>136.0</td>\n",
       "      <td>2.75</td>\n",
       "      <td>0.297879</td>\n",
       "      <td>42621696.0</td>\n",
       "      <td>Earth</td>\n",
       "      <td>13778.372043</td>\n",
       "      <td>10</td>\n",
       "    </tr>\n",
       "    <tr>\n",
       "      <th>4</th>\n",
       "      <td>light</td>\n",
       "      <td>900.0</td>\n",
       "      <td>21.418056</td>\n",
       "      <td>-157.803611</td>\n",
       "      <td>0.63</td>\n",
       "      <td>0.770000</td>\n",
       "      <td>0.0</td>\n",
       "      <td>0.0</td>\n",
       "      <td>rain</td>\n",
       "      <td>1015.330000</td>\n",
       "      <td>25.740000</td>\n",
       "      <td>16.09</td>\n",
       "      <td>80.0</td>\n",
       "      <td>3.60</td>\n",
       "      <td>0.297879</td>\n",
       "      <td>42621696.0</td>\n",
       "      <td>Earth</td>\n",
       "      <td>13778.372043</td>\n",
       "      <td>10</td>\n",
       "    </tr>\n",
       "    <tr>\n",
       "      <th>...</th>\n",
       "      <td>...</td>\n",
       "      <td>...</td>\n",
       "      <td>...</td>\n",
       "      <td>...</td>\n",
       "      <td>...</td>\n",
       "      <td>...</td>\n",
       "      <td>...</td>\n",
       "      <td>...</td>\n",
       "      <td>...</td>\n",
       "      <td>...</td>\n",
       "      <td>...</td>\n",
       "      <td>...</td>\n",
       "      <td>...</td>\n",
       "      <td>...</td>\n",
       "      <td>...</td>\n",
       "      <td>...</td>\n",
       "      <td>...</td>\n",
       "      <td>...</td>\n",
       "      <td>...</td>\n",
       "    </tr>\n",
       "    <tr>\n",
       "      <th>78781</th>\n",
       "      <td>light</td>\n",
       "      <td>300.0</td>\n",
       "      <td>40.693611</td>\n",
       "      <td>-75.190556</td>\n",
       "      <td>0.00</td>\n",
       "      <td>0.660547</td>\n",
       "      <td>0.0</td>\n",
       "      <td>0.0</td>\n",
       "      <td>None</td>\n",
       "      <td>1016.819541</td>\n",
       "      <td>13.496951</td>\n",
       "      <td>16.09</td>\n",
       "      <td>190.0</td>\n",
       "      <td>2.24</td>\n",
       "      <td>0.056760</td>\n",
       "      <td>3610758.0</td>\n",
       "      <td>Earth</td>\n",
       "      <td>32868.357670</td>\n",
       "      <td>9</td>\n",
       "    </tr>\n",
       "    <tr>\n",
       "      <th>78782</th>\n",
       "      <td>fireball</td>\n",
       "      <td>300.0</td>\n",
       "      <td>47.483056</td>\n",
       "      <td>-122.215833</td>\n",
       "      <td>0.00</td>\n",
       "      <td>0.660547</td>\n",
       "      <td>0.0</td>\n",
       "      <td>0.0</td>\n",
       "      <td>None</td>\n",
       "      <td>1016.819541</td>\n",
       "      <td>13.496951</td>\n",
       "      <td>16.09</td>\n",
       "      <td>190.0</td>\n",
       "      <td>2.24</td>\n",
       "      <td>0.056760</td>\n",
       "      <td>3610758.0</td>\n",
       "      <td>Earth</td>\n",
       "      <td>32868.357670</td>\n",
       "      <td>9</td>\n",
       "    </tr>\n",
       "    <tr>\n",
       "      <th>78783</th>\n",
       "      <td>circle</td>\n",
       "      <td>10.0</td>\n",
       "      <td>38.232500</td>\n",
       "      <td>-122.635556</td>\n",
       "      <td>0.00</td>\n",
       "      <td>0.660547</td>\n",
       "      <td>0.0</td>\n",
       "      <td>0.0</td>\n",
       "      <td>None</td>\n",
       "      <td>1016.819541</td>\n",
       "      <td>13.496951</td>\n",
       "      <td>16.09</td>\n",
       "      <td>190.0</td>\n",
       "      <td>2.24</td>\n",
       "      <td>0.056760</td>\n",
       "      <td>3610758.0</td>\n",
       "      <td>Earth</td>\n",
       "      <td>32868.357670</td>\n",
       "      <td>9</td>\n",
       "    </tr>\n",
       "    <tr>\n",
       "      <th>78784</th>\n",
       "      <td>unknown</td>\n",
       "      <td>180.0</td>\n",
       "      <td>40.499167</td>\n",
       "      <td>-74.399444</td>\n",
       "      <td>0.00</td>\n",
       "      <td>0.660547</td>\n",
       "      <td>0.0</td>\n",
       "      <td>0.0</td>\n",
       "      <td>None</td>\n",
       "      <td>1016.819541</td>\n",
       "      <td>13.496951</td>\n",
       "      <td>16.09</td>\n",
       "      <td>190.0</td>\n",
       "      <td>2.24</td>\n",
       "      <td>0.056760</td>\n",
       "      <td>3610758.0</td>\n",
       "      <td>Earth</td>\n",
       "      <td>32868.357670</td>\n",
       "      <td>9</td>\n",
       "    </tr>\n",
       "    <tr>\n",
       "      <th>78785</th>\n",
       "      <td>oval</td>\n",
       "      <td>30.0</td>\n",
       "      <td>39.683611</td>\n",
       "      <td>-80.459167</td>\n",
       "      <td>0.00</td>\n",
       "      <td>0.660547</td>\n",
       "      <td>0.0</td>\n",
       "      <td>0.0</td>\n",
       "      <td>None</td>\n",
       "      <td>1016.819541</td>\n",
       "      <td>13.496951</td>\n",
       "      <td>16.09</td>\n",
       "      <td>190.0</td>\n",
       "      <td>2.24</td>\n",
       "      <td>0.056760</td>\n",
       "      <td>3610758.0</td>\n",
       "      <td>Earth</td>\n",
       "      <td>32868.357670</td>\n",
       "      <td>9</td>\n",
       "    </tr>\n",
       "  </tbody>\n",
       "</table>\n",
       "<p>78786 rows × 19 columns</p>\n",
       "</div>"
      ],
      "text/plain": [
       "          shape  duration_seconds        lat         lng  cloudCover  \\\n",
       "0      cylinder            2700.0  29.883056  -97.941111        0.00   \n",
       "1         light            7200.0  29.384210  -98.581082        0.00   \n",
       "2        circle              20.0  53.200000   -2.916667        0.75   \n",
       "3        circle              20.0  28.978333  -96.645833        0.12   \n",
       "4         light             900.0  21.418056 -157.803611        0.63   \n",
       "...         ...               ...        ...         ...         ...   \n",
       "78781     light             300.0  40.693611  -75.190556        0.00   \n",
       "78782  fireball             300.0  47.483056 -122.215833        0.00   \n",
       "78783    circle              10.0  38.232500 -122.635556        0.00   \n",
       "78784   unknown             180.0  40.499167  -74.399444        0.00   \n",
       "78785      oval              30.0  39.683611  -80.459167        0.00   \n",
       "\n",
       "       humidity  precipIntensity  precipProbability precipType     pressure  \\\n",
       "0      0.730000              0.0                0.0       None  1009.050000   \n",
       "1      0.770000              0.0                0.0       None  1008.810000   \n",
       "2      0.840000              0.0                0.0       rain  1019.000000   \n",
       "3      0.710000              0.0                0.0       rain  1020.640000   \n",
       "4      0.770000              0.0                0.0       rain  1015.330000   \n",
       "...         ...              ...                ...        ...          ...   \n",
       "78781  0.660547              0.0                0.0       None  1016.819541   \n",
       "78782  0.660547              0.0                0.0       None  1016.819541   \n",
       "78783  0.660547              0.0                0.0       None  1016.819541   \n",
       "78784  0.660547              0.0                0.0       None  1016.819541   \n",
       "78785  0.660547              0.0                0.0       None  1016.819541   \n",
       "\n",
       "       temperature  visibility  windBearing  windSpeed  \\\n",
       "0        25.860000       16.09        154.0       4.89   \n",
       "1        26.120000       16.09        135.0       6.60   \n",
       "2        15.560000        2.90        190.0       2.24   \n",
       "3        22.680000       16.09        136.0       2.75   \n",
       "4        25.740000       16.09         80.0       3.60   \n",
       "...            ...         ...          ...        ...   \n",
       "78781    13.496951       16.09        190.0       2.24   \n",
       "78782    13.496951       16.09        190.0       2.24   \n",
       "78783    13.496951       16.09        190.0       2.24   \n",
       "78784    13.496951       16.09        190.0       2.24   \n",
       "78785    13.496951       16.09        190.0       2.24   \n",
       "\n",
       "       ast_estimated_diameter  ast_miss_distance ast_orbiting_body  \\\n",
       "0                    0.297879         42621696.0             Earth   \n",
       "1                    0.297879         42621696.0             Earth   \n",
       "2                    0.297879         42621696.0             Earth   \n",
       "3                    0.297879         42621696.0             Earth   \n",
       "4                    0.297879         42621696.0             Earth   \n",
       "...                       ...                ...               ...   \n",
       "78781                0.056760          3610758.0             Earth   \n",
       "78782                0.056760          3610758.0             Earth   \n",
       "78783                0.056760          3610758.0             Earth   \n",
       "78784                0.056760          3610758.0             Earth   \n",
       "78785                0.056760          3610758.0             Earth   \n",
       "\n",
       "       ast_relative_velocity  month  \n",
       "0               13778.372043     10  \n",
       "1               13778.372043     10  \n",
       "2               13778.372043     10  \n",
       "3               13778.372043     10  \n",
       "4               13778.372043     10  \n",
       "...                      ...    ...  \n",
       "78781           32868.357670      9  \n",
       "78782           32868.357670      9  \n",
       "78783           32868.357670      9  \n",
       "78784           32868.357670      9  \n",
       "78785           32868.357670      9  \n",
       "\n",
       "[78786 rows x 19 columns]"
      ]
     },
     "execution_count": 515,
     "metadata": {},
     "output_type": "execute_result"
    }
   ],
   "source": [
    "data"
   ]
  },
  {
   "cell_type": "code",
   "execution_count": 516,
   "metadata": {},
   "outputs": [
    {
     "data": {
      "text/plain": [
       "shape                      object\n",
       "duration_seconds          float64\n",
       "lat                       float64\n",
       "lng                       float64\n",
       "cloudCover                float64\n",
       "humidity                  float64\n",
       "precipIntensity           float64\n",
       "precipProbability         float64\n",
       "precipType                 object\n",
       "pressure                  float64\n",
       "temperature               float64\n",
       "visibility                float64\n",
       "windBearing               float64\n",
       "windSpeed                 float64\n",
       "ast_estimated_diameter    float64\n",
       "ast_miss_distance         float64\n",
       "ast_orbiting_body          object\n",
       "ast_relative_velocity     float64\n",
       "month                       int64\n",
       "dtype: object"
      ]
     },
     "execution_count": 516,
     "metadata": {},
     "output_type": "execute_result"
    }
   ],
   "source": [
    "data.dtypes"
   ]
  },
  {
   "cell_type": "code",
   "execution_count": 517,
   "metadata": {},
   "outputs": [
    {
     "data": {
      "text/html": [
       "<div>\n",
       "<style scoped>\n",
       "    .dataframe tbody tr th:only-of-type {\n",
       "        vertical-align: middle;\n",
       "    }\n",
       "\n",
       "    .dataframe tbody tr th {\n",
       "        vertical-align: top;\n",
       "    }\n",
       "\n",
       "    .dataframe thead th {\n",
       "        text-align: right;\n",
       "    }\n",
       "</style>\n",
       "<table border=\"1\" class=\"dataframe\">\n",
       "  <thead>\n",
       "    <tr style=\"text-align: right;\">\n",
       "      <th></th>\n",
       "      <th>duration_seconds</th>\n",
       "      <th>cloudCover</th>\n",
       "      <th>humidity</th>\n",
       "      <th>precipIntensity</th>\n",
       "      <th>precipProbability</th>\n",
       "      <th>precipType</th>\n",
       "      <th>pressure</th>\n",
       "      <th>temperature</th>\n",
       "      <th>visibility</th>\n",
       "      <th>windBearing</th>\n",
       "      <th>windSpeed</th>\n",
       "    </tr>\n",
       "  </thead>\n",
       "  <tbody>\n",
       "    <tr>\n",
       "      <th>0</th>\n",
       "      <td>2700.0</td>\n",
       "      <td>0.00</td>\n",
       "      <td>0.730000</td>\n",
       "      <td>0.0</td>\n",
       "      <td>0.0</td>\n",
       "      <td>None</td>\n",
       "      <td>1009.050000</td>\n",
       "      <td>25.860000</td>\n",
       "      <td>16.09</td>\n",
       "      <td>154.0</td>\n",
       "      <td>4.89</td>\n",
       "    </tr>\n",
       "    <tr>\n",
       "      <th>1</th>\n",
       "      <td>7200.0</td>\n",
       "      <td>0.00</td>\n",
       "      <td>0.770000</td>\n",
       "      <td>0.0</td>\n",
       "      <td>0.0</td>\n",
       "      <td>None</td>\n",
       "      <td>1008.810000</td>\n",
       "      <td>26.120000</td>\n",
       "      <td>16.09</td>\n",
       "      <td>135.0</td>\n",
       "      <td>6.60</td>\n",
       "    </tr>\n",
       "    <tr>\n",
       "      <th>2</th>\n",
       "      <td>20.0</td>\n",
       "      <td>0.75</td>\n",
       "      <td>0.840000</td>\n",
       "      <td>0.0</td>\n",
       "      <td>0.0</td>\n",
       "      <td>rain</td>\n",
       "      <td>1019.000000</td>\n",
       "      <td>15.560000</td>\n",
       "      <td>2.90</td>\n",
       "      <td>190.0</td>\n",
       "      <td>2.24</td>\n",
       "    </tr>\n",
       "    <tr>\n",
       "      <th>3</th>\n",
       "      <td>20.0</td>\n",
       "      <td>0.12</td>\n",
       "      <td>0.710000</td>\n",
       "      <td>0.0</td>\n",
       "      <td>0.0</td>\n",
       "      <td>rain</td>\n",
       "      <td>1020.640000</td>\n",
       "      <td>22.680000</td>\n",
       "      <td>16.09</td>\n",
       "      <td>136.0</td>\n",
       "      <td>2.75</td>\n",
       "    </tr>\n",
       "    <tr>\n",
       "      <th>4</th>\n",
       "      <td>900.0</td>\n",
       "      <td>0.63</td>\n",
       "      <td>0.770000</td>\n",
       "      <td>0.0</td>\n",
       "      <td>0.0</td>\n",
       "      <td>rain</td>\n",
       "      <td>1015.330000</td>\n",
       "      <td>25.740000</td>\n",
       "      <td>16.09</td>\n",
       "      <td>80.0</td>\n",
       "      <td>3.60</td>\n",
       "    </tr>\n",
       "    <tr>\n",
       "      <th>...</th>\n",
       "      <td>...</td>\n",
       "      <td>...</td>\n",
       "      <td>...</td>\n",
       "      <td>...</td>\n",
       "      <td>...</td>\n",
       "      <td>...</td>\n",
       "      <td>...</td>\n",
       "      <td>...</td>\n",
       "      <td>...</td>\n",
       "      <td>...</td>\n",
       "      <td>...</td>\n",
       "    </tr>\n",
       "    <tr>\n",
       "      <th>78781</th>\n",
       "      <td>300.0</td>\n",
       "      <td>0.00</td>\n",
       "      <td>0.660547</td>\n",
       "      <td>0.0</td>\n",
       "      <td>0.0</td>\n",
       "      <td>None</td>\n",
       "      <td>1016.819541</td>\n",
       "      <td>13.496951</td>\n",
       "      <td>16.09</td>\n",
       "      <td>190.0</td>\n",
       "      <td>2.24</td>\n",
       "    </tr>\n",
       "    <tr>\n",
       "      <th>78782</th>\n",
       "      <td>300.0</td>\n",
       "      <td>0.00</td>\n",
       "      <td>0.660547</td>\n",
       "      <td>0.0</td>\n",
       "      <td>0.0</td>\n",
       "      <td>None</td>\n",
       "      <td>1016.819541</td>\n",
       "      <td>13.496951</td>\n",
       "      <td>16.09</td>\n",
       "      <td>190.0</td>\n",
       "      <td>2.24</td>\n",
       "    </tr>\n",
       "    <tr>\n",
       "      <th>78783</th>\n",
       "      <td>10.0</td>\n",
       "      <td>0.00</td>\n",
       "      <td>0.660547</td>\n",
       "      <td>0.0</td>\n",
       "      <td>0.0</td>\n",
       "      <td>None</td>\n",
       "      <td>1016.819541</td>\n",
       "      <td>13.496951</td>\n",
       "      <td>16.09</td>\n",
       "      <td>190.0</td>\n",
       "      <td>2.24</td>\n",
       "    </tr>\n",
       "    <tr>\n",
       "      <th>78784</th>\n",
       "      <td>180.0</td>\n",
       "      <td>0.00</td>\n",
       "      <td>0.660547</td>\n",
       "      <td>0.0</td>\n",
       "      <td>0.0</td>\n",
       "      <td>None</td>\n",
       "      <td>1016.819541</td>\n",
       "      <td>13.496951</td>\n",
       "      <td>16.09</td>\n",
       "      <td>190.0</td>\n",
       "      <td>2.24</td>\n",
       "    </tr>\n",
       "    <tr>\n",
       "      <th>78785</th>\n",
       "      <td>30.0</td>\n",
       "      <td>0.00</td>\n",
       "      <td>0.660547</td>\n",
       "      <td>0.0</td>\n",
       "      <td>0.0</td>\n",
       "      <td>None</td>\n",
       "      <td>1016.819541</td>\n",
       "      <td>13.496951</td>\n",
       "      <td>16.09</td>\n",
       "      <td>190.0</td>\n",
       "      <td>2.24</td>\n",
       "    </tr>\n",
       "  </tbody>\n",
       "</table>\n",
       "<p>78786 rows × 11 columns</p>\n",
       "</div>"
      ],
      "text/plain": [
       "       duration_seconds  cloudCover  humidity  precipIntensity  \\\n",
       "0                2700.0        0.00  0.730000              0.0   \n",
       "1                7200.0        0.00  0.770000              0.0   \n",
       "2                  20.0        0.75  0.840000              0.0   \n",
       "3                  20.0        0.12  0.710000              0.0   \n",
       "4                 900.0        0.63  0.770000              0.0   \n",
       "...                 ...         ...       ...              ...   \n",
       "78781             300.0        0.00  0.660547              0.0   \n",
       "78782             300.0        0.00  0.660547              0.0   \n",
       "78783              10.0        0.00  0.660547              0.0   \n",
       "78784             180.0        0.00  0.660547              0.0   \n",
       "78785              30.0        0.00  0.660547              0.0   \n",
       "\n",
       "       precipProbability precipType     pressure  temperature  visibility  \\\n",
       "0                    0.0       None  1009.050000    25.860000       16.09   \n",
       "1                    0.0       None  1008.810000    26.120000       16.09   \n",
       "2                    0.0       rain  1019.000000    15.560000        2.90   \n",
       "3                    0.0       rain  1020.640000    22.680000       16.09   \n",
       "4                    0.0       rain  1015.330000    25.740000       16.09   \n",
       "...                  ...        ...          ...          ...         ...   \n",
       "78781                0.0       None  1016.819541    13.496951       16.09   \n",
       "78782                0.0       None  1016.819541    13.496951       16.09   \n",
       "78783                0.0       None  1016.819541    13.496951       16.09   \n",
       "78784                0.0       None  1016.819541    13.496951       16.09   \n",
       "78785                0.0       None  1016.819541    13.496951       16.09   \n",
       "\n",
       "       windBearing  windSpeed  \n",
       "0            154.0       4.89  \n",
       "1            135.0       6.60  \n",
       "2            190.0       2.24  \n",
       "3            136.0       2.75  \n",
       "4             80.0       3.60  \n",
       "...            ...        ...  \n",
       "78781        190.0       2.24  \n",
       "78782        190.0       2.24  \n",
       "78783        190.0       2.24  \n",
       "78784        190.0       2.24  \n",
       "78785        190.0       2.24  \n",
       "\n",
       "[78786 rows x 11 columns]"
      ]
     },
     "execution_count": 517,
     "metadata": {},
     "output_type": "execute_result"
    }
   ],
   "source": [
    "data_PCA = data.drop(['shape','lat', 'lng', 'ast_estimated_diameter', 'ast_miss_distance', 'ast_relative_velocity', 'ast_orbiting_body', 'month'], axis = 1)\n",
    "data_PCA"
   ]
  },
  {
   "cell_type": "code",
   "execution_count": 518,
   "metadata": {},
   "outputs": [],
   "source": [
    "data_dummies = pd.get_dummies(data_PCA, drop_first= True)"
   ]
  },
  {
   "cell_type": "code",
   "execution_count": 519,
   "metadata": {},
   "outputs": [
    {
     "data": {
      "text/html": [
       "<div>\n",
       "<style scoped>\n",
       "    .dataframe tbody tr th:only-of-type {\n",
       "        vertical-align: middle;\n",
       "    }\n",
       "\n",
       "    .dataframe tbody tr th {\n",
       "        vertical-align: top;\n",
       "    }\n",
       "\n",
       "    .dataframe thead th {\n",
       "        text-align: right;\n",
       "    }\n",
       "</style>\n",
       "<table border=\"1\" class=\"dataframe\">\n",
       "  <thead>\n",
       "    <tr style=\"text-align: right;\">\n",
       "      <th></th>\n",
       "      <th>duration_seconds</th>\n",
       "      <th>cloudCover</th>\n",
       "      <th>humidity</th>\n",
       "      <th>precipIntensity</th>\n",
       "      <th>precipProbability</th>\n",
       "      <th>pressure</th>\n",
       "      <th>temperature</th>\n",
       "      <th>visibility</th>\n",
       "      <th>windBearing</th>\n",
       "      <th>windSpeed</th>\n",
       "      <th>precipType_rain</th>\n",
       "      <th>precipType_snow</th>\n",
       "    </tr>\n",
       "  </thead>\n",
       "  <tbody>\n",
       "    <tr>\n",
       "      <th>0</th>\n",
       "      <td>2700.0</td>\n",
       "      <td>0.00</td>\n",
       "      <td>0.730000</td>\n",
       "      <td>0.0</td>\n",
       "      <td>0.0</td>\n",
       "      <td>1009.050000</td>\n",
       "      <td>25.860000</td>\n",
       "      <td>16.09</td>\n",
       "      <td>154.0</td>\n",
       "      <td>4.89</td>\n",
       "      <td>0</td>\n",
       "      <td>0</td>\n",
       "    </tr>\n",
       "    <tr>\n",
       "      <th>1</th>\n",
       "      <td>7200.0</td>\n",
       "      <td>0.00</td>\n",
       "      <td>0.770000</td>\n",
       "      <td>0.0</td>\n",
       "      <td>0.0</td>\n",
       "      <td>1008.810000</td>\n",
       "      <td>26.120000</td>\n",
       "      <td>16.09</td>\n",
       "      <td>135.0</td>\n",
       "      <td>6.60</td>\n",
       "      <td>0</td>\n",
       "      <td>0</td>\n",
       "    </tr>\n",
       "    <tr>\n",
       "      <th>2</th>\n",
       "      <td>20.0</td>\n",
       "      <td>0.75</td>\n",
       "      <td>0.840000</td>\n",
       "      <td>0.0</td>\n",
       "      <td>0.0</td>\n",
       "      <td>1019.000000</td>\n",
       "      <td>15.560000</td>\n",
       "      <td>2.90</td>\n",
       "      <td>190.0</td>\n",
       "      <td>2.24</td>\n",
       "      <td>1</td>\n",
       "      <td>0</td>\n",
       "    </tr>\n",
       "    <tr>\n",
       "      <th>3</th>\n",
       "      <td>20.0</td>\n",
       "      <td>0.12</td>\n",
       "      <td>0.710000</td>\n",
       "      <td>0.0</td>\n",
       "      <td>0.0</td>\n",
       "      <td>1020.640000</td>\n",
       "      <td>22.680000</td>\n",
       "      <td>16.09</td>\n",
       "      <td>136.0</td>\n",
       "      <td>2.75</td>\n",
       "      <td>1</td>\n",
       "      <td>0</td>\n",
       "    </tr>\n",
       "    <tr>\n",
       "      <th>4</th>\n",
       "      <td>900.0</td>\n",
       "      <td>0.63</td>\n",
       "      <td>0.770000</td>\n",
       "      <td>0.0</td>\n",
       "      <td>0.0</td>\n",
       "      <td>1015.330000</td>\n",
       "      <td>25.740000</td>\n",
       "      <td>16.09</td>\n",
       "      <td>80.0</td>\n",
       "      <td>3.60</td>\n",
       "      <td>1</td>\n",
       "      <td>0</td>\n",
       "    </tr>\n",
       "    <tr>\n",
       "      <th>...</th>\n",
       "      <td>...</td>\n",
       "      <td>...</td>\n",
       "      <td>...</td>\n",
       "      <td>...</td>\n",
       "      <td>...</td>\n",
       "      <td>...</td>\n",
       "      <td>...</td>\n",
       "      <td>...</td>\n",
       "      <td>...</td>\n",
       "      <td>...</td>\n",
       "      <td>...</td>\n",
       "      <td>...</td>\n",
       "    </tr>\n",
       "    <tr>\n",
       "      <th>78781</th>\n",
       "      <td>300.0</td>\n",
       "      <td>0.00</td>\n",
       "      <td>0.660547</td>\n",
       "      <td>0.0</td>\n",
       "      <td>0.0</td>\n",
       "      <td>1016.819541</td>\n",
       "      <td>13.496951</td>\n",
       "      <td>16.09</td>\n",
       "      <td>190.0</td>\n",
       "      <td>2.24</td>\n",
       "      <td>0</td>\n",
       "      <td>0</td>\n",
       "    </tr>\n",
       "    <tr>\n",
       "      <th>78782</th>\n",
       "      <td>300.0</td>\n",
       "      <td>0.00</td>\n",
       "      <td>0.660547</td>\n",
       "      <td>0.0</td>\n",
       "      <td>0.0</td>\n",
       "      <td>1016.819541</td>\n",
       "      <td>13.496951</td>\n",
       "      <td>16.09</td>\n",
       "      <td>190.0</td>\n",
       "      <td>2.24</td>\n",
       "      <td>0</td>\n",
       "      <td>0</td>\n",
       "    </tr>\n",
       "    <tr>\n",
       "      <th>78783</th>\n",
       "      <td>10.0</td>\n",
       "      <td>0.00</td>\n",
       "      <td>0.660547</td>\n",
       "      <td>0.0</td>\n",
       "      <td>0.0</td>\n",
       "      <td>1016.819541</td>\n",
       "      <td>13.496951</td>\n",
       "      <td>16.09</td>\n",
       "      <td>190.0</td>\n",
       "      <td>2.24</td>\n",
       "      <td>0</td>\n",
       "      <td>0</td>\n",
       "    </tr>\n",
       "    <tr>\n",
       "      <th>78784</th>\n",
       "      <td>180.0</td>\n",
       "      <td>0.00</td>\n",
       "      <td>0.660547</td>\n",
       "      <td>0.0</td>\n",
       "      <td>0.0</td>\n",
       "      <td>1016.819541</td>\n",
       "      <td>13.496951</td>\n",
       "      <td>16.09</td>\n",
       "      <td>190.0</td>\n",
       "      <td>2.24</td>\n",
       "      <td>0</td>\n",
       "      <td>0</td>\n",
       "    </tr>\n",
       "    <tr>\n",
       "      <th>78785</th>\n",
       "      <td>30.0</td>\n",
       "      <td>0.00</td>\n",
       "      <td>0.660547</td>\n",
       "      <td>0.0</td>\n",
       "      <td>0.0</td>\n",
       "      <td>1016.819541</td>\n",
       "      <td>13.496951</td>\n",
       "      <td>16.09</td>\n",
       "      <td>190.0</td>\n",
       "      <td>2.24</td>\n",
       "      <td>0</td>\n",
       "      <td>0</td>\n",
       "    </tr>\n",
       "  </tbody>\n",
       "</table>\n",
       "<p>78786 rows × 12 columns</p>\n",
       "</div>"
      ],
      "text/plain": [
       "       duration_seconds  cloudCover  humidity  precipIntensity  \\\n",
       "0                2700.0        0.00  0.730000              0.0   \n",
       "1                7200.0        0.00  0.770000              0.0   \n",
       "2                  20.0        0.75  0.840000              0.0   \n",
       "3                  20.0        0.12  0.710000              0.0   \n",
       "4                 900.0        0.63  0.770000              0.0   \n",
       "...                 ...         ...       ...              ...   \n",
       "78781             300.0        0.00  0.660547              0.0   \n",
       "78782             300.0        0.00  0.660547              0.0   \n",
       "78783              10.0        0.00  0.660547              0.0   \n",
       "78784             180.0        0.00  0.660547              0.0   \n",
       "78785              30.0        0.00  0.660547              0.0   \n",
       "\n",
       "       precipProbability     pressure  temperature  visibility  windBearing  \\\n",
       "0                    0.0  1009.050000    25.860000       16.09        154.0   \n",
       "1                    0.0  1008.810000    26.120000       16.09        135.0   \n",
       "2                    0.0  1019.000000    15.560000        2.90        190.0   \n",
       "3                    0.0  1020.640000    22.680000       16.09        136.0   \n",
       "4                    0.0  1015.330000    25.740000       16.09         80.0   \n",
       "...                  ...          ...          ...         ...          ...   \n",
       "78781                0.0  1016.819541    13.496951       16.09        190.0   \n",
       "78782                0.0  1016.819541    13.496951       16.09        190.0   \n",
       "78783                0.0  1016.819541    13.496951       16.09        190.0   \n",
       "78784                0.0  1016.819541    13.496951       16.09        190.0   \n",
       "78785                0.0  1016.819541    13.496951       16.09        190.0   \n",
       "\n",
       "       windSpeed  precipType_rain  precipType_snow  \n",
       "0           4.89                0                0  \n",
       "1           6.60                0                0  \n",
       "2           2.24                1                0  \n",
       "3           2.75                1                0  \n",
       "4           3.60                1                0  \n",
       "...          ...              ...              ...  \n",
       "78781       2.24                0                0  \n",
       "78782       2.24                0                0  \n",
       "78783       2.24                0                0  \n",
       "78784       2.24                0                0  \n",
       "78785       2.24                0                0  \n",
       "\n",
       "[78786 rows x 12 columns]"
      ]
     },
     "execution_count": 519,
     "metadata": {},
     "output_type": "execute_result"
    }
   ],
   "source": [
    "data_dummies"
   ]
  },
  {
   "cell_type": "code",
   "execution_count": 521,
   "metadata": {},
   "outputs": [
    {
     "data": {
      "text/plain": [
       "11"
      ]
     },
     "execution_count": 521,
     "metadata": {},
     "output_type": "execute_result"
    }
   ],
   "source": [
    "numerical = list(data_dummies.dtypes[data_dummies.dtypes != 'object'].index)\n",
    "numerical.remove(\"duration_seconds\")\n",
    "len(numerical)"
   ]
  },
  {
   "cell_type": "markdown",
   "metadata": {},
   "source": [
    "# PCA"
   ]
  },
  {
   "cell_type": "code",
   "execution_count": 522,
   "metadata": {},
   "outputs": [
    {
     "data": {
      "text/plain": [
       "(78786, 11)"
      ]
     },
     "execution_count": 522,
     "metadata": {},
     "output_type": "execute_result"
    }
   ],
   "source": [
    "reduced = data_dummies[numerical]\n",
    "reduced = StandardScaler().fit_transform(reduced)\n",
    "reduced.shape"
   ]
  },
  {
   "cell_type": "code",
   "execution_count": 524,
   "metadata": {},
   "outputs": [],
   "source": [
    "pca = PCA(n_components=11)\n",
    "pca.fit(reduced)\n",
    "transformed = pca.fit_transform(reduced)"
   ]
  },
  {
   "cell_type": "code",
   "execution_count": 525,
   "metadata": {},
   "outputs": [
    {
     "data": {
      "text/plain": [
       "array([2.56165151, 1.64522767, 1.2421611 , 1.1291355 , 0.93526483,\n",
       "       0.88340942, 0.66346634, 0.58653099, 0.55566412, 0.46153452,\n",
       "       0.33609363])"
      ]
     },
     "execution_count": 525,
     "metadata": {},
     "output_type": "execute_result"
    }
   ],
   "source": [
    "# judge by eigen value >1\n",
    "pca.explained_variance_"
   ]
  },
  {
   "cell_type": "code",
   "execution_count": 526,
   "metadata": {},
   "outputs": [
    {
     "data": {
      "text/plain": [
       "4"
      ]
     },
     "execution_count": 526,
     "metadata": {},
     "output_type": "execute_result"
    }
   ],
   "source": [
    "# should choose 34 \n",
    "sum(pca.explained_variance_>1)"
   ]
  },
  {
   "cell_type": "code",
   "execution_count": 527,
   "metadata": {},
   "outputs": [
    {
     "data": {
      "text/plain": [
       "array([2.56165151, 1.64522767, 1.2421611 , 1.1291355 ])"
      ]
     },
     "execution_count": 527,
     "metadata": {},
     "output_type": "execute_result"
    }
   ],
   "source": [
    "pca.explained_variance_[pca.explained_variance_>1]"
   ]
  },
  {
   "cell_type": "code",
   "execution_count": 528,
   "metadata": {},
   "outputs": [
    {
     "data": {
      "text/plain": [
       "array([0.23287445, 0.14956425, 0.1129223 , 0.10264738, 0.085023  ,\n",
       "       0.08030893, 0.06031436, 0.05332032, 0.05051428, 0.04195715,\n",
       "       0.03055358])"
      ]
     },
     "execution_count": 528,
     "metadata": {},
     "output_type": "execute_result"
    }
   ],
   "source": [
    "pca.explained_variance_ratio_"
   ]
  },
  {
   "cell_type": "code",
   "execution_count": 529,
   "metadata": {},
   "outputs": [
    {
     "data": {
      "image/png": "[encoded data removed]",
      "text/plain": [
       "<Figure size 864x576 with 1 Axes>"
      ]
     },
     "metadata": {
      "needs_background": "light"
     },
     "output_type": "display_data"
    }
   ],
   "source": [
    "fig, ax = plt.subplots(figsize=(12,8))\n",
    "ax.plot(np.cumsum(pca.explained_variance_ratio_))\n",
    "ax.set_xlabel('number of components')\n",
    "ax.set_ylabel('cumulative explained variance');"
   ]
  },
  {
   "cell_type": "code",
   "execution_count": 530,
   "metadata": {},
   "outputs": [
    {
     "data": {
      "text/plain": [
       "array([0.23287445, 0.38243871, 0.49536101, 0.59800839, 0.68303139,\n",
       "       0.76334031, 0.82365467, 0.87697499, 0.92748927, 0.96944642,\n",
       "       1.        ])"
      ]
     },
     "execution_count": 530,
     "metadata": {},
     "output_type": "execute_result"
    }
   ],
   "source": [
    "np.cumsum(pca.explained_variance_ratio_)"
   ]
  },
  {
   "cell_type": "markdown",
   "metadata": {},
   "source": [
    "# PCA k = 2"
   ]
  },
  {
   "cell_type": "code",
   "execution_count": 531,
   "metadata": {},
   "outputs": [],
   "source": [
    "pca = PCA(n_components=2)\n",
    "pca.fit(reduced)\n",
    "transformed = pca.fit_transform(reduced)"
   ]
  },
  {
   "cell_type": "code",
   "execution_count": 532,
   "metadata": {},
   "outputs": [
    {
     "name": "stdout",
     "output_type": "stream",
     "text": [
      "[[ 0.41818021  0.30820175  0.35488682  0.46698285 -0.14534249 -0.01428657\n",
      "  -0.4003782  -0.05774589  0.11918604  0.42481803  0.08048503]\n",
      " [ 0.01941034  0.39251305 -0.10640515 -0.09596704  0.51896149 -0.57170413\n",
      "  -0.1680991  -0.14030888 -0.26763546 -0.11247368  0.31086237]]\n"
     ]
    }
   ],
   "source": [
    "print(pca.components_)"
   ]
  },
  {
   "cell_type": "code",
   "execution_count": 533,
   "metadata": {},
   "outputs": [
    {
     "name": "stdout",
     "output_type": "stream",
     "text": [
      "[2.56165151 1.64522767]\n"
     ]
    }
   ],
   "source": [
    "print(pca.explained_variance_)"
   ]
  },
  {
   "cell_type": "code",
   "execution_count": 534,
   "metadata": {},
   "outputs": [
    {
     "data": {
      "text/plain": [
       "array([0.23287445, 0.14956425])"
      ]
     },
     "execution_count": 534,
     "metadata": {},
     "output_type": "execute_result"
    }
   ],
   "source": [
    "pca.explained_variance_ratio_"
   ]
  },
  {
   "cell_type": "code",
   "execution_count": 535,
   "metadata": {},
   "outputs": [
    {
     "data": {
      "text/plain": [
       "array([[-0.38637388, -1.60055402],\n",
       "       [-0.17455077, -1.80210004],\n",
       "       [ 3.64569322,  1.11285783],\n",
       "       ...,\n",
       "       [-0.8813229 ,  0.04448867],\n",
       "       [-0.8813229 ,  0.04448867],\n",
       "       [-0.8813229 ,  0.04448867]])"
      ]
     },
     "execution_count": 535,
     "metadata": {},
     "output_type": "execute_result"
    }
   ],
   "source": [
    "transformed"
   ]
  },
  {
   "cell_type": "code",
   "execution_count": 536,
   "metadata": {},
   "outputs": [
    {
     "data": {
      "image/png": "[encoded data removed]",
      "text/plain": [
       "<Figure size 864x576 with 1 Axes>"
      ]
     },
     "metadata": {
      "needs_background": "light"
     },
     "output_type": "display_data"
    }
   ],
   "source": [
    "fig, ax = plt.subplots(figsize=(12,8))\n",
    "ax.plot(np.cumsum(pca.explained_variance_ratio_))\n",
    "ax.set_xlabel('number of components')\n",
    "ax.set_ylabel('cumulative explained variance');"
   ]
  },
  {
   "cell_type": "code",
   "execution_count": 537,
   "metadata": {},
   "outputs": [
    {
     "data": {
      "text/plain": [
       "array([[ 0.41818021,  0.30820175,  0.35488682,  0.46698285, -0.14534249,\n",
       "        -0.01428657, -0.4003782 , -0.05774589,  0.11918604,  0.42481803,\n",
       "         0.08048503],\n",
       "       [ 0.01941034,  0.39251305, -0.10640515, -0.09596704,  0.51896149,\n",
       "        -0.57170413, -0.1680991 , -0.14030888, -0.26763546, -0.11247368,\n",
       "         0.31086237]])"
      ]
     },
     "execution_count": 537,
     "metadata": {},
     "output_type": "execute_result"
    }
   ],
   "source": [
    "pca.components_"
   ]
  },
  {
   "cell_type": "code",
   "execution_count": 538,
   "metadata": {},
   "outputs": [
    {
     "data": {
      "text/plain": [
       "array([2.56165151, 1.64522767])"
      ]
     },
     "execution_count": 538,
     "metadata": {},
     "output_type": "execute_result"
    }
   ],
   "source": [
    "pca.explained_variance_"
   ]
  },
  {
   "cell_type": "code",
   "execution_count": 539,
   "metadata": {},
   "outputs": [
    {
     "data": {
      "image/png": "[encoded data removed]",
      "text/plain": [
       "<Figure size 864x576 with 1 Axes>"
      ]
     },
     "metadata": {
      "needs_background": "light"
     },
     "output_type": "display_data"
    }
   ],
   "source": [
    "fig, ax = plt.subplots(figsize=(12,8))\n",
    "colors = cm.rainbow(np.linspace(0, 1, len(numerical)))\n",
    "\n",
    "for i in range(len(numerical)):\n",
    "    ax.scatter(pca.components_[0][i],pca.components_[1][i], color = colors[i], label = numerical[i], s = 50)\n",
    "    \n",
    "for i, txt in enumerate(numerical):\n",
    "    ax.annotate(txt, (pca.components_[0][i], pca.components_[1][i]))\n",
    "    \n",
    "#leg = ax.legend(loc=2, ncol=2, numpoints=1, fontsize=10, shadow=True)"
   ]
  },
  {
   "cell_type": "code",
   "execution_count": 540,
   "metadata": {},
   "outputs": [
    {
     "data": {
      "text/plain": [
       "<matplotlib.collections.PathCollection at 0x7fc3ec547f70>"
      ]
     },
     "execution_count": 540,
     "metadata": {},
     "output_type": "execute_result"
    },
    {
     "data": {
      "image/png": "[encoded data removed]",
      "text/plain": [
       "<Figure size 864x576 with 1 Axes>"
      ]
     },
     "metadata": {
      "needs_background": "light"
     },
     "output_type": "display_data"
    }
   ],
   "source": [
    "fig, ax = plt.subplots(figsize=(12,8))\n",
    "ax.scatter(transformed[:,0],transformed[:,1])"
   ]
  },
  {
   "cell_type": "markdown",
   "metadata": {},
   "source": [
    "# Exporting reduced data"
   ]
  },
  {
   "cell_type": "code",
   "execution_count": 543,
   "metadata": {},
   "outputs": [],
   "source": [
    "pca = PCA(n_components=4)\n",
    "pca.fit(reduced)\n",
    "transformed = pca.fit_transform(reduced)"
   ]
  },
  {
   "cell_type": "code",
   "execution_count": 544,
   "metadata": {},
   "outputs": [
    {
     "name": "stdout",
     "output_type": "stream",
     "text": [
      "[2.56165151 1.64522767 1.2421611  1.1291355 ]\n"
     ]
    }
   ],
   "source": [
    "print(pca.explained_variance_)"
   ]
  },
  {
   "cell_type": "code",
   "execution_count": 545,
   "metadata": {},
   "outputs": [
    {
     "data": {
      "text/plain": [
       "array([0.23287445, 0.14956425, 0.1129223 , 0.10264738])"
      ]
     },
     "execution_count": 545,
     "metadata": {},
     "output_type": "execute_result"
    }
   ],
   "source": [
    "pca.explained_variance_ratio_"
   ]
  },
  {
   "cell_type": "code",
   "execution_count": 546,
   "metadata": {},
   "outputs": [
    {
     "data": {
      "image/png": "[encoded data removed]",
      "text/plain": [
       "<Figure size 864x576 with 1 Axes>"
      ]
     },
     "metadata": {
      "needs_background": "light"
     },
     "output_type": "display_data"
    }
   ],
   "source": [
    "fig, ax = plt.subplots(figsize=(12,8))\n",
    "ax.plot(np.cumsum(pca.explained_variance_ratio_))\n",
    "ax.set_xlabel('number of components')\n",
    "ax.set_ylabel('cumulative explained variance');"
   ]
  },
  {
   "cell_type": "code",
   "execution_count": 547,
   "metadata": {},
   "outputs": [
    {
     "data": {
      "text/plain": [
       "array([0.23287445, 0.38243871, 0.49536101, 0.59800839])"
      ]
     },
     "execution_count": 547,
     "metadata": {},
     "output_type": "execute_result"
    }
   ],
   "source": [
    "np.cumsum(pca.explained_variance_ratio_)"
   ]
  },
  {
   "cell_type": "code",
   "execution_count": 548,
   "metadata": {},
   "outputs": [
    {
     "data": {
      "text/plain": [
       "(78786, 4)"
      ]
     },
     "execution_count": 548,
     "metadata": {},
     "output_type": "execute_result"
    }
   ],
   "source": [
    "transformed.shape"
   ]
  },
  {
   "cell_type": "code",
   "execution_count": 550,
   "metadata": {},
   "outputs": [],
   "source": [
    "PCA = pd.DataFrame(transformed)\n",
    "PCA.columns = ['PC1','PC2', 'PC3','PC4']"
   ]
  },
  {
   "cell_type": "code",
   "execution_count": 561,
   "metadata": {},
   "outputs": [
    {
     "data": {
      "text/plain": [
       "78786"
      ]
     },
     "execution_count": 561,
     "metadata": {},
     "output_type": "execute_result"
    }
   ],
   "source": [
    "len(PCA)"
   ]
  },
  {
   "cell_type": "code",
   "execution_count": 554,
   "metadata": {},
   "outputs": [
    {
     "data": {
      "text/html": [
       "<div>\n",
       "<style scoped>\n",
       "    .dataframe tbody tr th:only-of-type {\n",
       "        vertical-align: middle;\n",
       "    }\n",
       "\n",
       "    .dataframe tbody tr th {\n",
       "        vertical-align: top;\n",
       "    }\n",
       "\n",
       "    .dataframe thead th {\n",
       "        text-align: right;\n",
       "    }\n",
       "</style>\n",
       "<table border=\"1\" class=\"dataframe\">\n",
       "  <thead>\n",
       "    <tr style=\"text-align: right;\">\n",
       "      <th></th>\n",
       "      <th>PC1</th>\n",
       "      <th>PC2</th>\n",
       "      <th>PC3</th>\n",
       "      <th>PC4</th>\n",
       "      <th>duration_seconds</th>\n",
       "    </tr>\n",
       "  </thead>\n",
       "  <tbody>\n",
       "    <tr>\n",
       "      <th>0</th>\n",
       "      <td>-0.386374</td>\n",
       "      <td>-1.600554</td>\n",
       "      <td>-0.157397</td>\n",
       "      <td>-0.462842</td>\n",
       "      <td>2700.0</td>\n",
       "    </tr>\n",
       "    <tr>\n",
       "      <th>1</th>\n",
       "      <td>-0.174551</td>\n",
       "      <td>-1.802100</td>\n",
       "      <td>-0.646125</td>\n",
       "      <td>-0.487443</td>\n",
       "      <td>7200.0</td>\n",
       "    </tr>\n",
       "    <tr>\n",
       "      <th>2</th>\n",
       "      <td>3.645693</td>\n",
       "      <td>1.112858</td>\n",
       "      <td>0.007116</td>\n",
       "      <td>-2.893792</td>\n",
       "      <td>20.0</td>\n",
       "    </tr>\n",
       "    <tr>\n",
       "      <th>3</th>\n",
       "      <td>0.493706</td>\n",
       "      <td>-0.417945</td>\n",
       "      <td>0.980050</td>\n",
       "      <td>-0.548708</td>\n",
       "      <td>20.0</td>\n",
       "    </tr>\n",
       "    <tr>\n",
       "      <th>4</th>\n",
       "      <td>1.483583</td>\n",
       "      <td>-0.934297</td>\n",
       "      <td>0.497367</td>\n",
       "      <td>-1.366090</td>\n",
       "      <td>900.0</td>\n",
       "    </tr>\n",
       "    <tr>\n",
       "      <th>...</th>\n",
       "      <td>...</td>\n",
       "      <td>...</td>\n",
       "      <td>...</td>\n",
       "      <td>...</td>\n",
       "      <td>...</td>\n",
       "    </tr>\n",
       "    <tr>\n",
       "      <th>78781</th>\n",
       "      <td>-0.881323</td>\n",
       "      <td>0.044489</td>\n",
       "      <td>0.405969</td>\n",
       "      <td>0.208595</td>\n",
       "      <td>300.0</td>\n",
       "    </tr>\n",
       "    <tr>\n",
       "      <th>78782</th>\n",
       "      <td>-0.881323</td>\n",
       "      <td>0.044489</td>\n",
       "      <td>0.405969</td>\n",
       "      <td>0.208595</td>\n",
       "      <td>300.0</td>\n",
       "    </tr>\n",
       "    <tr>\n",
       "      <th>78783</th>\n",
       "      <td>-0.881323</td>\n",
       "      <td>0.044489</td>\n",
       "      <td>0.405969</td>\n",
       "      <td>0.208595</td>\n",
       "      <td>10.0</td>\n",
       "    </tr>\n",
       "    <tr>\n",
       "      <th>78784</th>\n",
       "      <td>-0.881323</td>\n",
       "      <td>0.044489</td>\n",
       "      <td>0.405969</td>\n",
       "      <td>0.208595</td>\n",
       "      <td>180.0</td>\n",
       "    </tr>\n",
       "    <tr>\n",
       "      <th>78785</th>\n",
       "      <td>-0.881323</td>\n",
       "      <td>0.044489</td>\n",
       "      <td>0.405969</td>\n",
       "      <td>0.208595</td>\n",
       "      <td>30.0</td>\n",
       "    </tr>\n",
       "  </tbody>\n",
       "</table>\n",
       "<p>78786 rows × 5 columns</p>\n",
       "</div>"
      ],
      "text/plain": [
       "            PC1       PC2       PC3       PC4  duration_seconds\n",
       "0     -0.386374 -1.600554 -0.157397 -0.462842            2700.0\n",
       "1     -0.174551 -1.802100 -0.646125 -0.487443            7200.0\n",
       "2      3.645693  1.112858  0.007116 -2.893792              20.0\n",
       "3      0.493706 -0.417945  0.980050 -0.548708              20.0\n",
       "4      1.483583 -0.934297  0.497367 -1.366090             900.0\n",
       "...         ...       ...       ...       ...               ...\n",
       "78781 -0.881323  0.044489  0.405969  0.208595             300.0\n",
       "78782 -0.881323  0.044489  0.405969  0.208595             300.0\n",
       "78783 -0.881323  0.044489  0.405969  0.208595              10.0\n",
       "78784 -0.881323  0.044489  0.405969  0.208595             180.0\n",
       "78785 -0.881323  0.044489  0.405969  0.208595              30.0\n",
       "\n",
       "[78786 rows x 5 columns]"
      ]
     },
     "execution_count": 554,
     "metadata": {},
     "output_type": "execute_result"
    }
   ],
   "source": [
    "df_PCA = PCA\n",
    "df_PCA['duration_seconds'] = data['duration_seconds'] \n",
    "df_PCA"
   ]
  },
  {
   "cell_type": "code",
   "execution_count": 565,
   "metadata": {},
   "outputs": [
    {
     "data": {
      "text/plain": [
       "Text(0.5, 1.0, 'PC1 vs PC4')"
      ]
     },
     "execution_count": 565,
     "metadata": {},
     "output_type": "execute_result"
    },
    {
     "data": {
      "image/png": "[encoded data removed]",
      "text/plain": [
       "<Figure size 864x576 with 4 Axes>"
      ]
     },
     "metadata": {
      "needs_background": "light"
     },
     "output_type": "display_data"
    }
   ],
   "source": [
    "fig, ax = plt.subplots(2,2,figsize=(12,8))\n",
    "ax[0][0].scatter(df_PCA['PC1'],df_PCA['PC2'])\n",
    "ax[0][0].set_xlabel('PC1')\n",
    "ax[0][0].set_ylabel('PC2')\n",
    "ax[0][0].set_title('PC1 vs PC2')\n",
    "\n",
    "ax[0][1].scatter(df_PCA['PC1'],df_PCA['PC3'])\n",
    "ax[0][1].set_xlabel('PC1')\n",
    "ax[0][1].set_ylabel('PC3')\n",
    "ax[0][1].set_title('PC1 vs PC3')\n",
    "\n",
    "ax[1][0].scatter(df_PCA['PC1'],df_PCA['PC4'])\n",
    "ax[1][0].set_xlabel('PC1')\n",
    "ax[1][0].set_ylabel('PC4')\n",
    "ax[1][0].set_title('PC1 vs PC4')"
   ]
  },
  {
   "cell_type": "code",
   "execution_count": 566,
   "metadata": {},
   "outputs": [],
   "source": [
    "df_PCA.to_csv('UFO_PCA.csv')"
   ]
  }
 ],
 "metadata": {
  "kernelspec": {
   "display_name": "Python 3",
   "language": "python",
   "name": "python3"
  },
  "language_info": {
   "codemirror_mode": {
    "name": "ipython",
    "version": 3
   },
   "file_extension": ".py",
   "mimetype": "text/x-python",
   "name": "python",
   "nbconvert_exporter": "python",
   "pygments_lexer": "ipython3",
   "version": "3.8.2"
  }
 },
 "nbformat": 4,
 "nbformat_minor": 4
}
