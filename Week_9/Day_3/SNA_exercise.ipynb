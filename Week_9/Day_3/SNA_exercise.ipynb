{
 "cells": [
  {
   "cell_type": "code",
   "execution_count": 16,
   "metadata": {},
   "outputs": [],
   "source": [
    "import pandas as pd\n",
    "import numpy as np\n",
    "import matplotlib.pyplot as plt\n",
    "import networkx as nx\n",
    "import re\n",
    "import copy\n",
    "import collections"
   ]
  },
  {
   "cell_type": "markdown",
   "metadata": {},
   "source": [
    "we will be using networkx package http://networkx.readthedocs.io/en/networkx-1.11/index.html"
   ]
  },
  {
   "cell_type": "markdown",
   "metadata": {},
   "source": [
    "### Load enron dataset into pandas\n",
    "Link to Enron company https://en.wikipedia.org/wiki/Enron. You can find the data [here](https://drive.google.com/file/d/1R8TW3CUN5UM_EtQT923EtyCmICPX2NZ8/view?usp=sharing)."
   ]
  },
  {
   "cell_type": "markdown",
   "metadata": {},
   "source": [
    "# Data cleaning and preparation"
   ]
  },
  {
   "cell_type": "code",
   "execution_count": 17,
   "metadata": {},
   "outputs": [],
   "source": [
    "# we are using = as a separator so we don't mix text with columns separator\n",
    "df_enron = pd.read_csv(\"enron.csv\", sep=\"=\")\n",
    "df_enron.drop('Unnamed: 0',axis = 1, inplace = True)"
   ]
  },
  {
   "cell_type": "code",
   "execution_count": 18,
   "metadata": {},
   "outputs": [
    {
     "data": {
      "text/html": [
       "<div>\n",
       "<style scoped>\n",
       "    .dataframe tbody tr th:only-of-type {\n",
       "        vertical-align: middle;\n",
       "    }\n",
       "\n",
       "    .dataframe tbody tr th {\n",
       "        vertical-align: top;\n",
       "    }\n",
       "\n",
       "    .dataframe thead th {\n",
       "        text-align: right;\n",
       "    }\n",
       "</style>\n",
       "<table border=\"1\" class=\"dataframe\">\n",
       "  <thead>\n",
       "    <tr style=\"text-align: right;\">\n",
       "      <th></th>\n",
       "      <th>from</th>\n",
       "      <th>to</th>\n",
       "      <th>date</th>\n",
       "      <th>text</th>\n",
       "      <th>day_of_week</th>\n",
       "    </tr>\n",
       "  </thead>\n",
       "  <tbody>\n",
       "    <tr>\n",
       "      <th>0</th>\n",
       "      <td>shelley.corman@enron.com</td>\n",
       "      <td>jean.adams@enron.com, william.aldinger@enron.c...</td>\n",
       "      <td>20 Nov 2001 15</td>\n",
       "      <td>Please Send to ETS Gas Logistics Staff (Exclud...</td>\n",
       "      <td>Tue</td>\n",
       "    </tr>\n",
       "    <tr>\n",
       "      <th>1</th>\n",
       "      <td>frank.ermis@enron.com</td>\n",
       "      <td>mike.grigsby@enron.com</td>\n",
       "      <td>14 Feb 2001 02</td>\n",
       "      <td>no</td>\n",
       "      <td>Wed</td>\n",
       "    </tr>\n",
       "    <tr>\n",
       "      <th>2</th>\n",
       "      <td>joan.veselack@enron.com</td>\n",
       "      <td>jwhited@columbiaenergygroup.com, chris.germany...</td>\n",
       "      <td>22 Mar 2000 08</td>\n",
       "      <td>Per my voicemail message to John.I talked to S...</td>\n",
       "      <td>Wed</td>\n",
       "    </tr>\n",
       "    <tr>\n",
       "      <th>3</th>\n",
       "      <td>sharon.crawford@enron.com</td>\n",
       "      <td>chris.gaffney@enron.com, mark.powell@enron.com...</td>\n",
       "      <td>27 Oct 2000 04</td>\n",
       "      <td>Attached is Stikeman Elliott's derivatives upd...</td>\n",
       "      <td>Fri</td>\n",
       "    </tr>\n",
       "    <tr>\n",
       "      <th>4</th>\n",
       "      <td>chris.germany@enron.com</td>\n",
       "      <td>victor.lamadrid@enron.com, edward.terry@enron....</td>\n",
       "      <td>25 Sep 2000 05</td>\n",
       "      <td>FOM New Power numbers.---------------------- F...</td>\n",
       "      <td>Mon</td>\n",
       "    </tr>\n",
       "    <tr>\n",
       "      <th>...</th>\n",
       "      <td>...</td>\n",
       "      <td>...</td>\n",
       "      <td>...</td>\n",
       "      <td>...</td>\n",
       "      <td>...</td>\n",
       "    </tr>\n",
       "    <tr>\n",
       "      <th>34019</th>\n",
       "      <td>david.delainey@enron.com</td>\n",
       "      <td>robert.virgo@enron.com</td>\n",
       "      <td>9 Feb 2001 10</td>\n",
       "      <td>Bob, please give me an update on our progress ...</td>\n",
       "      <td>Fri</td>\n",
       "    </tr>\n",
       "    <tr>\n",
       "      <th>34020</th>\n",
       "      <td>james.centilli@enron.com</td>\n",
       "      <td>tracy.geaccone@enron.com</td>\n",
       "      <td>17 Oct 2001 07</td>\n",
       "      <td>The project can not be justified, if you have ...</td>\n",
       "      <td>Wed</td>\n",
       "    </tr>\n",
       "    <tr>\n",
       "      <th>34021</th>\n",
       "      <td>charles.weldon@enron.com</td>\n",
       "      <td>bryan.hull@enron.com, a..martin@enron.com, joe...</td>\n",
       "      <td>12 Sep 2001 10</td>\n",
       "      <td>-----Original Message-----From: \\tSchlueter, ...</td>\n",
       "      <td>Wed</td>\n",
       "    </tr>\n",
       "    <tr>\n",
       "      <th>34022</th>\n",
       "      <td>vince.kaminski@enron.com</td>\n",
       "      <td>toni.graham@enron.com</td>\n",
       "      <td>9 Oct 2000 04</td>\n",
       "      <td>Toni,FYI.Vince---------------------- Forwarded...</td>\n",
       "      <td>Mon</td>\n",
       "    </tr>\n",
       "    <tr>\n",
       "      <th>34023</th>\n",
       "      <td>sara.shackleton@enron.com</td>\n",
       "      <td>brent.hendry@enron.com</td>\n",
       "      <td>11 Sep 2000 02</td>\n",
       "      <td>do you want to handle?  Sara----- Forwarded by...</td>\n",
       "      <td>Mon</td>\n",
       "    </tr>\n",
       "  </tbody>\n",
       "</table>\n",
       "<p>34024 rows × 5 columns</p>\n",
       "</div>"
      ],
      "text/plain": [
       "                            from  \\\n",
       "0       shelley.corman@enron.com   \n",
       "1          frank.ermis@enron.com   \n",
       "2        joan.veselack@enron.com   \n",
       "3      sharon.crawford@enron.com   \n",
       "4        chris.germany@enron.com   \n",
       "...                          ...   \n",
       "34019   david.delainey@enron.com   \n",
       "34020   james.centilli@enron.com   \n",
       "34021   charles.weldon@enron.com   \n",
       "34022   vince.kaminski@enron.com   \n",
       "34023  sara.shackleton@enron.com   \n",
       "\n",
       "                                                      to             date  \\\n",
       "0      jean.adams@enron.com, william.aldinger@enron.c...   20 Nov 2001 15   \n",
       "1                                 mike.grigsby@enron.com   14 Feb 2001 02   \n",
       "2      jwhited@columbiaenergygroup.com, chris.germany...   22 Mar 2000 08   \n",
       "3      chris.gaffney@enron.com, mark.powell@enron.com...   27 Oct 2000 04   \n",
       "4      victor.lamadrid@enron.com, edward.terry@enron....   25 Sep 2000 05   \n",
       "...                                                  ...              ...   \n",
       "34019                             robert.virgo@enron.com    9 Feb 2001 10   \n",
       "34020                           tracy.geaccone@enron.com   17 Oct 2001 07   \n",
       "34021  bryan.hull@enron.com, a..martin@enron.com, joe...   12 Sep 2001 10   \n",
       "34022                              toni.graham@enron.com    9 Oct 2000 04   \n",
       "34023                             brent.hendry@enron.com   11 Sep 2000 02   \n",
       "\n",
       "                                                    text day_of_week  \n",
       "0      Please Send to ETS Gas Logistics Staff (Exclud...         Tue  \n",
       "1                                                     no         Wed  \n",
       "2      Per my voicemail message to John.I talked to S...         Wed  \n",
       "3      Attached is Stikeman Elliott's derivatives upd...         Fri  \n",
       "4      FOM New Power numbers.---------------------- F...         Mon  \n",
       "...                                                  ...         ...  \n",
       "34019  Bob, please give me an update on our progress ...         Fri  \n",
       "34020  The project can not be justified, if you have ...         Wed  \n",
       "34021   -----Original Message-----From: \\tSchlueter, ...         Wed  \n",
       "34022  Toni,FYI.Vince---------------------- Forwarded...         Mon  \n",
       "34023  do you want to handle?  Sara----- Forwarded by...         Mon  \n",
       "\n",
       "[34024 rows x 5 columns]"
      ]
     },
     "execution_count": 18,
     "metadata": {},
     "output_type": "execute_result"
    }
   ],
   "source": [
    "df_enron"
   ]
  },
  {
   "cell_type": "code",
   "execution_count": 19,
   "metadata": {},
   "outputs": [
    {
     "data": {
      "text/plain": [
       "3219"
      ]
     },
     "execution_count": 19,
     "metadata": {},
     "output_type": "execute_result"
    }
   ],
   "source": [
    "len(df_enron['from'].unique())"
   ]
  },
  {
   "cell_type": "markdown",
   "metadata": {},
   "source": [
    "## Task\n",
    "Take only part of email address until the @ (not important for analysis) and add a column with link (concatenation of sender and receiver)."
   ]
  },
  {
   "cell_type": "code",
   "execution_count": 20,
   "metadata": {},
   "outputs": [],
   "source": [
    "df = copy.deepcopy(df_enron)"
   ]
  },
  {
   "cell_type": "code",
   "execution_count": 21,
   "metadata": {},
   "outputs": [],
   "source": [
    "df['from'] = pd.Series(df['from'].str.split(\"@\", expand= True)[0])"
   ]
  },
  {
   "cell_type": "code",
   "execution_count": 22,
   "metadata": {},
   "outputs": [],
   "source": [
    "#len(df['to'][0].split(','))"
   ]
  },
  {
   "cell_type": "code",
   "execution_count": 23,
   "metadata": {},
   "outputs": [],
   "source": [
    "df['to'] = df['to'].str.replace('\\n', '')\n",
    "df['to'] = df['to'].str.replace('\\t', '')\n",
    "df['to'] = df['to'].str.split(',')"
   ]
  },
  {
   "cell_type": "code",
   "execution_count": 24,
   "metadata": {},
   "outputs": [],
   "source": [
    "df = df.explode('to')\n",
    "df['to'] = pd.Series(df['to'].str.split(\"@\", expand= True)[0])"
   ]
  },
  {
   "cell_type": "code",
   "execution_count": 25,
   "metadata": {},
   "outputs": [],
   "source": [
    "df['link'] = df['from'] + ','+ df['to']"
   ]
  },
  {
   "cell_type": "code",
   "execution_count": 26,
   "metadata": {},
   "outputs": [
    {
     "data": {
      "text/html": [
       "<div>\n",
       "<style scoped>\n",
       "    .dataframe tbody tr th:only-of-type {\n",
       "        vertical-align: middle;\n",
       "    }\n",
       "\n",
       "    .dataframe tbody tr th {\n",
       "        vertical-align: top;\n",
       "    }\n",
       "\n",
       "    .dataframe thead th {\n",
       "        text-align: right;\n",
       "    }\n",
       "</style>\n",
       "<table border=\"1\" class=\"dataframe\">\n",
       "  <thead>\n",
       "    <tr style=\"text-align: right;\">\n",
       "      <th></th>\n",
       "      <th>from</th>\n",
       "      <th>to</th>\n",
       "      <th>date</th>\n",
       "      <th>text</th>\n",
       "      <th>day_of_week</th>\n",
       "      <th>link</th>\n",
       "    </tr>\n",
       "  </thead>\n",
       "  <tbody>\n",
       "    <tr>\n",
       "      <th>0</th>\n",
       "      <td>shelley.corman</td>\n",
       "      <td>jean.adams</td>\n",
       "      <td>20 Nov 2001 15</td>\n",
       "      <td>Please Send to ETS Gas Logistics Staff (Exclud...</td>\n",
       "      <td>Tue</td>\n",
       "      <td>shelley.corman,jean.adams</td>\n",
       "    </tr>\n",
       "    <tr>\n",
       "      <th>0</th>\n",
       "      <td>shelley.corman</td>\n",
       "      <td>william.aldinger</td>\n",
       "      <td>20 Nov 2001 15</td>\n",
       "      <td>Please Send to ETS Gas Logistics Staff (Exclud...</td>\n",
       "      <td>Tue</td>\n",
       "      <td>shelley.corman, william.aldinger</td>\n",
       "    </tr>\n",
       "    <tr>\n",
       "      <th>0</th>\n",
       "      <td>shelley.corman</td>\n",
       "      <td>jesse.alvarado</td>\n",
       "      <td>20 Nov 2001 15</td>\n",
       "      <td>Please Send to ETS Gas Logistics Staff (Exclud...</td>\n",
       "      <td>Tue</td>\n",
       "      <td>shelley.corman, jesse.alvarado</td>\n",
       "    </tr>\n",
       "    <tr>\n",
       "      <th>0</th>\n",
       "      <td>shelley.corman</td>\n",
       "      <td>donald.angeletti</td>\n",
       "      <td>20 Nov 2001 15</td>\n",
       "      <td>Please Send to ETS Gas Logistics Staff (Exclud...</td>\n",
       "      <td>Tue</td>\n",
       "      <td>shelley.corman, donald.angeletti</td>\n",
       "    </tr>\n",
       "    <tr>\n",
       "      <th>0</th>\n",
       "      <td>shelley.corman</td>\n",
       "      <td>roy.armitage</td>\n",
       "      <td>20 Nov 2001 15</td>\n",
       "      <td>Please Send to ETS Gas Logistics Staff (Exclud...</td>\n",
       "      <td>Tue</td>\n",
       "      <td>shelley.corman, roy.armitage</td>\n",
       "    </tr>\n",
       "    <tr>\n",
       "      <th>...</th>\n",
       "      <td>...</td>\n",
       "      <td>...</td>\n",
       "      <td>...</td>\n",
       "      <td>...</td>\n",
       "      <td>...</td>\n",
       "      <td>...</td>\n",
       "    </tr>\n",
       "    <tr>\n",
       "      <th>34021</th>\n",
       "      <td>charles.weldon</td>\n",
       "      <td>joe.parks</td>\n",
       "      <td>12 Sep 2001 10</td>\n",
       "      <td>-----Original Message-----From: \\tSchlueter, ...</td>\n",
       "      <td>Wed</td>\n",
       "      <td>charles.weldon, joe.parks</td>\n",
       "    </tr>\n",
       "    <tr>\n",
       "      <th>34021</th>\n",
       "      <td>charles.weldon</td>\n",
       "      <td>eric.bass</td>\n",
       "      <td>12 Sep 2001 10</td>\n",
       "      <td>-----Original Message-----From: \\tSchlueter, ...</td>\n",
       "      <td>Wed</td>\n",
       "      <td>charles.weldon, eric.bass</td>\n",
       "    </tr>\n",
       "    <tr>\n",
       "      <th>34021</th>\n",
       "      <td>charles.weldon</td>\n",
       "      <td>jim.schwieger</td>\n",
       "      <td>12 Sep 2001 10</td>\n",
       "      <td>-----Original Message-----From: \\tSchlueter, ...</td>\n",
       "      <td>Wed</td>\n",
       "      <td>charles.weldon, jim.schwieger</td>\n",
       "    </tr>\n",
       "    <tr>\n",
       "      <th>34022</th>\n",
       "      <td>vince.kaminski</td>\n",
       "      <td>toni.graham</td>\n",
       "      <td>9 Oct 2000 04</td>\n",
       "      <td>Toni,FYI.Vince---------------------- Forwarded...</td>\n",
       "      <td>Mon</td>\n",
       "      <td>vince.kaminski,toni.graham</td>\n",
       "    </tr>\n",
       "    <tr>\n",
       "      <th>34023</th>\n",
       "      <td>sara.shackleton</td>\n",
       "      <td>brent.hendry</td>\n",
       "      <td>11 Sep 2000 02</td>\n",
       "      <td>do you want to handle?  Sara----- Forwarded by...</td>\n",
       "      <td>Mon</td>\n",
       "      <td>sara.shackleton,brent.hendry</td>\n",
       "    </tr>\n",
       "  </tbody>\n",
       "</table>\n",
       "<p>250956 rows × 6 columns</p>\n",
       "</div>"
      ],
      "text/plain": [
       "                  from                 to             date  \\\n",
       "0       shelley.corman         jean.adams   20 Nov 2001 15   \n",
       "0       shelley.corman   william.aldinger   20 Nov 2001 15   \n",
       "0       shelley.corman     jesse.alvarado   20 Nov 2001 15   \n",
       "0       shelley.corman   donald.angeletti   20 Nov 2001 15   \n",
       "0       shelley.corman       roy.armitage   20 Nov 2001 15   \n",
       "...                ...                ...              ...   \n",
       "34021   charles.weldon          joe.parks   12 Sep 2001 10   \n",
       "34021   charles.weldon          eric.bass   12 Sep 2001 10   \n",
       "34021   charles.weldon      jim.schwieger   12 Sep 2001 10   \n",
       "34022   vince.kaminski        toni.graham    9 Oct 2000 04   \n",
       "34023  sara.shackleton       brent.hendry   11 Sep 2000 02   \n",
       "\n",
       "                                                    text day_of_week  \\\n",
       "0      Please Send to ETS Gas Logistics Staff (Exclud...         Tue   \n",
       "0      Please Send to ETS Gas Logistics Staff (Exclud...         Tue   \n",
       "0      Please Send to ETS Gas Logistics Staff (Exclud...         Tue   \n",
       "0      Please Send to ETS Gas Logistics Staff (Exclud...         Tue   \n",
       "0      Please Send to ETS Gas Logistics Staff (Exclud...         Tue   \n",
       "...                                                  ...         ...   \n",
       "34021   -----Original Message-----From: \\tSchlueter, ...         Wed   \n",
       "34021   -----Original Message-----From: \\tSchlueter, ...         Wed   \n",
       "34021   -----Original Message-----From: \\tSchlueter, ...         Wed   \n",
       "34022  Toni,FYI.Vince---------------------- Forwarded...         Mon   \n",
       "34023  do you want to handle?  Sara----- Forwarded by...         Mon   \n",
       "\n",
       "                                   link  \n",
       "0             shelley.corman,jean.adams  \n",
       "0      shelley.corman, william.aldinger  \n",
       "0        shelley.corman, jesse.alvarado  \n",
       "0      shelley.corman, donald.angeletti  \n",
       "0          shelley.corman, roy.armitage  \n",
       "...                                 ...  \n",
       "34021         charles.weldon, joe.parks  \n",
       "34021         charles.weldon, eric.bass  \n",
       "34021     charles.weldon, jim.schwieger  \n",
       "34022        vince.kaminski,toni.graham  \n",
       "34023      sara.shackleton,brent.hendry  \n",
       "\n",
       "[250956 rows x 6 columns]"
      ]
     },
     "execution_count": 26,
     "metadata": {},
     "output_type": "execute_result"
    }
   ],
   "source": [
    "df"
   ]
  },
  {
   "cell_type": "markdown",
   "metadata": {},
   "source": [
    "## Task\n",
    "Group by the dataset on the link level (variables `from` and `to`) and create these features for each link (this is input for the networkx package):\n",
    "\n",
    "+ count of mails\n",
    "+ count of emails over the weekend\n",
    "+ average length of text\n",
    "\n",
    "These features will be used as Edge Weights."
   ]
  },
  {
   "cell_type": "code",
   "execution_count": 27,
   "metadata": {},
   "outputs": [],
   "source": [
    "df['count_mail'] = 1\n",
    "df['wek_mail'] = np.where(df['day_of_week'].isin([' Sat',' Sun']),1,0)\n",
    "df['length'] = len(df['text'])"
   ]
  },
  {
   "cell_type": "code",
   "execution_count": 28,
   "metadata": {},
   "outputs": [],
   "source": [
    "#df_weight['link'].str.split(',', expand= True)[0]"
   ]
  },
  {
   "cell_type": "code",
   "execution_count": 29,
   "metadata": {},
   "outputs": [
    {
     "data": {
      "text/html": [
       "<div>\n",
       "<style scoped>\n",
       "    .dataframe tbody tr th:only-of-type {\n",
       "        vertical-align: middle;\n",
       "    }\n",
       "\n",
       "    .dataframe tbody tr th {\n",
       "        vertical-align: top;\n",
       "    }\n",
       "\n",
       "    .dataframe thead th {\n",
       "        text-align: right;\n",
       "    }\n",
       "</style>\n",
       "<table border=\"1\" class=\"dataframe\">\n",
       "  <thead>\n",
       "    <tr style=\"text-align: right;\">\n",
       "      <th></th>\n",
       "      <th>count_mail</th>\n",
       "      <th>wek_mail</th>\n",
       "      <th>length</th>\n",
       "      <th>from</th>\n",
       "      <th>to</th>\n",
       "    </tr>\n",
       "  </thead>\n",
       "  <tbody>\n",
       "    <tr>\n",
       "      <th>0</th>\n",
       "      <td>1</td>\n",
       "      <td>1</td>\n",
       "      <td>250956</td>\n",
       "      <td>'todd'.delahoussaye</td>\n",
       "      <td>susan.bailey</td>\n",
       "    </tr>\n",
       "    <tr>\n",
       "      <th>46472</th>\n",
       "      <td>1</td>\n",
       "      <td>1</td>\n",
       "      <td>250956</td>\n",
       "      <td>louis.dicarlo</td>\n",
       "      <td>alan.aronowitz</td>\n",
       "    </tr>\n",
       "    <tr>\n",
       "      <th>46473</th>\n",
       "      <td>1</td>\n",
       "      <td>1</td>\n",
       "      <td>250956</td>\n",
       "      <td>louis.dicarlo</td>\n",
       "      <td>angelo.miroballi</td>\n",
       "    </tr>\n",
       "    <tr>\n",
       "      <th>46474</th>\n",
       "      <td>1</td>\n",
       "      <td>1</td>\n",
       "      <td>250956</td>\n",
       "      <td>louis.dicarlo</td>\n",
       "      <td>clara.carrington</td>\n",
       "    </tr>\n",
       "    <tr>\n",
       "      <th>46475</th>\n",
       "      <td>1</td>\n",
       "      <td>1</td>\n",
       "      <td>250956</td>\n",
       "      <td>louis.dicarlo</td>\n",
       "      <td>kay.mann</td>\n",
       "    </tr>\n",
       "    <tr>\n",
       "      <th>...</th>\n",
       "      <td>...</td>\n",
       "      <td>...</td>\n",
       "      <td>...</td>\n",
       "      <td>...</td>\n",
       "      <td>...</td>\n",
       "    </tr>\n",
       "    <tr>\n",
       "      <th>30866</th>\n",
       "      <td>208</td>\n",
       "      <td>208</td>\n",
       "      <td>250956</td>\n",
       "      <td>jeff.dasovich</td>\n",
       "      <td>paul.kaufman</td>\n",
       "    </tr>\n",
       "    <tr>\n",
       "      <th>30937</th>\n",
       "      <td>215</td>\n",
       "      <td>215</td>\n",
       "      <td>250956</td>\n",
       "      <td>jeff.dasovich</td>\n",
       "      <td>susan.mara</td>\n",
       "    </tr>\n",
       "    <tr>\n",
       "      <th>30884</th>\n",
       "      <td>217</td>\n",
       "      <td>217</td>\n",
       "      <td>250956</td>\n",
       "      <td>jeff.dasovich</td>\n",
       "      <td>richard.shapiro</td>\n",
       "    </tr>\n",
       "    <tr>\n",
       "      <th>79403</th>\n",
       "      <td>256</td>\n",
       "      <td>256</td>\n",
       "      <td>250956</td>\n",
       "      <td>veronica.espinoza</td>\n",
       "      <td>recipients</td>\n",
       "    </tr>\n",
       "    <tr>\n",
       "      <th>58550</th>\n",
       "      <td>849</td>\n",
       "      <td>849</td>\n",
       "      <td>250956</td>\n",
       "      <td>pete.davis</td>\n",
       "      <td>pete.davis</td>\n",
       "    </tr>\n",
       "  </tbody>\n",
       "</table>\n",
       "<p>81273 rows × 5 columns</p>\n",
       "</div>"
      ],
      "text/plain": [
       "       count_mail  wek_mail  length                 from                 to\n",
       "0               1         1  250956  'todd'.delahoussaye       susan.bailey\n",
       "46472           1         1  250956        louis.dicarlo     alan.aronowitz\n",
       "46473           1         1  250956        louis.dicarlo   angelo.miroballi\n",
       "46474           1         1  250956        louis.dicarlo   clara.carrington\n",
       "46475           1         1  250956        louis.dicarlo           kay.mann\n",
       "...           ...       ...     ...                  ...                ...\n",
       "30866         208       208  250956        jeff.dasovich       paul.kaufman\n",
       "30937         215       215  250956        jeff.dasovich         susan.mara\n",
       "30884         217       217  250956        jeff.dasovich    richard.shapiro\n",
       "79403         256       256  250956    veronica.espinoza         recipients\n",
       "58550         849       849  250956           pete.davis         pete.davis\n",
       "\n",
       "[81273 rows x 5 columns]"
      ]
     },
     "execution_count": 29,
     "metadata": {},
     "output_type": "execute_result"
    }
   ],
   "source": [
    "df_weight = df.groupby('link').agg({'count_mail':'count', 'wek_mail':'count', 'length':'mean'})\n",
    "#df_weight['length'] = df.groupby('link').mean()['length'].sort_values(ascending=False)\n",
    "df_weight.reset_index(inplace = True)\n",
    "df_weight['from'] = df_weight['link'].str.split(',', expand= True)[0]\n",
    "df_weight['to'] = df_weight['link'].str.split(',', expand= True)[1]\n",
    "df_weight.drop('link', axis = 1,inplace = True)\n",
    "df_weight.sort_values(by='count_mail')"
   ]
  },
  {
   "cell_type": "code",
   "execution_count": 15,
   "metadata": {},
   "outputs": [
    {
     "data": {
      "text/plain": [
       "18136"
      ]
     },
     "execution_count": 15,
     "metadata": {},
     "output_type": "execute_result"
    }
   ],
   "source": [
    "len(set(df_weight['from']).union(set(df_weight['to'])))"
   ]
  },
  {
   "cell_type": "markdown",
   "metadata": {},
   "source": [
    "## SNA Analysis"
   ]
  },
  {
   "cell_type": "markdown",
   "metadata": {},
   "source": [
    "## Task\n",
    "Create directed graph with networkx package. use the networkx function `from_pandas_edgelist` with count of mails, count of emails over the weekend and average length of text as edge metrics. (parameter `edge_attr`)\n"
   ]
  },
  {
   "cell_type": "code",
   "execution_count": 394,
   "metadata": {},
   "outputs": [],
   "source": [
    "G = nx.from_pandas_edgelist(df_weight, 'from', \"to\", [\"count_mail\", \"wek_mail\", \"length\"])"
   ]
  },
  {
   "cell_type": "code",
   "execution_count": 395,
   "metadata": {},
   "outputs": [
    {
     "data": {
      "text/plain": [
       "{'count_mail': 1, 'wek_mail': 1, 'length': 250956}"
      ]
     },
     "execution_count": 395,
     "metadata": {},
     "output_type": "execute_result"
    }
   ],
   "source": [
    "G['louis.dicarlo'][' alan.aronowitz']"
   ]
  },
  {
   "cell_type": "markdown",
   "metadata": {},
   "source": [
    "## Basic analysis: graph properties\n",
    "Find the number of nodes and edges, the average degree and the number of\n",
    "connected components"
   ]
  },
  {
   "cell_type": "code",
   "execution_count": 396,
   "metadata": {},
   "outputs": [
    {
     "data": {
      "text/plain": [
       "18136"
      ]
     },
     "execution_count": 396,
     "metadata": {},
     "output_type": "execute_result"
    }
   ],
   "source": [
    "# number of nodes\n",
    "G.number_of_nodes()"
   ]
  },
  {
   "cell_type": "code",
   "execution_count": 397,
   "metadata": {},
   "outputs": [
    {
     "data": {
      "text/plain": [
       "79552"
      ]
     },
     "execution_count": 397,
     "metadata": {},
     "output_type": "execute_result"
    }
   ],
   "source": [
    "# number of edges\n",
    "G.number_of_edges()"
   ]
  },
  {
   "cell_type": "code",
   "execution_count": 398,
   "metadata": {},
   "outputs": [
    {
     "data": {
      "text/plain": [
       "8.772827525363917"
      ]
     },
     "execution_count": 398,
     "metadata": {},
     "output_type": "execute_result"
    }
   ],
   "source": [
    "# degree of each node\n",
    "# average is just dividing by num of nodes\n",
    "degrees = [val for (node, val) in G.degree()]\n",
    "sum(degrees)/len(degrees)"
   ]
  },
  {
   "cell_type": "code",
   "execution_count": 399,
   "metadata": {},
   "outputs": [
    {
     "data": {
      "text/plain": [
       "45"
      ]
     },
     "execution_count": 399,
     "metadata": {},
     "output_type": "execute_result"
    }
   ],
   "source": [
    "# A component is essentially a group of nodes where there is a path to every other node in that component.\n",
    "# if you can't then, that node belongs to another component (a single node is considered its own component)\n",
    "# for example, the graph at the bottom has 6 components\n",
    "nx.number_connected_components(G)"
   ]
  },
  {
   "cell_type": "markdown",
   "metadata": {},
   "source": [
    "### Degree distribution: find people who wrote directly to biggest number of people"
   ]
  },
  {
   "cell_type": "code",
   "execution_count": 400,
   "metadata": {},
   "outputs": [
    {
     "data": {
      "image/png": "[encoded data removed]",
      "text/plain": [
       "<Figure size 432x288 with 1 Axes>"
      ]
     },
     "metadata": {
      "needs_background": "light"
     },
     "output_type": "display_data"
    }
   ],
   "source": [
    "def plot_degree_dist(G):\n",
    "    degrees = [G.degree(n) for n in G.nodes()]\n",
    "    plt.hist(degrees)\n",
    "    plt.show()\n",
    "\n",
    "plot_degree_dist(G)"
   ]
  },
  {
   "cell_type": "code",
   "execution_count": 314,
   "metadata": {},
   "outputs": [],
   "source": [
    "# THIS TAKES A LOOOOOONG TIME TO RUN!!!!!! \n",
    "# EVEN WITH HALF THE NODES IT TAKES A WHILE!!!\n",
    "\n",
    "# degree_sequence = sorted([d for n, d in G.degree()], reverse=True)  # degree sequence\n",
    "# degreeCount = collections.Counter(degree_sequence)\n",
    "# deg, cnt = zip(*degreeCount.items())\n",
    "\n",
    "# fig, ax = plt.subplots()\n",
    "# plt.bar(deg, cnt, width=0.80, color=\"b\")\n",
    "\n",
    "# plt.title(\"Degree Histogram\")\n",
    "# plt.ylabel(\"Count\")\n",
    "# plt.xlabel(\"Degree\")\n",
    "# ax.set_xticks([d + 0.4 for d in deg])\n",
    "# ax.set_xticklabels(deg)\n",
    "\n",
    "# # draw graph in inset\n",
    "# plt.axes([0.4, 0.4, 0.5, 0.5])\n",
    "# Gcc = G.subgraph(sorted(nx.connected_components(G), key=len, reverse=True)[0])\n",
    "# pos = nx.spring_layout(G)\n",
    "# plt.axis(\"off\")\n",
    "# nx.draw_networkx_nodes(G, pos, node_size=20)\n",
    "# nx.draw_networkx_edges(G, pos, alpha=0.4)\n",
    "# plt.show()"
   ]
  },
  {
   "cell_type": "markdown",
   "metadata": {},
   "source": [
    "## Node centralities - find the top 10 people for each case"
   ]
  },
  {
   "cell_type": "markdown",
   "metadata": {},
   "source": [
    "#### find people who could be the fastest to reach all other people. DEGREE CENTRALITY"
   ]
  },
  {
   "cell_type": "code",
   "execution_count": 401,
   "metadata": {},
   "outputs": [
    {
     "data": {
      "text/plain": [
       "[('zulie.flores', 0.0015991177281499862),\n",
       " ('zimin.lu', 0.0012682657843948167),\n",
       " ('zhiyun.yang', 0.00016542597187758478),\n",
       " ('zhiyong.wei', 0.0006617038875103391),\n",
       " ('zelda.paschal', 0.00011028398125172319),\n",
       " ('zarin.imam', 0.00011028398125172319),\n",
       " ('zakiyyah.mcclure', 0.0011579818031430935),\n",
       " ('zachary.mccarroll', 0.00022056796250344637),\n",
       " ('ywang', 5.5141990625861594e-05),\n",
       " ('yvonne.acosta', 5.5141990625861594e-05)]"
      ]
     },
     "execution_count": 401,
     "metadata": {},
     "output_type": "execute_result"
    }
   ],
   "source": [
    "DC = nx.degree_centrality(G)\n",
    "sorted(DC.items(), reverse=True)[:10]"
   ]
  },
  {
   "cell_type": "markdown",
   "metadata": {},
   "source": [
    "#### find the most important people, most information goes through them. BETWEENESS CENTRALITY"
   ]
  },
  {
   "cell_type": "code",
   "execution_count": 335,
   "metadata": {},
   "outputs": [
    {
     "data": {
      "text/plain": [
       "[('zulie.flores', 0.00012101030589723896),\n",
       " ('zimin.lu', 0.0002745344988666076),\n",
       " ('zhiyun.yang', 8.038542998708231e-08),\n",
       " ('zhiyong.wei', 7.665444383427416e-05),\n",
       " ('zelda.paschal', 8.145437445276353e-07),\n",
       " ('zarin.imam', 0.0),\n",
       " ('zakiyyah.mcclure', 2.2722867492755083e-05),\n",
       " ('zachary.mccarroll', 0.00019180229097327665),\n",
       " ('ywang', 0.0),\n",
       " ('yvonne.acosta', 0.0)]"
      ]
     },
     "execution_count": 335,
     "metadata": {},
     "output_type": "execute_result"
    }
   ],
   "source": [
    "# total of 18136 nodes\n",
    "# k means number of nodes to consider, anything above 1000 nodes takes too long...\n",
    "BC = nx.betweenness_centrality(G, k = 100)\n",
    "sorted(BC.items(), reverse=True)[:10]"
   ]
  },
  {
   "cell_type": "markdown",
   "metadata": {},
   "source": [
    "#### find people who are best connected with well connected people"
   ]
  },
  {
   "cell_type": "code",
   "execution_count": 338,
   "metadata": {},
   "outputs": [],
   "source": [
    "EC = nx.eigenvector_centrality(G)"
   ]
  },
  {
   "cell_type": "code",
   "execution_count": 339,
   "metadata": {},
   "outputs": [
    {
     "data": {
      "text/plain": [
       "[('zulie.flores', 0.0025925338541224956),\n",
       " ('zimin.lu', 0.004474195282103696),\n",
       " ('zhiyun.yang', 0.0006565044904122348),\n",
       " ('zhiyong.wei', 0.0056448946939806404),\n",
       " ('zelda.paschal', 7.3371510936615355e-06),\n",
       " ('zarin.imam', 0.0002854784056241719),\n",
       " ('zakiyyah.mcclure', 0.002693193616931011),\n",
       " ('zachary.mccarroll', 0.0004576370273257734),\n",
       " ('ywang', 1.5585895822045918e-05),\n",
       " ('yvonne.acosta', 5.594456246e-05)]"
      ]
     },
     "execution_count": 339,
     "metadata": {},
     "output_type": "execute_result"
    }
   ],
   "source": [
    "sorted(EC.items(), reverse=True)[:10]"
   ]
  },
  {
   "cell_type": "markdown",
   "metadata": {},
   "source": [
    "\n",
    "## Communities"
   ]
  },
  {
   "cell_type": "markdown",
   "metadata": {},
   "source": [
    "#### Cluster the users to different communities using function `k_clique_communities`"
   ]
  },
  {
   "cell_type": "code",
   "execution_count": 402,
   "metadata": {},
   "outputs": [],
   "source": [
    "from networkx.algorithms.community import k_clique_communities"
   ]
  },
  {
   "cell_type": "code",
   "execution_count": 403,
   "metadata": {},
   "outputs": [
    {
     "data": {
      "text/plain": [
       "<networkx.classes.graph.Graph at 0x7f4bea5aaa30>"
      ]
     },
     "execution_count": 403,
     "metadata": {},
     "output_type": "execute_result"
    }
   ],
   "source": [
    "#K5 = nx.convert_node_labels_to_integers(G)\n",
    "#G.add_edges_from(K5.edges())"
   ]
  },
  {
   "cell_type": "code",
   "execution_count": 409,
   "metadata": {},
   "outputs": [],
   "source": [
    "# k is the size of smallest clique\n",
    "# AND will return empty list if value is greater than ~10\n",
    "kcc = list(k_clique_communities(G, 9))"
   ]
  },
  {
   "cell_type": "code",
   "execution_count": 410,
   "metadata": {},
   "outputs": [
    {
     "data": {
      "text/plain": [
       "2"
      ]
     },
     "execution_count": 410,
     "metadata": {},
     "output_type": "execute_result"
    }
   ],
   "source": [
    "len(kcc)"
   ]
  },
  {
   "cell_type": "code",
   "execution_count": 411,
   "metadata": {},
   "outputs": [
    {
     "data": {
      "text/plain": [
       "[frozenset({' james.steffes',\n",
       "            ' jeff.dasovich',\n",
       "            ' john.lavorato',\n",
       "            ' tim.belden',\n",
       "            'james.steffes',\n",
       "            'jeff.dasovich',\n",
       "            'mary.hain',\n",
       "            'richard.sanders',\n",
       "            'sarah.novosel',\n",
       "            'steven.kean',\n",
       "            'susan.mara',\n",
       "            'tim.belden'}),\n",
       " frozenset({' samantha.boyd',\n",
       "            'carol.clair',\n",
       "            'edward.sacks',\n",
       "            'mark.taylor',\n",
       "            'mary.cook',\n",
       "            'sara.shackleton',\n",
       "            'stephanie.panus',\n",
       "            'susan.bailey',\n",
       "            'tana.jones',\n",
       "            'tanya.rohauer'})]"
      ]
     },
     "execution_count": 411,
     "metadata": {},
     "output_type": "execute_result"
    }
   ],
   "source": [
    "kcc"
   ]
  },
  {
   "cell_type": "markdown",
   "metadata": {},
   "source": [
    "#### Compute clustering coefficients for each node - low clustering coefficients are in places, where network usually falls apart"
   ]
  },
  {
   "cell_type": "code",
   "execution_count": null,
   "metadata": {},
   "outputs": [],
   "source": [
    "# Clustering coefficient is a property of a node in a network. \n",
    "# it tells how well connected the neighborhood of the node is. \n",
    "# If the neighborhood is fully connected, coef => 1\n",
    "# If hardly any connections are in the neighborhood, coef => 0"
   ]
  },
  {
   "cell_type": "code",
   "execution_count": 413,
   "metadata": {},
   "outputs": [],
   "source": [
    "CC = nx.clustering(G)"
   ]
  },
  {
   "cell_type": "code",
   "execution_count": 415,
   "metadata": {},
   "outputs": [
    {
     "data": {
      "text/plain": [
       "[(' #2.martin', 0),\n",
       " (' #23.training', 0),\n",
       " (' #24.training', 0),\n",
       " (' #25.training', 0),\n",
       " (' #26.training', 0),\n",
       " (' #28.training', 0),\n",
       " (' #29.training', 0),\n",
       " (' #30.training', 0),\n",
       " (\" '\", 0),\n",
       " (\" '.'delaney\", 0),\n",
       " (\" '/o=enron/ou=na/cn=recipients/cn=notesaddr/cn=a478079f-55e1f3b0-862566fa-612229'\",\n",
       "  0),\n",
       " (\" 'bowers\", 0),\n",
       " (\" 'lewis\", 0),\n",
       " (\" 'rmservices'\", 0),\n",
       " (\" 'todd'.delahoussaye\", 1.0),\n",
       " (' /o=enron/ou=na/cn=recipients/cn=notesaddr/cn=41bc9f29-eb12503a-86256603-4d8b0e',\n",
       "  0),\n",
       " (' /o=enron/ou=na/cn=recipients/cn=notesaddr/cn=8b350b76-1ddd01ec-86256655-47240f',\n",
       "  0),\n",
       " (' /o=enron/ou=na/cn=recipients/cn=notesaddr/cn=90cf0ed1-27e2e701-862564b3-6b8593',\n",
       "  0),\n",
       " (' /o=enron/ou=na/cn=recipients/cn=notesaddr/cn=a3a4cb81-65db1a4f-862569e7-6cfe2f',\n",
       "  0),\n",
       " (' /o=enron/ou=na/cn=recipients/cn=notesaddr/cn=a478079f-55e1f3b0-862566fa-612229',\n",
       "  0)]"
      ]
     },
     "execution_count": 415,
     "metadata": {},
     "output_type": "execute_result"
    }
   ],
   "source": [
    "# total = 18136 nodes\n",
    "sorted(CC.items())[:20]"
   ]
  },
  {
   "cell_type": "markdown",
   "metadata": {},
   "source": [
    "## (Stretch) \n",
    "### Visualizations"
   ]
  },
  {
   "cell_type": "markdown",
   "metadata": {},
   "source": [
    "#### visualize the network\n",
    "it might be slow on our computers with all nodes. Feel free to play around with the graph using the smaller sample of the nodes"
   ]
  },
  {
   "cell_type": "code",
   "execution_count": 423,
   "metadata": {},
   "outputs": [],
   "source": [
    "# converts node names to integers\n",
    "H = nx.convert_node_labels_to_integers(G)"
   ]
  },
  {
   "cell_type": "code",
   "execution_count": 426,
   "metadata": {},
   "outputs": [],
   "source": [
    "all_nodes = list(H.nodes)\n",
    "#all_nodes[:100]"
   ]
  },
  {
   "cell_type": "code",
   "execution_count": 442,
   "metadata": {},
   "outputs": [],
   "source": [
    "# too many nodes\n",
    "# taking subset of nodes (nodes = 1000,2000,3000 all look roughly the same)\n",
    "sub_H = H.subgraph(all_nodes[:3000])"
   ]
  },
  {
   "cell_type": "code",
   "execution_count": 443,
   "metadata": {},
   "outputs": [
    {
     "data": {
      "image/png": "[encoded data removed]",
      "text/plain": [
       "<Figure size 1296x720 with 1 Axes>"
      ]
     },
     "metadata": {},
     "output_type": "display_data"
    }
   ],
   "source": [
    "fig, ax = plt.subplots(figsize=(18,10))\n",
    "nx.draw(sub_H, node_size=60, ax = ax)"
   ]
  }
 ],
 "metadata": {
  "kernelspec": {
   "display_name": "Python 3",
   "language": "python",
   "name": "python3"
  },
  "language_info": {
   "codemirror_mode": {
    "name": "ipython",
    "version": 3
   },
   "file_extension": ".py",
   "mimetype": "text/x-python",
   "name": "python",
   "nbconvert_exporter": "python",
   "pygments_lexer": "ipython3",
   "version": "3.8.2"
  }
 },
 "nbformat": 4,
 "nbformat_minor": 4
}
