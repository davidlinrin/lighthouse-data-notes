{
 "cells": [
  {
   "cell_type": "markdown",
   "metadata": {},
   "source": [
    "## Language Translator"
   ]
  },
  {
   "cell_type": "code",
   "execution_count": 1,
   "metadata": {},
   "outputs": [],
   "source": [
    "import nltk\n",
    "import pandas as pd\n",
    "import numpy as np\n",
    "from unicodedata import normalize\n",
    "from pickle import dump\n",
    "from pickle import load\n",
    "from numpy import array\n",
    "from numpy.random import rand\n",
    "from numpy.random import shuffle\n",
    "import string\n",
    "import re\n",
    "\n",
    "import pickle\n",
    "from collections import Counter\n",
    "from nltk.corpus import comtrans\n",
    "\n",
    "from keras.preprocessing.text import Tokenizer\n",
    "from keras.preprocessing.sequence import pad_sequences\n",
    "from nltk.translate import Alignment, AlignedSent\n",
    "from nltk.tokenize import word_tokenize\n",
    "from keras.utils import to_categorical\n",
    "from nltk.corpus import stopwords\n",
    "from nltk.stem.porter import PorterStemmer"
   ]
  },
  {
   "cell_type": "markdown",
   "metadata": {},
   "source": [
    "From `nltk` we can download translated sentences between different languages. You can see the example between **English and French** below but feel free to try different combination as well."
   ]
  },
  {
   "cell_type": "code",
   "execution_count": 2,
   "metadata": {},
   "outputs": [],
   "source": [
    "#nltk.download('comtrans')"
   ]
  },
  {
   "cell_type": "code",
   "execution_count": 3,
   "metadata": {},
   "outputs": [
    {
     "name": "stdout",
     "output_type": "stream",
     "text": [
      "<AlignedSent: 'Resumption of the se...' -> 'Reprise de la sessio...'>\n"
     ]
    }
   ],
   "source": [
    "from nltk.corpus import comtrans\n",
    "print(comtrans.aligned_sents('alignment-en-fr.txt')[0])"
   ]
  },
  {
   "cell_type": "code",
   "execution_count": 4,
   "metadata": {},
   "outputs": [
    {
     "data": {
      "text/plain": [
       "33334"
      ]
     },
     "execution_count": 4,
     "metadata": {},
     "output_type": "execute_result"
    }
   ],
   "source": [
    "len(comtrans.aligned_sents('alignment-en-fr.txt'))"
   ]
  },
  {
   "cell_type": "code",
   "execution_count": 5,
   "metadata": {},
   "outputs": [],
   "source": [
    "# 100002\n",
    "english = [sent.words for sent in comtrans.aligned_sents('alignment-en-fr.txt')]\n",
    "french = [sent.mots for sent in comtrans.aligned_sents('alignment-en-fr.txt')]"
   ]
  },
  {
   "cell_type": "code",
   "execution_count": 6,
   "metadata": {},
   "outputs": [],
   "source": [
    "data = []\n",
    "for i in range(len(english)):\n",
    "    eng = \" \".join(english[i])\n",
    "    fre = \" \".join(french[i])\n",
    "    data.append([eng,fre])"
   ]
  },
  {
   "cell_type": "code",
   "execution_count": 7,
   "metadata": {},
   "outputs": [
    {
     "data": {
      "text/plain": [
       "['Resumption of the session', 'Reprise de la session']"
      ]
     },
     "execution_count": 7,
     "metadata": {},
     "output_type": "execute_result"
    }
   ],
   "source": [
    "data[0]"
   ]
  },
  {
   "cell_type": "markdown",
   "metadata": {},
   "source": [
    "# data prep"
   ]
  },
  {
   "cell_type": "code",
   "execution_count": 8,
   "metadata": {},
   "outputs": [],
   "source": [
    "def load_doc(filename):\n",
    "    file = open(filename, mode='rt', encoding='utf-8')\n",
    "    text = file.read()\n",
    "    file.close()\n",
    "    return text"
   ]
  },
  {
   "cell_type": "code",
   "execution_count": 9,
   "metadata": {},
   "outputs": [],
   "source": [
    "def clean_pairs(lines):\n",
    "    cleaned = list()\n",
    "    # prepare regex for char filtering\n",
    "    re_print = re.compile('[^%s]' % re.escape(string.printable))\n",
    "    # prepare translation table for removing punctuation\n",
    "    table = str.maketrans('', '', string.punctuation)\n",
    "    for pair in lines:\n",
    "        clean_pair = list()\n",
    "        for line in pair:\n",
    "            # normalize unicode characters\n",
    "            line = normalize('NFD', line).encode('ascii', 'ignore')\n",
    "            line = line.decode('UTF-8')\n",
    "            # tokenize on white space\n",
    "            line = line.split()\n",
    "            # convert to lowercase\n",
    "            line = [word.lower() for word in line]\n",
    "            # remove punctuation from each token\n",
    "            line = [word.translate(table) for word in line]\n",
    "            # remove non-printable chars form each token\n",
    "            line = [re_print.sub('', w) for w in line]\n",
    "            # remove tokens with numbers in them\n",
    "            line = [word for word in line if word.isalpha()]\n",
    "            # store as string\n",
    "            clean_pair.append(' '.join(line))\n",
    "        cleaned.append(clean_pair)\n",
    "    return array(cleaned)"
   ]
  },
  {
   "cell_type": "code",
   "execution_count": 10,
   "metadata": {},
   "outputs": [],
   "source": [
    "def save_clean_data(sentences, filename):\n",
    "    dump(sentences, open(filename, 'wb'))\n",
    "    print('Saved: %s' % filename)"
   ]
  },
  {
   "cell_type": "code",
   "execution_count": 11,
   "metadata": {},
   "outputs": [
    {
     "name": "stdout",
     "output_type": "stream",
     "text": [
      "Saved: english-french.pkl\n"
     ]
    }
   ],
   "source": [
    "# clean sentences\n",
    "clean_data = clean_pairs(data)\n",
    "# save clean pairs to file\n",
    "save_clean_data(clean_data, 'english-french.pkl')"
   ]
  },
  {
   "cell_type": "markdown",
   "metadata": {},
   "source": [
    "# Take sub sample"
   ]
  },
  {
   "cell_type": "code",
   "execution_count": 12,
   "metadata": {},
   "outputs": [],
   "source": [
    "# load a clean dataset\n",
    "def load_clean_sentences(filename):\n",
    "    return load(open(filename, 'rb'))\n",
    "\n",
    "# save a list of clean sentences to file\n",
    "def save_clean_data(sentences, filename):\n",
    "    dump(sentences, open(filename, 'wb'))"
   ]
  },
  {
   "cell_type": "code",
   "execution_count": 13,
   "metadata": {},
   "outputs": [],
   "source": [
    "# load dataset\n",
    "raw_dataset = load_clean_sentences('english-french.pkl')"
   ]
  },
  {
   "cell_type": "code",
   "execution_count": 14,
   "metadata": {},
   "outputs": [],
   "source": [
    " # reduce dataset size\n",
    "n_sentences = 5000\n",
    "dataset = raw_dataset[:n_sentences, :]\n",
    "# random shuffle\n",
    "shuffle(dataset)\n",
    "# split into train/test\n",
    "train, test = dataset[:4000], dataset[4000:]\n",
    "# save\n",
    "save_clean_data(dataset, 'english-french-both.pkl')\n",
    "save_clean_data(train, 'english-french-train.pkl')\n",
    "save_clean_data(test, 'english-french-test.pkl')"
   ]
  },
  {
   "cell_type": "code",
   "execution_count": 17,
   "metadata": {},
   "outputs": [
    {
     "data": {
      "text/plain": [
       "array(['that is very much the right approach',\n",
       "       'cette approche est tout a fait appropriee'], dtype='<U274')"
      ]
     },
     "execution_count": 17,
     "metadata": {},
     "output_type": "execute_result"
    }
   ],
   "source": [
    "dataset[20]"
   ]
  },
  {
   "cell_type": "markdown",
   "metadata": {},
   "source": [
    "# Tokenize"
   ]
  },
  {
   "cell_type": "code",
   "execution_count": 18,
   "metadata": {},
   "outputs": [],
   "source": [
    "# load datasets\n",
    "dataset = load_clean_sentences('english-french-both.pkl')\n",
    "train = load_clean_sentences('english-french-train.pkl')\n",
    "test = load_clean_sentences('english-french-test.pkl')"
   ]
  },
  {
   "cell_type": "code",
   "execution_count": 19,
   "metadata": {},
   "outputs": [],
   "source": [
    "def create_tokenizer(lines):\n",
    "    tokenizer = Tokenizer()\n",
    "    tokenizer.fit_on_texts(lines)\n",
    "    return tokenizer\n",
    "\n",
    "def max_length(lines):\n",
    "    return max(len(line.split()) for line in lines)"
   ]
  },
  {
   "cell_type": "code",
   "execution_count": 20,
   "metadata": {},
   "outputs": [],
   "source": [
    "# English\n",
    "eng_tokenizer = create_tokenizer(dataset[:,0])\n",
    "eng_vocab_size = len(eng_tokenizer.word_index) + 1\n",
    "eng_length = max_length(dataset[:,0])"
   ]
  },
  {
   "cell_type": "code",
   "execution_count": 21,
   "metadata": {},
   "outputs": [],
   "source": [
    "# French\n",
    "fre_tokenizer = create_tokenizer(dataset[:,1])\n",
    "fre_vocab_size = len(fre_tokenizer.word_index) + 1\n",
    "fre_length = max_length(dataset[:,1])"
   ]
  },
  {
   "cell_type": "code",
   "execution_count": 22,
   "metadata": {},
   "outputs": [
    {
     "name": "stdout",
     "output_type": "stream",
     "text": [
      "6701\n",
      "39\n"
     ]
    }
   ],
   "source": [
    "print(eng_vocab_size)\n",
    "print(eng_length)"
   ]
  },
  {
   "cell_type": "code",
   "execution_count": 23,
   "metadata": {},
   "outputs": [
    {
     "name": "stdout",
     "output_type": "stream",
     "text": [
      "8381\n",
      "39\n"
     ]
    }
   ],
   "source": [
    "print(fre_vocab_size)\n",
    "print(fre_length)"
   ]
  },
  {
   "cell_type": "markdown",
   "metadata": {},
   "source": [
    "# Embedding"
   ]
  },
  {
   "cell_type": "code",
   "execution_count": 24,
   "metadata": {},
   "outputs": [],
   "source": [
    "def encode_sequences(tokenizer, length, lines):\n",
    "    # integer encode sequences\n",
    "    X = tokenizer.texts_to_sequences(lines)\n",
    "    # pad sequences with 0 values\n",
    "    X = pad_sequences(X, maxlen=length, padding='post')\n",
    "    return X"
   ]
  },
  {
   "cell_type": "code",
   "execution_count": 25,
   "metadata": {},
   "outputs": [],
   "source": [
    "def encode_output(sequences, vocab_size):\n",
    "    ylist = list()\n",
    "    for sequence in sequences:\n",
    "        encoded = to_categorical(sequence, num_classes=vocab_size)\n",
    "        ylist.append(encoded)\n",
    "    y = array(ylist)\n",
    "    y = y.reshape(sequences.shape[0], sequences.shape[1], vocab_size)\n",
    "    return y"
   ]
  },
  {
   "cell_type": "code",
   "execution_count": 26,
   "metadata": {},
   "outputs": [],
   "source": [
    "# prepare training data\n",
    "trainX = encode_sequences(eng_tokenizer, eng_length, train[:, 0])\n",
    "trainY = encode_sequences(fre_tokenizer, fre_length, train[:, 1])\n",
    "trainY = encode_output(trainY, fre_vocab_size)\n",
    "# prepare validation data\n",
    "testX = encode_sequences(eng_tokenizer, eng_length, test[:, 0])\n",
    "testY = encode_sequences(fre_tokenizer, fre_length, test[:, 1])\n",
    "testY = encode_output(testY, fre_vocab_size)"
   ]
  },
  {
   "cell_type": "markdown",
   "metadata": {},
   "source": [
    "# Model"
   ]
  },
  {
   "cell_type": "code",
   "execution_count": 29,
   "metadata": {},
   "outputs": [],
   "source": [
    "from keras.models import Sequential\n",
    "from keras.layers import Embedding\n",
    "from keras.layers import LSTM\n",
    "from keras.layers import Dense\n",
    "from keras.layers import RepeatVector\n",
    "from keras.layers import TimeDistributed\n",
    "from keras.utils.vis_utils import plot_model\n",
    "from keras.callbacks import ModelCheckpoint"
   ]
  },
  {
   "cell_type": "code",
   "execution_count": 30,
   "metadata": {},
   "outputs": [],
   "source": [
    "def define_model(src_vocab, tar_vocab, src_timesteps, tar_timesteps, n_units):\n",
    "    model = Sequential()\n",
    "    model.add(Embedding(src_vocab, n_units, input_length=src_timesteps, mask_zero=True))\n",
    "    model.add(LSTM(n_units))\n",
    "    model.add(RepeatVector(tar_timesteps))\n",
    "    model.add(LSTM(n_units, return_sequences=True))\n",
    "    model.add(TimeDistributed(Dense(tar_vocab, activation='softmax')))\n",
    "    return model"
   ]
  },
  {
   "cell_type": "code",
   "execution_count": 31,
   "metadata": {},
   "outputs": [
    {
     "name": "stdout",
     "output_type": "stream",
     "text": [
      "Model: \"sequential\"\n",
      "_________________________________________________________________\n",
      "Layer (type)                 Output Shape              Param #   \n",
      "=================================================================\n",
      "embedding (Embedding)        (None, 39, 256)           1715456   \n",
      "_________________________________________________________________\n",
      "lstm (LSTM)                  (None, 256)               525312    \n",
      "_________________________________________________________________\n",
      "repeat_vector (RepeatVector) (None, 39, 256)           0         \n",
      "_________________________________________________________________\n",
      "lstm_1 (LSTM)                (None, 39, 256)           525312    \n",
      "_________________________________________________________________\n",
      "time_distributed (TimeDistri (None, 39, 8381)          2153917   \n",
      "=================================================================\n",
      "Total params: 4,919,997\n",
      "Trainable params: 4,919,997\n",
      "Non-trainable params: 0\n",
      "_________________________________________________________________\n",
      "None\n"
     ]
    }
   ],
   "source": [
    "# define model\n",
    "model = define_model(eng_vocab_size, fre_vocab_size, eng_length, fre_length, 256)\n",
    "model.compile(optimizer='adam', loss='categorical_crossentropy')\n",
    "\n",
    "# summarize defined model\n",
    "print(model.summary())"
   ]
  },
  {
   "cell_type": "code",
   "execution_count": 32,
   "metadata": {},
   "outputs": [
    {
     "name": "stdout",
     "output_type": "stream",
     "text": [
      "Epoch 1/30\n",
      "\n",
      "Epoch 00001: val_loss improved from inf to 4.05077, saving model to eng_to_fre_model.h5\n",
      "63/63 - 139s - loss: 4.9291 - val_loss: 4.0508\n",
      "Epoch 2/30\n",
      "\n",
      "Epoch 00002: val_loss improved from 4.05077 to 3.98098, saving model to eng_to_fre_model.h5\n",
      "63/63 - 131s - loss: 3.9440 - val_loss: 3.9810\n",
      "Epoch 3/30\n",
      "\n",
      "Epoch 00003: val_loss improved from 3.98098 to 3.87314, saving model to eng_to_fre_model.h5\n",
      "63/63 - 135s - loss: 3.8446 - val_loss: 3.8731\n",
      "Epoch 4/30\n",
      "\n",
      "Epoch 00004: val_loss improved from 3.87314 to 3.73898, saving model to eng_to_fre_model.h5\n",
      "63/63 - 131s - loss: 3.7003 - val_loss: 3.7390\n",
      "Epoch 5/30\n",
      "\n",
      "Epoch 00005: val_loss improved from 3.73898 to 3.64298, saving model to eng_to_fre_model.h5\n",
      "63/63 - 131s - loss: 3.5847 - val_loss: 3.6430\n",
      "Epoch 6/30\n",
      "\n",
      "Epoch 00006: val_loss improved from 3.64298 to 3.62498, saving model to eng_to_fre_model.h5\n",
      "63/63 - 131s - loss: 3.5111 - val_loss: 3.6250\n",
      "Epoch 7/30\n",
      "\n",
      "Epoch 00007: val_loss improved from 3.62498 to 3.61490, saving model to eng_to_fre_model.h5\n",
      "63/63 - 130s - loss: 3.4738 - val_loss: 3.6149\n",
      "Epoch 8/30\n",
      "\n",
      "Epoch 00008: val_loss did not improve from 3.61490\n",
      "63/63 - 131s - loss: 3.4491 - val_loss: 3.6241\n",
      "Epoch 9/30\n",
      "\n",
      "Epoch 00009: val_loss improved from 3.61490 to 3.61415, saving model to eng_to_fre_model.h5\n",
      "63/63 - 131s - loss: 3.4194 - val_loss: 3.6141\n",
      "Epoch 10/30\n",
      "\n",
      "Epoch 00010: val_loss improved from 3.61415 to 3.60988, saving model to eng_to_fre_model.h5\n",
      "63/63 - 130s - loss: 3.3905 - val_loss: 3.6099\n",
      "Epoch 11/30\n",
      "\n",
      "Epoch 00011: val_loss improved from 3.60988 to 3.59653, saving model to eng_to_fre_model.h5\n",
      "63/63 - 130s - loss: 3.3673 - val_loss: 3.5965\n",
      "Epoch 12/30\n",
      "\n",
      "Epoch 00012: val_loss did not improve from 3.59653\n",
      "63/63 - 130s - loss: 3.3474 - val_loss: 3.6067\n",
      "Epoch 13/30\n",
      "\n",
      "Epoch 00013: val_loss did not improve from 3.59653\n",
      "63/63 - 131s - loss: 3.3399 - val_loss: 3.5972\n",
      "Epoch 14/30\n",
      "\n",
      "Epoch 00014: val_loss did not improve from 3.59653\n",
      "63/63 - 130s - loss: 3.3240 - val_loss: 3.6066\n",
      "Epoch 15/30\n",
      "\n",
      "Epoch 00015: val_loss did not improve from 3.59653\n",
      "63/63 - 130s - loss: 3.3075 - val_loss: 3.6025\n",
      "Epoch 16/30\n",
      "\n",
      "Epoch 00016: val_loss did not improve from 3.59653\n",
      "63/63 - 129s - loss: 3.2987 - val_loss: 3.6116\n",
      "Epoch 17/30\n",
      "\n",
      "Epoch 00017: val_loss did not improve from 3.59653\n",
      "63/63 - 130s - loss: 3.2983 - val_loss: 3.6121\n",
      "Epoch 18/30\n",
      "\n",
      "Epoch 00018: val_loss did not improve from 3.59653\n",
      "63/63 - 131s - loss: 3.2881 - val_loss: 3.6085\n",
      "Epoch 19/30\n",
      "\n",
      "Epoch 00019: val_loss did not improve from 3.59653\n",
      "63/63 - 130s - loss: 3.2848 - val_loss: 3.6242\n",
      "Epoch 20/30\n",
      "\n",
      "Epoch 00020: val_loss did not improve from 3.59653\n",
      "63/63 - 130s - loss: 3.2882 - val_loss: 3.6322\n",
      "Epoch 21/30\n",
      "\n",
      "Epoch 00021: val_loss did not improve from 3.59653\n",
      "63/63 - 131s - loss: 3.2772 - val_loss: 3.6162\n",
      "Epoch 22/30\n",
      "\n",
      "Epoch 00022: val_loss did not improve from 3.59653\n",
      "63/63 - 130s - loss: 3.2719 - val_loss: 3.6235\n",
      "Epoch 23/30\n",
      "\n",
      "Epoch 00023: val_loss did not improve from 3.59653\n",
      "63/63 - 129s - loss: 3.2655 - val_loss: 3.6275\n",
      "Epoch 24/30\n",
      "\n",
      "Epoch 00024: val_loss did not improve from 3.59653\n",
      "63/63 - 130s - loss: 3.2628 - val_loss: 3.6277\n",
      "Epoch 25/30\n",
      "\n",
      "Epoch 00025: val_loss did not improve from 3.59653\n",
      "63/63 - 129s - loss: 3.2544 - val_loss: 3.6644\n",
      "Epoch 26/30\n",
      "\n",
      "Epoch 00026: val_loss did not improve from 3.59653\n",
      "63/63 - 128s - loss: 3.2570 - val_loss: 3.6372\n",
      "Epoch 27/30\n",
      "\n",
      "Epoch 00027: val_loss did not improve from 3.59653\n",
      "63/63 - 127s - loss: 3.2551 - val_loss: 3.6504\n",
      "Epoch 28/30\n",
      "\n",
      "Epoch 00028: val_loss did not improve from 3.59653\n",
      "63/63 - 128s - loss: 3.2488 - val_loss: 3.6448\n",
      "Epoch 29/30\n",
      "\n",
      "Epoch 00029: val_loss did not improve from 3.59653\n",
      "63/63 - 127s - loss: 3.2437 - val_loss: 3.6580\n",
      "Epoch 30/30\n",
      "\n",
      "Epoch 00030: val_loss did not improve from 3.59653\n",
      "63/63 - 126s - loss: 3.2423 - val_loss: 3.6535\n"
     ]
    },
    {
     "data": {
      "text/plain": [
       "<tensorflow.python.keras.callbacks.History at 0x7efe4c1e31c0>"
      ]
     },
     "execution_count": 32,
     "metadata": {},
     "output_type": "execute_result"
    }
   ],
   "source": [
    "filename = 'eng_to_fre_model.h5'\n",
    "checkpoint = ModelCheckpoint(filename, monitor='val_loss', verbose=1, save_best_only=True, mode='min')\n",
    "model.fit(trainX, trainY, epochs=30, batch_size=64, validation_data=(testX, testY), callbacks=[checkpoint], verbose=2)"
   ]
  },
  {
   "cell_type": "markdown",
   "metadata": {},
   "source": [
    "# Testing model"
   ]
  },
  {
   "cell_type": "code",
   "execution_count": null,
   "metadata": {},
   "outputs": [],
   "source": [
    "model = load_model('eng_to_fre_model.h5')"
   ]
  },
  {
   "cell_type": "code",
   "execution_count": 33,
   "metadata": {},
   "outputs": [],
   "source": [
    "def word_for_id(integer, tokenizer):\n",
    "    for word, index in tokenizer.word_index.items():\n",
    "        if index == integer:\n",
    "            return word\n",
    "    return None"
   ]
  },
  {
   "cell_type": "code",
   "execution_count": 34,
   "metadata": {},
   "outputs": [],
   "source": [
    "from keras.models import load_model\n",
    "from numpy import array\n",
    "from numpy import argmax"
   ]
  },
  {
   "cell_type": "code",
   "execution_count": 288,
   "metadata": {},
   "outputs": [
    {
     "data": {
      "text/plain": [
       "'er kann nicht fahren'"
      ]
     },
     "execution_count": 288,
     "metadata": {},
     "output_type": "execute_result"
    }
   ],
   "source": [
    "# # prepare english tokenizer\n",
    "# eng_tokenizer = create_tokenizer(dataset[:, 0])\n",
    "# eng_vocab_size = len(eng_tokenizer.word_index) + 1\n",
    "# eng_length = max_length(dataset[:, 0])\n",
    "# # prepare german tokenizer\n",
    "# ger_tokenizer = create_tokenizer(dataset[:, 1])\n",
    "# ger_vocab_size = len(ger_tokenizer.word_index) + 1\n",
    "# ger_length = max_length(dataset[:, 1])\n",
    "# # prepare data\n",
    "# trainX = encode_sequences(eng_tokenizer, eng_length, train[:, 0])\n",
    "# testX = encode_sequences(eng_tokenizer, eng_length, test[:, 0])"
   ]
  },
  {
   "cell_type": "code",
   "execution_count": 35,
   "metadata": {},
   "outputs": [
    {
     "data": {
      "text/plain": [
       "array(['it refers to the special commission working group dealing with questions of equality',\n",
       "       'elle concerne le groupe special de la commission qui s occupe des questions d egalite'],\n",
       "      dtype='<U274')"
      ]
     },
     "execution_count": 35,
     "metadata": {},
     "output_type": "execute_result"
    }
   ],
   "source": [
    "train[1]"
   ]
  },
  {
   "cell_type": "code",
   "execution_count": 45,
   "metadata": {},
   "outputs": [
    {
     "data": {
      "text/plain": [
       "array([  14, 1667,    2,    1,  453,   22,  397,  150,  981,   23,  290,\n",
       "          3, 1070,    0,    0,    0,    0,    0,    0,    0,    0,    0,\n",
       "          0,    0,    0,    0,    0,    0,    0,    0,    0,    0,    0,\n",
       "          0,    0,    0,    0,    0,    0], dtype=int32)"
      ]
     },
     "execution_count": 45,
     "metadata": {},
     "output_type": "execute_result"
    }
   ],
   "source": [
    "to_test = [\"it refers to the special commission working group dealing with questions of equality\"]\n",
    "temp = encode_sequences(eng_tokenizer, eng_length, to_test)\n",
    "temp[0]"
   ]
  },
  {
   "cell_type": "code",
   "execution_count": 46,
   "metadata": {},
   "outputs": [],
   "source": [
    "res = model.predict(temp[0].reshape((1, temp[0].shape[0])), verbose=0)[0]"
   ]
  },
  {
   "cell_type": "code",
   "execution_count": 47,
   "metadata": {},
   "outputs": [],
   "source": [
    "integers = [argmax(vector) for vector in res]\n",
    "#integers"
   ]
  },
  {
   "cell_type": "code",
   "execution_count": 48,
   "metadata": {},
   "outputs": [
    {
     "name": "stdout",
     "output_type": "stream",
     "text": [
      "je le la de de de de de de de de de de\n"
     ]
    }
   ],
   "source": [
    "target = list()\n",
    "for i in integers:\n",
    "    word = word_for_id(i, fre_tokenizer)\n",
    "    if word is None:\n",
    "        break\n",
    "    target.append(word)\n",
    "print(' '.join(target))"
   ]
  }
 ],
 "metadata": {
  "kernelspec": {
   "display_name": "Python 3",
   "language": "python",
   "name": "python3"
  },
  "language_info": {
   "codemirror_mode": {
    "name": "ipython",
    "version": 3
   },
   "file_extension": ".py",
   "mimetype": "text/x-python",
   "name": "python",
   "nbconvert_exporter": "python",
   "pygments_lexer": "ipython3",
   "version": "3.8.2"
  }
 },
 "nbformat": 4,
 "nbformat_minor": 4
}
