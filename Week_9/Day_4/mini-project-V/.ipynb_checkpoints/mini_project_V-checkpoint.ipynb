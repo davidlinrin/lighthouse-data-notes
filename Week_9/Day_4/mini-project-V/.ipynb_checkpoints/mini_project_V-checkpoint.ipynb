{
 "cells": [
  {
   "cell_type": "markdown",
   "metadata": {},
   "source": [
    "## Language Translator"
   ]
  },
  {
   "cell_type": "code",
   "execution_count": null,
   "metadata": {},
   "outputs": [],
   "source": [
    "import nltk\n",
    "import pandas as pd\n",
    "import numpy as np\n",
    "from unicodedata import normalize\n",
    "from pickle import dump\n",
    "from pickle import load\n",
    "from numpy import array\n",
    "from numpy.random import rand\n",
    "from numpy.random import shuffle\n",
    "import string\n",
    "import re\n",
    "\n",
    "import pickle\n",
    "from collections import Counter\n",
    "from nltk.corpus import comtrans\n",
    "\n",
    "from keras.preprocessing.text import Tokenizer\n",
    "from keras.preprocessing.sequence import pad_sequences\n",
    "from nltk.translate import Alignment, AlignedSent\n",
    "from nltk.tokenize import word_tokenize\n",
    "from keras.utils import to_categorical\n",
    "from nltk.corpus import stopwords\n",
    "from nltk.stem.porter import PorterStemmer"
   ]
  },
  {
   "cell_type": "markdown",
   "metadata": {},
   "source": [
    "From `nltk` we can download translated sentences between different languages. You can see the example between **English and French** below but feel free to try different combination as well."
   ]
  },
  {
   "cell_type": "code",
   "execution_count": 2,
   "metadata": {},
   "outputs": [],
   "source": [
    "#nltk.download('comtrans')"
   ]
  },
  {
   "cell_type": "code",
   "execution_count": 320,
   "metadata": {},
   "outputs": [
    {
     "name": "stdout",
     "output_type": "stream",
     "text": [
      "<AlignedSent: 'Resumption of the se...' -> 'Reprise de la sessio...'>\n"
     ]
    }
   ],
   "source": [
    "from nltk.corpus import comtrans\n",
    "print(comtrans.aligned_sents('alignment-en-fr.txt')[0])"
   ]
  },
  {
   "cell_type": "code",
   "execution_count": 321,
   "metadata": {},
   "outputs": [
    {
     "data": {
      "text/plain": [
       "33334"
      ]
     },
     "execution_count": 321,
     "metadata": {},
     "output_type": "execute_result"
    }
   ],
   "source": [
    "len(comtrans.aligned_sents('alignment-en-fr.txt'))"
   ]
  },
  {
   "cell_type": "code",
   "execution_count": 348,
   "metadata": {},
   "outputs": [],
   "source": [
    "# 100002\n",
    "english = [sent.words for sent in comtrans.aligned_sents('alignment-en-fr.txt')]\n",
    "french = [sent.mots for sent in comtrans.aligned_sents('alignment-en-fr.txt')]"
   ]
  },
  {
   "cell_type": "code",
   "execution_count": 351,
   "metadata": {},
   "outputs": [],
   "source": [
    "data = []\n",
    "for i in range(len(english)):\n",
    "    eng = \" \".join(english[i])\n",
    "    fre = \" \".join(french[i])\n",
    "    data.append([eng,fre])"
   ]
  },
  {
   "cell_type": "code",
   "execution_count": 352,
   "metadata": {},
   "outputs": [
    {
     "data": {
      "text/plain": [
       "['Resumption of the session', 'Reprise de la session']"
      ]
     },
     "execution_count": 352,
     "metadata": {},
     "output_type": "execute_result"
    }
   ],
   "source": [
    "data[0]"
   ]
  },
  {
   "cell_type": "markdown",
   "metadata": {},
   "source": [
    "# data prep"
   ]
  },
  {
   "cell_type": "code",
   "execution_count": 353,
   "metadata": {},
   "outputs": [],
   "source": [
    "def load_doc(filename):\n",
    "    file = open(filename, mode='rt', encoding='utf-8')\n",
    "    text = file.read()\n",
    "    file.close()\n",
    "    return text"
   ]
  },
  {
   "cell_type": "code",
   "execution_count": 354,
   "metadata": {},
   "outputs": [],
   "source": [
    "def clean_pairs(lines):\n",
    "    cleaned = list()\n",
    "    # prepare regex for char filtering\n",
    "    re_print = re.compile('[^%s]' % re.escape(string.printable))\n",
    "    # prepare translation table for removing punctuation\n",
    "    table = str.maketrans('', '', string.punctuation)\n",
    "    for pair in lines:\n",
    "        clean_pair = list()\n",
    "        for line in pair:\n",
    "            # normalize unicode characters\n",
    "            line = normalize('NFD', line).encode('ascii', 'ignore')\n",
    "            line = line.decode('UTF-8')\n",
    "            # tokenize on white space\n",
    "            line = line.split()\n",
    "            # convert to lowercase\n",
    "            line = [word.lower() for word in line]\n",
    "            # remove punctuation from each token\n",
    "            line = [word.translate(table) for word in line]\n",
    "            # remove non-printable chars form each token\n",
    "            line = [re_print.sub('', w) for w in line]\n",
    "            # remove tokens with numbers in them\n",
    "            line = [word for word in line if word.isalpha()]\n",
    "            # store as string\n",
    "            clean_pair.append(' '.join(line))\n",
    "        cleaned.append(clean_pair)\n",
    "    return array(cleaned)"
   ]
  },
  {
   "cell_type": "code",
   "execution_count": 355,
   "metadata": {},
   "outputs": [],
   "source": [
    "def save_clean_data(sentences, filename):\n",
    "    dump(sentences, open(filename, 'wb'))\n",
    "    print('Saved: %s' % filename)"
   ]
  },
  {
   "cell_type": "code",
   "execution_count": 356,
   "metadata": {},
   "outputs": [
    {
     "name": "stdout",
     "output_type": "stream",
     "text": [
      "Saved: english-french.pkl\n"
     ]
    }
   ],
   "source": [
    "# clean sentences\n",
    "clean_data = clean_pairs(data)\n",
    "# save clean pairs to file\n",
    "save_clean_data(clean_data, 'english-french.pkl')"
   ]
  },
  {
   "cell_type": "markdown",
   "metadata": {},
   "source": [
    "# Take sub sample"
   ]
  },
  {
   "cell_type": "code",
   "execution_count": 357,
   "metadata": {},
   "outputs": [],
   "source": [
    "# load a clean dataset\n",
    "def load_clean_sentences(filename):\n",
    "    return load(open(filename, 'rb'))\n",
    "\n",
    "# save a list of clean sentences to file\n",
    "def save_clean_data(sentences, filename):\n",
    "    dump(sentences, open(filename, 'wb'))"
   ]
  },
  {
   "cell_type": "code",
   "execution_count": 358,
   "metadata": {},
   "outputs": [],
   "source": [
    "# load dataset\n",
    "raw_dataset = load_clean_sentences('english-french.pkl')"
   ]
  },
  {
   "cell_type": "code",
   "execution_count": 359,
   "metadata": {},
   "outputs": [],
   "source": [
    " # reduce dataset size\n",
    "n_sentences = 5000\n",
    "dataset = raw_dataset[:n_sentences, :]\n",
    "# random shuffle\n",
    "shuffle(dataset)\n",
    "# split into train/test\n",
    "train, test = dataset[:4000], dataset[4000:]\n",
    "# save\n",
    "save_clean_data(dataset, 'english-french-both.pkl')\n",
    "save_clean_data(train, 'english-french-train.pkl')\n",
    "save_clean_data(test, 'english-french-test.pkl')"
   ]
  },
  {
   "cell_type": "code",
   "execution_count": 387,
   "metadata": {},
   "outputs": [
    {
     "data": {
      "text/plain": [
       "array(['i quite agree', 'ich stimme ganz zu',\n",
       "       'ccby france attribution tatoebaorg ck pfirsichbaeumchen'],\n",
       "      dtype='<U527')"
      ]
     },
     "execution_count": 387,
     "metadata": {},
     "output_type": "execute_result"
    }
   ],
   "source": [
    "dataset[10]"
   ]
  },
  {
   "cell_type": "markdown",
   "metadata": {},
   "source": [
    "# Tokenize"
   ]
  },
  {
   "cell_type": "code",
   "execution_count": 388,
   "metadata": {},
   "outputs": [],
   "source": [
    "# load datasets\n",
    "dataset = load_clean_sentences('english-french-both.pkl')\n",
    "train = load_clean_sentences('english-french-train.pkl')\n",
    "test = load_clean_sentences('english-french-test.pkl')"
   ]
  },
  {
   "cell_type": "code",
   "execution_count": 389,
   "metadata": {},
   "outputs": [],
   "source": [
    "def create_tokenizer(lines):\n",
    "    tokenizer = Tokenizer()\n",
    "    tokenizer.fit_on_texts(lines)\n",
    "    return tokenizer\n",
    "\n",
    "def max_length(lines):\n",
    "    return max(len(line.split()) for line in lines)"
   ]
  },
  {
   "cell_type": "code",
   "execution_count": 390,
   "metadata": {},
   "outputs": [],
   "source": [
    "# English\n",
    "eng_tokenizer = create_tokenizer(dataset[:,0])\n",
    "eng_vocab_size = len(eng_tokenizer.word_index) + 1\n",
    "eng_length = max_length(dataset[:,0])"
   ]
  },
  {
   "cell_type": "code",
   "execution_count": 391,
   "metadata": {},
   "outputs": [],
   "source": [
    "# French\n",
    "fre_tokenizer = create_tokenizer(dataset[:,1])\n",
    "fre_vocab_size = len(fre_tokenizer.word_index) + 1\n",
    "fre_length = max_length(dataset[:,1])"
   ]
  },
  {
   "cell_type": "code",
   "execution_count": 392,
   "metadata": {},
   "outputs": [
    {
     "name": "stdout",
     "output_type": "stream",
     "text": [
      "9173\n",
      "39\n"
     ]
    }
   ],
   "source": [
    "print(eng_vocab_size)\n",
    "print(eng_length)"
   ]
  },
  {
   "cell_type": "code",
   "execution_count": 393,
   "metadata": {},
   "outputs": [
    {
     "name": "stdout",
     "output_type": "stream",
     "text": [
      "11892\n",
      "39\n"
     ]
    }
   ],
   "source": [
    "print(fre_vocab_size)\n",
    "print(fre_length)"
   ]
  },
  {
   "cell_type": "markdown",
   "metadata": {},
   "source": [
    "# Embedding"
   ]
  },
  {
   "cell_type": "code",
   "execution_count": 394,
   "metadata": {},
   "outputs": [],
   "source": [
    "def encode_sequences(tokenizer, length, lines):\n",
    "    # integer encode sequences\n",
    "    X = tokenizer.texts_to_sequences(lines)\n",
    "    # pad sequences with 0 values\n",
    "    X = pad_sequences(X, maxlen=length, padding='post')\n",
    "    return X"
   ]
  },
  {
   "cell_type": "code",
   "execution_count": 395,
   "metadata": {},
   "outputs": [],
   "source": [
    "def encode_output(sequences, vocab_size):\n",
    "    ylist = list()\n",
    "    for sequence in sequences:\n",
    "        encoded = to_categorical(sequence, num_classes=vocab_size)\n",
    "        ylist.append(encoded)\n",
    "    y = array(ylist)\n",
    "    y = y.reshape(sequences.shape[0], sequences.shape[1], vocab_size)\n",
    "    return y"
   ]
  },
  {
   "cell_type": "code",
   "execution_count": null,
   "metadata": {},
   "outputs": [],
   "source": [
    "# prepare training data\n",
    "trainX = encode_sequences(eng_tokenizer, eng_length, train[:, 0])\n",
    "trainY = encode_sequences(fre_tokenizer, fre_length, train[:, 1])\n",
    "trainY = encode_output(trainY, fre_vocab_size)\n",
    "# prepare validation data\n",
    "testX = encode_sequences(eng_tokenizer, eng_length, test[:, 0])\n",
    "testY = encode_sequences(fre_tokenizer, fre_length, test[:, 1])\n",
    "testY = encode_output(testY, fre_vocab_size)"
   ]
  },
  {
   "cell_type": "markdown",
   "metadata": {},
   "source": [
    "# Model"
   ]
  },
  {
   "cell_type": "code",
   "execution_count": 370,
   "metadata": {},
   "outputs": [],
   "source": [
    "from keras.models import Sequential\n",
    "from keras.layers import Embedding\n",
    "from keras.layers import LSTM\n",
    "from keras.layers import Dense\n",
    "from keras.layers import RepeatVector\n",
    "from keras.layers import TimeDistributed\n",
    "from keras.utils.vis_utils import plot_model\n",
    "from keras.callbacks import ModelCheckpoint"
   ]
  },
  {
   "cell_type": "code",
   "execution_count": 371,
   "metadata": {},
   "outputs": [],
   "source": [
    "def define_model(src_vocab, tar_vocab, src_timesteps, tar_timesteps, n_units):\n",
    "    model = Sequential()\n",
    "    model.add(Embedding(src_vocab, n_units, input_length=src_timesteps, mask_zero=True))\n",
    "    model.add(LSTM(n_units))\n",
    "    model.add(RepeatVector(tar_timesteps))\n",
    "    model.add(LSTM(n_units, return_sequences=True))\n",
    "    model.add(TimeDistributed(Dense(tar_vocab, activation='softmax')))\n",
    "    return model"
   ]
  },
  {
   "cell_type": "code",
   "execution_count": 372,
   "metadata": {},
   "outputs": [
    {
     "name": "stdout",
     "output_type": "stream",
     "text": [
      "Model: \"sequential_1\"\n",
      "_________________________________________________________________\n",
      "Layer (type)                 Output Shape              Param #   \n",
      "=================================================================\n",
      "embedding_1 (Embedding)      (None, 5, 256)            573696    \n",
      "_________________________________________________________________\n",
      "lstm_2 (LSTM)                (None, 256)               525312    \n",
      "_________________________________________________________________\n",
      "repeat_vector_1 (RepeatVecto (None, 9, 256)            0         \n",
      "_________________________________________________________________\n",
      "lstm_3 (LSTM)                (None, 9, 256)            525312    \n",
      "_________________________________________________________________\n",
      "time_distributed_1 (TimeDist (None, 9, 3572)           918004    \n",
      "=================================================================\n",
      "Total params: 2,542,324\n",
      "Trainable params: 2,542,324\n",
      "Non-trainable params: 0\n",
      "_________________________________________________________________\n",
      "None\n"
     ]
    }
   ],
   "source": [
    "# define model\n",
    "model = define_model(eng_vocab_size, fre_vocab_size, eng_length, fre_length, 256)\n",
    "model.compile(optimizer='adam', loss='categorical_crossentropy')\n",
    "\n",
    "# summarize defined model\n",
    "print(model.summary())"
   ]
  },
  {
   "cell_type": "code",
   "execution_count": 373,
   "metadata": {},
   "outputs": [
    {
     "name": "stdout",
     "output_type": "stream",
     "text": [
      "Epoch 1/30\n",
      "\n",
      "Epoch 00001: val_loss improved from inf to 2.38867, saving model to fr_model.h5\n",
      "141/141 - 16s - loss: 3.2527 - val_loss: 2.3887\n",
      "Epoch 2/30\n",
      "\n",
      "Epoch 00002: val_loss improved from 2.38867 to 2.22132, saving model to fr_model.h5\n",
      "141/141 - 14s - loss: 2.2289 - val_loss: 2.2213\n",
      "Epoch 3/30\n",
      "\n",
      "Epoch 00003: val_loss improved from 2.22132 to 2.16376, saving model to fr_model.h5\n",
      "141/141 - 13s - loss: 2.1111 - val_loss: 2.1638\n",
      "Epoch 4/30\n",
      "\n",
      "Epoch 00004: val_loss improved from 2.16376 to 2.06626, saving model to fr_model.h5\n",
      "141/141 - 14s - loss: 2.0092 - val_loss: 2.0663\n",
      "Epoch 5/30\n",
      "\n",
      "Epoch 00005: val_loss improved from 2.06626 to 1.98578, saving model to fr_model.h5\n",
      "141/141 - 14s - loss: 1.9004 - val_loss: 1.9858\n",
      "Epoch 6/30\n",
      "\n",
      "Epoch 00006: val_loss improved from 1.98578 to 1.92941, saving model to fr_model.h5\n",
      "141/141 - 13s - loss: 1.8179 - val_loss: 1.9294\n",
      "Epoch 7/30\n",
      "\n",
      "Epoch 00007: val_loss improved from 1.92941 to 1.87072, saving model to fr_model.h5\n",
      "141/141 - 13s - loss: 1.7331 - val_loss: 1.8707\n",
      "Epoch 8/30\n",
      "\n",
      "Epoch 00008: val_loss improved from 1.87072 to 1.81001, saving model to fr_model.h5\n",
      "141/141 - 13s - loss: 1.6473 - val_loss: 1.8100\n",
      "Epoch 9/30\n",
      "\n",
      "Epoch 00009: val_loss improved from 1.81001 to 1.76544, saving model to fr_model.h5\n",
      "141/141 - 13s - loss: 1.5633 - val_loss: 1.7654\n",
      "Epoch 10/30\n",
      "\n",
      "Epoch 00010: val_loss improved from 1.76544 to 1.71649, saving model to fr_model.h5\n",
      "141/141 - 13s - loss: 1.4901 - val_loss: 1.7165\n",
      "Epoch 11/30\n",
      "\n",
      "Epoch 00011: val_loss improved from 1.71649 to 1.67216, saving model to fr_model.h5\n",
      "141/141 - 14s - loss: 1.4208 - val_loss: 1.6722\n",
      "Epoch 12/30\n",
      "\n",
      "Epoch 00012: val_loss improved from 1.67216 to 1.63186, saving model to fr_model.h5\n",
      "141/141 - 14s - loss: 1.3505 - val_loss: 1.6319\n",
      "Epoch 13/30\n",
      "\n",
      "Epoch 00013: val_loss improved from 1.63186 to 1.60949, saving model to fr_model.h5\n",
      "141/141 - 14s - loss: 1.2880 - val_loss: 1.6095\n",
      "Epoch 14/30\n",
      "\n",
      "Epoch 00014: val_loss improved from 1.60949 to 1.56647, saving model to fr_model.h5\n",
      "141/141 - 14s - loss: 1.2230 - val_loss: 1.5665\n",
      "Epoch 15/30\n",
      "\n",
      "Epoch 00015: val_loss improved from 1.56647 to 1.53310, saving model to fr_model.h5\n",
      "141/141 - 13s - loss: 1.1625 - val_loss: 1.5331\n",
      "Epoch 16/30\n",
      "\n",
      "Epoch 00016: val_loss improved from 1.53310 to 1.50465, saving model to fr_model.h5\n",
      "141/141 - 13s - loss: 1.1057 - val_loss: 1.5046\n",
      "Epoch 17/30\n",
      "\n",
      "Epoch 00017: val_loss improved from 1.50465 to 1.48265, saving model to fr_model.h5\n",
      "141/141 - 14s - loss: 1.0502 - val_loss: 1.4826\n",
      "Epoch 18/30\n",
      "\n",
      "Epoch 00018: val_loss improved from 1.48265 to 1.46058, saving model to fr_model.h5\n",
      "141/141 - 14s - loss: 0.9989 - val_loss: 1.4606\n",
      "Epoch 19/30\n",
      "\n",
      "Epoch 00019: val_loss improved from 1.46058 to 1.44150, saving model to fr_model.h5\n",
      "141/141 - 14s - loss: 0.9505 - val_loss: 1.4415\n",
      "Epoch 20/30\n",
      "\n",
      "Epoch 00020: val_loss improved from 1.44150 to 1.42654, saving model to fr_model.h5\n",
      "141/141 - 14s - loss: 0.9033 - val_loss: 1.4265\n",
      "Epoch 21/30\n",
      "\n",
      "Epoch 00021: val_loss improved from 1.42654 to 1.41092, saving model to fr_model.h5\n",
      "141/141 - 14s - loss: 0.8581 - val_loss: 1.4109\n",
      "Epoch 22/30\n",
      "\n",
      "Epoch 00022: val_loss improved from 1.41092 to 1.40430, saving model to fr_model.h5\n",
      "141/141 - 14s - loss: 0.8158 - val_loss: 1.4043\n",
      "Epoch 23/30\n",
      "\n",
      "Epoch 00023: val_loss improved from 1.40430 to 1.38242, saving model to fr_model.h5\n",
      "141/141 - 14s - loss: 0.7734 - val_loss: 1.3824\n",
      "Epoch 24/30\n",
      "\n",
      "Epoch 00024: val_loss improved from 1.38242 to 1.36977, saving model to fr_model.h5\n",
      "141/141 - 13s - loss: 0.7351 - val_loss: 1.3698\n",
      "Epoch 25/30\n",
      "\n",
      "Epoch 00025: val_loss improved from 1.36977 to 1.36166, saving model to fr_model.h5\n",
      "141/141 - 13s - loss: 0.6975 - val_loss: 1.3617\n",
      "Epoch 26/30\n",
      "\n",
      "Epoch 00026: val_loss improved from 1.36166 to 1.35251, saving model to fr_model.h5\n",
      "141/141 - 13s - loss: 0.6637 - val_loss: 1.3525\n",
      "Epoch 27/30\n",
      "\n",
      "Epoch 00027: val_loss improved from 1.35251 to 1.34949, saving model to fr_model.h5\n",
      "141/141 - 14s - loss: 0.6288 - val_loss: 1.3495\n",
      "Epoch 28/30\n",
      "\n",
      "Epoch 00028: val_loss improved from 1.34949 to 1.34639, saving model to fr_model.h5\n",
      "141/141 - 15s - loss: 0.5969 - val_loss: 1.3464\n",
      "Epoch 29/30\n",
      "\n",
      "Epoch 00029: val_loss improved from 1.34639 to 1.33158, saving model to fr_model.h5\n",
      "141/141 - 14s - loss: 0.5689 - val_loss: 1.3316\n",
      "Epoch 30/30\n",
      "\n",
      "Epoch 00030: val_loss did not improve from 1.33158\n",
      "141/141 - 13s - loss: 0.5397 - val_loss: 1.3370\n"
     ]
    },
    {
     "data": {
      "text/plain": [
       "<tensorflow.python.keras.callbacks.History at 0x7f226eb69040>"
      ]
     },
     "execution_count": 373,
     "metadata": {},
     "output_type": "execute_result"
    }
   ],
   "source": [
    "filename = 'eng_to_fre_model.h5'\n",
    "checkpoint = ModelCheckpoint(filename, monitor='val_loss', verbose=1, save_best_only=True, mode='min')\n",
    "model.fit(trainX, trainY, epochs=30, batch_size=64, validation_data=(testX, testY), callbacks=[checkpoint], verbose=2)"
   ]
  },
  {
   "cell_type": "markdown",
   "metadata": {},
   "source": [
    "# Testing model"
   ]
  },
  {
   "cell_type": "code",
   "execution_count": 374,
   "metadata": {},
   "outputs": [],
   "source": [
    "def word_for_id(integer, tokenizer):\n",
    "    for word, index in tokenizer.word_index.items():\n",
    "        if index == integer:\n",
    "            return word\n",
    "    return None"
   ]
  },
  {
   "cell_type": "code",
   "execution_count": 375,
   "metadata": {},
   "outputs": [],
   "source": [
    "from keras.models import load_model\n",
    "from numpy import array\n",
    "from numpy import argmax"
   ]
  },
  {
   "cell_type": "code",
   "execution_count": 288,
   "metadata": {},
   "outputs": [
    {
     "data": {
      "text/plain": [
       "'er kann nicht fahren'"
      ]
     },
     "execution_count": 288,
     "metadata": {},
     "output_type": "execute_result"
    }
   ],
   "source": [
    "# # prepare english tokenizer\n",
    "# eng_tokenizer = create_tokenizer(dataset[:, 0])\n",
    "# eng_vocab_size = len(eng_tokenizer.word_index) + 1\n",
    "# eng_length = max_length(dataset[:, 0])\n",
    "# # prepare german tokenizer\n",
    "# ger_tokenizer = create_tokenizer(dataset[:, 1])\n",
    "# ger_vocab_size = len(ger_tokenizer.word_index) + 1\n",
    "# ger_length = max_length(dataset[:, 1])\n",
    "# # prepare data\n",
    "# trainX = encode_sequences(eng_tokenizer, eng_length, train[:, 0])\n",
    "# testX = encode_sequences(eng_tokenizer, eng_length, test[:, 0])"
   ]
  },
  {
   "cell_type": "code",
   "execution_count": 376,
   "metadata": {},
   "outputs": [
    {
     "data": {
      "text/plain": [
       "array(['be a man', 'sei ein mann',\n",
       "       'ccby france attribution tatoebaorg hybrid pfirsichbaeumchen'],\n",
       "      dtype='<U527')"
      ]
     },
     "execution_count": 376,
     "metadata": {},
     "output_type": "execute_result"
    }
   ],
   "source": [
    "train[1]"
   ]
  },
  {
   "cell_type": "code",
   "execution_count": 377,
   "metadata": {},
   "outputs": [
    {
     "data": {
      "text/plain": [
       "array([  1,  30,   6, 272,   0], dtype=int32)"
      ]
     },
     "execution_count": 377,
     "metadata": {},
     "output_type": "execute_result"
    }
   ],
   "source": [
    "to_test = [\"tom be a man\"]\n",
    "temp = encode_sequences(eng_tokenizer, eng_length, to_test)\n",
    "temp[0]"
   ]
  },
  {
   "cell_type": "code",
   "execution_count": 378,
   "metadata": {},
   "outputs": [],
   "source": [
    "res = model.predict(temp[0].reshape((1, temp[0].shape[0])), verbose=0)[0]"
   ]
  },
  {
   "cell_type": "code",
   "execution_count": 379,
   "metadata": {},
   "outputs": [
    {
     "data": {
      "text/plain": [
       "[2, 3, 16, 1091, 0, 0, 0, 0, 0]"
      ]
     },
     "execution_count": 379,
     "metadata": {},
     "output_type": "execute_result"
    }
   ],
   "source": [
    "integers = [argmax(vector) for vector in res]\n",
    "integers"
   ]
  },
  {
   "cell_type": "code",
   "execution_count": 380,
   "metadata": {},
   "outputs": [
    {
     "name": "stdout",
     "output_type": "stream",
     "text": [
      "tom ist ein boot\n"
     ]
    }
   ],
   "source": [
    "target = list()\n",
    "for i in integers:\n",
    "    word = word_for_id(i, fre_tokenizer)\n",
    "    if word is None:\n",
    "        break\n",
    "    target.append(word)\n",
    "print(' '.join(target))"
   ]
  },
  {
   "cell_type": "code",
   "execution_count": null,
   "metadata": {},
   "outputs": [],
   "source": []
  },
  {
   "cell_type": "code",
   "execution_count": null,
   "metadata": {},
   "outputs": [],
   "source": []
  },
  {
   "cell_type": "code",
   "execution_count": null,
   "metadata": {},
   "outputs": [],
   "source": []
  },
  {
   "cell_type": "code",
   "execution_count": null,
   "metadata": {},
   "outputs": [],
   "source": []
  },
  {
   "cell_type": "code",
   "execution_count": null,
   "metadata": {},
   "outputs": [],
   "source": []
  },
  {
   "cell_type": "code",
   "execution_count": null,
   "metadata": {},
   "outputs": [],
   "source": []
  },
  {
   "cell_type": "code",
   "execution_count": null,
   "metadata": {},
   "outputs": [],
   "source": []
  },
  {
   "cell_type": "code",
   "execution_count": null,
   "metadata": {},
   "outputs": [],
   "source": []
  },
  {
   "cell_type": "code",
   "execution_count": null,
   "metadata": {},
   "outputs": [],
   "source": []
  },
  {
   "cell_type": "code",
   "execution_count": null,
   "metadata": {},
   "outputs": [],
   "source": []
  },
  {
   "cell_type": "code",
   "execution_count": null,
   "metadata": {},
   "outputs": [],
   "source": []
  },
  {
   "cell_type": "code",
   "execution_count": null,
   "metadata": {},
   "outputs": [],
   "source": []
  },
  {
   "cell_type": "code",
   "execution_count": null,
   "metadata": {},
   "outputs": [],
   "source": []
  },
  {
   "cell_type": "code",
   "execution_count": null,
   "metadata": {},
   "outputs": [],
   "source": []
  },
  {
   "cell_type": "code",
   "execution_count": null,
   "metadata": {},
   "outputs": [],
   "source": []
  },
  {
   "cell_type": "code",
   "execution_count": null,
   "metadata": {},
   "outputs": [],
   "source": []
  },
  {
   "cell_type": "code",
   "execution_count": null,
   "metadata": {},
   "outputs": [],
   "source": []
  },
  {
   "cell_type": "code",
   "execution_count": null,
   "metadata": {},
   "outputs": [],
   "source": []
  }
 ],
 "metadata": {
  "kernelspec": {
   "display_name": "Python 3",
   "language": "python",
   "name": "python3"
  },
  "language_info": {
   "codemirror_mode": {
    "name": "ipython",
    "version": 3
   },
   "file_extension": ".py",
   "mimetype": "text/x-python",
   "name": "python",
   "nbconvert_exporter": "python",
   "pygments_lexer": "ipython3",
   "version": "3.8.2"
  }
 },
 "nbformat": 4,
 "nbformat_minor": 4
}
