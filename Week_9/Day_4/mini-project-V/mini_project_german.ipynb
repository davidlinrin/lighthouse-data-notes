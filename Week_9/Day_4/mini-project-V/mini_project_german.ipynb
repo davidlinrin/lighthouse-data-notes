{
 "cells": [
  {
   "cell_type": "code",
   "execution_count": 407,
   "metadata": {},
   "outputs": [],
   "source": [
    "import nltk\n",
    "import pandas as pd\n",
    "import numpy as np\n",
    "from unicodedata import normalize\n",
    "from pickle import dump\n",
    "from pickle import load\n",
    "from numpy import array\n",
    "from numpy.random import rand\n",
    "from numpy.random import shuffle\n",
    "import string\n",
    "import re\n",
    "\n",
    "import pickle\n",
    "from collections import Counter\n",
    "from nltk.corpus import comtrans\n",
    "from googletrans import Translator\n",
    "\n",
    "from nltk.translate import Alignment, AlignedSent\n",
    "from nltk.tokenize import word_tokenize\n",
    "from nltk.corpus import stopwords\n",
    "from nltk.stem.porter import PorterStemmer\n",
    "from nltk.translate.bleu_score import corpus_bleu"
   ]
  },
  {
   "cell_type": "code",
   "execution_count": 280,
   "metadata": {},
   "outputs": [],
   "source": [
    "def load_doc(filename):\n",
    "    file = open(filename, mode='rt', encoding='utf-8')\n",
    "    text = file.read()\n",
    "    file.close()\n",
    "    return text"
   ]
  },
  {
   "cell_type": "code",
   "execution_count": 281,
   "metadata": {},
   "outputs": [],
   "source": [
    "def to_pairs(doc):\n",
    "    lines = doc.strip().split('\\n')\n",
    "    pairs = [line.split('\\t') for line in  lines]\n",
    "    return pairs"
   ]
  },
  {
   "cell_type": "code",
   "execution_count": 282,
   "metadata": {},
   "outputs": [],
   "source": [
    "def clean_pairs(lines):\n",
    "    cleaned = list()\n",
    "    # prepare regex for char filtering\n",
    "    re_print = re.compile('[^%s]' % re.escape(string.printable))\n",
    "    # prepare translation table for removing punctuation\n",
    "    table = str.maketrans('', '', string.punctuation)\n",
    "    for pair in lines:\n",
    "        clean_pair = list()\n",
    "        for line in pair:\n",
    "            # normalize unicode characters\n",
    "            line = normalize('NFD', line).encode('ascii', 'ignore')\n",
    "            line = line.decode('UTF-8')\n",
    "            # tokenize on white space\n",
    "            line = line.split()\n",
    "            # convert to lowercase\n",
    "            line = [word.lower() for word in line]\n",
    "            # remove punctuation from each token\n",
    "            line = [word.translate(table) for word in line]\n",
    "            # remove non-printable chars form each token\n",
    "            line = [re_print.sub('', w) for w in line]\n",
    "            # remove tokens with numbers in them\n",
    "            line = [word for word in line if word.isalpha()]\n",
    "            # store as string\n",
    "            clean_pair.append(' '.join(line))\n",
    "        cleaned.append(clean_pair)\n",
    "    return array(cleaned)"
   ]
  },
  {
   "cell_type": "code",
   "execution_count": 283,
   "metadata": {},
   "outputs": [],
   "source": [
    "def save_clean_data(sentences, filename):\n",
    "    dump(sentences, open(filename, 'wb'))\n",
    "    print('Saved: %s' % filename)"
   ]
  },
  {
   "cell_type": "markdown",
   "metadata": {},
   "source": [
    "### Data"
   ]
  },
  {
   "cell_type": "code",
   "execution_count": 284,
   "metadata": {},
   "outputs": [
    {
     "name": "stdout",
     "output_type": "stream",
     "text": [
      "Saved: english-german.pkl\n"
     ]
    }
   ],
   "source": [
    "filename = 'deu.txt'\n",
    "doc = load_doc(filename)\n",
    "# split into english-german pairs\n",
    "pairs = to_pairs(doc)\n",
    "# clean sentences\n",
    "clean_pairs = clean_pairs(pairs)\n",
    "# save clean pairs to file\n",
    "save_clean_data(clean_pairs, 'english-german.pkl')"
   ]
  },
  {
   "cell_type": "code",
   "execution_count": 286,
   "metadata": {},
   "outputs": [
    {
     "data": {
      "text/plain": [
       "(221533, 3)"
      ]
     },
     "execution_count": 286,
     "metadata": {},
     "output_type": "execute_result"
    }
   ],
   "source": [
    "# 221533 texts\n",
    "clean_pairs.shape"
   ]
  },
  {
   "cell_type": "markdown",
   "metadata": {},
   "source": [
    "### Take sample of total"
   ]
  },
  {
   "cell_type": "code",
   "execution_count": 288,
   "metadata": {},
   "outputs": [],
   "source": [
    "# load a clean dataset\n",
    "def load_clean_sentences(filename):\n",
    "    return load(open(filename, 'rb'))\n",
    "\n",
    "# save a list of clean sentences to file\n",
    "def save_clean_data(sentences, filename):\n",
    "    dump(sentences, open(filename, 'wb'))\n",
    "    print('Saved: %s' % filename)"
   ]
  },
  {
   "cell_type": "code",
   "execution_count": 289,
   "metadata": {},
   "outputs": [
    {
     "name": "stdout",
     "output_type": "stream",
     "text": [
      "Saved: english-german-both.pkl\n",
      "Saved: english-german-train.pkl\n",
      "Saved: english-german-test.pkl\n"
     ]
    }
   ],
   "source": [
    "# load dataset\n",
    "raw_dataset = load_clean_sentences('english-german.pkl')\n",
    " \n",
    "# reduce dataset size\n",
    "n_sentences = 10000\n",
    "dataset = raw_dataset[:n_sentences, :]\n",
    "# random shuffle\n",
    "shuffle(dataset)\n",
    "# split into train/test\n",
    "train, test = dataset[:9000], dataset[9000:]\n",
    "# save\n",
    "save_clean_data(dataset, 'english-german-both.pkl')\n",
    "save_clean_data(train, 'english-german-train.pkl')\n",
    "save_clean_data(test, 'english-german-test.pkl')"
   ]
  },
  {
   "cell_type": "markdown",
   "metadata": {},
   "source": [
    "### Tokenize"
   ]
  },
  {
   "cell_type": "code",
   "execution_count": 296,
   "metadata": {},
   "outputs": [],
   "source": [
    "# load a clean dataset\n",
    "def load_clean_sentences(filename):\n",
    "    return load(open(filename, 'rb'))"
   ]
  },
  {
   "cell_type": "code",
   "execution_count": 297,
   "metadata": {},
   "outputs": [],
   "source": [
    "# load datasets\n",
    "dataset = load_clean_sentences('english-german-both.pkl')\n",
    "train = load_clean_sentences('english-german-train.pkl')\n",
    "test = load_clean_sentences('english-german-test.pkl')"
   ]
  },
  {
   "cell_type": "code",
   "execution_count": 298,
   "metadata": {},
   "outputs": [],
   "source": [
    "from keras.preprocessing.text import Tokenizer\n",
    "\n",
    "def create_tokenizer(lines):\n",
    "    tokenizer = Tokenizer()\n",
    "    tokenizer.fit_on_texts(lines)\n",
    "    return tokenizer\n",
    "\n",
    "def max_length(lines):\n",
    "    return max(len(line.split()) for line in lines)"
   ]
  },
  {
   "cell_type": "code",
   "execution_count": 299,
   "metadata": {},
   "outputs": [
    {
     "name": "stdout",
     "output_type": "stream",
     "text": [
      "English Vocabulary Size: 2241\n",
      "English Max Length: 5\n"
     ]
    }
   ],
   "source": [
    "eng_tokenizer = create_tokenizer(dataset[:, 0])\n",
    "eng_vocab_size = len(eng_tokenizer.word_index) + 1\n",
    "eng_length = max_length(dataset[:, 0])\n",
    "print('English Vocabulary Size: %d' % eng_vocab_size)\n",
    "print('English Max Length: %d' % (eng_length))"
   ]
  },
  {
   "cell_type": "code",
   "execution_count": 300,
   "metadata": {},
   "outputs": [
    {
     "name": "stdout",
     "output_type": "stream",
     "text": [
      "German Vocabulary Size: 3572\n",
      "German Max Length: 9\n"
     ]
    }
   ],
   "source": [
    "# prepare german tokenizer\n",
    "ger_tokenizer = create_tokenizer(dataset[:, 1])\n",
    "ger_vocab_size = len(ger_tokenizer.word_index) + 1\n",
    "ger_length = max_length(dataset[:, 1])\n",
    "print('German Vocabulary Size: %d' % ger_vocab_size)\n",
    "print('German Max Length: %d' % (ger_length))"
   ]
  },
  {
   "cell_type": "code",
   "execution_count": 178,
   "metadata": {},
   "outputs": [],
   "source": [
    "#eng_tokenizer.index_word\n",
    "#eng_tokenizer.word_counts"
   ]
  },
  {
   "cell_type": "markdown",
   "metadata": {},
   "source": [
    "### Embedding"
   ]
  },
  {
   "cell_type": "code",
   "execution_count": 303,
   "metadata": {},
   "outputs": [],
   "source": [
    "from keras.preprocessing.sequence import pad_sequences\n",
    "from keras.utils import to_categorical"
   ]
  },
  {
   "cell_type": "code",
   "execution_count": 304,
   "metadata": {},
   "outputs": [],
   "source": [
    "def encode_sequences(tokenizer, length, lines):\n",
    "    # integer encode sequences\n",
    "    X = tokenizer.texts_to_sequences(lines)\n",
    "    # pad sequences with 0 values\n",
    "    X = pad_sequences(X, maxlen=length, padding='post')\n",
    "    return X"
   ]
  },
  {
   "cell_type": "code",
   "execution_count": 305,
   "metadata": {},
   "outputs": [],
   "source": [
    "def encode_output(sequences, vocab_size):\n",
    "    ylist = list()\n",
    "    for sequence in sequences:\n",
    "        encoded = to_categorical(sequence, num_classes=vocab_size)\n",
    "        ylist.append(encoded)\n",
    "    y = array(ylist)\n",
    "    y = y.reshape(sequences.shape[0], sequences.shape[1], vocab_size)\n",
    "    return y"
   ]
  },
  {
   "cell_type": "code",
   "execution_count": 306,
   "metadata": {},
   "outputs": [],
   "source": [
    "# prepare training data\n",
    "trainX = encode_sequences(eng_tokenizer, eng_length, train[:, 0])\n",
    "trainY = encode_sequences(ger_tokenizer, ger_length, train[:, 1])\n",
    "trainY = encode_output(trainY, ger_vocab_size)\n",
    "# prepare validation data\n",
    "testX = encode_sequences(eng_tokenizer, eng_length, test[:, 0])\n",
    "testY = encode_sequences(ger_tokenizer, ger_length, test[:, 1])\n",
    "testY = encode_output(testY, ger_vocab_size)"
   ]
  },
  {
   "cell_type": "code",
   "execution_count": 307,
   "metadata": {},
   "outputs": [
    {
     "data": {
      "text/plain": [
       "array([12, 56,  0,  0,  0], dtype=int32)"
      ]
     },
     "execution_count": 307,
     "metadata": {},
     "output_type": "execute_result"
    }
   ],
   "source": [
    "# 9000 x 9 \n",
    "trainX[0]"
   ]
  },
  {
   "cell_type": "code",
   "execution_count": 192,
   "metadata": {},
   "outputs": [
    {
     "data": {
      "text/plain": [
       "(9000, 5)"
      ]
     },
     "execution_count": 192,
     "metadata": {},
     "output_type": "execute_result"
    }
   ],
   "source": [
    "trainX.shape"
   ]
  },
  {
   "cell_type": "code",
   "execution_count": 191,
   "metadata": {},
   "outputs": [
    {
     "data": {
      "text/plain": [
       "(9000, 9, 3572)"
      ]
     },
     "execution_count": 191,
     "metadata": {},
     "output_type": "execute_result"
    }
   ],
   "source": [
    "trainY.shape"
   ]
  },
  {
   "cell_type": "markdown",
   "metadata": {},
   "source": [
    "### Model"
   ]
  },
  {
   "cell_type": "code",
   "execution_count": 309,
   "metadata": {},
   "outputs": [],
   "source": [
    "from keras.models import Sequential\n",
    "from keras.layers import Embedding\n",
    "from keras.layers import LSTM\n",
    "from keras.layers import Dense\n",
    "from keras.layers import RepeatVector\n",
    "from keras.layers import TimeDistributed\n",
    "from keras.utils.vis_utils import plot_model\n",
    "from keras.callbacks import ModelCheckpoint"
   ]
  },
  {
   "cell_type": "code",
   "execution_count": 310,
   "metadata": {},
   "outputs": [],
   "source": [
    "def define_model(src_vocab, tar_vocab, src_timesteps, tar_timesteps, n_units):\n",
    "    model = Sequential()\n",
    "    model.add(Embedding(src_vocab, n_units, input_length=src_timesteps, mask_zero=True))\n",
    "    model.add(LSTM(n_units))\n",
    "    model.add(RepeatVector(tar_timesteps))\n",
    "    model.add(LSTM(n_units, return_sequences=True))\n",
    "    model.add(TimeDistributed(Dense(tar_vocab, activation='softmax')))\n",
    "    return model"
   ]
  },
  {
   "cell_type": "code",
   "execution_count": 311,
   "metadata": {},
   "outputs": [
    {
     "name": "stdout",
     "output_type": "stream",
     "text": [
      "Model: \"sequential_8\"\n",
      "_________________________________________________________________\n",
      "Layer (type)                 Output Shape              Param #   \n",
      "=================================================================\n",
      "embedding_7 (Embedding)      (None, 5, 256)            573696    \n",
      "_________________________________________________________________\n",
      "lstm_12 (LSTM)               (None, 256)               525312    \n",
      "_________________________________________________________________\n",
      "repeat_vector_6 (RepeatVecto (None, 9, 256)            0         \n",
      "_________________________________________________________________\n",
      "lstm_13 (LSTM)               (None, 9, 256)            525312    \n",
      "_________________________________________________________________\n",
      "time_distributed_6 (TimeDist (None, 9, 3572)           918004    \n",
      "=================================================================\n",
      "Total params: 2,542,324\n",
      "Trainable params: 2,542,324\n",
      "Non-trainable params: 0\n",
      "_________________________________________________________________\n",
      "None\n"
     ]
    }
   ],
   "source": [
    "# define model\n",
    "model = define_model(eng_vocab_size, ger_vocab_size, eng_length, ger_length, 256)\n",
    "model.compile(optimizer='adam', loss='categorical_crossentropy')\n",
    "\n",
    "# summarize defined model\n",
    "print(model.summary())"
   ]
  },
  {
   "cell_type": "code",
   "execution_count": 312,
   "metadata": {},
   "outputs": [
    {
     "name": "stdout",
     "output_type": "stream",
     "text": [
      "Epoch 1/30\n",
      "\n",
      "Epoch 00001: val_loss improved from inf to 2.35695, saving model to model.h5\n",
      "141/141 - 20s - loss: 3.2473 - val_loss: 2.3570\n",
      "Epoch 2/30\n",
      "\n",
      "Epoch 00002: val_loss improved from 2.35695 to 2.19320, saving model to model.h5\n",
      "141/141 - 16s - loss: 2.2330 - val_loss: 2.1932\n",
      "Epoch 3/30\n",
      "\n",
      "Epoch 00003: val_loss improved from 2.19320 to 2.14883, saving model to model.h5\n",
      "141/141 - 15s - loss: 2.1249 - val_loss: 2.1488\n",
      "Epoch 4/30\n",
      "\n",
      "Epoch 00004: val_loss improved from 2.14883 to 2.08886, saving model to model.h5\n",
      "141/141 - 16s - loss: 2.0514 - val_loss: 2.0889\n",
      "Epoch 5/30\n",
      "\n",
      "Epoch 00005: val_loss improved from 2.08886 to 1.99659, saving model to model.h5\n",
      "141/141 - 16s - loss: 1.9549 - val_loss: 1.9966\n",
      "Epoch 6/30\n",
      "\n",
      "Epoch 00006: val_loss improved from 1.99659 to 1.93944, saving model to model.h5\n",
      "141/141 - 16s - loss: 1.8569 - val_loss: 1.9394\n",
      "Epoch 7/30\n",
      "\n",
      "Epoch 00007: val_loss improved from 1.93944 to 1.87789, saving model to model.h5\n",
      "141/141 - 16s - loss: 1.7782 - val_loss: 1.8779\n",
      "Epoch 8/30\n",
      "\n",
      "Epoch 00008: val_loss improved from 1.87789 to 1.81625, saving model to model.h5\n",
      "141/141 - 15s - loss: 1.6960 - val_loss: 1.8162\n",
      "Epoch 9/30\n",
      "\n",
      "Epoch 00009: val_loss improved from 1.81625 to 1.76296, saving model to model.h5\n",
      "141/141 - 16s - loss: 1.6185 - val_loss: 1.7630\n",
      "Epoch 10/30\n",
      "\n",
      "Epoch 00010: val_loss improved from 1.76296 to 1.71770, saving model to model.h5\n",
      "141/141 - 15s - loss: 1.5385 - val_loss: 1.7177\n",
      "Epoch 11/30\n",
      "\n",
      "Epoch 00011: val_loss improved from 1.71770 to 1.68003, saving model to model.h5\n",
      "141/141 - 15s - loss: 1.4675 - val_loss: 1.6800\n",
      "Epoch 12/30\n",
      "\n",
      "Epoch 00012: val_loss improved from 1.68003 to 1.64524, saving model to model.h5\n",
      "141/141 - 14s - loss: 1.4009 - val_loss: 1.6452\n",
      "Epoch 13/30\n",
      "\n",
      "Epoch 00013: val_loss improved from 1.64524 to 1.60628, saving model to model.h5\n",
      "141/141 - 14s - loss: 1.3384 - val_loss: 1.6063\n",
      "Epoch 14/30\n",
      "\n",
      "Epoch 00014: val_loss improved from 1.60628 to 1.57386, saving model to model.h5\n",
      "141/141 - 14s - loss: 1.2758 - val_loss: 1.5739\n",
      "Epoch 15/30\n",
      "\n",
      "Epoch 00015: val_loss improved from 1.57386 to 1.54671, saving model to model.h5\n",
      "141/141 - 13s - loss: 1.2155 - val_loss: 1.5467\n",
      "Epoch 16/30\n",
      "\n",
      "Epoch 00016: val_loss improved from 1.54671 to 1.51704, saving model to model.h5\n",
      "141/141 - 14s - loss: 1.1556 - val_loss: 1.5170\n",
      "Epoch 17/30\n",
      "\n",
      "Epoch 00017: val_loss improved from 1.51704 to 1.50834, saving model to model.h5\n",
      "141/141 - 15s - loss: 1.0987 - val_loss: 1.5083\n",
      "Epoch 18/30\n",
      "\n",
      "Epoch 00018: val_loss improved from 1.50834 to 1.47905, saving model to model.h5\n",
      "141/141 - 13s - loss: 1.0461 - val_loss: 1.4791\n",
      "Epoch 19/30\n",
      "\n",
      "Epoch 00019: val_loss improved from 1.47905 to 1.45815, saving model to model.h5\n",
      "141/141 - 15s - loss: 0.9947 - val_loss: 1.4582\n",
      "Epoch 20/30\n",
      "\n",
      "Epoch 00020: val_loss improved from 1.45815 to 1.43446, saving model to model.h5\n",
      "141/141 - 16s - loss: 0.9415 - val_loss: 1.4345\n",
      "Epoch 21/30\n",
      "\n",
      "Epoch 00021: val_loss improved from 1.43446 to 1.42269, saving model to model.h5\n",
      "141/141 - 15s - loss: 0.8959 - val_loss: 1.4227\n",
      "Epoch 22/30\n",
      "\n",
      "Epoch 00022: val_loss improved from 1.42269 to 1.41265, saving model to model.h5\n",
      "141/141 - 15s - loss: 0.8488 - val_loss: 1.4127\n",
      "Epoch 23/30\n",
      "\n",
      "Epoch 00023: val_loss improved from 1.41265 to 1.39659, saving model to model.h5\n",
      "141/141 - 14s - loss: 0.8025 - val_loss: 1.3966\n",
      "Epoch 24/30\n",
      "\n",
      "Epoch 00024: val_loss improved from 1.39659 to 1.37660, saving model to model.h5\n",
      "141/141 - 14s - loss: 0.7615 - val_loss: 1.3766\n",
      "Epoch 25/30\n",
      "\n",
      "Epoch 00025: val_loss improved from 1.37660 to 1.36887, saving model to model.h5\n",
      "141/141 - 14s - loss: 0.7225 - val_loss: 1.3689\n",
      "Epoch 26/30\n",
      "\n",
      "Epoch 00026: val_loss improved from 1.36887 to 1.35997, saving model to model.h5\n",
      "141/141 - 14s - loss: 0.6861 - val_loss: 1.3600\n",
      "Epoch 27/30\n",
      "\n",
      "Epoch 00027: val_loss improved from 1.35997 to 1.34951, saving model to model.h5\n",
      "141/141 - 13s - loss: 0.6480 - val_loss: 1.3495\n",
      "Epoch 28/30\n",
      "\n",
      "Epoch 00028: val_loss improved from 1.34951 to 1.34599, saving model to model.h5\n",
      "141/141 - 14s - loss: 0.6147 - val_loss: 1.3460\n",
      "Epoch 29/30\n",
      "\n",
      "Epoch 00029: val_loss improved from 1.34599 to 1.34247, saving model to model.h5\n",
      "141/141 - 14s - loss: 0.5830 - val_loss: 1.3425\n",
      "Epoch 30/30\n",
      "\n",
      "Epoch 00030: val_loss improved from 1.34247 to 1.32621, saving model to model.h5\n",
      "141/141 - 14s - loss: 0.5532 - val_loss: 1.3262\n"
     ]
    },
    {
     "data": {
      "text/plain": [
       "<tensorflow.python.keras.callbacks.History at 0x7f26c5106be0>"
      ]
     },
     "execution_count": 312,
     "metadata": {},
     "output_type": "execute_result"
    }
   ],
   "source": [
    "# fit model\n",
    "filename = 'model.h5'\n",
    "checkpoint = ModelCheckpoint(filename, monitor='val_loss', verbose=1, save_best_only=True, mode='min')\n",
    "model.fit(trainX, trainY, epochs=30, batch_size=64, validation_data=(testX, testY), callbacks=[checkpoint], verbose=2)"
   ]
  },
  {
   "cell_type": "code",
   "execution_count": 313,
   "metadata": {},
   "outputs": [
    {
     "data": {
      "text/plain": [
       "array([ 2, 63, 14,  0,  0], dtype=int32)"
      ]
     },
     "execution_count": 313,
     "metadata": {},
     "output_type": "execute_result"
    }
   ],
   "source": [
    "testX[2]"
   ]
  },
  {
   "cell_type": "markdown",
   "metadata": {},
   "source": [
    "### Testing the model"
   ]
  },
  {
   "cell_type": "code",
   "execution_count": 319,
   "metadata": {},
   "outputs": [],
   "source": [
    "from keras.models import load_model\n",
    "from numpy import array\n",
    "from numpy import argmax"
   ]
  },
  {
   "cell_type": "code",
   "execution_count": 320,
   "metadata": {},
   "outputs": [],
   "source": [
    "model = load_model('model.h5')"
   ]
  },
  {
   "cell_type": "code",
   "execution_count": 321,
   "metadata": {},
   "outputs": [],
   "source": [
    "def word_for_id(integer, tokenizer):\n",
    "    for word, index in tokenizer.word_index.items():\n",
    "        if index == integer:\n",
    "            return word\n",
    "    return None"
   ]
  },
  {
   "cell_type": "code",
   "execution_count": 475,
   "metadata": {},
   "outputs": [],
   "source": [
    "testing = raw_dataset[10000:10100,0]\n",
    "testing_encoded = encode_sequences(eng_tokenizer, eng_length, testing)"
   ]
  },
  {
   "cell_type": "code",
   "execution_count": 525,
   "metadata": {},
   "outputs": [],
   "source": [
    "# testing"
   ]
  },
  {
   "cell_type": "code",
   "execution_count": 476,
   "metadata": {},
   "outputs": [
    {
     "data": {
      "text/plain": [
       "(100, 5)"
      ]
     },
     "execution_count": 476,
     "metadata": {},
     "output_type": "execute_result"
    }
   ],
   "source": [
    "testing_encoded.shape"
   ]
  },
  {
   "cell_type": "code",
   "execution_count": 477,
   "metadata": {},
   "outputs": [],
   "source": [
    "preds = []\n",
    "for i in range(testing_encoded.shape[0]):\n",
    "    res = model.predict(testing_encoded[i].reshape((1, testing_encoded[i].shape[0])), verbose=0)[0]\n",
    "    integers = [argmax(vector) for vector in res]\n",
    "    target = list()\n",
    "    for j in integers:\n",
    "        word = word_for_id(j, ger_tokenizer)\n",
    "        if word is None:\n",
    "            break\n",
    "        target.append(word)\n",
    "    translated = ' '.join(target)\n",
    "    preds.append([testing[i],translated])"
   ]
  },
  {
   "cell_type": "code",
   "execution_count": 489,
   "metadata": {},
   "outputs": [],
   "source": [
    "mine = []\n",
    "for i in range(len(preds)):\n",
    "    translator = Translator()\n",
    "    result = translator.translate(preds[i][1], src='de', dest='en')\n",
    "    mine.append(result.text)\n",
    "    #print('actual:', preds[i][0])\n",
    "    #print('mine:', result.text, '\\n')"
   ]
  },
  {
   "cell_type": "markdown",
   "metadata": {},
   "source": [
    "### testing singular "
   ]
  },
  {
   "cell_type": "code",
   "execution_count": 531,
   "metadata": {},
   "outputs": [
    {
     "data": {
      "text/plain": [
       "array(['theyre quiet', 'sie sind still',\n",
       "       'ccby france attribution tatoebaorg ck zaghawa'], dtype='<U527')"
      ]
     },
     "execution_count": 531,
     "metadata": {},
     "output_type": "execute_result"
    }
   ],
   "source": [
    "train[30]"
   ]
  },
  {
   "cell_type": "code",
   "execution_count": 532,
   "metadata": {},
   "outputs": [
    {
     "data": {
      "text/plain": [
       "array([ 76,  41, 144,   0,   0], dtype=int32)"
      ]
     },
     "execution_count": 532,
     "metadata": {},
     "output_type": "execute_result"
    }
   ],
   "source": [
    "to_test = [\"theyre not quiet\"]\n",
    "temp = encode_sequences(eng_tokenizer, eng_length, to_test)\n",
    "temp[0]"
   ]
  },
  {
   "cell_type": "code",
   "execution_count": 533,
   "metadata": {},
   "outputs": [],
   "source": [
    "res = model.predict(temp[0].reshape((1, temp[0].shape[0])), verbose=0)[0]"
   ]
  },
  {
   "cell_type": "code",
   "execution_count": 534,
   "metadata": {},
   "outputs": [
    {
     "data": {
      "text/plain": [
       "[4, 19, 8, 167, 0, 0, 0, 0, 0]"
      ]
     },
     "execution_count": 534,
     "metadata": {},
     "output_type": "execute_result"
    }
   ],
   "source": [
    "integers = [argmax(vector) for vector in res]\n",
    "integers"
   ]
  },
  {
   "cell_type": "code",
   "execution_count": 535,
   "metadata": {},
   "outputs": [
    {
     "name": "stdout",
     "output_type": "stream",
     "text": [
      "sie sind nicht warten\n"
     ]
    }
   ],
   "source": [
    "target = list()\n",
    "for i in integers:\n",
    "    word = word_for_id(i, ger_tokenizer)\n",
    "    if word is None:\n",
    "        break\n",
    "    target.append(word)\n",
    "translated = ' '.join(target)\n",
    "print(translated)"
   ]
  },
  {
   "cell_type": "markdown",
   "metadata": {},
   "source": [
    "### using Google"
   ]
  },
  {
   "cell_type": "code",
   "execution_count": 536,
   "metadata": {},
   "outputs": [
    {
     "name": "stdout",
     "output_type": "stream",
     "text": [
      "theyre not quiet\n",
      "they are not waiting\n"
     ]
    }
   ],
   "source": [
    "translator = Translator()\n",
    "result = translator.translate(translated, src='de', dest='en')\n",
    "print(to_test[0])\n",
    "print(result.text)"
   ]
  },
  {
   "cell_type": "markdown",
   "metadata": {},
   "source": [
    "# BLEU"
   ]
  },
  {
   "cell_type": "code",
   "execution_count": 402,
   "metadata": {},
   "outputs": [],
   "source": [
    "from nltk.translate.bleu_score import corpus_bleu"
   ]
  },
  {
   "cell_type": "code",
   "execution_count": 483,
   "metadata": {},
   "outputs": [
    {
     "data": {
      "text/plain": [
       "[['tom was gentle', 'tom ist klug'],\n",
       " ['tom was greedy', 'tom war durst'],\n",
       " ['tom was grumpy', 'tom ist klug'],\n",
       " ['tom was guilty', 'tom war gelangweilt'],\n",
       " ['tom was heroic', 'tom war wein']]"
      ]
     },
     "execution_count": 483,
     "metadata": {},
     "output_type": "execute_result"
    }
   ],
   "source": [
    "preds[:5]"
   ]
  },
  {
   "cell_type": "code",
   "execution_count": 506,
   "metadata": {},
   "outputs": [],
   "source": [
    "hypothesis = []\n",
    "reference = []\n",
    "for i in range(len(preds)):\n",
    "    hyp_split = preds[i][0].split(\" \") \n",
    "    ref_split = mine[i].split(\" \")\n",
    "    hypothesis.append(hyp_split)\n",
    "    reference.append(ref_split)\n",
    "    #print(hyp_split, ref_split)"
   ]
  },
  {
   "cell_type": "code",
   "execution_count": 508,
   "metadata": {},
   "outputs": [],
   "source": [
    "import nltk\n",
    "hyp = hypothesis\n",
    "ref = reference"
   ]
  },
  {
   "cell_type": "code",
   "execution_count": 537,
   "metadata": {},
   "outputs": [
    {
     "name": "stdout",
     "output_type": "stream",
     "text": [
      "['tom', 'is', 'smart'] ['tom', 'was', 'gentle']\n",
      "['tom', 'was', 'thirsty'] ['tom', 'was', 'greedy']\n",
      "['tom', 'is', 'smart'] ['tom', 'was', 'grumpy']\n",
      "['tom', 'was', 'bored'] ['tom', 'was', 'guilty']\n",
      "['tom', 'was', 'wine'] ['tom', 'was', 'heroic']\n",
      "['tom', 'was', 'blind'] ['tom', 'was', 'honest']\n",
      "['tom', 'was', 'scary'] ['tom', 'was', 'humble']\n",
      "['tom', 'was', 'thirsty'] ['tom', 'was', 'hungry']\n",
      "['tom', 'was', 'angry'] ['tom', 'was', 'insane']\n",
      "['tom', 'was', 'naked'] ['tom', 'was', 'inside']\n"
     ]
    }
   ],
   "source": [
    "num=10\n",
    "for i in range(num):\n",
    "    print(ref[i],hyp[i])"
   ]
  },
  {
   "cell_type": "code",
   "execution_count": 517,
   "metadata": {},
   "outputs": [
    {
     "data": {
      "text/plain": [
       "1.646211035903463e-231"
      ]
     },
     "execution_count": 517,
     "metadata": {},
     "output_type": "execute_result"
    }
   ],
   "source": [
    "nltk.translate.bleu_score.corpus_bleu(ref[num], hyp[num])"
   ]
  },
  {
   "cell_type": "code",
   "execution_count": null,
   "metadata": {},
   "outputs": [],
   "source": []
  },
  {
   "cell_type": "code",
   "execution_count": null,
   "metadata": {},
   "outputs": [],
   "source": []
  },
  {
   "cell_type": "code",
   "execution_count": null,
   "metadata": {},
   "outputs": [],
   "source": []
  },
  {
   "cell_type": "code",
   "execution_count": null,
   "metadata": {},
   "outputs": [],
   "source": []
  },
  {
   "cell_type": "code",
   "execution_count": null,
   "metadata": {},
   "outputs": [],
   "source": []
  },
  {
   "cell_type": "code",
   "execution_count": null,
   "metadata": {},
   "outputs": [],
   "source": []
  },
  {
   "cell_type": "code",
   "execution_count": null,
   "metadata": {},
   "outputs": [],
   "source": []
  },
  {
   "cell_type": "code",
   "execution_count": null,
   "metadata": {},
   "outputs": [],
   "source": []
  },
  {
   "cell_type": "code",
   "execution_count": null,
   "metadata": {},
   "outputs": [],
   "source": []
  },
  {
   "cell_type": "code",
   "execution_count": null,
   "metadata": {},
   "outputs": [],
   "source": []
  },
  {
   "cell_type": "code",
   "execution_count": null,
   "metadata": {},
   "outputs": [],
   "source": []
  },
  {
   "cell_type": "code",
   "execution_count": null,
   "metadata": {},
   "outputs": [],
   "source": []
  },
  {
   "cell_type": "code",
   "execution_count": null,
   "metadata": {},
   "outputs": [],
   "source": []
  },
  {
   "cell_type": "code",
   "execution_count": null,
   "metadata": {},
   "outputs": [],
   "source": []
  }
 ],
 "metadata": {
  "kernelspec": {
   "display_name": "Python 3",
   "language": "python",
   "name": "python3"
  },
  "language_info": {
   "codemirror_mode": {
    "name": "ipython",
    "version": 3
   },
   "file_extension": ".py",
   "mimetype": "text/x-python",
   "name": "python",
   "nbconvert_exporter": "python",
   "pygments_lexer": "ipython3",
   "version": "3.8.2"
  }
 },
 "nbformat": 4,
 "nbformat_minor": 4
}
