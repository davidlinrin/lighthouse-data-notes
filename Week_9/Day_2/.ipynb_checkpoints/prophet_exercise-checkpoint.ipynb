{
 "cells": [
  {
   "cell_type": "code",
   "execution_count": 1,
   "metadata": {
    "ExecuteTime": {
     "end_time": "2020-04-29T13:18:58.173612Z",
     "start_time": "2020-04-29T13:18:55.124896Z"
    }
   },
   "outputs": [],
   "source": [
    "# ignore warnings\n",
    "import warnings\n",
    "warnings.filterwarnings('ignore')\n",
    "from fbprophet.plot import plot_plotly, plot_components_plotly\n",
    "\n",
    "# import pandas\n",
    "import pandas as pd\n",
    "import numpy as np\n",
    "\n",
    "# import matplotlib\n",
    "import matplotlib.pyplot as plt\n",
    "\n",
    "# import prophet\n",
    "from fbprophet import Prophet\n",
    "%matplotlib inline"
   ]
  },
  {
   "cell_type": "code",
   "execution_count": 2,
   "metadata": {
    "ExecuteTime": {
     "end_time": "2020-04-29T13:18:59.304569Z",
     "start_time": "2020-04-29T13:18:58.198145Z"
    }
   },
   "outputs": [],
   "source": [
    "# load data\n",
    "wmt = pd.read_csv('https://raw.githubusercontent.com/gumdropsteve/intro_to_prophet/master/data/WMT.csv')"
   ]
  },
  {
   "cell_type": "markdown",
   "metadata": {},
   "source": [
    "* Explore the dataset"
   ]
  },
  {
   "cell_type": "code",
   "execution_count": 3,
   "metadata": {
    "ExecuteTime": {
     "end_time": "2020-04-29T13:19:25.713918Z",
     "start_time": "2020-04-29T13:19:25.688300Z"
    }
   },
   "outputs": [
    {
     "data": {
      "text/html": [
       "<div>\n",
       "<style scoped>\n",
       "    .dataframe tbody tr th:only-of-type {\n",
       "        vertical-align: middle;\n",
       "    }\n",
       "\n",
       "    .dataframe tbody tr th {\n",
       "        vertical-align: top;\n",
       "    }\n",
       "\n",
       "    .dataframe thead th {\n",
       "        text-align: right;\n",
       "    }\n",
       "</style>\n",
       "<table border=\"1\" class=\"dataframe\">\n",
       "  <thead>\n",
       "    <tr style=\"text-align: right;\">\n",
       "      <th></th>\n",
       "      <th>Date</th>\n",
       "      <th>Open</th>\n",
       "      <th>High</th>\n",
       "      <th>Low</th>\n",
       "      <th>Close</th>\n",
       "      <th>Adj Close</th>\n",
       "      <th>Volume</th>\n",
       "    </tr>\n",
       "  </thead>\n",
       "  <tbody>\n",
       "    <tr>\n",
       "      <th>0</th>\n",
       "      <td>1972-08-25</td>\n",
       "      <td>0.063477</td>\n",
       "      <td>0.064697</td>\n",
       "      <td>0.063477</td>\n",
       "      <td>0.064453</td>\n",
       "      <td>0.023768</td>\n",
       "      <td>2508800</td>\n",
       "    </tr>\n",
       "    <tr>\n",
       "      <th>1</th>\n",
       "      <td>1972-08-28</td>\n",
       "      <td>0.064453</td>\n",
       "      <td>0.064941</td>\n",
       "      <td>0.064209</td>\n",
       "      <td>0.064209</td>\n",
       "      <td>0.023678</td>\n",
       "      <td>972800</td>\n",
       "    </tr>\n",
       "    <tr>\n",
       "      <th>2</th>\n",
       "      <td>1972-08-29</td>\n",
       "      <td>0.063965</td>\n",
       "      <td>0.063965</td>\n",
       "      <td>0.063477</td>\n",
       "      <td>0.063477</td>\n",
       "      <td>0.023408</td>\n",
       "      <td>1945600</td>\n",
       "    </tr>\n",
       "    <tr>\n",
       "      <th>3</th>\n",
       "      <td>1972-08-30</td>\n",
       "      <td>0.063477</td>\n",
       "      <td>0.063477</td>\n",
       "      <td>0.062988</td>\n",
       "      <td>0.063477</td>\n",
       "      <td>0.023408</td>\n",
       "      <td>409600</td>\n",
       "    </tr>\n",
       "    <tr>\n",
       "      <th>4</th>\n",
       "      <td>1972-08-31</td>\n",
       "      <td>0.062988</td>\n",
       "      <td>0.062988</td>\n",
       "      <td>0.062500</td>\n",
       "      <td>0.062500</td>\n",
       "      <td>0.023047</td>\n",
       "      <td>870400</td>\n",
       "    </tr>\n",
       "    <tr>\n",
       "      <th>...</th>\n",
       "      <td>...</td>\n",
       "      <td>...</td>\n",
       "      <td>...</td>\n",
       "      <td>...</td>\n",
       "      <td>...</td>\n",
       "      <td>...</td>\n",
       "      <td>...</td>\n",
       "    </tr>\n",
       "    <tr>\n",
       "      <th>11810</th>\n",
       "      <td>2019-06-26</td>\n",
       "      <td>110.849998</td>\n",
       "      <td>111.080002</td>\n",
       "      <td>110.099998</td>\n",
       "      <td>110.160004</td>\n",
       "      <td>110.160004</td>\n",
       "      <td>4161700</td>\n",
       "    </tr>\n",
       "    <tr>\n",
       "      <th>11811</th>\n",
       "      <td>2019-06-27</td>\n",
       "      <td>110.059998</td>\n",
       "      <td>110.510002</td>\n",
       "      <td>108.860001</td>\n",
       "      <td>110.099998</td>\n",
       "      <td>110.099998</td>\n",
       "      <td>5481300</td>\n",
       "    </tr>\n",
       "    <tr>\n",
       "      <th>11812</th>\n",
       "      <td>2019-06-28</td>\n",
       "      <td>110.550003</td>\n",
       "      <td>111.510002</td>\n",
       "      <td>110.239998</td>\n",
       "      <td>110.489998</td>\n",
       "      <td>110.489998</td>\n",
       "      <td>6506700</td>\n",
       "    </tr>\n",
       "    <tr>\n",
       "      <th>11813</th>\n",
       "      <td>2019-07-01</td>\n",
       "      <td>111.300003</td>\n",
       "      <td>111.970001</td>\n",
       "      <td>110.019997</td>\n",
       "      <td>110.620003</td>\n",
       "      <td>110.620003</td>\n",
       "      <td>5514700</td>\n",
       "    </tr>\n",
       "    <tr>\n",
       "      <th>11814</th>\n",
       "      <td>2019-07-02</td>\n",
       "      <td>110.830002</td>\n",
       "      <td>111.610001</td>\n",
       "      <td>110.339996</td>\n",
       "      <td>111.599998</td>\n",
       "      <td>111.599998</td>\n",
       "      <td>4062900</td>\n",
       "    </tr>\n",
       "  </tbody>\n",
       "</table>\n",
       "<p>11815 rows × 7 columns</p>\n",
       "</div>"
      ],
      "text/plain": [
       "             Date        Open        High         Low       Close   Adj Close  \\\n",
       "0      1972-08-25    0.063477    0.064697    0.063477    0.064453    0.023768   \n",
       "1      1972-08-28    0.064453    0.064941    0.064209    0.064209    0.023678   \n",
       "2      1972-08-29    0.063965    0.063965    0.063477    0.063477    0.023408   \n",
       "3      1972-08-30    0.063477    0.063477    0.062988    0.063477    0.023408   \n",
       "4      1972-08-31    0.062988    0.062988    0.062500    0.062500    0.023047   \n",
       "...           ...         ...         ...         ...         ...         ...   \n",
       "11810  2019-06-26  110.849998  111.080002  110.099998  110.160004  110.160004   \n",
       "11811  2019-06-27  110.059998  110.510002  108.860001  110.099998  110.099998   \n",
       "11812  2019-06-28  110.550003  111.510002  110.239998  110.489998  110.489998   \n",
       "11813  2019-07-01  111.300003  111.970001  110.019997  110.620003  110.620003   \n",
       "11814  2019-07-02  110.830002  111.610001  110.339996  111.599998  111.599998   \n",
       "\n",
       "        Volume  \n",
       "0      2508800  \n",
       "1       972800  \n",
       "2      1945600  \n",
       "3       409600  \n",
       "4       870400  \n",
       "...        ...  \n",
       "11810  4161700  \n",
       "11811  5481300  \n",
       "11812  6506700  \n",
       "11813  5514700  \n",
       "11814  4062900  \n",
       "\n",
       "[11815 rows x 7 columns]"
      ]
     },
     "execution_count": 3,
     "metadata": {},
     "output_type": "execute_result"
    }
   ],
   "source": [
    "wmt"
   ]
  },
  {
   "cell_type": "markdown",
   "metadata": {},
   "source": [
    "* use only `Date` and `Adj Close` columns"
   ]
  },
  {
   "cell_type": "code",
   "execution_count": 5,
   "metadata": {
    "ExecuteTime": {
     "end_time": "2020-04-29T13:19:57.356443Z",
     "start_time": "2020-04-29T13:19:57.348689Z"
    }
   },
   "outputs": [
    {
     "data": {
      "text/html": [
       "<div>\n",
       "<style scoped>\n",
       "    .dataframe tbody tr th:only-of-type {\n",
       "        vertical-align: middle;\n",
       "    }\n",
       "\n",
       "    .dataframe tbody tr th {\n",
       "        vertical-align: top;\n",
       "    }\n",
       "\n",
       "    .dataframe thead th {\n",
       "        text-align: right;\n",
       "    }\n",
       "</style>\n",
       "<table border=\"1\" class=\"dataframe\">\n",
       "  <thead>\n",
       "    <tr style=\"text-align: right;\">\n",
       "      <th></th>\n",
       "      <th>Date</th>\n",
       "      <th>Adj Close</th>\n",
       "    </tr>\n",
       "  </thead>\n",
       "  <tbody>\n",
       "    <tr>\n",
       "      <th>0</th>\n",
       "      <td>1972-08-25</td>\n",
       "      <td>0.023768</td>\n",
       "    </tr>\n",
       "    <tr>\n",
       "      <th>1</th>\n",
       "      <td>1972-08-28</td>\n",
       "      <td>0.023678</td>\n",
       "    </tr>\n",
       "    <tr>\n",
       "      <th>2</th>\n",
       "      <td>1972-08-29</td>\n",
       "      <td>0.023408</td>\n",
       "    </tr>\n",
       "    <tr>\n",
       "      <th>3</th>\n",
       "      <td>1972-08-30</td>\n",
       "      <td>0.023408</td>\n",
       "    </tr>\n",
       "    <tr>\n",
       "      <th>4</th>\n",
       "      <td>1972-08-31</td>\n",
       "      <td>0.023047</td>\n",
       "    </tr>\n",
       "    <tr>\n",
       "      <th>...</th>\n",
       "      <td>...</td>\n",
       "      <td>...</td>\n",
       "    </tr>\n",
       "    <tr>\n",
       "      <th>11810</th>\n",
       "      <td>2019-06-26</td>\n",
       "      <td>110.160004</td>\n",
       "    </tr>\n",
       "    <tr>\n",
       "      <th>11811</th>\n",
       "      <td>2019-06-27</td>\n",
       "      <td>110.099998</td>\n",
       "    </tr>\n",
       "    <tr>\n",
       "      <th>11812</th>\n",
       "      <td>2019-06-28</td>\n",
       "      <td>110.489998</td>\n",
       "    </tr>\n",
       "    <tr>\n",
       "      <th>11813</th>\n",
       "      <td>2019-07-01</td>\n",
       "      <td>110.620003</td>\n",
       "    </tr>\n",
       "    <tr>\n",
       "      <th>11814</th>\n",
       "      <td>2019-07-02</td>\n",
       "      <td>111.599998</td>\n",
       "    </tr>\n",
       "  </tbody>\n",
       "</table>\n",
       "<p>11815 rows × 2 columns</p>\n",
       "</div>"
      ],
      "text/plain": [
       "             Date   Adj Close\n",
       "0      1972-08-25    0.023768\n",
       "1      1972-08-28    0.023678\n",
       "2      1972-08-29    0.023408\n",
       "3      1972-08-30    0.023408\n",
       "4      1972-08-31    0.023047\n",
       "...           ...         ...\n",
       "11810  2019-06-26  110.160004\n",
       "11811  2019-06-27  110.099998\n",
       "11812  2019-06-28  110.489998\n",
       "11813  2019-07-01  110.620003\n",
       "11814  2019-07-02  111.599998\n",
       "\n",
       "[11815 rows x 2 columns]"
      ]
     },
     "execution_count": 5,
     "metadata": {},
     "output_type": "execute_result"
    }
   ],
   "source": [
    "df = wmt[['Date','Adj Close']]\n",
    "df"
   ]
  },
  {
   "cell_type": "markdown",
   "metadata": {},
   "source": [
    "* rename columns to fit Prophet naming convention"
   ]
  },
  {
   "cell_type": "code",
   "execution_count": 7,
   "metadata": {
    "ExecuteTime": {
     "end_time": "2020-04-29T13:19:57.853827Z",
     "start_time": "2020-04-29T13:19:57.847232Z"
    }
   },
   "outputs": [
    {
     "data": {
      "text/html": [
       "<div>\n",
       "<style scoped>\n",
       "    .dataframe tbody tr th:only-of-type {\n",
       "        vertical-align: middle;\n",
       "    }\n",
       "\n",
       "    .dataframe tbody tr th {\n",
       "        vertical-align: top;\n",
       "    }\n",
       "\n",
       "    .dataframe thead th {\n",
       "        text-align: right;\n",
       "    }\n",
       "</style>\n",
       "<table border=\"1\" class=\"dataframe\">\n",
       "  <thead>\n",
       "    <tr style=\"text-align: right;\">\n",
       "      <th></th>\n",
       "      <th>ds</th>\n",
       "      <th>y</th>\n",
       "    </tr>\n",
       "  </thead>\n",
       "  <tbody>\n",
       "    <tr>\n",
       "      <th>0</th>\n",
       "      <td>1972-08-25</td>\n",
       "      <td>0.023768</td>\n",
       "    </tr>\n",
       "    <tr>\n",
       "      <th>1</th>\n",
       "      <td>1972-08-28</td>\n",
       "      <td>0.023678</td>\n",
       "    </tr>\n",
       "    <tr>\n",
       "      <th>2</th>\n",
       "      <td>1972-08-29</td>\n",
       "      <td>0.023408</td>\n",
       "    </tr>\n",
       "    <tr>\n",
       "      <th>3</th>\n",
       "      <td>1972-08-30</td>\n",
       "      <td>0.023408</td>\n",
       "    </tr>\n",
       "    <tr>\n",
       "      <th>4</th>\n",
       "      <td>1972-08-31</td>\n",
       "      <td>0.023047</td>\n",
       "    </tr>\n",
       "    <tr>\n",
       "      <th>...</th>\n",
       "      <td>...</td>\n",
       "      <td>...</td>\n",
       "    </tr>\n",
       "    <tr>\n",
       "      <th>11810</th>\n",
       "      <td>2019-06-26</td>\n",
       "      <td>110.160004</td>\n",
       "    </tr>\n",
       "    <tr>\n",
       "      <th>11811</th>\n",
       "      <td>2019-06-27</td>\n",
       "      <td>110.099998</td>\n",
       "    </tr>\n",
       "    <tr>\n",
       "      <th>11812</th>\n",
       "      <td>2019-06-28</td>\n",
       "      <td>110.489998</td>\n",
       "    </tr>\n",
       "    <tr>\n",
       "      <th>11813</th>\n",
       "      <td>2019-07-01</td>\n",
       "      <td>110.620003</td>\n",
       "    </tr>\n",
       "    <tr>\n",
       "      <th>11814</th>\n",
       "      <td>2019-07-02</td>\n",
       "      <td>111.599998</td>\n",
       "    </tr>\n",
       "  </tbody>\n",
       "</table>\n",
       "<p>11815 rows × 2 columns</p>\n",
       "</div>"
      ],
      "text/plain": [
       "               ds           y\n",
       "0      1972-08-25    0.023768\n",
       "1      1972-08-28    0.023678\n",
       "2      1972-08-29    0.023408\n",
       "3      1972-08-30    0.023408\n",
       "4      1972-08-31    0.023047\n",
       "...           ...         ...\n",
       "11810  2019-06-26  110.160004\n",
       "11811  2019-06-27  110.099998\n",
       "11812  2019-06-28  110.489998\n",
       "11813  2019-07-01  110.620003\n",
       "11814  2019-07-02  111.599998\n",
       "\n",
       "[11815 rows x 2 columns]"
      ]
     },
     "execution_count": 7,
     "metadata": {},
     "output_type": "execute_result"
    }
   ],
   "source": [
    "df = df.rename(columns={'Date':'ds','Adj Close':'y'})\n",
    "df"
   ]
  },
  {
   "cell_type": "markdown",
   "metadata": {},
   "source": [
    "* convert date to datetime"
   ]
  },
  {
   "cell_type": "code",
   "execution_count": null,
   "metadata": {
    "ExecuteTime": {
     "end_time": "2020-04-29T13:20:17.263879Z",
     "start_time": "2020-04-29T13:20:17.255117Z"
    }
   },
   "outputs": [],
   "source": []
  },
  {
   "cell_type": "markdown",
   "metadata": {},
   "source": [
    "* plot time-series"
   ]
  },
  {
   "cell_type": "code",
   "execution_count": null,
   "metadata": {
    "ExecuteTime": {
     "end_time": "2020-04-29T13:20:45.090219Z",
     "start_time": "2020-04-29T13:20:44.882791Z"
    }
   },
   "outputs": [],
   "source": []
  },
  {
   "cell_type": "markdown",
   "metadata": {},
   "source": [
    "* instantiate Prophet"
   ]
  },
  {
   "cell_type": "code",
   "execution_count": null,
   "metadata": {
    "ExecuteTime": {
     "end_time": "2020-04-29T13:21:46.874890Z",
     "start_time": "2020-04-29T13:21:46.869289Z"
    }
   },
   "outputs": [],
   "source": []
  },
  {
   "cell_type": "markdown",
   "metadata": {},
   "source": [
    "* fit model"
   ]
  },
  {
   "cell_type": "code",
   "execution_count": null,
   "metadata": {
    "ExecuteTime": {
     "end_time": "2020-04-29T13:22:04.450684Z",
     "start_time": "2020-04-29T13:21:47.349098Z"
    }
   },
   "outputs": [],
   "source": []
  },
  {
   "cell_type": "markdown",
   "metadata": {},
   "source": [
    "* forecast 365 values in future "
   ]
  },
  {
   "cell_type": "code",
   "execution_count": null,
   "metadata": {
    "ExecuteTime": {
     "end_time": "2020-04-29T13:22:32.376596Z",
     "start_time": "2020-04-29T13:22:04.487074Z"
    }
   },
   "outputs": [],
   "source": []
  },
  {
   "cell_type": "markdown",
   "metadata": {},
   "source": [
    "* plot forecast"
   ]
  },
  {
   "cell_type": "code",
   "execution_count": null,
   "metadata": {
    "ExecuteTime": {
     "end_time": "2020-04-29T13:22:32.968507Z",
     "start_time": "2020-04-29T13:22:32.473323Z"
    }
   },
   "outputs": [],
   "source": []
  },
  {
   "cell_type": "markdown",
   "metadata": {},
   "source": [
    "* plot components"
   ]
  },
  {
   "cell_type": "code",
   "execution_count": null,
   "metadata": {
    "ExecuteTime": {
     "end_time": "2020-04-29T13:22:34.197258Z",
     "start_time": "2020-04-29T13:22:33.048421Z"
    }
   },
   "outputs": [],
   "source": []
  },
  {
   "cell_type": "markdown",
   "metadata": {},
   "source": [
    "- Compare the Prophet prediction vs Arima. Use the last 7 values we have in the timeseries as ground truth."
   ]
  },
  {
   "cell_type": "code",
   "execution_count": null,
   "metadata": {},
   "outputs": [],
   "source": []
  }
 ],
 "metadata": {
  "kernelspec": {
   "display_name": "Python 3",
   "language": "python",
   "name": "python3"
  },
  "language_info": {
   "codemirror_mode": {
    "name": "ipython",
    "version": 3
   },
   "file_extension": ".py",
   "mimetype": "text/x-python",
   "name": "python",
   "nbconvert_exporter": "python",
   "pygments_lexer": "ipython3",
   "version": "3.8.2"
  },
  "toc": {
   "base_numbering": 1,
   "nav_menu": {},
   "number_sections": true,
   "sideBar": true,
   "skip_h1_title": false,
   "title_cell": "Table of Contents",
   "title_sidebar": "Contents",
   "toc_cell": false,
   "toc_position": {},
   "toc_section_display": true,
   "toc_window_display": false
  },
  "varInspector": {
   "cols": {
    "lenName": 16,
    "lenType": 16,
    "lenVar": 40
   },
   "kernels_config": {
    "python": {
     "delete_cmd_postfix": "",
     "delete_cmd_prefix": "del ",
     "library": "var_list.py",
     "varRefreshCmd": "print(var_dic_list())"
    },
    "r": {
     "delete_cmd_postfix": ") ",
     "delete_cmd_prefix": "rm(",
     "library": "var_list.r",
     "varRefreshCmd": "cat(var_dic_list()) "
    }
   },
   "types_to_exclude": [
    "module",
    "function",
    "builtin_function_or_method",
    "instance",
    "_Feature"
   ],
   "window_display": false
  }
 },
 "nbformat": 4,
 "nbformat_minor": 4
}
