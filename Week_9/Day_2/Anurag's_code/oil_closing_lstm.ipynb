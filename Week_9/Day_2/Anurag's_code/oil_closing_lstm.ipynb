{
 "cells": [
  {
   "cell_type": "code",
   "execution_count": 1,
   "metadata": {},
   "outputs": [
    {
     "name": "stderr",
     "output_type": "stream",
     "text": [
      "Using TensorFlow backend.\n"
     ]
    }
   ],
   "source": [
    "from numpy import concatenate\n",
    "from matplotlib import pyplot\n",
    "from pandas import read_csv\n",
    "from pandas import DataFrame\n",
    "from pandas import concat\n",
    "from sklearn.preprocessing import MinMaxScaler\n",
    "from sklearn.preprocessing import LabelEncoder\n",
    "from sklearn.metrics import mean_squared_error\n",
    "from keras.models import Sequential\n",
    "from keras.models import load_model\n",
    "from keras.layers import Dense\n",
    "from keras.layers import LSTM\n",
    "from keras.layers import Flatten\n",
    "from sklearn.metrics import accuracy_score\n",
    "from keras import metrics"
   ]
  },
  {
   "cell_type": "code",
   "execution_count": 2,
   "metadata": {},
   "outputs": [],
   "source": [
    "# convert series to supervised learning\n",
    "def series_to_supervised(data, n_in=1, n_out=1, dropnan=True):\n",
    "    n_vars = 1 if type(data) is list else data.shape[1]\n",
    "    df = DataFrame(data)\n",
    "    cols, names = list(), list()\n",
    "    # input sequence (t-n, ... t-1)\n",
    "    for i in range(n_in, 0, -1):\n",
    "        cols.append(df.shift(i))\n",
    "        names += [('var%d(t-%d)' % (j+1, i)) for j in range(n_vars)]\n",
    "    # forecast sequence (t, t+1, ... t+n)\n",
    "    for i in range(0, n_out):\n",
    "        cols.append(df.shift(-i))\n",
    "        if i == 0:\n",
    "            names += [('var%d(t)' % (j+1)) for j in range(n_vars)]\n",
    "        else:\n",
    "            names += [('var%d(t+%d)' % (j+1, i)) for j in range(n_vars)]\n",
    "    # put it all together\n",
    "    agg = concat(cols, axis=1)\n",
    "    agg.columns = names\n",
    "    # drop rows with NaN values\n",
    "    if dropnan:\n",
    "        agg.dropna(inplace=True)\n",
    "    return agg"
   ]
  },
  {
   "cell_type": "code",
   "execution_count": 3,
   "metadata": {},
   "outputs": [
    {
     "name": "stdout",
     "output_type": "stream",
     "text": [
      "['Unnamed: 0', 'Date', 'Open', 'High', 'Low', 'Close', 'Volume', 'macd', 'macd_signal', 'sma', 'rsi', 'trend']\n"
     ]
    },
    {
     "data": {
      "text/plain": [
       "array([[25.55      ,  0.35688551,  1.53974239],\n",
       "       [24.91      , -0.70034465,  1.09172498],\n",
       "       [24.78      , -1.47122329,  0.57913532],\n",
       "       ...,\n",
       "       [50.94      ,  0.6270941 ,  1.38982244],\n",
       "       [51.02      ,  0.95813397,  1.30348474],\n",
       "       [50.74      ,  0.9933803 ,  1.24146385]])"
      ]
     },
     "execution_count": 3,
     "metadata": {},
     "output_type": "execute_result"
    }
   ],
   "source": [
    "# load dataset\n",
    "dataset = read_csv('F:\\\\New folder\\\\project_stock\\\\cl1_oil_2000.csv',header=0)\n",
    "print(dataset.columns.values.tolist())\n",
    "dataset.drop(['Unnamed: 0', 'Date', 'Open', 'High', 'Low', 'Volume', 'sma', 'rsi', 'trend'], axis=1, inplace=True)\n",
    "values = dataset.values\n",
    "values"
   ]
  },
  {
   "cell_type": "code",
   "execution_count": 4,
   "metadata": {},
   "outputs": [
    {
     "data": {
      "text/plain": [
       "array([[25.55      ,  0.35688552,  1.5397424 ],\n",
       "       [24.91      , -0.7003446 ,  1.091725  ],\n",
       "       [24.78      , -1.4712234 ,  0.5791353 ],\n",
       "       ...,\n",
       "       [50.94      ,  0.6270941 ,  1.3898225 ],\n",
       "       [51.02      ,  0.95813394,  1.3034848 ],\n",
       "       [50.74      ,  0.9933803 ,  1.2414639 ]], dtype=float32)"
      ]
     },
     "execution_count": 4,
     "metadata": {},
     "output_type": "execute_result"
    }
   ],
   "source": [
    "# ensure all data is float\n",
    "values = values.astype('float32')\n",
    "values"
   ]
  },
  {
   "cell_type": "code",
   "execution_count": 5,
   "metadata": {},
   "outputs": [
    {
     "data": {
      "text/plain": [
       "array([[0.06336045, 0.62625265, 0.678324  ],\n",
       "       [0.0583542 , 0.59376156, 0.6622493 ],\n",
       "       [0.0573373 , 0.5700707 , 0.64385784],\n",
       "       ...,\n",
       "       [0.26196808, 0.6345568 , 0.67294496],\n",
       "       [0.26259387, 0.6447304 , 0.6698472 ],\n",
       "       [0.26040363, 0.6458136 , 0.6676219 ]], dtype=float32)"
      ]
     },
     "execution_count": 5,
     "metadata": {},
     "output_type": "execute_result"
    }
   ],
   "source": [
    "# normalize features\n",
    "scaler = MinMaxScaler(feature_range=(0, 1))\n",
    "scaled = scaler.fit_transform(values)\n",
    "scaled"
   ]
  },
  {
   "cell_type": "code",
   "execution_count": 6,
   "metadata": {},
   "outputs": [
    {
     "data": {
      "text/plain": [
       "(4470, 3)"
      ]
     },
     "execution_count": 6,
     "metadata": {},
     "output_type": "execute_result"
    }
   ],
   "source": [
    "scaled.shape"
   ]
  },
  {
   "cell_type": "code",
   "execution_count": 7,
   "metadata": {},
   "outputs": [
    {
     "name": "stdout",
     "output_type": "stream",
     "text": [
      "   var1(t-3)  var2(t-3)  var3(t-3)  var1(t-2)  var2(t-2)  var3(t-2)  \\\n",
      "3   0.063360   0.626253   0.678324   0.058354   0.593762   0.662249   \n",
      "4   0.058354   0.593762   0.662249   0.057337   0.570071   0.643858   \n",
      "5   0.057337   0.570071   0.643858   0.052957   0.538914   0.621870   \n",
      "6   0.052957   0.538914   0.621870   0.056477   0.535485   0.603478   \n",
      "7   0.056477   0.535485   0.603478   0.065081   0.569837   0.596787   \n",
      "\n",
      "   var1(t-1)  var2(t-1)  var3(t-1)   var1(t)   var2(t)   var3(t)  \n",
      "3   0.057337   0.570071   0.643858  0.052957  0.538914  0.621870  \n",
      "4   0.052957   0.538914   0.621870  0.056477  0.535485  0.603478  \n",
      "5   0.056477   0.535485   0.603478  0.065081  0.569837  0.596787  \n",
      "6   0.065081   0.569837   0.596787  0.069071  0.608054  0.600357  \n",
      "7   0.069071   0.608054   0.600357  0.072278  0.644433  0.611707  \n"
     ]
    }
   ],
   "source": [
    "# frame as supervised learning\n",
    "import numpy as np\n",
    "reframed = series_to_supervised(scaled, 3, 1)\n",
    "#np.array(reframed)\n",
    "rd=reframed.values\n",
    "print(reframed.head())\n",
    "#type(rd)"
   ]
  },
  {
   "cell_type": "code",
   "execution_count": 8,
   "metadata": {},
   "outputs": [
    {
     "name": "stdout",
     "output_type": "stream",
     "text": [
      "(4467, 12)\n",
      "3573 894\n"
     ]
    }
   ],
   "source": [
    "values = reframed.values\n",
    "n_train_records = int(rd.shape[0] * .80)\n",
    "train = values[:n_train_records, :]\n",
    "test = values[n_train_records:, :]\n",
    "print(values.shape)\n",
    "print (train.shape[0], test.shape[0])"
   ]
  },
  {
   "cell_type": "code",
   "execution_count": 9,
   "metadata": {},
   "outputs": [
    {
     "name": "stdout",
     "output_type": "stream",
     "text": [
      "(3573, 3, 3) (3573, 3) (894, 3, 3) (894, 3)\n"
     ]
    }
   ],
   "source": [
    "\n",
    "# split into input and outputs\n",
    "train_X, train_y = train[:, :-3], train[:, 9:12]\n",
    "test_X, test_y = test[:, :-3], test[:, 9:12]\n",
    "\n",
    "# reshape input to be 3D [samples, timesteps, features]\n",
    "train_X = train_X.reshape((train_X.shape[0], 3, 3))\n",
    "test_X = test_X.reshape((test_X.shape[0], 3, 3))\n",
    "print(train_X.shape, train_y.shape, test_X.shape, test_y.shape)"
   ]
  },
  {
   "cell_type": "code",
   "execution_count": 10,
   "metadata": {},
   "outputs": [
    {
     "name": "stdout",
     "output_type": "stream",
     "text": [
      "WARNING:tensorflow:From c:\\users\\shilpi\\appdata\\local\\programs\\python\\python36\\lib\\site-packages\\tensorflow\\python\\framework\\op_def_library.py:263: colocate_with (from tensorflow.python.framework.ops) is deprecated and will be removed in a future version.\n",
      "Instructions for updating:\n",
      "Colocations handled automatically by placer.\n",
      "_________________________________________________________________\n",
      "Layer (type)                 Output Shape              Param #   \n",
      "=================================================================\n",
      "lstm_1 (LSTM)                (None, 3, 3)              84        \n",
      "_________________________________________________________________\n",
      "lstm_2 (LSTM)                (None, 3)                 84        \n",
      "=================================================================\n",
      "Total params: 168\n",
      "Trainable params: 168\n",
      "Non-trainable params: 0\n",
      "_________________________________________________________________\n",
      "Inputs: (None, 3, 3)\n",
      "Outputs: (None, 3)\n",
      "Actual input: (3573, 3, 3)\n",
      "Actual output: (3573, 3)\n"
     ]
    }
   ],
   "source": [
    "model = Sequential()  \n",
    "#model.add(Flatten())\n",
    "#model.add(Dense(4))\n",
    "model.add(LSTM(3, input_shape=train_X.shape[1:],return_sequences=True,activation='softmax'))\n",
    "#model.add(LSTM(3, input_shape=train_X.shape[1:],return_sequences=True,activation='softmax'))\n",
    "model.add(LSTM(3, input_shape=train_X.shape[1:], return_sequences=False,activation='relu'))\n",
    "model.compile(loss='mse',optimizer='adam',metrics=['accuracy'])\n",
    "\n",
    "model.summary()\n",
    "print (\"Inputs: {}\".format(model.input_shape))\n",
    "print (\"Outputs: {}\".format(model.output_shape))\n",
    "print (\"Actual input: {}\".format(train_X.shape))\n",
    "print (\"Actual output: {}\".format(train_y.shape))"
   ]
  },
  {
   "cell_type": "code",
   "execution_count": 11,
   "metadata": {
    "scrolled": false
   },
   "outputs": [
    {
     "name": "stdout",
     "output_type": "stream",
     "text": [
      "WARNING:tensorflow:From c:\\users\\shilpi\\appdata\\local\\programs\\python\\python36\\lib\\site-packages\\tensorflow\\python\\ops\\math_ops.py:3066: to_int32 (from tensorflow.python.ops.math_ops) is deprecated and will be removed in a future version.\n",
      "Instructions for updating:\n",
      "Use tf.cast instead.\n"
     ]
    },
    {
     "name": "stderr",
     "output_type": "stream",
     "text": [
      "c:\\users\\shilpi\\appdata\\local\\programs\\python\\python36\\lib\\site-packages\\ipykernel_launcher.py:1: UserWarning: The `nb_epoch` argument in `fit` has been renamed `epochs`.\n",
      "  \"\"\"Entry point for launching an IPython kernel.\n"
     ]
    },
    {
     "name": "stdout",
     "output_type": "stream",
     "text": [
      "Train on 3573 samples, validate on 894 samples\n",
      "Epoch 1/50\n",
      "3573/3573 [==============================] - 6s 2ms/step - loss: 0.2445 - acc: 0.1811 - val_loss: 0.1470 - val_acc: 0.4664\n",
      "Epoch 2/50\n",
      "3573/3573 [==============================] - 1s 373us/step - loss: 0.1589 - acc: 0.5250 - val_loss: 0.1377 - val_acc: 0.4664\n",
      "Epoch 3/50\n",
      "3573/3573 [==============================] - 1s 418us/step - loss: 0.1557 - acc: 0.5250 - val_loss: 0.1358 - val_acc: 0.4664\n",
      "Epoch 4/50\n",
      "3573/3573 [==============================] - 1s 355us/step - loss: 0.1534 - acc: 0.5250 - val_loss: 0.1341 - val_acc: 0.4664\n",
      "Epoch 5/50\n",
      "3573/3573 [==============================] - 2s 436us/step - loss: 0.1497 - acc: 0.5250 - val_loss: 0.1313 - val_acc: 0.4664\n",
      "Epoch 6/50\n",
      "3573/3573 [==============================] - 2s 426us/step - loss: 0.1444 - acc: 0.5250 - val_loss: 0.1281 - val_acc: 0.4664\n",
      "Epoch 7/50\n",
      "3573/3573 [==============================] - 2s 453us/step - loss: 0.1407 - acc: 0.5410 - val_loss: 0.1268 - val_acc: 0.4664\n",
      "Epoch 8/50\n",
      "3573/3573 [==============================] - 1s 376us/step - loss: 0.1396 - acc: 0.5544 - val_loss: 0.1262 - val_acc: 0.5168\n",
      "Epoch 9/50\n",
      "3573/3573 [==============================] - 1s 366us/step - loss: 0.1391 - acc: 0.5586 - val_loss: 0.1256 - val_acc: 0.5570\n",
      "Epoch 10/50\n",
      "3573/3573 [==============================] - 1s 367us/step - loss: 0.1388 - acc: 0.5628 - val_loss: 0.1252 - val_acc: 0.5559\n",
      "Epoch 11/50\n",
      "3573/3573 [==============================] - 1s 358us/step - loss: 0.1385 - acc: 0.5690 - val_loss: 0.1247 - val_acc: 0.5503\n",
      "Epoch 12/50\n",
      "3573/3573 [==============================] - 1s 364us/step - loss: 0.1382 - acc: 0.5723 - val_loss: 0.1242 - val_acc: 0.5705\n",
      "Epoch 13/50\n",
      "3573/3573 [==============================] - 1s 363us/step - loss: 0.1379 - acc: 0.5782 - val_loss: 0.1238 - val_acc: 0.5727\n",
      "Epoch 14/50\n",
      "3573/3573 [==============================] - 1s 370us/step - loss: 0.1376 - acc: 0.5917 - val_loss: 0.1235 - val_acc: 0.5761\n",
      "Epoch 15/50\n",
      "3573/3573 [==============================] - 1s 359us/step - loss: 0.1374 - acc: 0.6003 - val_loss: 0.1232 - val_acc: 0.5839\n",
      "Epoch 16/50\n",
      "3573/3573 [==============================] - 1s 368us/step - loss: 0.1372 - acc: 0.6101 - val_loss: 0.1230 - val_acc: 0.5895\n",
      "Epoch 17/50\n",
      "3573/3573 [==============================] - 1s 360us/step - loss: 0.1370 - acc: 0.6177 - val_loss: 0.1228 - val_acc: 0.5940\n",
      "Epoch 18/50\n",
      "3573/3573 [==============================] - 1s 360us/step - loss: 0.1369 - acc: 0.6238 - val_loss: 0.1228 - val_acc: 0.5962\n",
      "Epoch 19/50\n",
      "3573/3573 [==============================] - 1s 380us/step - loss: 0.1369 - acc: 0.6306 - val_loss: 0.1226 - val_acc: 0.6074\n",
      "Epoch 20/50\n",
      "3573/3573 [==============================] - 1s 365us/step - loss: 0.1368 - acc: 0.6345 - val_loss: 0.1226 - val_acc: 0.6163\n",
      "Epoch 21/50\n",
      "3573/3573 [==============================] - 1s 376us/step - loss: 0.1367 - acc: 0.6395 - val_loss: 0.1226 - val_acc: 0.6275\n",
      "Epoch 22/50\n",
      "3573/3573 [==============================] - 1s 391us/step - loss: 0.1367 - acc: 0.6420 - val_loss: 0.1226 - val_acc: 0.6242\n",
      "Epoch 23/50\n",
      "3573/3573 [==============================] - 1s 372us/step - loss: 0.1367 - acc: 0.6462 - val_loss: 0.1226 - val_acc: 0.6286\n",
      "Epoch 24/50\n",
      "3573/3573 [==============================] - 1s 366us/step - loss: 0.1366 - acc: 0.6465 - val_loss: 0.1226 - val_acc: 0.6275\n",
      "Epoch 25/50\n",
      "3573/3573 [==============================] - 1s 374us/step - loss: 0.1366 - acc: 0.6482 - val_loss: 0.1225 - val_acc: 0.6555\n",
      "Epoch 26/50\n",
      "3573/3573 [==============================] - 1s 368us/step - loss: 0.1366 - acc: 0.6496 - val_loss: 0.1225 - val_acc: 0.6577\n",
      "Epoch 27/50\n",
      "3573/3573 [==============================] - 1s 374us/step - loss: 0.1366 - acc: 0.6513 - val_loss: 0.1225 - val_acc: 0.6600\n",
      "Epoch 28/50\n",
      "3573/3573 [==============================] - 1s 369us/step - loss: 0.1366 - acc: 0.6513 - val_loss: 0.1225 - val_acc: 0.6633\n",
      "Epoch 29/50\n",
      "3573/3573 [==============================] - 1s 371us/step - loss: 0.1365 - acc: 0.6524 - val_loss: 0.1225 - val_acc: 0.6611\n",
      "Epoch 30/50\n",
      "3573/3573 [==============================] - 1s 368us/step - loss: 0.1365 - acc: 0.6516 - val_loss: 0.1225 - val_acc: 0.6633\n",
      "Epoch 31/50\n",
      "3573/3573 [==============================] - 1s 368us/step - loss: 0.1365 - acc: 0.6524 - val_loss: 0.1225 - val_acc: 0.6655\n",
      "Epoch 32/50\n",
      "3573/3573 [==============================] - 1s 365us/step - loss: 0.1365 - acc: 0.6518 - val_loss: 0.1225 - val_acc: 0.6622\n",
      "Epoch 33/50\n",
      "3573/3573 [==============================] - 1s 378us/step - loss: 0.1365 - acc: 0.6516 - val_loss: 0.1225 - val_acc: 0.6667\n",
      "Epoch 34/50\n",
      "3573/3573 [==============================] - 2s 460us/step - loss: 0.1365 - acc: 0.6507 - val_loss: 0.1225 - val_acc: 0.6644\n",
      "Epoch 35/50\n",
      "3573/3573 [==============================] - 1s 386us/step - loss: 0.1365 - acc: 0.6510 - val_loss: 0.1225 - val_acc: 0.6644\n",
      "Epoch 36/50\n",
      "3573/3573 [==============================] - 1s 375us/step - loss: 0.1365 - acc: 0.6516 - val_loss: 0.1224 - val_acc: 0.6667\n",
      "Epoch 37/50\n",
      "3573/3573 [==============================] - 1s 373us/step - loss: 0.1365 - acc: 0.6524 - val_loss: 0.1224 - val_acc: 0.6622\n",
      "Epoch 38/50\n",
      "3573/3573 [==============================] - 1s 378us/step - loss: 0.1364 - acc: 0.6513 - val_loss: 0.1224 - val_acc: 0.6644\n",
      "Epoch 39/50\n",
      "3573/3573 [==============================] - 1s 374us/step - loss: 0.1364 - acc: 0.6516 - val_loss: 0.1224 - val_acc: 0.6644\n",
      "Epoch 40/50\n",
      "3573/3573 [==============================] - 1s 372us/step - loss: 0.1364 - acc: 0.6524 - val_loss: 0.1224 - val_acc: 0.6644\n",
      "Epoch 41/50\n",
      "3573/3573 [==============================] - 1s 376us/step - loss: 0.1364 - acc: 0.6518 - val_loss: 0.1224 - val_acc: 0.6644\n",
      "Epoch 42/50\n",
      "3573/3573 [==============================] - 1s 375us/step - loss: 0.1364 - acc: 0.6507 - val_loss: 0.1224 - val_acc: 0.6644\n",
      "Epoch 43/50\n",
      "3573/3573 [==============================] - 1s 376us/step - loss: 0.1364 - acc: 0.6521 - val_loss: 0.1224 - val_acc: 0.6644\n",
      "Epoch 44/50\n",
      "3573/3573 [==============================] - 1s 376us/step - loss: 0.1364 - acc: 0.6502 - val_loss: 0.1224 - val_acc: 0.6667\n",
      "Epoch 45/50\n",
      "3573/3573 [==============================] - 1s 372us/step - loss: 0.1364 - acc: 0.6521 - val_loss: 0.1224 - val_acc: 0.6655\n",
      "Epoch 46/50\n",
      "3573/3573 [==============================] - 1s 375us/step - loss: 0.1364 - acc: 0.6510 - val_loss: 0.1224 - val_acc: 0.6678\n",
      "Epoch 47/50\n",
      "3573/3573 [==============================] - 1s 378us/step - loss: 0.1364 - acc: 0.6499 - val_loss: 0.1224 - val_acc: 0.6633\n",
      "Epoch 48/50\n",
      "3573/3573 [==============================] - 1s 374us/step - loss: 0.1364 - acc: 0.6490 - val_loss: 0.1224 - val_acc: 0.6667\n",
      "Epoch 49/50\n",
      "3573/3573 [==============================] - 1s 377us/step - loss: 0.1364 - acc: 0.6507 - val_loss: 0.1224 - val_acc: 0.6667\n",
      "Epoch 50/50\n",
      "3573/3573 [==============================] - 1s 371us/step - loss: 0.1364 - acc: 0.6510 - val_loss: 0.1224 - val_acc: 0.6644\n"
     ]
    },
    {
     "data": {
      "text/plain": [
       "<keras.callbacks.History at 0x898f68e748>"
      ]
     },
     "execution_count": 11,
     "metadata": {},
     "output_type": "execute_result"
    }
   ],
   "source": [
    "model.fit(train_X, train_y, nb_epoch=50, batch_size=18, validation_data=(test_X,test_y))"
   ]
  },
  {
   "cell_type": "code",
   "execution_count": 12,
   "metadata": {},
   "outputs": [],
   "source": [
    "model.save('F:\\\\New folder\\\\project_stock\\\\cl1_oil_model.h5')"
   ]
  },
  {
   "cell_type": "code",
   "execution_count": 13,
   "metadata": {},
   "outputs": [],
   "source": [
    "savedModel = load_model('F:\\\\New folder\\\\project_stock\\\\cl1_oil_model.h5')"
   ]
  },
  {
   "cell_type": "code",
   "execution_count": 14,
   "metadata": {},
   "outputs": [
    {
     "name": "stdout",
     "output_type": "stream",
     "text": [
      "[[[0.65879226 0.63137823 0.6189242 ]\n",
      "  [0.65808827 0.6366461  0.6247429 ]\n",
      "  [0.64369524 0.62477356 0.6266257 ]]]\n",
      "[[[0.65808827 0.6366461  0.6247429 ]\n",
      "  [0.64369524 0.62477356 0.6266257 ]\n",
      "  [0.6427566  0.6162519  0.6261421 ]]]\n",
      "[[[0.64369524 0.62477356 0.6266257 ]\n",
      "  [0.6427566  0.6162519  0.6261421 ]\n",
      "  [0.6479975  0.61629003 0.62576413]]]\n",
      "[[[0.6427566  0.6162519  0.6261421 ]\n",
      "  [0.6479975  0.61629003 0.62576413]\n",
      "  [0.65464646 0.62303936 0.62703776]]]\n",
      "[[0.6488119 0.        0.6250431]]\n"
     ]
    }
   ],
   "source": [
    "#savedModel.evaluate(test_X, test_y, batch_size=21, verbose=0, sample_weight=None)\n",
    "print(test_X[3:4,:,:])\n",
    "print(test_X[4:5,:,:])\n",
    "result = savedModel.predict(test_X[5:6,:,:])\n",
    "print(test_X[5:6,:,:])\n",
    "print(test_X[6:7,:,:])\n",
    "print(result)"
   ]
  },
  {
   "cell_type": "code",
   "execution_count": null,
   "metadata": {},
   "outputs": [],
   "source": []
  }
 ],
 "metadata": {
  "anaconda-cloud": {},
  "kernelspec": {
   "display_name": "Python 3",
   "language": "python",
   "name": "python3"
  },
  "language_info": {
   "codemirror_mode": {
    "name": "ipython",
    "version": 3
   },
   "file_extension": ".py",
   "mimetype": "text/x-python",
   "name": "python",
   "nbconvert_exporter": "python",
   "pygments_lexer": "ipython3",
   "version": "3.6.8"
  }
 },
 "nbformat": 4,
 "nbformat_minor": 2
}
