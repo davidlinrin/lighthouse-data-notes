{
 "cells": [
  {
   "cell_type": "code",
   "execution_count": 110,
   "metadata": {
    "ExecuteTime": {
     "end_time": "2020-01-30T08:49:32.277001Z",
     "start_time": "2020-01-30T08:49:32.273265Z"
    }
   },
   "outputs": [],
   "source": [
    "# import numpy\n",
    "import numpy as np\n"
   ]
  },
  {
   "cell_type": "markdown",
   "metadata": {
    "ExecuteTime": {
     "end_time": "2020-01-30T08:49:32.705250Z",
     "start_time": "2020-01-30T08:49:32.690350Z"
    }
   },
   "source": [
    "**Task:** create matrix (2x2) matrix 'A'\n"
   ]
  },
  {
   "cell_type": "code",
   "execution_count": 33,
   "metadata": {},
   "outputs": [
    {
     "data": {
      "text/plain": [
       "matrix([[1, 2],\n",
       "        [4, 3]])"
      ]
     },
     "execution_count": 33,
     "metadata": {},
     "output_type": "execute_result"
    }
   ],
   "source": [
    "A = np.matrix([[1,2],[4,3]])\n",
    "A"
   ]
  },
  {
   "cell_type": "code",
   "execution_count": 34,
   "metadata": {},
   "outputs": [
    {
     "data": {
      "text/plain": [
       "2"
      ]
     },
     "execution_count": 34,
     "metadata": {},
     "output_type": "execute_result"
    }
   ],
   "source": [
    "A[0,1]"
   ]
  },
  {
   "cell_type": "markdown",
   "metadata": {},
   "source": [
    "**Task:**"
   ]
  },
  {
   "cell_type": "code",
   "execution_count": 35,
   "metadata": {
    "ExecuteTime": {
     "end_time": "2020-01-30T08:49:33.010790Z",
     "start_time": "2020-01-30T08:49:33.001874Z"
    }
   },
   "outputs": [],
   "source": [
    "\"\"\"\n",
    "Define function 'shape_2x2' which checks if matrix has shape (2x2)\n",
    "\n",
    "PARAMS:\n",
    "    matrix (numpy.ndarray) - matrix to check\n",
    "RETURN:\n",
    "    True (bool) - if matrix has shape 2x2\n",
    "    False (bool) - if matrix has not shape 2x2\n",
    "\n",
    "\"\"\"\n",
    "def shape_2x2(matrix):\n",
    "    if matrix.shape[0] == 2 and matrix.shape[1] == 2:\n",
    "        return(True)\n",
    "    else:\n",
    "        return(False)"
   ]
  },
  {
   "cell_type": "code",
   "execution_count": 36,
   "metadata": {},
   "outputs": [
    {
     "data": {
      "text/plain": [
       "True"
      ]
     },
     "execution_count": 36,
     "metadata": {},
     "output_type": "execute_result"
    }
   ],
   "source": [
    "shape_2x2(A)"
   ]
  },
  {
   "cell_type": "markdown",
   "metadata": {},
   "source": [
    "**Task:**"
   ]
  },
  {
   "cell_type": "code",
   "execution_count": 37,
   "metadata": {
    "ExecuteTime": {
     "end_time": "2020-01-30T08:49:33.337444Z",
     "start_time": "2020-01-30T08:49:33.329488Z"
    }
   },
   "outputs": [],
   "source": [
    "\"\"\"\n",
    "Define function 'determinant_2x2' which computes determinant of 2x2 matrix\n",
    "\n",
    "PARAMS:\n",
    "    matrix (numpy.ndarray) - matrix to compute determinant\n",
    "RETURN:\n",
    "    det (float) - matrix determinant\n",
    "\n",
    "Do not forget to check the shape of  the input matrix.\n",
    "\"\"\"\n",
    "def determinant_2x2(matrix):\n",
    "    ad = A[0,0] * A[1,1]\n",
    "    bc = A[0,1] * A[1,0]\n",
    "    det = ad - bc\n",
    "    return(det)"
   ]
  },
  {
   "cell_type": "markdown",
   "metadata": {
    "ExecuteTime": {
     "end_time": "2020-01-30T08:49:33.653982Z",
     "start_time": "2020-01-30T08:49:33.640536Z"
    }
   },
   "source": [
    "**Task:** call the function 'determinant_2x2' with matrix 'A' "
   ]
  },
  {
   "cell_type": "code",
   "execution_count": 38,
   "metadata": {},
   "outputs": [
    {
     "data": {
      "text/plain": [
       "-5"
      ]
     },
     "execution_count": 38,
     "metadata": {},
     "output_type": "execute_result"
    }
   ],
   "source": [
    "determinant_2x2(A)"
   ]
  },
  {
   "cell_type": "markdown",
   "metadata": {
    "ExecuteTime": {
     "end_time": "2020-01-30T08:49:33.965268Z",
     "start_time": "2020-01-30T08:49:33.955633Z"
    }
   },
   "source": [
    "**Task:** compute the eigenvectors, eigenvalues of matrix 'A' with numpy"
   ]
  },
  {
   "cell_type": "code",
   "execution_count": 62,
   "metadata": {},
   "outputs": [],
   "source": [
    "eig_val, eig_vec = np.linalg.eig(A)"
   ]
  },
  {
   "cell_type": "markdown",
   "metadata": {
    "ExecuteTime": {
     "end_time": "2020-01-30T08:49:34.161648Z",
     "start_time": "2020-01-30T08:49:34.150747Z"
    }
   },
   "source": [
    "**Task:** print eigenvalues"
   ]
  },
  {
   "cell_type": "code",
   "execution_count": 63,
   "metadata": {},
   "outputs": [
    {
     "data": {
      "text/plain": [
       "array([-1.,  5.])"
      ]
     },
     "execution_count": 63,
     "metadata": {},
     "output_type": "execute_result"
    }
   ],
   "source": [
    "eig_val"
   ]
  },
  {
   "cell_type": "markdown",
   "metadata": {
    "ExecuteTime": {
     "end_time": "2020-01-30T08:49:34.442956Z",
     "start_time": "2020-01-30T08:49:34.426399Z"
    }
   },
   "source": [
    "**Task:** print eigenvectors"
   ]
  },
  {
   "cell_type": "code",
   "execution_count": 64,
   "metadata": {},
   "outputs": [
    {
     "data": {
      "text/plain": [
       "matrix([[-0.70710678, -0.4472136 ],\n",
       "        [ 0.70710678, -0.89442719]])"
      ]
     },
     "execution_count": 64,
     "metadata": {},
     "output_type": "execute_result"
    }
   ],
   "source": [
    "eig_vec"
   ]
  },
  {
   "cell_type": "markdown",
   "metadata": {},
   "source": [
    "**Task:**"
   ]
  },
  {
   "cell_type": "code",
   "execution_count": 145,
   "metadata": {
    "ExecuteTime": {
     "end_time": "2020-01-30T08:49:34.728724Z",
     "start_time": "2020-01-30T08:49:34.717473Z"
    }
   },
   "outputs": [],
   "source": [
    "\"\"\"\n",
    "Define function 'eig_2x2' which computes eigenvectors and eigenvalues of 2x2 matrix\n",
    "\n",
    "PARAMS:\n",
    "    matrix (numpy.ndarray) - matrix to perform decomposition\n",
    "RETURN:\n",
    "    eigenvalues, eigenvectors (tuple) - eigenvalues, eigenvectors as numpy.ndarrays\n",
    "\n",
    "Do not use np.linalg.eig function!\n",
    "Use 'shape_2x2' and 'determinant_2x2' functions. \n",
    "Be carefull, eigenvalues and eigenvectors could contain complex numbers.\n",
    "\n",
    "How to compute eigenvalues of 2x2 matrix:\n",
    "https://yutsumura.com/express-the-eigenvalues-of-a-2-by-2-matrix-in-terms-of-the-trace-and-determinant/\n",
    "\"\"\"\n",
    "\n",
    "def eig_2x2(matrix):\n",
    "    if shape_2x2(matrix):\n",
    "        eig_val = []\n",
    "        eig_vec = []\n",
    "        \n",
    "        a = 1\n",
    "        b = -(matrix[0,0] + matrix[1,1])\n",
    "        c = determinant_2x2(matrix)\n",
    "    \n",
    "        eig_val.append( (-b + np.sqrt(b**2-(4*a*c)) )/ (2*a)  )\n",
    "        eig_val.append( (-b - np.sqrt(b**2-(4*a*c)) )/ (2*a)  )\n",
    "        \n",
    "        for i in range(len(eig_val)):\n",
    "            if i == 0:\n",
    "                x1 = (eig_val[i]-matrix[i,0])/matrix[i,1]\n",
    "                x2 = 1\n",
    "                eig_vec.append([x2,x1])\n",
    "            else:\n",
    "                x2 = (eig_val[i]-matrix[i,1])/matrix[i,0]\n",
    "                x1 = 1\n",
    "                eig_vec.append([x2,x1])\n",
    "            \n",
    "        return(eig_val,eig_vec)\n",
    "    else:\n",
    "        return('matrix is not 2x2')"
   ]
  },
  {
   "cell_type": "code",
   "execution_count": 146,
   "metadata": {},
   "outputs": [],
   "source": [
    "my_val, my_vec  = eig_2x2(A)"
   ]
  },
  {
   "cell_type": "code",
   "execution_count": 147,
   "metadata": {},
   "outputs": [
    {
     "data": {
      "text/plain": [
       "[1, 2.0]"
      ]
     },
     "execution_count": 147,
     "metadata": {},
     "output_type": "execute_result"
    }
   ],
   "source": [
    "my_vec[0]"
   ]
  },
  {
   "cell_type": "markdown",
   "metadata": {
    "ExecuteTime": {
     "end_time": "2020-01-30T08:49:35.033600Z",
     "start_time": "2020-01-30T08:49:35.026479Z"
    }
   },
   "source": [
    "**Task:** call the function 'deig_2x2' with matrix 'A' "
   ]
  },
  {
   "cell_type": "code",
   "execution_count": 136,
   "metadata": {},
   "outputs": [
    {
     "data": {
      "text/plain": [
       "([5.0, -1.0], [[2.0, 1], [1, -1.0]])"
      ]
     },
     "execution_count": 136,
     "metadata": {},
     "output_type": "execute_result"
    }
   ],
   "source": [
    "eig_2x2(A)"
   ]
  },
  {
   "cell_type": "markdown",
   "metadata": {
    "ExecuteTime": {
     "end_time": "2020-01-30T08:49:35.359324Z",
     "start_time": "2020-01-30T08:49:35.344962Z"
    }
   },
   "source": [
    "**Task:** compare the result with numpy function (to comparison use np.allclose function)"
   ]
  },
  {
   "cell_type": "code",
   "execution_count": 150,
   "metadata": {},
   "outputs": [
    {
     "name": "stdout",
     "output_type": "stream",
     "text": [
      "[-1.  5.]\n",
      "[[-0.70710678 -0.4472136 ]\n",
      " [ 0.70710678 -0.89442719]]\n",
      "[[-1.  1.]\n",
      " [ 1.  2.]]\n"
     ]
    },
    {
     "data": {
      "text/plain": [
       "False"
      ]
     },
     "execution_count": 150,
     "metadata": {},
     "output_type": "execute_result"
    }
   ],
   "source": [
    "val, vec = np.linalg.eig(A)\n",
    "print(val)\n",
    "print(vec)\n",
    "my_matrix = np.transpose(np.matrix([my_vec[1],my_vec[0]]))\n",
    "print(my_matrix)\n",
    "np.allclose(vec,my_matrix)"
   ]
  },
  {
   "cell_type": "markdown",
   "metadata": {
    "ExecuteTime": {
     "end_time": "2020-01-30T08:49:35.767409Z",
     "start_time": "2020-01-30T08:49:35.762382Z"
    }
   },
   "source": [
    "**Task:** define matrix B = np.array([[0,1],[-1,0]]) "
   ]
  },
  {
   "cell_type": "code",
   "execution_count": 151,
   "metadata": {},
   "outputs": [
    {
     "data": {
      "text/plain": [
       "array([[ 0,  1],\n",
       "       [-1,  0]])"
      ]
     },
     "execution_count": 151,
     "metadata": {},
     "output_type": "execute_result"
    }
   ],
   "source": [
    "B = np.array([[0,1],[-1,0]])\n",
    "B"
   ]
  },
  {
   "cell_type": "markdown",
   "metadata": {
    "ExecuteTime": {
     "end_time": "2020-01-30T08:49:36.107561Z",
     "start_time": "2020-01-30T08:49:36.101971Z"
    }
   },
   "source": [
    "**Task:** compute eigenvalues and eigevectors of matrix 'B' with numpy and with 'eig_2x2' function"
   ]
  },
  {
   "cell_type": "code",
   "execution_count": 154,
   "metadata": {},
   "outputs": [],
   "source": [
    "np_val, np_vec = np.linalg.eig(B)\n",
    "B_val, B_vec = eig_2x2(B)"
   ]
  },
  {
   "cell_type": "markdown",
   "metadata": {
    "ExecuteTime": {
     "end_time": "2020-01-30T08:49:36.483358Z",
     "start_time": "2020-01-30T08:49:36.474496Z"
    }
   },
   "source": [
    "**Task:** compare the results with numpy function (to comparison use np.allclose function)"
   ]
  },
  {
   "cell_type": "code",
   "execution_count": 155,
   "metadata": {},
   "outputs": [
    {
     "name": "stdout",
     "output_type": "stream",
     "text": [
      "[0.+1.j 0.-1.j] [2.23606797749979, -2.23606797749979]\n",
      "[[0.70710678+0.j         0.70710678-0.j        ]\n",
      " [0.        +0.70710678j 0.        -0.70710678j]]\n",
      "[[1, 2.23606797749979], [2.23606797749979, 1]]\n"
     ]
    }
   ],
   "source": [
    "print(np_val, B_val)\n",
    "print(np_vec)\n",
    "print(B_vec)"
   ]
  },
  {
   "cell_type": "markdown",
   "metadata": {
    "ExecuteTime": {
     "end_time": "2020-01-30T08:49:36.913277Z",
     "start_time": "2020-01-30T08:49:36.893341Z"
    }
   },
   "source": [
    "**Task:** print eigenvalues and eigenvectors and try to explain why the solutions is different"
   ]
  },
  {
   "cell_type": "code",
   "execution_count": null,
   "metadata": {},
   "outputs": [],
   "source": [
    "# becasue technically there are no eigenvalues or vectors inthe real space.\n",
    "# However there are with imaginary numbers"
   ]
  }
 ],
 "metadata": {
  "kernelspec": {
   "display_name": "Python 3",
   "language": "python",
   "name": "python3"
  },
  "language_info": {
   "codemirror_mode": {
    "name": "ipython",
    "version": 3
   },
   "file_extension": ".py",
   "mimetype": "text/x-python",
   "name": "python",
   "nbconvert_exporter": "python",
   "pygments_lexer": "ipython3",
   "version": "3.8.2"
  },
  "toc": {
   "base_numbering": 1,
   "nav_menu": {},
   "number_sections": true,
   "sideBar": true,
   "skip_h1_title": false,
   "title_cell": "Table of Contents",
   "title_sidebar": "Contents",
   "toc_cell": false,
   "toc_position": {},
   "toc_section_display": true,
   "toc_window_display": false
  },
  "varInspector": {
   "cols": {
    "lenName": 16,
    "lenType": 16,
    "lenVar": 40
   },
   "kernels_config": {
    "python": {
     "delete_cmd_postfix": "",
     "delete_cmd_prefix": "del ",
     "library": "var_list.py",
     "varRefreshCmd": "print(var_dic_list())"
    },
    "r": {
     "delete_cmd_postfix": ") ",
     "delete_cmd_prefix": "rm(",
     "library": "var_list.r",
     "varRefreshCmd": "cat(var_dic_list()) "
    }
   },
   "types_to_exclude": [
    "module",
    "function",
    "builtin_function_or_method",
    "instance",
    "_Feature"
   ],
   "window_display": false
  }
 },
 "nbformat": 4,
 "nbformat_minor": 4
}
