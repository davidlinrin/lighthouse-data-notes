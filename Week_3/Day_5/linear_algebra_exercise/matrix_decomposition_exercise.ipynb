{
 "cells": [
  {
   "cell_type": "code",
   "execution_count": 54,
   "metadata": {
    "ExecuteTime": {
     "end_time": "2020-01-30T08:49:15.705544Z",
     "start_time": "2020-01-30T08:49:15.691050Z"
    }
   },
   "outputs": [],
   "source": [
    "# import numpy\n",
    "import numpy as np\n",
    "from pprint import pprint"
   ]
  },
  {
   "cell_type": "markdown",
   "metadata": {
    "ExecuteTime": {
     "end_time": "2020-01-30T08:49:16.033687Z",
     "start_time": "2020-01-30T08:49:16.022845Z"
    }
   },
   "source": [
    "**Task:** generate random matrix 'A' with shape 150x50, use 'np.random.rand' function"
   ]
  },
  {
   "cell_type": "code",
   "execution_count": 6,
   "metadata": {},
   "outputs": [],
   "source": [
    "A = np.random.rand(150,50)"
   ]
  },
  {
   "cell_type": "markdown",
   "metadata": {
    "ExecuteTime": {
     "end_time": "2020-01-30T08:49:16.306858Z",
     "start_time": "2020-01-30T08:49:16.291806Z"
    }
   },
   "source": [
    "**Task:** check the shape of 'A'"
   ]
  },
  {
   "cell_type": "code",
   "execution_count": 8,
   "metadata": {},
   "outputs": [
    {
     "data": {
      "text/plain": [
       "(150, 50)"
      ]
     },
     "execution_count": 8,
     "metadata": {},
     "output_type": "execute_result"
    }
   ],
   "source": [
    "A.shape"
   ]
  },
  {
   "cell_type": "markdown",
   "metadata": {
    "ExecuteTime": {
     "end_time": "2020-01-30T08:49:16.700850Z",
     "start_time": "2020-01-30T08:49:16.658980Z"
    }
   },
   "source": [
    "**Task:** decompose matrix 'A' with SVD using numpy (decompose into matrices U,D,V)"
   ]
  },
  {
   "cell_type": "code",
   "execution_count": 26,
   "metadata": {},
   "outputs": [],
   "source": [
    "U,D,V = np.linalg.svd(A, False)"
   ]
  },
  {
   "cell_type": "markdown",
   "metadata": {
    "ExecuteTime": {
     "end_time": "2020-01-30T08:49:17.007803Z",
     "start_time": "2020-01-30T08:49:17.000154Z"
    }
   },
   "source": [
    "**Task:** check the shapes of matrices U,D,V"
   ]
  },
  {
   "cell_type": "code",
   "execution_count": 27,
   "metadata": {},
   "outputs": [
    {
     "data": {
      "text/plain": [
       "(150, 50)"
      ]
     },
     "execution_count": 27,
     "metadata": {},
     "output_type": "execute_result"
    }
   ],
   "source": [
    "U.shape"
   ]
  },
  {
   "cell_type": "code",
   "execution_count": 28,
   "metadata": {},
   "outputs": [
    {
     "data": {
      "text/plain": [
       "(50,)"
      ]
     },
     "execution_count": 28,
     "metadata": {},
     "output_type": "execute_result"
    }
   ],
   "source": [
    "D.shape"
   ]
  },
  {
   "cell_type": "code",
   "execution_count": 29,
   "metadata": {},
   "outputs": [
    {
     "data": {
      "text/plain": [
       "(50, 50)"
      ]
     },
     "execution_count": 29,
     "metadata": {},
     "output_type": "execute_result"
    }
   ],
   "source": [
    "V.shape"
   ]
  },
  {
   "cell_type": "markdown",
   "metadata": {
    "ExecuteTime": {
     "end_time": "2020-01-30T08:49:17.380307Z",
     "start_time": "2020-01-30T08:49:17.364171Z"
    }
   },
   "source": [
    "**Task:** reconstruct matrix 'A' from matrices U,D,V"
   ]
  },
  {
   "cell_type": "code",
   "execution_count": 46,
   "metadata": {},
   "outputs": [
    {
     "data": {
      "text/plain": [
       "(150, 50)"
      ]
     },
     "execution_count": 46,
     "metadata": {},
     "output_type": "execute_result"
    }
   ],
   "source": [
    "A_rec = (U.dot(np.diag(D))).dot(V)\n",
    "A_rec.shape"
   ]
  },
  {
   "cell_type": "markdown",
   "metadata": {
    "ExecuteTime": {
     "end_time": "2020-01-30T08:49:17.782966Z",
     "start_time": "2020-01-30T08:49:17.775093Z"
    }
   },
   "source": [
    "**Task:** compare matrices 'A' and 'A_rec' with np.allclose function"
   ]
  },
  {
   "cell_type": "code",
   "execution_count": 63,
   "metadata": {},
   "outputs": [
    {
     "data": {
      "text/plain": [
       "True"
      ]
     },
     "execution_count": 63,
     "metadata": {},
     "output_type": "execute_result"
    }
   ],
   "source": [
    "np.allclose(A,A_rec)"
   ]
  },
  {
   "cell_type": "markdown",
   "metadata": {
    "ExecuteTime": {
     "end_time": "2020-01-30T08:49:18.170344Z",
     "start_time": "2020-01-30T08:49:18.164685Z"
    }
   },
   "source": [
    "**Task:** Reduce dimnesion of matrix 'A' to shape 150x20 with SVD (try both equations)"
   ]
  },
  {
   "cell_type": "code",
   "execution_count": 64,
   "metadata": {},
   "outputs": [],
   "source": [
    "U_reduced = U[:,:20]\n",
    "D_reduced = np.diag(D[:20])\n",
    "V_reduced = V[:20,:]"
   ]
  },
  {
   "cell_type": "code",
   "execution_count": 78,
   "metadata": {},
   "outputs": [
    {
     "name": "stdout",
     "output_type": "stream",
     "text": [
      "(150, 20)\n",
      "(20, 20)\n",
      "(20, 50)\n"
     ]
    }
   ],
   "source": [
    "print(U_reduced.shape)\n",
    "print(D_reduced.shape)\n",
    "print(V_reduced.shape)"
   ]
  },
  {
   "cell_type": "code",
   "execution_count": 70,
   "metadata": {},
   "outputs": [],
   "source": [
    "red1 = U_reduced.dot(D_reduced)\n",
    "red2 = A.dot(V_reduced.T)"
   ]
  },
  {
   "cell_type": "code",
   "execution_count": 71,
   "metadata": {},
   "outputs": [
    {
     "data": {
      "text/plain": [
       "True"
      ]
     },
     "execution_count": 71,
     "metadata": {},
     "output_type": "execute_result"
    }
   ],
   "source": [
    "np.allclose(red1, red2)"
   ]
  },
  {
   "cell_type": "markdown",
   "metadata": {
    "ExecuteTime": {
     "end_time": "2020-01-30T08:49:18.526337Z",
     "start_time": "2020-01-30T08:49:18.519511Z"
    }
   },
   "source": [
    "**Task:** print shapes"
   ]
  },
  {
   "cell_type": "code",
   "execution_count": 72,
   "metadata": {},
   "outputs": [
    {
     "name": "stdout",
     "output_type": "stream",
     "text": [
      "(150, 20)\n",
      "(150, 20)\n"
     ]
    }
   ],
   "source": [
    "print(red1.shape)\n",
    "print(red2.shape)"
   ]
  },
  {
   "cell_type": "markdown",
   "metadata": {
    "ExecuteTime": {
     "end_time": "2020-01-30T08:49:18.858261Z",
     "start_time": "2020-01-30T08:49:18.850912Z"
    }
   },
   "source": [
    "**Task:** compare these two results with np.allclose function"
   ]
  },
  {
   "cell_type": "code",
   "execution_count": 73,
   "metadata": {},
   "outputs": [
    {
     "data": {
      "text/plain": [
       "True"
      ]
     },
     "execution_count": 73,
     "metadata": {},
     "output_type": "execute_result"
    }
   ],
   "source": [
    "np.allclose(red1, red2)"
   ]
  },
  {
   "cell_type": "markdown",
   "metadata": {
    "ExecuteTime": {
     "end_time": "2020-01-30T08:49:19.245461Z",
     "start_time": "2020-01-30T08:49:19.237681Z"
    }
   },
   "source": [
    "**Task:** filter the noise from matrix 'A' with 20 largest singular vectors (keep the shape (150x50))"
   ]
  },
  {
   "cell_type": "code",
   "execution_count": 81,
   "metadata": {},
   "outputs": [],
   "source": [
    "A_filt = (U_reduced.dot(D_reduced).dot(V_reduced))"
   ]
  },
  {
   "cell_type": "markdown",
   "metadata": {
    "ExecuteTime": {
     "end_time": "2020-01-30T08:49:19.787237Z",
     "start_time": "2020-01-30T08:49:19.775025Z"
    }
   },
   "source": [
    "**Task:** check the shape"
   ]
  },
  {
   "cell_type": "code",
   "execution_count": 82,
   "metadata": {},
   "outputs": [
    {
     "data": {
      "text/plain": [
       "(150, 50)"
      ]
     },
     "execution_count": 82,
     "metadata": {},
     "output_type": "execute_result"
    }
   ],
   "source": [
    "A_filt.shape"
   ]
  },
  {
   "cell_type": "markdown",
   "metadata": {},
   "source": [
    "**Task:**"
   ]
  },
  {
   "cell_type": "code",
   "execution_count": 322,
   "metadata": {},
   "outputs": [],
   "source": [
    "A = np.random.rand(4,4)\n",
    "AAT = A.dot(A.T)\n",
    "ATA = A.T.dot(A)"
   ]
  },
  {
   "cell_type": "code",
   "execution_count": 339,
   "metadata": {},
   "outputs": [
    {
     "data": {
      "text/plain": [
       "array([[0.99411568, 0.36363072, 0.55088268, 0.62054459],\n",
       "       [0.52202272, 0.70133785, 0.61773076, 0.89574866],\n",
       "       [0.92987223, 0.35527503, 0.54515041, 0.71416747],\n",
       "       [0.18312325, 0.45892707, 0.11008892, 0.56283172]])"
      ]
     },
     "execution_count": 339,
     "metadata": {},
     "output_type": "execute_result"
    }
   ],
   "source": [
    "A"
   ]
  },
  {
   "cell_type": "code",
   "execution_count": 330,
   "metadata": {},
   "outputs": [
    {
     "data": {
      "text/plain": [
       "array([[1.80904058, 1.6701281 , 1.79707615, 0.75883393],\n",
       "       [1.6701281 , 1.94833944, 1.71105298, 0.98961849],\n",
       "       [1.79707615, 1.71105298, 1.79810685, 0.79529768],\n",
       "       [0.75883393, 0.98961849, 0.79529768, 0.5730473 ]])"
      ]
     },
     "execution_count": 330,
     "metadata": {},
     "output_type": "execute_result"
    }
   ],
   "source": [
    "AAT"
   ]
  },
  {
   "cell_type": "code",
   "execution_count": 341,
   "metadata": {},
   "outputs": [
    {
     "data": {
      "text/plain": [
       "array([[1.80904058, 1.6701281 , 1.79707615, 0.75883393],\n",
       "       [1.6701281 , 1.94833944, 1.71105298, 0.98961849],\n",
       "       [1.79707615, 1.71105298, 1.79810685, 0.79529768],\n",
       "       [0.75883393, 0.98961849, 0.79529768, 0.5730473 ]])"
      ]
     },
     "execution_count": 341,
     "metadata": {},
     "output_type": "execute_result"
    }
   ],
   "source": [
    "AAT2 = np.matmul(A, A.T)\n",
    "AAT2"
   ]
  },
  {
   "cell_type": "code",
   "execution_count": 331,
   "metadata": {},
   "outputs": [
    {
     "data": {
      "text/plain": [
       "array([[2.15897019, 1.14200588, 1.39719066, 1.85164632],\n",
       "       [1.14200588, 0.96093647, 0.87775693, 1.36589609],\n",
       "       [1.39719066, 0.87775693, 0.99437155, 1.34646898],\n",
       "       [1.85164632, 1.36589609, 1.34646898, 2.01425596]])"
      ]
     },
     "execution_count": 331,
     "metadata": {},
     "output_type": "execute_result"
    }
   ],
   "source": [
    "ATA"
   ]
  },
  {
   "cell_type": "code",
   "execution_count": null,
   "metadata": {},
   "outputs": [],
   "source": [
    "t1 = [[2,2],[3,3]]"
   ]
  },
  {
   "cell_type": "code",
   "execution_count": 334,
   "metadata": {
    "ExecuteTime": {
     "end_time": "2020-01-30T08:49:20.344770Z",
     "start_time": "2020-01-30T08:49:20.326781Z"
    }
   },
   "outputs": [],
   "source": [
    "\"\"\"\n",
    "Define function 'SVD' which perform singular values decomposition\n",
    "PARAMS:\n",
    "    A (numpy.ndarray) - matrix to decompose\n",
    "RETURN:\n",
    "    U (numpy.ndarray) - left singular vectors\n",
    "    SV (numpy.ndarray) - singular values\n",
    "    V (numpy.ndarray) - right singular vectors\n",
    "\"\"\"\n",
    "def SVD(matrix):\n",
    "    # A and A tranposed\n",
    "    \n",
    "    AAT = np.matmul(matrix, matrix.T)\n",
    "    ATA = np.matmul(matrix.T, matrix)\n",
    "    \n",
    "    #AAT = matrix.dot(matrix.T)\n",
    "    #ATA = matrix.T.dot(matrix)\n",
    "    \n",
    "    # eigenvalue and eigenvector \n",
    "    U_eig_val, U_eig_vec = np.linalg.eig(AAT)\n",
    "    V_eig_val, V_eig_vec = np.linalg.eig(ATA)\n",
    "    \n",
    "    \n",
    "    # arranging eigenvalue in order (largest to smallest)\n",
    "    U_idx = np.array([(idx, val) for idx, val in enumerate(U_eig_val)])\n",
    "    V_idx = np.array([(idx, val) for idx, val in enumerate(V_eig_val)])\n",
    "    \n",
    "    U_idx = sorted(U_idx, key=lambda x: x[1], reverse=True)\n",
    "    V_idx = sorted(V_idx, key=lambda x: x[1], reverse=True)\n",
    "    \n",
    "    \n",
    "    # Aranging eigen vectors with respect to eigenvalues\n",
    "    U = np.array([U_eig_vec[:,int(x[0])] for x in U_idx]).T\n",
    "    U = U[:, :min(A.shape)]\n",
    "    \n",
    "    D = np.array([x[1] for x in V_idx])\n",
    "    \n",
    "    V = np.array([V_eig_vec[:,int(x[0])] for x in V_idx])\n",
    "    \n",
    "    print(U,'\\n')\n",
    "    print(D,'\\n')\n",
    "    print(V,'\\n')\n",
    "    \n",
    "    return(U,D,V)"
   ]
  },
  {
   "cell_type": "code",
   "execution_count": 335,
   "metadata": {},
   "outputs": [
    {
     "name": "stdout",
     "output_type": "stream",
     "text": [
      "[[ 0.5478934   0.49043579  0.10130285 -0.670092  ]\n",
      " [ 0.56481553 -0.54609888 -0.61788423 -0.03128103]\n",
      " [ 0.55263535  0.35849909  0.15100697  0.73706816]\n",
      " [ 0.27457314 -0.57682506  0.7649534  -0.08202885]] \n",
      "\n",
      "[5.72366617e+00 3.70484567e-01 3.11814433e-02 3.20199554e-03] \n",
      "\n",
      "[[ 0.58671882  0.38358839  0.41055767  0.58314952]\n",
      " [ 0.70678532 -0.56190492  0.10640233 -0.41640836]\n",
      " [-0.33216785 -0.0464262   0.90238579 -0.27057164]\n",
      " [-0.21419631 -0.73141466  0.07629436  0.64290878]] \n",
      "\n"
     ]
    }
   ],
   "source": [
    "U,D,V = SVD(A)"
   ]
  },
  {
   "cell_type": "code",
   "execution_count": 336,
   "metadata": {},
   "outputs": [
    {
     "data": {
      "text/plain": [
       "array([[-0.5478934 ,  0.49043579,  0.10130285, -0.670092  ],\n",
       "       [-0.56481553, -0.54609888, -0.61788423, -0.03128103],\n",
       "       [-0.55263535,  0.35849909,  0.15100697,  0.73706816],\n",
       "       [-0.27457314, -0.57682506,  0.7649534 , -0.08202885]])"
      ]
     },
     "execution_count": 336,
     "metadata": {},
     "output_type": "execute_result"
    }
   ],
   "source": [
    "x,y,z = np.linalg.svd(A, False)\n",
    "x"
   ]
  },
  {
   "cell_type": "code",
   "execution_count": 337,
   "metadata": {},
   "outputs": [
    {
     "data": {
      "text/plain": [
       "array([2.39241848, 0.60867443, 0.17658268, 0.05658618])"
      ]
     },
     "execution_count": 337,
     "metadata": {},
     "output_type": "execute_result"
    }
   ],
   "source": [
    "y"
   ]
  },
  {
   "cell_type": "code",
   "execution_count": 338,
   "metadata": {},
   "outputs": [
    {
     "data": {
      "text/plain": [
       "array([[-0.58671882, -0.38358839, -0.41055767, -0.58314952],\n",
       "       [ 0.70678532, -0.56190492,  0.10640233, -0.41640836],\n",
       "       [ 0.33216785,  0.0464262 , -0.90238579,  0.27057164],\n",
       "       [-0.21419631, -0.73141466,  0.07629436,  0.64290878]])"
      ]
     },
     "execution_count": 338,
     "metadata": {},
     "output_type": "execute_result"
    }
   ],
   "source": [
    "z"
   ]
  },
  {
   "cell_type": "code",
   "execution_count": 313,
   "metadata": {},
   "outputs": [
    {
     "data": {
      "text/plain": [
       "False"
      ]
     },
     "execution_count": 313,
     "metadata": {},
     "output_type": "execute_result"
    }
   ],
   "source": [
    "np.allclose(U, x)"
   ]
  },
  {
   "cell_type": "code",
   "execution_count": 314,
   "metadata": {},
   "outputs": [
    {
     "data": {
      "text/plain": [
       "False"
      ]
     },
     "execution_count": 314,
     "metadata": {},
     "output_type": "execute_result"
    }
   ],
   "source": [
    "np.allclose(V, z)"
   ]
  },
  {
   "cell_type": "code",
   "execution_count": null,
   "metadata": {},
   "outputs": [],
   "source": []
  },
  {
   "cell_type": "code",
   "execution_count": null,
   "metadata": {},
   "outputs": [],
   "source": []
  },
  {
   "cell_type": "markdown",
   "metadata": {
    "ExecuteTime": {
     "end_time": "2020-01-30T08:49:20.693579Z",
     "start_time": "2020-01-30T08:49:20.660972Z"
    }
   },
   "source": [
    "**Task:** # call the function 'SVD' with matrix 'A' "
   ]
  },
  {
   "cell_type": "code",
   "execution_count": 216,
   "metadata": {},
   "outputs": [
    {
     "data": {
      "text/plain": [
       "array([ 3.39974821e+00,  5.29271033e-01,  3.43097763e-01,  7.27494967e-17,\n",
       "       -2.57003893e-17])"
      ]
     },
     "execution_count": 216,
     "metadata": {},
     "output_type": "execute_result"
    }
   ],
   "source": [
    "U_eig_val, U_eig_vec = np.linalg.eig(AAT)\n",
    "U_eig_val"
   ]
  },
  {
   "cell_type": "code",
   "execution_count": 217,
   "metadata": {},
   "outputs": [
    {
     "data": {
      "text/plain": [
       "array([[ 0.56479085,  0.37587193, -0.23542892,  0.00735279, -0.66320893],\n",
       "       [ 0.39048665,  0.20450582,  0.88616406, -0.06564977,  0.1020958 ],\n",
       "       [ 0.5381287 , -0.64612118, -0.14420958, -0.50490709, -0.02242584],\n",
       "       [ 0.3918768 ,  0.46273252, -0.37063459,  0.11187338,  0.6968749 ],\n",
       "       [ 0.29220121, -0.43046915,  0.03346759,  0.85334004,  0.25217616]])"
      ]
     },
     "execution_count": 217,
     "metadata": {},
     "output_type": "execute_result"
    }
   ],
   "source": [
    "U_eig_val, U_eig_vec = np.linalg.eig(AAT)\n",
    "U_eig_vec"
   ]
  },
  {
   "cell_type": "code",
   "execution_count": 203,
   "metadata": {},
   "outputs": [
    {
     "data": {
      "text/plain": [
       "[array([0.        , 4.90656754]),\n",
       " array([1.       , 0.4486534]),\n",
       " array([2.        , 0.28615899]),\n",
       " array([3.00000000e+00, 2.67598063e-16]),\n",
       " array([4.00000000e+00, 1.41686863e-17])]"
      ]
     },
     "execution_count": 203,
     "metadata": {},
     "output_type": "execute_result"
    }
   ],
   "source": [
    "U_idx = np.array([(idx, val) for idx, val in enumerate(U_eig_val)])\n",
    "U_idx = sorted(U_idx, key=lambda x: x[1], reverse=True)\n",
    "U_idx"
   ]
  },
  {
   "cell_type": "code",
   "execution_count": 218,
   "metadata": {},
   "outputs": [
    {
     "data": {
      "text/plain": [
       "array([ 0.37587193,  0.20450582, -0.64612118,  0.46273252, -0.43046915])"
      ]
     },
     "execution_count": 218,
     "metadata": {},
     "output_type": "execute_result"
    }
   ],
   "source": [
    "U_eig_vec[:,1]"
   ]
  },
  {
   "cell_type": "code",
   "execution_count": 220,
   "metadata": {},
   "outputs": [
    {
     "data": {
      "text/plain": [
       "array([[ 0.56479085,  0.39048665,  0.5381287 ,  0.3918768 ,  0.29220121],\n",
       "       [ 0.37587193,  0.20450582, -0.64612118,  0.46273252, -0.43046915],\n",
       "       [-0.23542892,  0.88616406, -0.14420958, -0.37063459,  0.03346759],\n",
       "       [ 0.00735279, -0.06564977, -0.50490709,  0.11187338,  0.85334004],\n",
       "       [-0.66320893,  0.1020958 , -0.02242584,  0.6968749 ,  0.25217616]])"
      ]
     },
     "execution_count": 220,
     "metadata": {},
     "output_type": "execute_result"
    }
   ],
   "source": [
    "np.array([U_eig_vec[:,int(x[0])] for x in U_idx])"
   ]
  },
  {
   "cell_type": "code",
   "execution_count": 226,
   "metadata": {},
   "outputs": [
    {
     "data": {
      "text/plain": [
       "array([[-0.56479085,  0.37587193,  0.23542892],\n",
       "       [-0.39048665,  0.20450582, -0.88616406],\n",
       "       [-0.5381287 , -0.64612118,  0.14420958],\n",
       "       [-0.3918768 ,  0.46273252,  0.37063459],\n",
       "       [-0.29220121, -0.43046915, -0.03346759]])"
      ]
     },
     "execution_count": 226,
     "metadata": {},
     "output_type": "execute_result"
    }
   ],
   "source": [
    "x,y,z = np.linalg.svd(A, False)\n",
    "x"
   ]
  },
  {
   "cell_type": "code",
   "execution_count": 224,
   "metadata": {},
   "outputs": [],
   "source": [
    "U_eig_val, U_eig_vec = np.linalg.eig(AAT)"
   ]
  },
  {
   "cell_type": "code",
   "execution_count": 225,
   "metadata": {},
   "outputs": [
    {
     "data": {
      "text/plain": [
       "array([[ 0.56479085,  0.37587193, -0.23542892,  0.00735279, -0.66320893],\n",
       "       [ 0.39048665,  0.20450582,  0.88616406, -0.06564977,  0.1020958 ],\n",
       "       [ 0.5381287 , -0.64612118, -0.14420958, -0.50490709, -0.02242584],\n",
       "       [ 0.3918768 ,  0.46273252, -0.37063459,  0.11187338,  0.6968749 ],\n",
       "       [ 0.29220121, -0.43046915,  0.03346759,  0.85334004,  0.25217616]])"
      ]
     },
     "execution_count": 225,
     "metadata": {},
     "output_type": "execute_result"
    }
   ],
   "source": [
    "U_eig_vec"
   ]
  },
  {
   "cell_type": "code",
   "execution_count": 179,
   "metadata": {},
   "outputs": [],
   "source": [
    "V_eig_val, V_eig_vec = np.linalg.eig(ATA)"
   ]
  },
  {
   "cell_type": "code",
   "execution_count": 180,
   "metadata": {},
   "outputs": [
    {
     "data": {
      "text/plain": [
       "array([[-0.79201341, -0.45919951,  0.40230655],\n",
       "       [-0.4137184 , -0.08088618, -0.90680456],\n",
       "       [-0.44894525,  0.884643  ,  0.12591635]])"
      ]
     },
     "execution_count": 180,
     "metadata": {},
     "output_type": "execute_result"
    }
   ],
   "source": [
    "V_eig_vec"
   ]
  },
  {
   "cell_type": "code",
   "execution_count": 181,
   "metadata": {},
   "outputs": [
    {
     "data": {
      "text/plain": [
       "array([2.08284717, 0.09877817, 0.51127306])"
      ]
     },
     "execution_count": 181,
     "metadata": {},
     "output_type": "execute_result"
    }
   ],
   "source": [
    "V_eig_val"
   ]
  },
  {
   "cell_type": "code",
   "execution_count": 150,
   "metadata": {},
   "outputs": [
    {
     "data": {
      "text/plain": [
       "[(0, 12.62417966872682),\n",
       " (1, 1.5210589016126461),\n",
       " (4, 0.7567546276203776),\n",
       " (3, 0.6541921239008711),\n",
       " (2, 0.35536729292113617)]"
      ]
     },
     "execution_count": 150,
     "metadata": {},
     "output_type": "execute_result"
    }
   ],
   "source": [
    "idx = [(idx,value) for idx,value in enumerate(V_eig_val)]\n",
    "idx = sorted(idx, key=lambda x: x[1], reverse=True)\n",
    "idx"
   ]
  },
  {
   "cell_type": "code",
   "execution_count": null,
   "metadata": {},
   "outputs": [],
   "source": [
    "EV = np.array([tpl[1] for tpl in EVV_idx])\n",
    "U = np.array([U[:,tpl[0]] for tpl in EVU_idx]).T\n",
    "V = np.array([V[:,tpl[0]] for tpl in EVV_idx])"
   ]
  },
  {
   "cell_type": "code",
   "execution_count": 140,
   "metadata": {},
   "outputs": [
    {
     "data": {
      "text/plain": [
       "array([[-0.53133699, -0.38455329, -0.44810938, -0.4682673 , -0.3869412 ],\n",
       "       [-0.2087068 , -0.213438  ,  0.47475077,  0.50190093, -0.65847768],\n",
       "       [ 0.1281902 ,  0.11320962,  0.64789484, -0.72432291, -0.1622943 ],\n",
       "       [-0.68659746, -0.16655116,  0.38146786,  0.06080566,  0.59298363],\n",
       "       [-0.43159434,  0.87521842, -0.09232678,  0.02191291, -0.19676035]])"
      ]
     },
     "execution_count": 140,
     "metadata": {},
     "output_type": "execute_result"
    }
   ],
   "source": [
    "V = np.array([V_eig_vec[:,tpl[0]] for tpl in idx])\n",
    "V"
   ]
  },
  {
   "cell_type": "code",
   "execution_count": 133,
   "metadata": {},
   "outputs": [
    {
     "data": {
      "text/plain": [
       "array([[12.62417967,  0.        ,  0.        ,  0.        ,  0.        ],\n",
       "       [ 0.        ,  1.5210589 ,  0.        ,  0.        ,  0.        ],\n",
       "       [ 0.        ,  0.        ,  0.35536729,  0.        ,  0.        ],\n",
       "       [ 0.        ,  0.        ,  0.        ,  0.65419212,  0.        ],\n",
       "       [ 0.        ,  0.        ,  0.        ,  0.        ,  0.75675463]])"
      ]
     },
     "execution_count": 133,
     "metadata": {},
     "output_type": "execute_result"
    }
   ],
   "source": [
    "test = np.array([i[1] for i in idx])\n",
    "np.diag(test)"
   ]
  },
  {
   "cell_type": "code",
   "execution_count": null,
   "metadata": {},
   "outputs": [],
   "source": []
  }
 ],
 "metadata": {
  "kernelspec": {
   "display_name": "Python 3",
   "language": "python",
   "name": "python3"
  },
  "language_info": {
   "codemirror_mode": {
    "name": "ipython",
    "version": 3
   },
   "file_extension": ".py",
   "mimetype": "text/x-python",
   "name": "python",
   "nbconvert_exporter": "python",
   "pygments_lexer": "ipython3",
   "version": "3.8.2"
  },
  "toc": {
   "base_numbering": 1,
   "nav_menu": {},
   "number_sections": true,
   "sideBar": true,
   "skip_h1_title": false,
   "title_cell": "Table of Contents",
   "title_sidebar": "Contents",
   "toc_cell": false,
   "toc_position": {},
   "toc_section_display": true,
   "toc_window_display": false
  },
  "varInspector": {
   "cols": {
    "lenName": 16,
    "lenType": 16,
    "lenVar": 40
   },
   "kernels_config": {
    "python": {
     "delete_cmd_postfix": "",
     "delete_cmd_prefix": "del ",
     "library": "var_list.py",
     "varRefreshCmd": "print(var_dic_list())"
    },
    "r": {
     "delete_cmd_postfix": ") ",
     "delete_cmd_prefix": "rm(",
     "library": "var_list.r",
     "varRefreshCmd": "cat(var_dic_list()) "
    }
   },
   "types_to_exclude": [
    "module",
    "function",
    "builtin_function_or_method",
    "instance",
    "_Feature"
   ],
   "window_display": false
  }
 },
 "nbformat": 4,
 "nbformat_minor": 4
}
