{
 "cells": [
  {
   "cell_type": "code",
   "execution_count": 1,
   "metadata": {},
   "outputs": [],
   "source": [
    "import scipy\n",
    "import os"
   ]
  },
  {
   "cell_type": "code",
   "execution_count": 2,
   "metadata": {},
   "outputs": [],
   "source": [
    "from pathlib import Path\n",
    "import numpy as np\n",
    "from scipy.cluster.vq import whiten, kmeans, vq"
   ]
  },
  {
   "cell_type": "code",
   "execution_count": 3,
   "metadata": {},
   "outputs": [],
   "source": [
    "data = Path(\"SMSSpamCollection\").read_text()\n",
    "data = data.strip()\n",
    "data = data.split(\"\\n\")"
   ]
  },
  {
   "cell_type": "code",
   "execution_count": 4,
   "metadata": {},
   "outputs": [
    {
     "data": {
      "text/plain": [
       "\"spam\\tFree entry in 2 a wkly comp to win FA Cup final tkts 21st May 2005. Text FA to 87121 to receive entry question(std txt rate)T&C's apply 08452810075over18's\""
      ]
     },
     "execution_count": 4,
     "metadata": {},
     "output_type": "execute_result"
    }
   ],
   "source": [
    "data[2]"
   ]
  },
  {
   "cell_type": "code",
   "execution_count": 5,
   "metadata": {},
   "outputs": [
    {
     "data": {
      "text/plain": [
       "array([[           43609960,             9445568],\n",
       "       [             477907,                  -1],\n",
       "       [8439868052583833960, 8247614980089279598],\n",
       "       ...,\n",
       "       [3203312157427004021, 7594230491502309989],\n",
       "       [2538750822798339187, 7496855245682927398],\n",
       "       [2338038244119768417, 6998709460502996296]])"
      ]
     },
     "execution_count": 5,
     "metadata": {},
     "output_type": "execute_result"
    }
   ],
   "source": [
    "# np empty creates spicified dimension array with random number, making it faster than zeroes.\n",
    "digit_counts = np.empty((len(data), 2), dtype=int)\n",
    "digit_counts"
   ]
  },
  {
   "cell_type": "code",
   "execution_count": 6,
   "metadata": {},
   "outputs": [],
   "source": [
    "for i, line in enumerate(data):\n",
    "    case, message = line.split(\"\\t\")\n",
    "    num_digits = sum(c.isdigit() for c in message)\n",
    "    digit_counts[i, 0] = 0 if case == \"ham\" else 1\n",
    "    digit_counts[i, 1] = num_digits"
   ]
  },
  {
   "cell_type": "code",
   "execution_count": 7,
   "metadata": {},
   "outputs": [
    {
     "data": {
      "text/plain": [
       "array([[ 0,  0],\n",
       "       [ 0,  0],\n",
       "       [ 1, 25],\n",
       "       ...,\n",
       "       [ 0,  0],\n",
       "       [ 0,  0],\n",
       "       [ 0,  0]])"
      ]
     },
     "execution_count": 7,
     "metadata": {},
     "output_type": "execute_result"
    }
   ],
   "source": [
    "digit_counts"
   ]
  },
  {
   "cell_type": "code",
   "execution_count": 8,
   "metadata": {},
   "outputs": [
    {
     "data": {
      "text/plain": [
       "(array([ 0,  1,  2,  3,  4,  5,  6,  7,  8,  9, 10, 11, 12, 13, 14, 15, 16,\n",
       "        17, 18, 19, 20, 21, 22, 23, 24, 25, 26, 27, 28, 29, 30, 31, 32, 33,\n",
       "        34, 35, 36, 37, 40, 41, 47]),\n",
       " array([4110,  486,  160,   78,   42,   39,   16,   14,   28,   17,   16,\n",
       "          34,   30,   31,   37,   29,   35,   33,   41,   47,   18,   31,\n",
       "          28,   36,   34,   16,   16,   13,   19,    9,    2,    6,    3,\n",
       "           4,    3,    4,    1,    1,    4,    2,    1]))"
      ]
     },
     "execution_count": 8,
     "metadata": {},
     "output_type": "execute_result"
    }
   ],
   "source": [
    "unique_counts = np.unique(digit_counts[:, 1], return_counts=True)\n",
    "unique_counts"
   ]
  },
  {
   "cell_type": "code",
   "execution_count": 9,
   "metadata": {},
   "outputs": [
    {
     "data": {
      "text/plain": [
       "array([[   0,    1,    2,    3,    4,    5,    6,    7,    8,    9,   10,\n",
       "          11,   12,   13,   14,   15,   16,   17,   18,   19,   20,   21,\n",
       "          22,   23,   24,   25,   26,   27,   28,   29,   30,   31,   32,\n",
       "          33,   34,   35,   36,   37,   40,   41,   47],\n",
       "       [4110,  486,  160,   78,   42,   39,   16,   14,   28,   17,   16,\n",
       "          34,   30,   31,   37,   29,   35,   33,   41,   47,   18,   31,\n",
       "          28,   36,   34,   16,   16,   13,   19,    9,    2,    6,    3,\n",
       "           4,    3,    4,    1,    1,    4,    2,    1]])"
      ]
     },
     "execution_count": 9,
     "metadata": {},
     "output_type": "execute_result"
    }
   ],
   "source": [
    "np.vstack(unique_counts)"
   ]
  },
  {
   "cell_type": "code",
   "execution_count": 10,
   "metadata": {},
   "outputs": [
    {
     "data": {
      "text/plain": [
       "array([[   0, 4110],\n",
       "       [   1,  486],\n",
       "       [   2,  160],\n",
       "       [   3,   78],\n",
       "       [   4,   42],\n",
       "       [   5,   39],\n",
       "       [   6,   16],\n",
       "       [   7,   14],\n",
       "       [   8,   28],\n",
       "       [   9,   17],\n",
       "       [  10,   16],\n",
       "       [  11,   34],\n",
       "       [  12,   30],\n",
       "       [  13,   31],\n",
       "       [  14,   37],\n",
       "       [  15,   29],\n",
       "       [  16,   35],\n",
       "       [  17,   33],\n",
       "       [  18,   41],\n",
       "       [  19,   47],\n",
       "       [  20,   18],\n",
       "       [  21,   31],\n",
       "       [  22,   28],\n",
       "       [  23,   36],\n",
       "       [  24,   34],\n",
       "       [  25,   16],\n",
       "       [  26,   16],\n",
       "       [  27,   13],\n",
       "       [  28,   19],\n",
       "       [  29,    9],\n",
       "       [  30,    2],\n",
       "       [  31,    6],\n",
       "       [  32,    3],\n",
       "       [  33,    4],\n",
       "       [  34,    3],\n",
       "       [  35,    4],\n",
       "       [  36,    1],\n",
       "       [  37,    1],\n",
       "       [  40,    4],\n",
       "       [  41,    2],\n",
       "       [  47,    1]])"
      ]
     },
     "execution_count": 10,
     "metadata": {},
     "output_type": "execute_result"
    }
   ],
   "source": [
    "unique_counts = np.transpose(np.vstack(unique_counts))\n",
    "unique_counts"
   ]
  },
  {
   "cell_type": "markdown",
   "metadata": {},
   "source": [
    "# Kmeans"
   ]
  },
  {
   "cell_type": "code",
   "execution_count": 11,
   "metadata": {},
   "outputs": [],
   "source": [
    "# codebook is an array containing points for each centroid\n",
    "# x is the mean euclidean distance of observation from centroid\n",
    "whitened_counts = whiten(unique_counts)\n",
    "codebook, x = kmeans(whitened_counts, 3)"
   ]
  },
  {
   "cell_type": "code",
   "execution_count": 12,
   "metadata": {},
   "outputs": [
    {
     "data": {
      "text/plain": [
       "array([[2.52050073, 0.01840656],\n",
       "       [0.85234324, 0.09724666],\n",
       "       [0.        , 6.49364346]])"
      ]
     },
     "execution_count": 12,
     "metadata": {},
     "output_type": "execute_result"
    }
   ],
   "source": [
    "codebook"
   ]
  },
  {
   "cell_type": "code",
   "execution_count": 13,
   "metadata": {},
   "outputs": [
    {
     "data": {
      "text/plain": [
       "0.42816013482347576"
      ]
     },
     "execution_count": 13,
     "metadata": {},
     "output_type": "execute_result"
    }
   ],
   "source": [
    "x"
   ]
  },
  {
   "cell_type": "code",
   "execution_count": 14,
   "metadata": {},
   "outputs": [],
   "source": [
    "# codes is the cluster each point in unique_counts belongs to\n",
    "# _ is the euclidian distance each point is from its centroid\n",
    "codes, _ = vq(whitened_counts, codebook)"
   ]
  },
  {
   "cell_type": "code",
   "execution_count": 18,
   "metadata": {},
   "outputs": [
    {
     "data": {
      "text/plain": [
       "array([2, 1, 1, 1, 1, 1, 1, 1, 1, 1, 1, 1, 1, 1, 1, 1, 1, 1, 1, 1, 1, 0,\n",
       "       0, 0, 0, 0, 0, 0, 0, 0, 0, 0, 0, 0, 0, 0, 0, 0, 0, 0, 0],\n",
       "      dtype=int32)"
      ]
     },
     "execution_count": 18,
     "metadata": {},
     "output_type": "execute_result"
    }
   ],
   "source": [
    "codes"
   ]
  },
  {
   "cell_type": "code",
   "execution_count": 19,
   "metadata": {},
   "outputs": [
    {
     "data": {
      "text/plain": [
       "0"
      ]
     },
     "execution_count": 19,
     "metadata": {},
     "output_type": "execute_result"
    }
   ],
   "source": [
    "codes[-1]"
   ]
  },
  {
   "cell_type": "code",
   "execution_count": 16,
   "metadata": {},
   "outputs": [
    {
     "data": {
      "text/plain": [
       "array([0.        , 1.02197058, 0.70730765, 0.60937111, 0.52854438,\n",
       "       0.44788482, 0.37231175, 0.29387939, 0.20974747, 0.1406438 ,\n",
       "       0.08262357, 0.05951512, 0.13157169, 0.20860002, 0.28674992,\n",
       "       0.36889236, 0.4484318 , 0.52956568, 0.60968175, 0.69037499,\n",
       "       0.77423127, 0.81638688, 0.73509273, 0.65459468, 0.57337601,\n",
       "       0.49116015, 0.40999412, 0.32876788, 0.24785761, 0.16646253,\n",
       "       0.08658724, 0.00980618, 0.07831841, 0.1587531 , 0.23985753,\n",
       "       0.32087113, 0.40217112, 0.48328752, 0.72662168, 0.80784058,\n",
       "       1.29485931])"
      ]
     },
     "execution_count": 16,
     "metadata": {},
     "output_type": "execute_result"
    }
   ],
   "source": [
    "_"
   ]
  },
  {
   "cell_type": "code",
   "execution_count": 20,
   "metadata": {},
   "outputs": [],
   "source": [
    "ham_code = codes[0]\n",
    "spam_code = codes[-1]\n",
    "unknown_code = list(set(range(3)) ^ set((ham_code, spam_code)))[0]"
   ]
  },
  {
   "cell_type": "code",
   "execution_count": 21,
   "metadata": {},
   "outputs": [
    {
     "data": {
      "text/plain": [
       "2"
      ]
     },
     "execution_count": 21,
     "metadata": {},
     "output_type": "execute_result"
    }
   ],
   "source": [
    "ham_code"
   ]
  },
  {
   "cell_type": "code",
   "execution_count": 22,
   "metadata": {},
   "outputs": [
    {
     "data": {
      "text/plain": [
       "0"
      ]
     },
     "execution_count": 22,
     "metadata": {},
     "output_type": "execute_result"
    }
   ],
   "source": [
    "spam_code"
   ]
  },
  {
   "cell_type": "code",
   "execution_count": 23,
   "metadata": {},
   "outputs": [
    {
     "data": {
      "text/plain": [
       "1"
      ]
     },
     "execution_count": 23,
     "metadata": {},
     "output_type": "execute_result"
    }
   ],
   "source": [
    "unknown_code"
   ]
  },
  {
   "cell_type": "code",
   "execution_count": 24,
   "metadata": {},
   "outputs": [
    {
     "name": "stdout",
     "output_type": "stream",
     "text": [
      "definitely ham: [   0 4110]\n",
      "definitely spam: [47  1]\n",
      "unknown: [20 18]\n"
     ]
    }
   ],
   "source": [
    "print(\"definitely ham:\", unique_counts[codes == ham_code][-1])\n",
    "print(\"definitely spam:\", unique_counts[codes == spam_code][-1])\n",
    "print(\"unknown:\", unique_counts[codes == unknown_code][-1])"
   ]
  },
  {
   "cell_type": "code",
   "execution_count": 27,
   "metadata": {},
   "outputs": [],
   "source": [
    "digits = digit_counts[:, 1]\n",
    "predicted_hams = digits == 0\n",
    "predicted_spams = digits > 20\n",
    "predicted_unknowns = np.logical_and(digits > 0, digits <= 20)"
   ]
  },
  {
   "cell_type": "code",
   "execution_count": 28,
   "metadata": {},
   "outputs": [
    {
     "data": {
      "text/plain": [
       "array([ 0,  0, 25, ...,  0,  0,  0])"
      ]
     },
     "execution_count": 28,
     "metadata": {},
     "output_type": "execute_result"
    }
   ],
   "source": [
    "digits"
   ]
  },
  {
   "cell_type": "code",
   "execution_count": 29,
   "metadata": {},
   "outputs": [
    {
     "data": {
      "text/plain": [
       "array([ True,  True, False, ...,  True,  True,  True])"
      ]
     },
     "execution_count": 29,
     "metadata": {},
     "output_type": "execute_result"
    }
   ],
   "source": [
    "predicted_hams"
   ]
  },
  {
   "cell_type": "code",
   "execution_count": 31,
   "metadata": {},
   "outputs": [
    {
     "data": {
      "text/plain": [
       "array([False, False,  True, ..., False, False, False])"
      ]
     },
     "execution_count": 31,
     "metadata": {},
     "output_type": "execute_result"
    }
   ],
   "source": [
    "predicted_spams"
   ]
  },
  {
   "cell_type": "code",
   "execution_count": 30,
   "metadata": {},
   "outputs": [
    {
     "data": {
      "text/plain": [
       "array([False, False, False, ..., False, False, False])"
      ]
     },
     "execution_count": 30,
     "metadata": {},
     "output_type": "execute_result"
    }
   ],
   "source": [
    "predicted_unknowns"
   ]
  },
  {
   "cell_type": "code",
   "execution_count": 32,
   "metadata": {},
   "outputs": [],
   "source": [
    "spam_cluster = digit_counts[predicted_spams]\n",
    "ham_cluster = digit_counts[predicted_hams]\n",
    "unk_cluster = digit_counts[predicted_unknowns]"
   ]
  },
  {
   "cell_type": "code",
   "execution_count": 33,
   "metadata": {},
   "outputs": [
    {
     "data": {
      "text/plain": [
       "array([[ 1, 25],\n",
       "       [ 1, 22],\n",
       "       [ 1, 23],\n",
       "       [ 1, 22],\n",
       "       [ 1, 24],\n",
       "       [ 1, 21],\n",
       "       [ 1, 22],\n",
       "       [ 1, 22],\n",
       "       [ 1, 22],\n",
       "       [ 1, 34],\n",
       "       [ 1, 26],\n",
       "       [ 1, 22],\n",
       "       [ 1, 22],\n",
       "       [ 1, 31],\n",
       "       [ 1, 24],\n",
       "       [ 1, 22],\n",
       "       [ 1, 23],\n",
       "       [ 1, 22],\n",
       "       [ 1, 28],\n",
       "       [ 1, 28],\n",
       "       [ 1, 31],\n",
       "       [ 1, 21],\n",
       "       [ 1, 33],\n",
       "       [ 1, 24],\n",
       "       [ 1, 24],\n",
       "       [ 1, 41],\n",
       "       [ 1, 24],\n",
       "       [ 1, 24],\n",
       "       [ 1, 40],\n",
       "       [ 1, 22],\n",
       "       [ 1, 24],\n",
       "       [ 1, 40],\n",
       "       [ 1, 27],\n",
       "       [ 1, 21],\n",
       "       [ 1, 29],\n",
       "       [ 1, 24],\n",
       "       [ 1, 21],\n",
       "       [ 1, 21],\n",
       "       [ 1, 23],\n",
       "       [ 1, 47],\n",
       "       [ 1, 22],\n",
       "       [ 1, 33],\n",
       "       [ 1, 25],\n",
       "       [ 1, 30],\n",
       "       [ 1, 29],\n",
       "       [ 1, 25],\n",
       "       [ 1, 25],\n",
       "       [ 1, 27],\n",
       "       [ 1, 24],\n",
       "       [ 1, 34],\n",
       "       [ 1, 28],\n",
       "       [ 1, 28],\n",
       "       [ 1, 24],\n",
       "       [ 1, 28],\n",
       "       [ 1, 28],\n",
       "       [ 0, 23],\n",
       "       [ 1, 22],\n",
       "       [ 1, 22],\n",
       "       [ 1, 28],\n",
       "       [ 1, 24],\n",
       "       [ 1, 27],\n",
       "       [ 1, 22],\n",
       "       [ 1, 25],\n",
       "       [ 1, 21],\n",
       "       [ 1, 27],\n",
       "       [ 1, 21],\n",
       "       [ 1, 23],\n",
       "       [ 1, 25],\n",
       "       [ 1, 31],\n",
       "       [ 1, 25],\n",
       "       [ 1, 35],\n",
       "       [ 1, 27],\n",
       "       [ 1, 23],\n",
       "       [ 1, 23],\n",
       "       [ 1, 28],\n",
       "       [ 1, 29],\n",
       "       [ 1, 24],\n",
       "       [ 1, 23],\n",
       "       [ 1, 26],\n",
       "       [ 1, 23],\n",
       "       [ 1, 35],\n",
       "       [ 1, 21],\n",
       "       [ 1, 22],\n",
       "       [ 1, 23],\n",
       "       [ 1, 29],\n",
       "       [ 1, 23],\n",
       "       [ 1, 25],\n",
       "       [ 1, 21],\n",
       "       [ 1, 24],\n",
       "       [ 1, 24],\n",
       "       [ 1, 24],\n",
       "       [ 1, 29],\n",
       "       [ 1, 22],\n",
       "       [ 1, 28],\n",
       "       [ 1, 25],\n",
       "       [ 1, 26],\n",
       "       [ 1, 22],\n",
       "       [ 1, 26],\n",
       "       [ 1, 24],\n",
       "       [ 1, 21],\n",
       "       [ 1, 28],\n",
       "       [ 1, 23],\n",
       "       [ 1, 34],\n",
       "       [ 1, 21],\n",
       "       [ 1, 23],\n",
       "       [ 1, 41],\n",
       "       [ 1, 28],\n",
       "       [ 1, 30],\n",
       "       [ 1, 26],\n",
       "       [ 1, 24],\n",
       "       [ 1, 23],\n",
       "       [ 1, 23],\n",
       "       [ 1, 22],\n",
       "       [ 1, 24],\n",
       "       [ 1, 23],\n",
       "       [ 1, 28],\n",
       "       [ 1, 21],\n",
       "       [ 1, 23],\n",
       "       [ 1, 23],\n",
       "       [ 1, 26],\n",
       "       [ 1, 24],\n",
       "       [ 1, 21],\n",
       "       [ 1, 24],\n",
       "       [ 1, 21],\n",
       "       [ 1, 31],\n",
       "       [ 1, 23],\n",
       "       [ 1, 23],\n",
       "       [ 1, 24],\n",
       "       [ 1, 25],\n",
       "       [ 1, 23],\n",
       "       [ 1, 23],\n",
       "       [ 1, 31],\n",
       "       [ 1, 31],\n",
       "       [ 1, 32],\n",
       "       [ 1, 23],\n",
       "       [ 1, 23],\n",
       "       [ 1, 28],\n",
       "       [ 1, 21],\n",
       "       [ 1, 21],\n",
       "       [ 1, 25],\n",
       "       [ 1, 23],\n",
       "       [ 1, 32],\n",
       "       [ 1, 22],\n",
       "       [ 1, 23],\n",
       "       [ 1, 37],\n",
       "       [ 1, 23],\n",
       "       [ 1, 29],\n",
       "       [ 1, 25],\n",
       "       [ 1, 22],\n",
       "       [ 1, 28],\n",
       "       [ 1, 33],\n",
       "       [ 1, 22],\n",
       "       [ 1, 27],\n",
       "       [ 1, 21],\n",
       "       [ 1, 21],\n",
       "       [ 1, 25],\n",
       "       [ 1, 27],\n",
       "       [ 1, 25],\n",
       "       [ 1, 23],\n",
       "       [ 1, 23],\n",
       "       [ 1, 21],\n",
       "       [ 1, 24],\n",
       "       [ 1, 32],\n",
       "       [ 1, 23],\n",
       "       [ 1, 27],\n",
       "       [ 1, 25],\n",
       "       [ 1, 23],\n",
       "       [ 1, 23],\n",
       "       [ 1, 24],\n",
       "       [ 1, 26],\n",
       "       [ 1, 24],\n",
       "       [ 1, 22],\n",
       "       [ 1, 23],\n",
       "       [ 1, 22],\n",
       "       [ 1, 23],\n",
       "       [ 1, 40],\n",
       "       [ 1, 23],\n",
       "       [ 1, 24],\n",
       "       [ 1, 28],\n",
       "       [ 1, 26],\n",
       "       [ 1, 33],\n",
       "       [ 1, 26],\n",
       "       [ 1, 21],\n",
       "       [ 1, 26],\n",
       "       [ 1, 21],\n",
       "       [ 1, 24],\n",
       "       [ 1, 25],\n",
       "       [ 1, 21],\n",
       "       [ 1, 21],\n",
       "       [ 1, 22],\n",
       "       [ 1, 35],\n",
       "       [ 1, 27],\n",
       "       [ 1, 24],\n",
       "       [ 1, 26],\n",
       "       [ 1, 27],\n",
       "       [ 1, 22],\n",
       "       [ 1, 22],\n",
       "       [ 1, 29],\n",
       "       [ 1, 35],\n",
       "       [ 1, 24],\n",
       "       [ 1, 27],\n",
       "       [ 1, 36],\n",
       "       [ 1, 22],\n",
       "       [ 1, 28],\n",
       "       [ 1, 28],\n",
       "       [ 1, 21],\n",
       "       [ 1, 21],\n",
       "       [ 1, 21],\n",
       "       [ 1, 23],\n",
       "       [ 1, 24],\n",
       "       [ 1, 28],\n",
       "       [ 1, 27],\n",
       "       [ 1, 24],\n",
       "       [ 1, 24],\n",
       "       [ 1, 26],\n",
       "       [ 1, 21],\n",
       "       [ 1, 26],\n",
       "       [ 1, 21],\n",
       "       [ 1, 26],\n",
       "       [ 1, 21],\n",
       "       [ 1, 29],\n",
       "       [ 1, 24],\n",
       "       [ 1, 24],\n",
       "       [ 1, 27],\n",
       "       [ 1, 26],\n",
       "       [ 1, 24],\n",
       "       [ 1, 26],\n",
       "       [ 1, 22],\n",
       "       [ 1, 40],\n",
       "       [ 1, 28],\n",
       "       [ 1, 29],\n",
       "       [ 1, 21],\n",
       "       [ 1, 21]])"
      ]
     },
     "execution_count": 33,
     "metadata": {},
     "output_type": "execute_result"
    }
   ],
   "source": [
    "spam_cluster"
   ]
  },
  {
   "cell_type": "code",
   "execution_count": 35,
   "metadata": {},
   "outputs": [
    {
     "data": {
      "text/plain": [
       "array([[0, 0],\n",
       "       [0, 0],\n",
       "       [0, 0],\n",
       "       ...,\n",
       "       [0, 0],\n",
       "       [0, 0],\n",
       "       [0, 0]])"
      ]
     },
     "execution_count": 35,
     "metadata": {},
     "output_type": "execute_result"
    }
   ],
   "source": [
    "ham_cluster"
   ]
  },
  {
   "cell_type": "code",
   "execution_count": 36,
   "metadata": {},
   "outputs": [
    {
     "data": {
      "text/plain": [
       "array([[ 1,  4],\n",
       "       [ 0,  1],\n",
       "       [ 1, 19],\n",
       "       ...,\n",
       "       [ 0,  1],\n",
       "       [ 0,  1],\n",
       "       [ 1,  5]])"
      ]
     },
     "execution_count": 36,
     "metadata": {},
     "output_type": "execute_result"
    }
   ],
   "source": [
    "unk_cluster"
   ]
  },
  {
   "cell_type": "code",
   "execution_count": 37,
   "metadata": {},
   "outputs": [
    {
     "name": "stdout",
     "output_type": "stream",
     "text": [
      "hams: (array([0, 1]), array([4071,   39]))\n",
      "spams: (array([0, 1]), array([  1, 232]))\n",
      "unknowns: (array([0, 1]), array([755, 476]))\n"
     ]
    }
   ],
   "source": [
    "print(\"hams:\", np.unique(ham_cluster[:, 0], return_counts=True))\n",
    "print(\"spams:\", np.unique(spam_cluster[:, 0], return_counts=True))\n",
    "print(\"unknowns:\", np.unique(unk_cluster[:, 0], return_counts=True))"
   ]
  },
  {
   "cell_type": "markdown",
   "metadata": {},
   "source": [
    "# Optimizing "
   ]
  },
  {
   "cell_type": "code",
   "execution_count": 39,
   "metadata": {},
   "outputs": [],
   "source": [
    "from scipy.optimize import minimize_scalar"
   ]
  },
  {
   "cell_type": "code",
   "execution_count": 41,
   "metadata": {},
   "outputs": [],
   "source": [
    "def objective_function(x):\n",
    "    return 3 * x ** 4 - 2 * x + 1"
   ]
  },
  {
   "cell_type": "code",
   "execution_count": 43,
   "metadata": {},
   "outputs": [],
   "source": [
    "res = minimize_scalar(objective_function)"
   ]
  },
  {
   "cell_type": "raw",
   "metadata": {},
   "source": []
  }
 ],
 "metadata": {
  "kernelspec": {
   "display_name": "Python 3",
   "language": "python",
   "name": "python3"
  },
  "language_info": {
   "codemirror_mode": {
    "name": "ipython",
    "version": 3
   },
   "file_extension": ".py",
   "mimetype": "text/x-python",
   "name": "python",
   "nbconvert_exporter": "python",
   "pygments_lexer": "ipython3",
   "version": "3.8.2"
  }
 },
 "nbformat": 4,
 "nbformat_minor": 4
}
