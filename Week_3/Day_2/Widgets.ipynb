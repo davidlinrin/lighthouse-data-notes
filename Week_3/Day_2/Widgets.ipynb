{
 "cells": [
  {
   "cell_type": "code",
   "execution_count": 2,
   "metadata": {},
   "outputs": [],
   "source": [
    "# import the widgets\n",
    "import ipywidgets as widgets\n",
    "\n",
    "# import the interact and the interact_manual from widgetss\n",
    "from ipywidgets.widgets import interact, interact_manual\n",
    "\n",
    "# import pandas\n",
    "import pandas as pd\n",
    "\n",
    "\n",
    "# import plotly \n",
    "import plotly.graph_objects as go"
   ]
  },
  {
   "cell_type": "code",
   "execution_count": 7,
   "metadata": {},
   "outputs": [
    {
     "data": {
      "application/vnd.jupyter.widget-view+json": {
       "model_id": "a6fd299d3d514bde9fce73c18740aad4",
       "version_major": 2,
       "version_minor": 0
      },
      "text/plain": [
       "IntSlider(value=3, description='Slider:', max=10)"
      ]
     },
     "metadata": {},
     "output_type": "display_data"
    }
   ],
   "source": [
    "slider = widgets.IntSlider(\n",
    "    min=0,\n",
    "    max=10,\n",
    "    step=1,\n",
    "    description='Slider:',\n",
    "    value=3\n",
    ")\n",
    "\n",
    "slider"
   ]
  },
  {
   "cell_type": "code",
   "execution_count": 9,
   "metadata": {},
   "outputs": [
    {
     "name": "stdout",
     "output_type": "stream",
     "text": [
      "8\n"
     ]
    }
   ],
   "source": [
    "# the current value of slider\n",
    "print(slider.value)"
   ]
  },
  {
   "cell_type": "code",
   "execution_count": 21,
   "metadata": {},
   "outputs": [],
   "source": [
    "# All possible widgets\n",
    "#print(dir(widgets))"
   ]
  },
  {
   "cell_type": "code",
   "execution_count": 11,
   "metadata": {},
   "outputs": [],
   "source": [
    "# the data url\n",
    "url = \"https://data.london.gov.uk/download/number-international-visitors-london/b1e0f953-4c8a-4b45-95f5-e0d143d5641e/international-visitors-london-raw.csv\"\n",
    "\n",
    "# create the data-frame\n",
    "df_london = pd.read_csv(url, encoding= 'unicode_escape')\n",
    "df_london.columns = [\"year\",\"quarter\",\"market\",\"dur_stay\",\"mode\",\"purpose\",\"area\",\"visits\",\"spend\",\"nights\",\"sample\"]\n",
    "\n",
    "# sample 200 rows\n",
    "df = df_london.sample(200)"
   ]
  },
  {
   "cell_type": "code",
   "execution_count": 15,
   "metadata": {},
   "outputs": [
    {
     "data": {
      "text/html": [
       "<div>\n",
       "<style scoped>\n",
       "    .dataframe tbody tr th:only-of-type {\n",
       "        vertical-align: middle;\n",
       "    }\n",
       "\n",
       "    .dataframe tbody tr th {\n",
       "        vertical-align: top;\n",
       "    }\n",
       "\n",
       "    .dataframe thead th {\n",
       "        text-align: right;\n",
       "    }\n",
       "</style>\n",
       "<table border=\"1\" class=\"dataframe\">\n",
       "  <thead>\n",
       "    <tr style=\"text-align: right;\">\n",
       "      <th></th>\n",
       "      <th>year</th>\n",
       "      <th>quarter</th>\n",
       "      <th>market</th>\n",
       "      <th>dur_stay</th>\n",
       "      <th>mode</th>\n",
       "      <th>purpose</th>\n",
       "      <th>area</th>\n",
       "      <th>visits</th>\n",
       "      <th>spend</th>\n",
       "      <th>nights</th>\n",
       "      <th>sample</th>\n",
       "    </tr>\n",
       "  </thead>\n",
       "  <tbody>\n",
       "    <tr>\n",
       "      <th>42889</th>\n",
       "      <td>2014</td>\n",
       "      <td>July-September</td>\n",
       "      <td>Spain</td>\n",
       "      <td>4-7  nights</td>\n",
       "      <td>Air</td>\n",
       "      <td>Holiday</td>\n",
       "      <td>LONDON</td>\n",
       "      <td>82.926341</td>\n",
       "      <td>39.039282</td>\n",
       "      <td>383.186998</td>\n",
       "      <td>57</td>\n",
       "    </tr>\n",
       "    <tr>\n",
       "      <th>48698</th>\n",
       "      <td>2016</td>\n",
       "      <td>January-March</td>\n",
       "      <td>Pakistan</td>\n",
       "      <td>1-3  nights</td>\n",
       "      <td>Air</td>\n",
       "      <td>VFR</td>\n",
       "      <td>LONDON</td>\n",
       "      <td>1.421080</td>\n",
       "      <td>0.915200</td>\n",
       "      <td>3.974198</td>\n",
       "      <td>2</td>\n",
       "    </tr>\n",
       "    <tr>\n",
       "      <th>7209</th>\n",
       "      <td>2004</td>\n",
       "      <td>January-March</td>\n",
       "      <td>Japan</td>\n",
       "      <td>1-3  nights</td>\n",
       "      <td>Air</td>\n",
       "      <td>Miscellaneous</td>\n",
       "      <td>LONDON</td>\n",
       "      <td>1.793933</td>\n",
       "      <td>0.355036</td>\n",
       "      <td>2.009712</td>\n",
       "      <td>5</td>\n",
       "    </tr>\n",
       "    <tr>\n",
       "      <th>26320</th>\n",
       "      <td>2009</td>\n",
       "      <td>October-December</td>\n",
       "      <td>Finland</td>\n",
       "      <td>1-3  nights</td>\n",
       "      <td>Air</td>\n",
       "      <td>Business</td>\n",
       "      <td>LONDON</td>\n",
       "      <td>5.798020</td>\n",
       "      <td>3.292098</td>\n",
       "      <td>10.636144</td>\n",
       "      <td>26</td>\n",
       "    </tr>\n",
       "    <tr>\n",
       "      <th>19922</th>\n",
       "      <td>2007</td>\n",
       "      <td>October-December</td>\n",
       "      <td>Czech Republic</td>\n",
       "      <td>1-3  nights</td>\n",
       "      <td>Tunnel</td>\n",
       "      <td>Business</td>\n",
       "      <td>LONDON</td>\n",
       "      <td>1.139080</td>\n",
       "      <td>0.160305</td>\n",
       "      <td>1.081820</td>\n",
       "      <td>1</td>\n",
       "    </tr>\n",
       "  </tbody>\n",
       "</table>\n",
       "</div>"
      ],
      "text/plain": [
       "       year           quarter          market     dur_stay    mode  \\\n",
       "42889  2014    July-September           Spain  4-7  nights     Air   \n",
       "48698  2016     January-March        Pakistan  1-3  nights     Air   \n",
       "7209   2004     January-March           Japan  1-3  nights     Air   \n",
       "26320  2009  October-December         Finland  1-3  nights     Air   \n",
       "19922  2007  October-December  Czech Republic  1-3  nights  Tunnel   \n",
       "\n",
       "             purpose     area     visits      spend      nights  sample  \n",
       "42889        Holiday   LONDON  82.926341  39.039282  383.186998      57  \n",
       "48698            VFR   LONDON   1.421080   0.915200    3.974198       2  \n",
       "7209   Miscellaneous   LONDON   1.793933   0.355036    2.009712       5  \n",
       "26320       Business   LONDON   5.798020   3.292098   10.636144      26  \n",
       "19922       Business   LONDON   1.139080   0.160305    1.081820       1  "
      ]
     },
     "execution_count": 15,
     "metadata": {},
     "output_type": "execute_result"
    }
   ],
   "source": [
    "df.head()"
   ]
  },
  {
   "cell_type": "code",
   "execution_count": 16,
   "metadata": {},
   "outputs": [],
   "source": [
    "def filter_df(column, threshold):\n",
    "    return df[df[column] <= threshold]"
   ]
  },
  {
   "cell_type": "code",
   "execution_count": 20,
   "metadata": {},
   "outputs": [
    {
     "data": {
      "application/vnd.jupyter.widget-view+json": {
       "model_id": "b468ae0eeea040f8be6328a37562395b",
       "version_major": 2,
       "version_minor": 0
      },
      "text/plain": [
       "interactive(children=(Dropdown(description='column', options=('spend', 'visits'), value='spend'), IntSlider(va…"
      ]
     },
     "metadata": {},
     "output_type": "display_data"
    },
    {
     "data": {
      "text/plain": [
       "<function __main__.filter_df(column, threshold)>"
      ]
     },
     "execution_count": 20,
     "metadata": {},
     "output_type": "execute_result"
    }
   ],
   "source": [
    "filter_widget = widgets.interact(filter_df,\n",
    "                                 column=['spend','visits'], \n",
    "                                 threshold=(1, 30, 1))\n",
    "filter_widget"
   ]
  },
  {
   "cell_type": "code",
   "execution_count": 24,
   "metadata": {},
   "outputs": [
    {
     "data": {
      "application/vnd.jupyter.widget-view+json": {
       "model_id": "64947b7d6a9e43879db02e063a2dc871",
       "version_major": 2,
       "version_minor": 0
      },
      "text/plain": [
       "interactive(children=(Dropdown(description='x', options=('visits', 'spend', 'nights', 'sample'), value='visits…"
      ]
     },
     "metadata": {},
     "output_type": "display_data"
    }
   ],
   "source": [
    "# Updates graph imediately \n",
    "@interact\n",
    "def scatter_plot(x=list(df.select_dtypes('number').columns),  y=list(df.select_dtypes('number').columns)[1:]):\n",
    "\n",
    "    # trace\n",
    "    trace = [go.Scatter(x=df[x], y=df[y], mode='markers')]\n",
    "\n",
    "    # layout\n",
    "    layout = go.Layout(\n",
    "                title = 'Scatter plot', # Graph title\n",
    "                xaxis = dict(title = x.title()), # x-axis label\n",
    "                yaxis = dict(title = y.title()), # y-axis label\n",
    "                hovermode ='closest' # handles multiple points landing on the same vertical\n",
    "    )\n",
    "\n",
    "    # fig\n",
    "    fig = go.Figure(trace, layout)\n",
    "    fig.show()"
   ]
  },
  {
   "cell_type": "code",
   "execution_count": 26,
   "metadata": {},
   "outputs": [
    {
     "data": {
      "application/vnd.jupyter.widget-view+json": {
       "model_id": "8d292902031c4013941b2b30598f6da0",
       "version_major": 2,
       "version_minor": 0
      },
      "text/plain": [
       "interactive(children=(Dropdown(description='x', options=('visits', 'spend', 'nights', 'sample'), value='visits…"
      ]
     },
     "metadata": {},
     "output_type": "display_data"
    }
   ],
   "source": [
    "# only updates graph after we click 'Run interact'\n",
    "@interact_manual\n",
    "def scatter_plot(x=list(df.select_dtypes('number').columns), y=list(df.select_dtypes('number').columns)[1:]):\n",
    "\n",
    "    # trace\n",
    "    trace = [go.Scatter(x=df[x], y=df[y], mode='markers')]\n",
    "\n",
    "    # layout\n",
    "    layout = go.Layout(\n",
    "                title = 'Scatter plot', # Graph title\n",
    "                xaxis = dict(title = x.title()), # x-axis label\n",
    "                yaxis = dict(title = y.title()), # y-axis label\n",
    "                hovermode ='closest' # handles multiple points landing on the same vertical\n",
    "    )\n",
    "\n",
    "    # fig\n",
    "    fig = go.Figure(trace, layout)\n",
    "    fig.show()"
   ]
  },
  {
   "cell_type": "code",
   "execution_count": null,
   "metadata": {},
   "outputs": [],
   "source": []
  }
 ],
 "metadata": {
  "kernelspec": {
   "display_name": "Python 3",
   "language": "python",
   "name": "python3"
  },
  "language_info": {
   "codemirror_mode": {
    "name": "ipython",
    "version": 3
   },
   "file_extension": ".py",
   "mimetype": "text/x-python",
   "name": "python",
   "nbconvert_exporter": "python",
   "pygments_lexer": "ipython3",
   "version": "3.8.2"
  }
 },
 "nbformat": 4,
 "nbformat_minor": 4
}
