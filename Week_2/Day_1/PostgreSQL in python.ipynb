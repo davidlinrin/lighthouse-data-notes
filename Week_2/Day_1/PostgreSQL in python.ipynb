{
 "cells": [
  {
   "cell_type": "code",
   "execution_count": 10,
   "metadata": {},
   "outputs": [
    {
     "name": "stdout",
     "output_type": "stream",
     "text": [
      "Database opened successfully\n"
     ]
    }
   ],
   "source": [
    "import os\n",
    "import psycopg2\n",
    "import pandas as pd\n",
    "\n",
    "postgres_pwd = os.environ.get('POSTGRES_PWD') # This is the password you entered when you set up PGSQL\n",
    "\n",
    "con = psycopg2.connect(database='northwind', user='postgres', password=postgres_pwd,\n",
    "                       host='127.0.0.1', port='5432')  # This should work if you left everything as default\n",
    "\n",
    "print(\"Database opened successfully\")"
   ]
  },
  {
   "cell_type": "markdown",
   "metadata": {},
   "source": [
    "# Creating Table"
   ]
  },
  {
   "cell_type": "code",
   "execution_count": 5,
   "metadata": {},
   "outputs": [
    {
     "name": "stdout",
     "output_type": "stream",
     "text": [
      "Database opened successfully\n",
      "Table created successfully\n"
     ]
    }
   ],
   "source": [
    "con = psycopg2.connect(database=\"northwind\", user=\"postgres\", password=postgres_pwd, host=\"127.0.0.1\", port=\"5432\")\n",
    "print(\"Database opened successfully\")\n",
    "\n",
    "cur = con.cursor()\n",
    "cur.execute('''CREATE TABLE STUDENT\n",
    "      (ADMISSION INT PRIMARY KEY     NOT NULL,\n",
    "      NAME           TEXT    NOT NULL,\n",
    "      AGE            INT     NOT NULL,\n",
    "      COURSE        CHAR(50),\n",
    "      DEPARTMENT        CHAR(50));''')\n",
    "print(\"Table created successfully\")\n",
    "\n",
    "con.commit()\n",
    "con.close()"
   ]
  },
  {
   "cell_type": "markdown",
   "metadata": {},
   "source": [
    "# Inserting Data"
   ]
  },
  {
   "cell_type": "code",
   "execution_count": 6,
   "metadata": {},
   "outputs": [
    {
     "name": "stdout",
     "output_type": "stream",
     "text": [
      "Database opened successfully\n",
      "Record inserted successfully\n"
     ]
    }
   ],
   "source": [
    "con = psycopg2.connect(database=\"northwind\", user=\"postgres\", password=postgres_pwd, host=\"127.0.0.1\", port=\"5432\")\n",
    "print(\"Database opened successfully\")\n",
    "\n",
    "cur = con.cursor()\n",
    "\n",
    "cur.execute(\"INSERT INTO STUDENT (ADMISSION,NAME,AGE,COURSE,DEPARTMENT) VALUES (3420, 'John', 18, 'Computer Science', 'ICT')\");\n",
    "\n",
    "con.commit()\n",
    "print(\"Record inserted successfully\")\n",
    "con.close()"
   ]
  },
  {
   "cell_type": "code",
   "execution_count": 7,
   "metadata": {},
   "outputs": [
    {
     "name": "stdout",
     "output_type": "stream",
     "text": [
      "Database opened successfully\n",
      "Records inserted successfully\n"
     ]
    }
   ],
   "source": [
    "con = psycopg2.connect(database=\"northwind\", user=\"postgres\", password=postgres_pwd, host=\"127.0.0.1\", port=\"5432\")\n",
    "print(\"Database opened successfully\")\n",
    "\n",
    "cur = con.cursor()\n",
    "\n",
    "cur.execute(\"INSERT INTO STUDENT (ADMISSION,NAME,AGE,COURSE,DEPARTMENT) VALUES (3419, 'Abel', 17, 'Computer Science', 'ICT')\");\n",
    "cur.execute(\"INSERT INTO STUDENT (ADMISSION,NAME,AGE,COURSE,DEPARTMENT) VALUES (3421, 'Joel', 17, 'Computer Science', 'ICT')\");\n",
    "cur.execute(\"INSERT INTO STUDENT (ADMISSION,NAME,AGE,COURSE,DEPARTMENT) VALUES (3422, 'Antony', 19, 'Electrical Engineering', 'Engineering')\");\n",
    "cur.execute(\"INSERT INTO STUDENT (ADMISSION,NAME,AGE,COURSE,DEPARTMENT) VALUES (3423, 'Alice', 18, 'Information Technology', 'ICT')\");\n",
    "\n",
    "con.commit()\n",
    "print(\"Records inserted successfully\")\n",
    "con.close()"
   ]
  },
  {
   "cell_type": "markdown",
   "metadata": {},
   "source": [
    "# Retrieving Data"
   ]
  },
  {
   "cell_type": "code",
   "execution_count": 8,
   "metadata": {},
   "outputs": [
    {
     "name": "stdout",
     "output_type": "stream",
     "text": [
      "Database opened successfully\n",
      "ADMISSION = 3420\n",
      "NAME = John\n",
      "AGE = 18\n",
      "COURSE = Computer Science                                  \n",
      "DEPARTMENT = ICT                                                \n",
      "\n",
      "ADMISSION = 3419\n",
      "NAME = Abel\n",
      "AGE = 17\n",
      "COURSE = Computer Science                                  \n",
      "DEPARTMENT = ICT                                                \n",
      "\n",
      "ADMISSION = 3421\n",
      "NAME = Joel\n",
      "AGE = 17\n",
      "COURSE = Computer Science                                  \n",
      "DEPARTMENT = ICT                                                \n",
      "\n",
      "ADMISSION = 3422\n",
      "NAME = Antony\n",
      "AGE = 19\n",
      "COURSE = Electrical Engineering                            \n",
      "DEPARTMENT = Engineering                                        \n",
      "\n",
      "ADMISSION = 3423\n",
      "NAME = Alice\n",
      "AGE = 18\n",
      "COURSE = Information Technology                            \n",
      "DEPARTMENT = ICT                                                \n",
      "\n",
      "Operation done successfully\n"
     ]
    }
   ],
   "source": [
    "con = psycopg2.connect(database=\"northwind\", user=\"postgres\", password=postgres_pwd, host=\"127.0.0.1\", port=\"5432\")\n",
    "print(\"Database opened successfully\")\n",
    "\n",
    "cur = con.cursor()\n",
    "cur.execute(\"SELECT admission, name, age, course, department from STUDENT\")\n",
    "rows = cur.fetchall()\n",
    "\n",
    "for row in rows:\n",
    "    print(\"ADMISSION =\", row[0])\n",
    "    print(\"NAME =\", row[1])\n",
    "    print(\"AGE =\", row[2])\n",
    "    print(\"COURSE =\", row[3])\n",
    "    print(\"DEPARTMENT =\", row[4], \"\\n\")\n",
    "\n",
    "print(\"Operation done successfully\")\n",
    "con.close()"
   ]
  },
  {
   "cell_type": "markdown",
   "metadata": {},
   "source": [
    "# Updating Tables"
   ]
  },
  {
   "cell_type": "code",
   "execution_count": 17,
   "metadata": {},
   "outputs": [
    {
     "name": "stdout",
     "output_type": "stream",
     "text": [
      "Database opened successfully\n",
      "Total updated rows: 1\n",
      "Operation done successfully\n"
     ]
    }
   ],
   "source": [
    "con = psycopg2.connect(database=\"northwind\", user=\"postgres\", password=postgres_pwd, host=\"127.0.0.1\", port=\"5432\")\n",
    "print(\"Database opened successfully\")\n",
    "\n",
    "cur = con.cursor()\n",
    "\n",
    "cur.execute(\"UPDATE STUDENT set AGE = 20 where ADMISSION = 3420\")\n",
    "con.commit()\n",
    "print(\"Total updated rows:\", cur.rowcount)\n",
    "\n",
    "cur.execute(\"SELECT admission, age, name, course, department from STUDENT\")\n",
    "rows = cur.fetchall()\n",
    "rows = pd.DataFrame(rows)\n",
    "\n",
    "print(\"Operation done successfully\")\n",
    "con.close()"
   ]
  },
  {
   "cell_type": "code",
   "execution_count": 18,
   "metadata": {},
   "outputs": [
    {
     "data": {
      "text/html": [
       "<div>\n",
       "<style scoped>\n",
       "    .dataframe tbody tr th:only-of-type {\n",
       "        vertical-align: middle;\n",
       "    }\n",
       "\n",
       "    .dataframe tbody tr th {\n",
       "        vertical-align: top;\n",
       "    }\n",
       "\n",
       "    .dataframe thead th {\n",
       "        text-align: right;\n",
       "    }\n",
       "</style>\n",
       "<table border=\"1\" class=\"dataframe\">\n",
       "  <thead>\n",
       "    <tr style=\"text-align: right;\">\n",
       "      <th></th>\n",
       "      <th>0</th>\n",
       "      <th>1</th>\n",
       "      <th>2</th>\n",
       "      <th>3</th>\n",
       "      <th>4</th>\n",
       "    </tr>\n",
       "  </thead>\n",
       "  <tbody>\n",
       "    <tr>\n",
       "      <th>0</th>\n",
       "      <td>3419</td>\n",
       "      <td>17</td>\n",
       "      <td>Abel</td>\n",
       "      <td>Computer Science                              ...</td>\n",
       "      <td>ICT                                           ...</td>\n",
       "    </tr>\n",
       "    <tr>\n",
       "      <th>1</th>\n",
       "      <td>3421</td>\n",
       "      <td>17</td>\n",
       "      <td>Joel</td>\n",
       "      <td>Computer Science                              ...</td>\n",
       "      <td>ICT                                           ...</td>\n",
       "    </tr>\n",
       "    <tr>\n",
       "      <th>2</th>\n",
       "      <td>3422</td>\n",
       "      <td>19</td>\n",
       "      <td>Antony</td>\n",
       "      <td>Electrical Engineering                        ...</td>\n",
       "      <td>Engineering                                   ...</td>\n",
       "    </tr>\n",
       "    <tr>\n",
       "      <th>3</th>\n",
       "      <td>3423</td>\n",
       "      <td>18</td>\n",
       "      <td>Alice</td>\n",
       "      <td>Information Technology                        ...</td>\n",
       "      <td>ICT                                           ...</td>\n",
       "    </tr>\n",
       "    <tr>\n",
       "      <th>4</th>\n",
       "      <td>3420</td>\n",
       "      <td>20</td>\n",
       "      <td>John</td>\n",
       "      <td>Computer Science                              ...</td>\n",
       "      <td>ICT                                           ...</td>\n",
       "    </tr>\n",
       "  </tbody>\n",
       "</table>\n",
       "</div>"
      ],
      "text/plain": [
       "      0   1       2                                                  3  \\\n",
       "0  3419  17    Abel  Computer Science                              ...   \n",
       "1  3421  17    Joel  Computer Science                              ...   \n",
       "2  3422  19  Antony  Electrical Engineering                        ...   \n",
       "3  3423  18   Alice  Information Technology                        ...   \n",
       "4  3420  20    John  Computer Science                              ...   \n",
       "\n",
       "                                                   4  \n",
       "0  ICT                                           ...  \n",
       "1  ICT                                           ...  \n",
       "2  Engineering                                   ...  \n",
       "3  ICT                                           ...  \n",
       "4  ICT                                           ...  "
      ]
     },
     "execution_count": 18,
     "metadata": {},
     "output_type": "execute_result"
    }
   ],
   "source": [
    "rows"
   ]
  },
  {
   "cell_type": "markdown",
   "metadata": {},
   "source": [
    "# Deleting Rows"
   ]
  },
  {
   "cell_type": "code",
   "execution_count": 19,
   "metadata": {},
   "outputs": [
    {
     "name": "stdout",
     "output_type": "stream",
     "text": [
      "Database opened successfully\n",
      "Total deleted rows: 1\n",
      "Deletion successful\n"
     ]
    }
   ],
   "source": [
    "con = psycopg2.connect(database=\"northwind\", user=\"postgres\", password=postgres_pwd, host=\"127.0.0.1\", port=\"5432\")\n",
    "print(\"Database opened successfully\")\n",
    "\n",
    "cur = con.cursor()\n",
    "\n",
    "cur.execute(\"DELETE from STUDENT where ADMISSION=3420;\")\n",
    "con.commit()\n",
    "print(\"Total deleted rows:\", cur.rowcount)\n",
    "\n",
    "cur.execute(\"SELECT admission, name, age, course, department from STUDENT\")\n",
    "rows = cur.fetchall()\n",
    "rows = pd.DataFrame(rows)\n",
    "\n",
    "print(\"Deletion successful\")\n",
    "con.close()"
   ]
  },
  {
   "cell_type": "code",
   "execution_count": 20,
   "metadata": {},
   "outputs": [
    {
     "data": {
      "text/html": [
       "<div>\n",
       "<style scoped>\n",
       "    .dataframe tbody tr th:only-of-type {\n",
       "        vertical-align: middle;\n",
       "    }\n",
       "\n",
       "    .dataframe tbody tr th {\n",
       "        vertical-align: top;\n",
       "    }\n",
       "\n",
       "    .dataframe thead th {\n",
       "        text-align: right;\n",
       "    }\n",
       "</style>\n",
       "<table border=\"1\" class=\"dataframe\">\n",
       "  <thead>\n",
       "    <tr style=\"text-align: right;\">\n",
       "      <th></th>\n",
       "      <th>0</th>\n",
       "      <th>1</th>\n",
       "      <th>2</th>\n",
       "      <th>3</th>\n",
       "      <th>4</th>\n",
       "    </tr>\n",
       "  </thead>\n",
       "  <tbody>\n",
       "    <tr>\n",
       "      <th>0</th>\n",
       "      <td>3419</td>\n",
       "      <td>Abel</td>\n",
       "      <td>17</td>\n",
       "      <td>Computer Science                              ...</td>\n",
       "      <td>ICT                                           ...</td>\n",
       "    </tr>\n",
       "    <tr>\n",
       "      <th>1</th>\n",
       "      <td>3421</td>\n",
       "      <td>Joel</td>\n",
       "      <td>17</td>\n",
       "      <td>Computer Science                              ...</td>\n",
       "      <td>ICT                                           ...</td>\n",
       "    </tr>\n",
       "    <tr>\n",
       "      <th>2</th>\n",
       "      <td>3422</td>\n",
       "      <td>Antony</td>\n",
       "      <td>19</td>\n",
       "      <td>Electrical Engineering                        ...</td>\n",
       "      <td>Engineering                                   ...</td>\n",
       "    </tr>\n",
       "    <tr>\n",
       "      <th>3</th>\n",
       "      <td>3423</td>\n",
       "      <td>Alice</td>\n",
       "      <td>18</td>\n",
       "      <td>Information Technology                        ...</td>\n",
       "      <td>ICT                                           ...</td>\n",
       "    </tr>\n",
       "  </tbody>\n",
       "</table>\n",
       "</div>"
      ],
      "text/plain": [
       "      0       1   2                                                  3  \\\n",
       "0  3419    Abel  17  Computer Science                              ...   \n",
       "1  3421    Joel  17  Computer Science                              ...   \n",
       "2  3422  Antony  19  Electrical Engineering                        ...   \n",
       "3  3423   Alice  18  Information Technology                        ...   \n",
       "\n",
       "                                                   4  \n",
       "0  ICT                                           ...  \n",
       "1  ICT                                           ...  \n",
       "2  Engineering                                   ...  \n",
       "3  ICT                                           ...  "
      ]
     },
     "execution_count": 20,
     "metadata": {},
     "output_type": "execute_result"
    }
   ],
   "source": [
    "rows"
   ]
  },
  {
   "cell_type": "code",
   "execution_count": null,
   "metadata": {},
   "outputs": [],
   "source": []
  }
 ],
 "metadata": {
  "kernelspec": {
   "display_name": "Python 3",
   "language": "python",
   "name": "python3"
  },
  "language_info": {
   "codemirror_mode": {
    "name": "ipython",
    "version": 3
   },
   "file_extension": ".py",
   "mimetype": "text/x-python",
   "name": "python",
   "nbconvert_exporter": "python",
   "pygments_lexer": "ipython3",
   "version": "3.8.2"
  }
 },
 "nbformat": 4,
 "nbformat_minor": 4
}
