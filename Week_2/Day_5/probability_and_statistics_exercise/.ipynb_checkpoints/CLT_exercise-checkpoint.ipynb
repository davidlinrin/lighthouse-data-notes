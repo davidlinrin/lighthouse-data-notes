{
 "cells": [
  {
   "cell_type": "code",
   "execution_count": 9,
   "metadata": {},
   "outputs": [],
   "source": [
    "import pandas as pd\n",
    "import numpy as np\n",
    "# package with hypothesis tests\n",
    "import scipy.stats as st\n",
    "import matplotlib.pyplot as plt\n",
    "\n",
    "import random\n",
    "from numpy.random import seed\n",
    "from numpy.random import randint\n",
    "from numpy import mean"
   ]
  },
  {
   "cell_type": "code",
   "execution_count": 2,
   "metadata": {},
   "outputs": [
    {
     "data": {
      "image/png": "[encoded data removed]",
      "text/plain": [
       "<Figure size 1008x360 with 2 Axes>"
      ]
     },
     "metadata": {
      "needs_background": "light"
     },
     "output_type": "display_data"
    }
   ],
   "source": [
    "#\n",
    "uniform = np.random.rand(10000)\n",
    "normal = np.random.randn(10000)\n",
    "\n",
    "fig = plt.figure(figsize=(14,5))\n",
    "ax1 = fig.add_subplot(1,2,1)\n",
    "ax2 = fig.add_subplot(1,2,2)\n",
    "ax1.hist(uniform, 20)\n",
    "ax1.set_title('Uniform data')\n",
    "ax2.hist(normal, 20)\n",
    "ax2.set_title('Normal data')\n",
    "fig.tight_layout()\n",
    "fig.show();"
   ]
  },
  {
   "cell_type": "markdown",
   "metadata": {},
   "source": [
    "### CLT - simulation"
   ]
  },
  {
   "cell_type": "markdown",
   "metadata": {},
   "source": [
    "### How many samples do we have to take, so the distribution of means of these samples will pass the shapiro-wilk test for normality if population is from Uniform or Normal distribution?\n",
    "+ Suppose the population is 10000 observation.\n",
    "+ Suppose sample size is always 50\n",
    "\n",
    "We will be suprised to see how fast the test passes for both distributions."
   ]
  },
  {
   "cell_type": "code",
   "execution_count": 68,
   "metadata": {},
   "outputs": [
    {
     "name": "stdout",
     "output_type": "stream",
     "text": [
      "0.01853141374886036 11\n"
     ]
    }
   ],
   "source": [
    "# Uniform\n",
    "shapiro_p = 1\n",
    "means = random.sample(list(uniform), 3)\n",
    "\n",
    "while shapiro_p > 0.05:\n",
    "        sampled = random.sample(list(uniform), 50)\n",
    "        means.append(mean(sampled))\n",
    "        shapiro_p = st.shapiro(means)[1]\n",
    "        \n",
    "print(shapiro_p, len(means))"
   ]
  },
  {
   "cell_type": "code",
   "execution_count": 69,
   "metadata": {},
   "outputs": [
    {
     "data": {
      "text/plain": [
       "(array([1., 0., 1., 0., 0., 2., 0., 0., 2., 5.]),\n",
       " array([0.16016889, 0.19722454, 0.2342802 , 0.27133586, 0.30839152,\n",
       "        0.34544717, 0.38250283, 0.41955849, 0.45661415, 0.4936698 ,\n",
       "        0.53072546]),\n",
       " <BarContainer object of 10 artists>)"
      ]
     },
     "execution_count": 69,
     "metadata": {},
     "output_type": "execute_result"
    },
    {
     "data": {
      "image/png": "[encoded data removed]",
      "text/plain": [
       "<Figure size 432x288 with 1 Axes>"
      ]
     },
     "metadata": {
      "needs_background": "light"
     },
     "output_type": "display_data"
    }
   ],
   "source": [
    "plt.hist(means)"
   ]
  },
  {
   "cell_type": "code",
   "execution_count": 66,
   "metadata": {},
   "outputs": [
    {
     "name": "stdout",
     "output_type": "stream",
     "text": [
      "0.03482317179441452 9\n"
     ]
    }
   ],
   "source": [
    "# normal\n",
    "shapiro_p = 1\n",
    "means = random.sample(list(normal), 3)\n",
    "while shapiro_p > 0.05:\n",
    "        sampled = random.sample(list(normal), 50)\n",
    "        means.append(mean(sampled))\n",
    "        shapiro_p = st.shapiro(means)[1]\n",
    "print(shapiro_p, len(means))"
   ]
  },
  {
   "cell_type": "code",
   "execution_count": 67,
   "metadata": {},
   "outputs": [
    {
     "data": {
      "text/plain": [
       "(array([2., 0., 1., 4., 1., 0., 0., 0., 0., 1.]),\n",
       " array([-4.04781062e-01, -2.69886416e-01, -1.34991770e-01, -9.71239827e-05,\n",
       "         1.34797522e-01,  2.69692168e-01,  4.04586814e-01,  5.39481460e-01,\n",
       "         6.74376106e-01,  8.09270752e-01,  9.44165398e-01]),\n",
       " <BarContainer object of 10 artists>)"
      ]
     },
     "execution_count": 67,
     "metadata": {},
     "output_type": "execute_result"
    },
    {
     "data": {
      "image/png": "[encoded data removed]",
      "text/plain": [
       "<Figure size 432x288 with 1 Axes>"
      ]
     },
     "metadata": {
      "needs_background": "light"
     },
     "output_type": "display_data"
    }
   ],
   "source": [
    "plt.hist(means)"
   ]
  },
  {
   "cell_type": "code",
   "execution_count": null,
   "metadata": {},
   "outputs": [],
   "source": []
  }
 ],
 "metadata": {
  "kernelspec": {
   "display_name": "Python 3",
   "language": "python",
   "name": "python3"
  },
  "language_info": {
   "codemirror_mode": {
    "name": "ipython",
    "version": 3
   },
   "file_extension": ".py",
   "mimetype": "text/x-python",
   "name": "python",
   "nbconvert_exporter": "python",
   "pygments_lexer": "ipython3",
   "version": "3.8.2"
  }
 },
 "nbformat": 4,
 "nbformat_minor": 4
}
