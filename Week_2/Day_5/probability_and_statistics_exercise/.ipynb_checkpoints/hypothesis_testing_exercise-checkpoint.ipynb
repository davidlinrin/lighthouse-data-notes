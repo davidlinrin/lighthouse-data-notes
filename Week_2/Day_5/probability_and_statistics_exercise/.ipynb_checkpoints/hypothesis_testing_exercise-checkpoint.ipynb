{
 "cells": [
  {
   "cell_type": "code",
   "execution_count": 173,
   "metadata": {},
   "outputs": [],
   "source": [
    "import pandas as pd\n",
    "import numpy as np\n",
    "import os\n",
    "import datetime \n",
    "# package with hypothesis tests\n",
    "import scipy.stats as st"
   ]
  },
  {
   "cell_type": "markdown",
   "metadata": {},
   "source": [
    "## Data"
   ]
  },
  {
   "cell_type": "markdown",
   "metadata": {},
   "source": [
    "You can download the data from [**here**](https://drive.google.com/file/d/19b9lHlkixZhs8yka8zV0QFieao66dUcY/view?usp=sharing). There are results of NBA games from seasons 2013 to 2015."
   ]
  },
  {
   "cell_type": "code",
   "execution_count": 174,
   "metadata": {
    "scrolled": true
   },
   "outputs": [
    {
     "data": {
      "text/html": [
       "<div>\n",
       "<style scoped>\n",
       "    .dataframe tbody tr th:only-of-type {\n",
       "        vertical-align: middle;\n",
       "    }\n",
       "\n",
       "    .dataframe tbody tr th {\n",
       "        vertical-align: top;\n",
       "    }\n",
       "\n",
       "    .dataframe thead th {\n",
       "        text-align: right;\n",
       "    }\n",
       "</style>\n",
       "<table border=\"1\" class=\"dataframe\">\n",
       "  <thead>\n",
       "    <tr style=\"text-align: right;\">\n",
       "      <th></th>\n",
       "      <th>SEASON_ID</th>\n",
       "      <th>TEAM_ID</th>\n",
       "      <th>TEAM_ABBREVIATION</th>\n",
       "      <th>TEAM_NAME</th>\n",
       "      <th>GAME_ID</th>\n",
       "      <th>GAME_DATE</th>\n",
       "      <th>MATCHUP</th>\n",
       "      <th>WL</th>\n",
       "      <th>MIN</th>\n",
       "      <th>PTS</th>\n",
       "      <th>...</th>\n",
       "      <th>FT_PCT</th>\n",
       "      <th>OREB</th>\n",
       "      <th>DREB</th>\n",
       "      <th>REB</th>\n",
       "      <th>AST</th>\n",
       "      <th>STL</th>\n",
       "      <th>BLK</th>\n",
       "      <th>TOV</th>\n",
       "      <th>PF</th>\n",
       "      <th>PLUS_MINUS</th>\n",
       "    </tr>\n",
       "  </thead>\n",
       "  <tbody>\n",
       "    <tr>\n",
       "      <th>0</th>\n",
       "      <td>22015</td>\n",
       "      <td>1610612750</td>\n",
       "      <td>MIN</td>\n",
       "      <td>Minnesota Timberwolves</td>\n",
       "      <td>21501226</td>\n",
       "      <td>2016-04-13</td>\n",
       "      <td>MIN vs. NOP</td>\n",
       "      <td>W</td>\n",
       "      <td>240</td>\n",
       "      <td>144</td>\n",
       "      <td>...</td>\n",
       "      <td>0.826</td>\n",
       "      <td>5</td>\n",
       "      <td>38</td>\n",
       "      <td>43</td>\n",
       "      <td>41</td>\n",
       "      <td>14</td>\n",
       "      <td>8</td>\n",
       "      <td>13</td>\n",
       "      <td>20</td>\n",
       "      <td>35.0</td>\n",
       "    </tr>\n",
       "    <tr>\n",
       "      <th>1</th>\n",
       "      <td>22015</td>\n",
       "      <td>1610612749</td>\n",
       "      <td>MIL</td>\n",
       "      <td>Milwaukee Bucks</td>\n",
       "      <td>21501225</td>\n",
       "      <td>2016-04-13</td>\n",
       "      <td>MIL vs. IND</td>\n",
       "      <td>L</td>\n",
       "      <td>240</td>\n",
       "      <td>92</td>\n",
       "      <td>...</td>\n",
       "      <td>0.846</td>\n",
       "      <td>7</td>\n",
       "      <td>36</td>\n",
       "      <td>43</td>\n",
       "      <td>23</td>\n",
       "      <td>8</td>\n",
       "      <td>3</td>\n",
       "      <td>15</td>\n",
       "      <td>15</td>\n",
       "      <td>-5.0</td>\n",
       "    </tr>\n",
       "    <tr>\n",
       "      <th>2</th>\n",
       "      <td>22015</td>\n",
       "      <td>1610612738</td>\n",
       "      <td>BOS</td>\n",
       "      <td>Boston Celtics</td>\n",
       "      <td>21501217</td>\n",
       "      <td>2016-04-13</td>\n",
       "      <td>BOS vs. MIA</td>\n",
       "      <td>W</td>\n",
       "      <td>240</td>\n",
       "      <td>98</td>\n",
       "      <td>...</td>\n",
       "      <td>0.864</td>\n",
       "      <td>10</td>\n",
       "      <td>29</td>\n",
       "      <td>39</td>\n",
       "      <td>20</td>\n",
       "      <td>7</td>\n",
       "      <td>3</td>\n",
       "      <td>7</td>\n",
       "      <td>20</td>\n",
       "      <td>10.0</td>\n",
       "    </tr>\n",
       "  </tbody>\n",
       "</table>\n",
       "<p>3 rows × 28 columns</p>\n",
       "</div>"
      ],
      "text/plain": [
       "   SEASON_ID     TEAM_ID TEAM_ABBREVIATION               TEAM_NAME   GAME_ID  \\\n",
       "0      22015  1610612750               MIN  Minnesota Timberwolves  21501226   \n",
       "1      22015  1610612749               MIL         Milwaukee Bucks  21501225   \n",
       "2      22015  1610612738               BOS          Boston Celtics  21501217   \n",
       "\n",
       "    GAME_DATE      MATCHUP WL  MIN  PTS  ...  FT_PCT  OREB  DREB  REB  AST  \\\n",
       "0  2016-04-13  MIN vs. NOP  W  240  144  ...   0.826     5    38   43   41   \n",
       "1  2016-04-13  MIL vs. IND  L  240   92  ...   0.846     7    36   43   23   \n",
       "2  2016-04-13  BOS vs. MIA  W  240   98  ...   0.864    10    29   39   20   \n",
       "\n",
       "   STL  BLK  TOV  PF  PLUS_MINUS  \n",
       "0   14    8   13  20        35.0  \n",
       "1    8    3   15  15        -5.0  \n",
       "2    7    3    7  20        10.0  \n",
       "\n",
       "[3 rows x 28 columns]"
      ]
     },
     "execution_count": 174,
     "metadata": {},
     "output_type": "execute_result"
    }
   ],
   "source": [
    "data = pd.read_csv(\"nba_games_2013_2015.csv\",delimiter=';') \n",
    "# 7380 rows\n",
    "data.head(3)"
   ]
  },
  {
   "cell_type": "code",
   "execution_count": 185,
   "metadata": {},
   "outputs": [
    {
     "data": {
      "text/plain": [
       "Timestamp('2016-04-13 00:00:00')"
      ]
     },
     "execution_count": 185,
     "metadata": {},
     "output_type": "execute_result"
    }
   ],
   "source": [
    "data['date'] = data['GAME_DATE'].astype('datetime64')\n",
    "data['date'][0]"
   ]
  },
  {
   "cell_type": "markdown",
   "metadata": {},
   "source": [
    "### Split the data into 3 separate files according to the season!"
   ]
  },
  {
   "cell_type": "code",
   "execution_count": null,
   "metadata": {},
   "outputs": [],
   "source": [
    "data_2013 = data[data['SEASON_ID']==22013]\n",
    "data_2014 = data[data['SEASON_ID']==22014]\n",
    "data_2015 = data[data['SEASON_ID']==22015]"
   ]
  },
  {
   "cell_type": "markdown",
   "metadata": {},
   "source": [
    "### Test, if the hypothesis that offensive production of Cleveland Cavaliers and Golden State Warriors (teams from finals) was distributed equally in 2015/2016\n",
    "\n",
    "Do two separate tests for PTS and FG_PCT"
   ]
  },
  {
   "cell_type": "code",
   "execution_count": 43,
   "metadata": {},
   "outputs": [],
   "source": [
    "# 2015 data\n",
    "CLE_2014_2015 = data_2014[data_2014['TEAM_ABBREVIATION']=='CLE']\n",
    "GSW_2014_2015 = data_2014[data_2014['TEAM_ABBREVIATION']=='GSW']\n",
    "\n",
    "# 2016 data\n",
    "CLE_2015_2016 = data_2015[data_2015['TEAM_ABBREVIATION']=='CLE']\n",
    "GSW_2015_2016 = data_2015[data_2015['TEAM_ABBREVIATION']=='GSW']"
   ]
  },
  {
   "cell_type": "code",
   "execution_count": 143,
   "metadata": {},
   "outputs": [
    {
     "name": "stdout",
     "output_type": "stream",
     "text": [
      "Ttest_indResult(statistic=-5.973920595717936, pvalue=1.4233420547764935e-08)\n",
      "Ttest_indResult(statistic=-5.973920595717936, pvalue=1.430265283752963e-08)\n"
     ]
    }
   ],
   "source": [
    "# Assuming equal variance\n",
    "result = st.ttest_ind(CLE_2015_2016['PTS'],GSW_2015_2016['PTS'])\n",
    "\n",
    "# Assuming un equal variance\n",
    "result2 = st.ttest_ind(CLE_2015_2016['PTS'],GSW_2015_2016['PTS'], equal_var=False)\n",
    "\n",
    "print(result)\n",
    "print(result2)"
   ]
  },
  {
   "cell_type": "markdown",
   "metadata": {},
   "source": [
    "### Test whether production (PTS) of Cleveland changes significantly before and after coach change in 2015/2016 - Use ony data from seasons 2014/2015 and 2015/2016 - Those are when cleveland was coached by Blatt\n",
    "#### Coach Blatt was fired on 24th of Jan, 2016\n",
    "\n",
    "We have two possible solutions here:\n",
    "- take the same amount of games from before and after and try t-test.\n",
    "- take all the games from before and after and look for the right test to compare two samples with different sizes"
   ]
  },
  {
   "cell_type": "code",
   "execution_count": 147,
   "metadata": {},
   "outputs": [],
   "source": [
    "coach_clev = pd.concat([CLE_2014_2015,CLE_2015_2016])\n",
    "coach_clev['DATE'] = coach_clev['GAME_DATE'].str.replace('-', '')\n",
    "coach_clev['DATE'] = coach_clev['DATE'].astype(int)\n",
    "\n",
    "# games from not coached by BLATT (40 rows)\n",
    "coach_after = coach_clev[coach_clev['DATE'] > 20160124]\n",
    "\n",
    "# games coached by BLATT (124 rows)\n",
    "coach_before = coach_clev[(coach_clev['DATE'] < 20160124) & (20140101 < coach_clev['DATE'])]\n"
   ]
  },
  {
   "cell_type": "code",
   "execution_count": 168,
   "metadata": {},
   "outputs": [
    {
     "name": "stdout",
     "output_type": "stream",
     "text": [
      "ShapiroResult(statistic=0.9810476303100586, pvalue=0.7283441424369812)\n",
      "ShapiroResult(statistic=0.9679392576217651, pvalue=0.30906569957733154)\n"
     ]
    }
   ],
   "source": [
    "# normality\n",
    "print(st.shapiro(coach_before_40['PTS']))\n",
    "print(st.shapiro(coach_after['PTS']))"
   ]
  },
  {
   "cell_type": "code",
   "execution_count": 170,
   "metadata": {},
   "outputs": [
    {
     "name": "stdout",
     "output_type": "stream",
     "text": [
      "Ttest_relResult(statistic=-1.612235944130793, pvalue=0.11497489793264457)\n",
      "Ttest_indResult(statistic=-1.640443513044006, pvalue=0.10493985629983593)\n",
      "Ttest_indResult(statistic=-3.020359501985649, pvalue=0.003290500194598496)\n",
      "KruskalResult(statistic=7.961718139705661, pvalue=0.004777703982670637)\n"
     ]
    }
   ],
   "source": [
    "# same sample size\n",
    "coach_before_40 = coach_before.sample(n=40,random_state=99)\n",
    "\n",
    "# pooled t test\n",
    "pooled = st.ttest_rel(coach_before_40['PTS'],coach_after['PTS'], nan_policy='omit')\n",
    "\n",
    "# Assuming same variance\n",
    "equal_var = st.ttest_ind(coach_before_40['PTS'],coach_after['PTS'],equal_var=True, nan_policy='omit')\n",
    "\n",
    "# Assuming different variance (OR welch t test, different sample size)\n",
    "non_equal_var = st.ttest_ind(coach_before['PTS'],coach_after['PTS'],equal_var=False, nan_policy='omit')\n",
    "\n",
    "print(pooled)\n",
    "print(equal_var)\n",
    "print(non_equal_var)\n",
    "print(st.kruskal(coach_before['PTS'],coach_after['PTS']))"
   ]
  },
  {
   "cell_type": "markdown",
   "metadata": {},
   "source": [
    "Download the same dataset for playoffs games in 2016 from [**here**](https://drive.google.com/file/d/1jY57bAOZp9y83b4W2PAoSH1uFARaxxls/view?usp=sharing)"
   ]
  },
  {
   "cell_type": "markdown",
   "metadata": {},
   "source": [
    "### Select Toronto Raptors and test the hypothesis that number of blocks in playoffs are from the same distribution as in reguar season 2015/2016\n",
    "we again have two samples with different sizes"
   ]
  },
  {
   "cell_type": "code",
   "execution_count": 149,
   "metadata": {},
   "outputs": [],
   "source": [
    "data2 = pd.read_csv(\"nba_playoff_games_2016.csv\",delimiter=';') "
   ]
  },
  {
   "cell_type": "code",
   "execution_count": 152,
   "metadata": {},
   "outputs": [],
   "source": [
    "raptor_2016 = data2[data2.TEAM_NAME == \"Toronto Raptors\"][\"BLK\"]\n",
    "raptor_2015 = data_2015[data_2015.TEAM_NAME =='Toronto Raptors']['BLK']"
   ]
  },
  {
   "cell_type": "code",
   "execution_count": 156,
   "metadata": {},
   "outputs": [
    {
     "data": {
      "text/plain": [
       "Ttest_indResult(statistic=-3.500438136870473, pvalue=0.0011403514552816168)"
      ]
     },
     "execution_count": 156,
     "metadata": {},
     "output_type": "execute_result"
    }
   ],
   "source": [
    "raptor = st.ttest_ind(raptor_2016,raptor_2015,equal_var=False, nan_policy='omit')\n",
    "raptor"
   ]
  },
  {
   "cell_type": "code",
   "execution_count": 169,
   "metadata": {},
   "outputs": [
    {
     "data": {
      "text/plain": [
       "KruskalResult(statistic=7.483641456983013, pvalue=0.006226202691250736)"
      ]
     },
     "execution_count": 169,
     "metadata": {},
     "output_type": "execute_result"
    }
   ],
   "source": [
    "st.kruskal(raptor_2016,raptor_2015)"
   ]
  },
  {
   "cell_type": "markdown",
   "metadata": {},
   "source": [
    "### Test the hypothesis that points per game are equally distributed in all 3 seasons for Cleveland\n",
    "we need a hypothesis test to compare more than 2 distributions"
   ]
  },
  {
   "cell_type": "code",
   "execution_count": 161,
   "metadata": {},
   "outputs": [],
   "source": [
    "CLE_2013 = data_2013[data_2013['TEAM_ABBREVIATION']=='CLE']['PTS']\n",
    "CLE_2014 = data_2014[data_2014['TEAM_ABBREVIATION']=='CLE']['PTS']\n",
    "CLE_2015 = data_2015[data_2015['TEAM_ABBREVIATION']=='CLE']['PTS']"
   ]
  },
  {
   "cell_type": "code",
   "execution_count": 162,
   "metadata": {},
   "outputs": [
    {
     "data": {
      "text/plain": [
       "F_onewayResult(statistic=5.9200250318080885, pvalue=0.003087727119983984)"
      ]
     },
     "execution_count": 162,
     "metadata": {},
     "output_type": "execute_result"
    }
   ],
   "source": [
    "st.f_oneway(CLE_2013,CLE_2014,CLE_2015)"
   ]
  },
  {
   "cell_type": "markdown",
   "metadata": {},
   "source": [
    "#### Between which seasons, we can see the significant difference?\n",
    "+ unfortunatelly, this is not the output of ANOVA test and further analysis needs to be applied in most of the cases\n",
    "+ Note that Lebron James came back to Cleveland prior to season 2014/2015 (just for interpretation of the results)"
   ]
  },
  {
   "cell_type": "code",
   "execution_count": 163,
   "metadata": {},
   "outputs": [
    {
     "data": {
      "text/plain": [
       "Ttest_indResult(statistic=-2.508958204796911, pvalue=0.013091680534336523)"
      ]
     },
     "execution_count": 163,
     "metadata": {},
     "output_type": "execute_result"
    }
   ],
   "source": [
    "st.ttest_ind(CLE_2013,CLE_2014)"
   ]
  },
  {
   "cell_type": "code",
   "execution_count": 164,
   "metadata": {},
   "outputs": [
    {
     "data": {
      "text/plain": [
       "Ttest_indResult(statistic=-0.6442093460555935, pvalue=0.5203507617734474)"
      ]
     },
     "execution_count": 164,
     "metadata": {},
     "output_type": "execute_result"
    }
   ],
   "source": [
    "st.ttest_ind(CLE_2014,CLE_2015)"
   ]
  },
  {
   "cell_type": "code",
   "execution_count": 165,
   "metadata": {},
   "outputs": [
    {
     "data": {
      "text/plain": [
       "Ttest_indResult(statistic=-3.339057501969076, pvalue=0.001043164899206325)"
      ]
     },
     "execution_count": 165,
     "metadata": {},
     "output_type": "execute_result"
    }
   ],
   "source": [
    "st.ttest_ind(CLE_2013,CLE_2015)"
   ]
  }
 ],
 "metadata": {
  "kernelspec": {
   "display_name": "Python 3",
   "language": "python",
   "name": "python3"
  },
  "language_info": {
   "codemirror_mode": {
    "name": "ipython",
    "version": 3
   },
   "file_extension": ".py",
   "mimetype": "text/x-python",
   "name": "python",
   "nbconvert_exporter": "python",
   "pygments_lexer": "ipython3",
   "version": "3.8.2"
  }
 },
 "nbformat": 4,
 "nbformat_minor": 4
}
