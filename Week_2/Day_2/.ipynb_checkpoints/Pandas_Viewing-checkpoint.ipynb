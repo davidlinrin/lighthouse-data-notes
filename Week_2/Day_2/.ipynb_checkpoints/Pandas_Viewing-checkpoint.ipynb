{
 "cells": [
  {
   "cell_type": "code",
   "execution_count": 1,
   "metadata": {},
   "outputs": [],
   "source": [
    "import numpy as np\n",
    "import pandas as pd"
   ]
  },
  {
   "cell_type": "code",
   "execution_count": 3,
   "metadata": {},
   "outputs": [
    {
     "data": {
      "text/plain": [
       "0    1.0\n",
       "1    3.0\n",
       "2    5.0\n",
       "3    NaN\n",
       "4    6.0\n",
       "5    8.0\n",
       "dtype: float64"
      ]
     },
     "execution_count": 3,
     "metadata": {},
     "output_type": "execute_result"
    }
   ],
   "source": [
    "s = pd.Series([1, 3, 5, np.nan, 6, 8])\n",
    "s"
   ]
  },
  {
   "cell_type": "code",
   "execution_count": 9,
   "metadata": {},
   "outputs": [
    {
     "data": {
      "text/plain": [
       "DatetimeIndex(['2013-01-01', '2013-01-02', '2013-01-03', '2013-01-04',\n",
       "               '2013-01-05', '2013-01-06'],\n",
       "              dtype='datetime64[ns]', freq='D')"
      ]
     },
     "execution_count": 9,
     "metadata": {},
     "output_type": "execute_result"
    }
   ],
   "source": [
    "# freq is opitional, defualt is days\n",
    "\n",
    "dates = pd.date_range('20130101', periods=6, freq='d')\n",
    "dates"
   ]
  },
  {
   "cell_type": "code",
   "execution_count": 10,
   "metadata": {},
   "outputs": [
    {
     "data": {
      "text/html": [
       "<div>\n",
       "<style scoped>\n",
       "    .dataframe tbody tr th:only-of-type {\n",
       "        vertical-align: middle;\n",
       "    }\n",
       "\n",
       "    .dataframe tbody tr th {\n",
       "        vertical-align: top;\n",
       "    }\n",
       "\n",
       "    .dataframe thead th {\n",
       "        text-align: right;\n",
       "    }\n",
       "</style>\n",
       "<table border=\"1\" class=\"dataframe\">\n",
       "  <thead>\n",
       "    <tr style=\"text-align: right;\">\n",
       "      <th></th>\n",
       "      <th>A</th>\n",
       "      <th>B</th>\n",
       "      <th>C</th>\n",
       "      <th>D</th>\n",
       "    </tr>\n",
       "  </thead>\n",
       "  <tbody>\n",
       "    <tr>\n",
       "      <th>2013-01-01</th>\n",
       "      <td>-0.831450</td>\n",
       "      <td>-0.179872</td>\n",
       "      <td>0.236589</td>\n",
       "      <td>0.091086</td>\n",
       "    </tr>\n",
       "    <tr>\n",
       "      <th>2013-01-02</th>\n",
       "      <td>2.781378</td>\n",
       "      <td>-1.044732</td>\n",
       "      <td>2.216942</td>\n",
       "      <td>1.837481</td>\n",
       "    </tr>\n",
       "    <tr>\n",
       "      <th>2013-01-03</th>\n",
       "      <td>0.224711</td>\n",
       "      <td>0.940624</td>\n",
       "      <td>-0.801437</td>\n",
       "      <td>0.027306</td>\n",
       "    </tr>\n",
       "    <tr>\n",
       "      <th>2013-01-04</th>\n",
       "      <td>0.554579</td>\n",
       "      <td>1.564823</td>\n",
       "      <td>-1.984727</td>\n",
       "      <td>-0.277643</td>\n",
       "    </tr>\n",
       "    <tr>\n",
       "      <th>2013-01-05</th>\n",
       "      <td>0.241186</td>\n",
       "      <td>-1.053898</td>\n",
       "      <td>1.383223</td>\n",
       "      <td>3.763903</td>\n",
       "    </tr>\n",
       "    <tr>\n",
       "      <th>2013-01-06</th>\n",
       "      <td>-1.506029</td>\n",
       "      <td>0.499896</td>\n",
       "      <td>-0.395599</td>\n",
       "      <td>-1.161306</td>\n",
       "    </tr>\n",
       "  </tbody>\n",
       "</table>\n",
       "</div>"
      ],
      "text/plain": [
       "                   A         B         C         D\n",
       "2013-01-01 -0.831450 -0.179872  0.236589  0.091086\n",
       "2013-01-02  2.781378 -1.044732  2.216942  1.837481\n",
       "2013-01-03  0.224711  0.940624 -0.801437  0.027306\n",
       "2013-01-04  0.554579  1.564823 -1.984727 -0.277643\n",
       "2013-01-05  0.241186 -1.053898  1.383223  3.763903\n",
       "2013-01-06 -1.506029  0.499896 -0.395599 -1.161306"
      ]
     },
     "execution_count": 10,
     "metadata": {},
     "output_type": "execute_result"
    }
   ],
   "source": [
    "df = pd.DataFrame(np.random.randn(6, 4), index=dates, columns=list('ABCD'))\n",
    "df"
   ]
  },
  {
   "cell_type": "code",
   "execution_count": 21,
   "metadata": {},
   "outputs": [
    {
     "data": {
      "text/html": [
       "<div>\n",
       "<style scoped>\n",
       "    .dataframe tbody tr th:only-of-type {\n",
       "        vertical-align: middle;\n",
       "    }\n",
       "\n",
       "    .dataframe tbody tr th {\n",
       "        vertical-align: top;\n",
       "    }\n",
       "\n",
       "    .dataframe thead th {\n",
       "        text-align: right;\n",
       "    }\n",
       "</style>\n",
       "<table border=\"1\" class=\"dataframe\">\n",
       "  <thead>\n",
       "    <tr style=\"text-align: right;\">\n",
       "      <th></th>\n",
       "      <th>AA</th>\n",
       "      <th>AB</th>\n",
       "      <th>AC</th>\n",
       "      <th>AD</th>\n",
       "      <th>AE</th>\n",
       "      <th>AF</th>\n",
       "    </tr>\n",
       "  </thead>\n",
       "  <tbody>\n",
       "    <tr>\n",
       "      <th>0</th>\n",
       "      <td>1.0</td>\n",
       "      <td>2013-01-02</td>\n",
       "      <td>1.0</td>\n",
       "      <td>3</td>\n",
       "      <td>test</td>\n",
       "      <td>foo</td>\n",
       "    </tr>\n",
       "    <tr>\n",
       "      <th>1</th>\n",
       "      <td>1.0</td>\n",
       "      <td>2013-01-02</td>\n",
       "      <td>1.0</td>\n",
       "      <td>3</td>\n",
       "      <td>train</td>\n",
       "      <td>foo</td>\n",
       "    </tr>\n",
       "    <tr>\n",
       "      <th>2</th>\n",
       "      <td>1.0</td>\n",
       "      <td>2013-01-02</td>\n",
       "      <td>1.0</td>\n",
       "      <td>3</td>\n",
       "      <td>test</td>\n",
       "      <td>foo</td>\n",
       "    </tr>\n",
       "    <tr>\n",
       "      <th>3</th>\n",
       "      <td>1.0</td>\n",
       "      <td>2013-01-02</td>\n",
       "      <td>1.0</td>\n",
       "      <td>3</td>\n",
       "      <td>train</td>\n",
       "      <td>foo</td>\n",
       "    </tr>\n",
       "  </tbody>\n",
       "</table>\n",
       "</div>"
      ],
      "text/plain": [
       "    AA         AB   AC  AD     AE   AF\n",
       "0  1.0 2013-01-02  1.0   3   test  foo\n",
       "1  1.0 2013-01-02  1.0   3  train  foo\n",
       "2  1.0 2013-01-02  1.0   3   test  foo\n",
       "3  1.0 2013-01-02  1.0   3  train  foo"
      ]
     },
     "execution_count": 21,
     "metadata": {},
     "output_type": "execute_result"
    }
   ],
   "source": [
    "df2 = pd.DataFrame({'AA': 1.,\n",
    "                       'AB': pd.Timestamp('20130102'),\n",
    "                       'AC': pd.Series(1, index=list(range(4)), dtype='float32'),\n",
    "                       'AD': np.array([3] * 4, dtype='int32'),\n",
    "                       'AE': pd.Categorical([\"test\", \"train\", \"test\", \"train\"]),\n",
    "                       'AF': 'foo'})\n",
    "df2"
   ]
  },
  {
   "cell_type": "code",
   "execution_count": 22,
   "metadata": {},
   "outputs": [
    {
     "data": {
      "text/plain": [
       "AA           float64\n",
       "AB    datetime64[ns]\n",
       "AC           float32\n",
       "AD             int32\n",
       "AE          category\n",
       "AF            object\n",
       "dtype: object"
      ]
     },
     "execution_count": 22,
     "metadata": {},
     "output_type": "execute_result"
    }
   ],
   "source": [
    "df2.dtypes"
   ]
  },
  {
   "cell_type": "code",
   "execution_count": 23,
   "metadata": {},
   "outputs": [
    {
     "data": {
      "text/plain": [
       "0    1.0\n",
       "1    1.0\n",
       "2    1.0\n",
       "3    1.0\n",
       "Name: AA, dtype: float64"
      ]
     },
     "execution_count": 23,
     "metadata": {},
     "output_type": "execute_result"
    }
   ],
   "source": [
    "# just like terminal, pressing tab will show a list of valid names\n",
    "df2.AA"
   ]
  },
  {
   "cell_type": "code",
   "execution_count": 24,
   "metadata": {},
   "outputs": [
    {
     "data": {
      "text/html": [
       "<div>\n",
       "<style scoped>\n",
       "    .dataframe tbody tr th:only-of-type {\n",
       "        vertical-align: middle;\n",
       "    }\n",
       "\n",
       "    .dataframe tbody tr th {\n",
       "        vertical-align: top;\n",
       "    }\n",
       "\n",
       "    .dataframe thead th {\n",
       "        text-align: right;\n",
       "    }\n",
       "</style>\n",
       "<table border=\"1\" class=\"dataframe\">\n",
       "  <thead>\n",
       "    <tr style=\"text-align: right;\">\n",
       "      <th></th>\n",
       "      <th>A</th>\n",
       "      <th>B</th>\n",
       "      <th>C</th>\n",
       "      <th>D</th>\n",
       "    </tr>\n",
       "  </thead>\n",
       "  <tbody>\n",
       "    <tr>\n",
       "      <th>2013-01-01</th>\n",
       "      <td>-0.831450</td>\n",
       "      <td>-0.179872</td>\n",
       "      <td>0.236589</td>\n",
       "      <td>0.091086</td>\n",
       "    </tr>\n",
       "    <tr>\n",
       "      <th>2013-01-02</th>\n",
       "      <td>2.781378</td>\n",
       "      <td>-1.044732</td>\n",
       "      <td>2.216942</td>\n",
       "      <td>1.837481</td>\n",
       "    </tr>\n",
       "    <tr>\n",
       "      <th>2013-01-03</th>\n",
       "      <td>0.224711</td>\n",
       "      <td>0.940624</td>\n",
       "      <td>-0.801437</td>\n",
       "      <td>0.027306</td>\n",
       "    </tr>\n",
       "    <tr>\n",
       "      <th>2013-01-04</th>\n",
       "      <td>0.554579</td>\n",
       "      <td>1.564823</td>\n",
       "      <td>-1.984727</td>\n",
       "      <td>-0.277643</td>\n",
       "    </tr>\n",
       "    <tr>\n",
       "      <th>2013-01-05</th>\n",
       "      <td>0.241186</td>\n",
       "      <td>-1.053898</td>\n",
       "      <td>1.383223</td>\n",
       "      <td>3.763903</td>\n",
       "    </tr>\n",
       "  </tbody>\n",
       "</table>\n",
       "</div>"
      ],
      "text/plain": [
       "                   A         B         C         D\n",
       "2013-01-01 -0.831450 -0.179872  0.236589  0.091086\n",
       "2013-01-02  2.781378 -1.044732  2.216942  1.837481\n",
       "2013-01-03  0.224711  0.940624 -0.801437  0.027306\n",
       "2013-01-04  0.554579  1.564823 -1.984727 -0.277643\n",
       "2013-01-05  0.241186 -1.053898  1.383223  3.763903"
      ]
     },
     "execution_count": 24,
     "metadata": {},
     "output_type": "execute_result"
    }
   ],
   "source": [
    "df.head()"
   ]
  },
  {
   "cell_type": "code",
   "execution_count": 25,
   "metadata": {},
   "outputs": [
    {
     "data": {
      "text/html": [
       "<div>\n",
       "<style scoped>\n",
       "    .dataframe tbody tr th:only-of-type {\n",
       "        vertical-align: middle;\n",
       "    }\n",
       "\n",
       "    .dataframe tbody tr th {\n",
       "        vertical-align: top;\n",
       "    }\n",
       "\n",
       "    .dataframe thead th {\n",
       "        text-align: right;\n",
       "    }\n",
       "</style>\n",
       "<table border=\"1\" class=\"dataframe\">\n",
       "  <thead>\n",
       "    <tr style=\"text-align: right;\">\n",
       "      <th></th>\n",
       "      <th>A</th>\n",
       "      <th>B</th>\n",
       "      <th>C</th>\n",
       "      <th>D</th>\n",
       "    </tr>\n",
       "  </thead>\n",
       "  <tbody>\n",
       "    <tr>\n",
       "      <th>2013-01-04</th>\n",
       "      <td>0.554579</td>\n",
       "      <td>1.564823</td>\n",
       "      <td>-1.984727</td>\n",
       "      <td>-0.277643</td>\n",
       "    </tr>\n",
       "    <tr>\n",
       "      <th>2013-01-05</th>\n",
       "      <td>0.241186</td>\n",
       "      <td>-1.053898</td>\n",
       "      <td>1.383223</td>\n",
       "      <td>3.763903</td>\n",
       "    </tr>\n",
       "    <tr>\n",
       "      <th>2013-01-06</th>\n",
       "      <td>-1.506029</td>\n",
       "      <td>0.499896</td>\n",
       "      <td>-0.395599</td>\n",
       "      <td>-1.161306</td>\n",
       "    </tr>\n",
       "  </tbody>\n",
       "</table>\n",
       "</div>"
      ],
      "text/plain": [
       "                   A         B         C         D\n",
       "2013-01-04  0.554579  1.564823 -1.984727 -0.277643\n",
       "2013-01-05  0.241186 -1.053898  1.383223  3.763903\n",
       "2013-01-06 -1.506029  0.499896 -0.395599 -1.161306"
      ]
     },
     "execution_count": 25,
     "metadata": {},
     "output_type": "execute_result"
    }
   ],
   "source": [
    "df.tail(3)"
   ]
  },
  {
   "cell_type": "code",
   "execution_count": 26,
   "metadata": {},
   "outputs": [
    {
     "data": {
      "text/plain": [
       "DatetimeIndex(['2013-01-01', '2013-01-02', '2013-01-03', '2013-01-04',\n",
       "               '2013-01-05', '2013-01-06'],\n",
       "              dtype='datetime64[ns]', freq='D')"
      ]
     },
     "execution_count": 26,
     "metadata": {},
     "output_type": "execute_result"
    }
   ],
   "source": [
    "df.index"
   ]
  },
  {
   "cell_type": "code",
   "execution_count": 27,
   "metadata": {},
   "outputs": [
    {
     "data": {
      "text/plain": [
       "Index(['A', 'B', 'C', 'D'], dtype='object')"
      ]
     },
     "execution_count": 27,
     "metadata": {},
     "output_type": "execute_result"
    }
   ],
   "source": [
    "df.columns"
   ]
  },
  {
   "cell_type": "code",
   "execution_count": 28,
   "metadata": {},
   "outputs": [
    {
     "data": {
      "text/plain": [
       "array([[-0.83145038, -0.17987207,  0.23658934,  0.09108632],\n",
       "       [ 2.78137794, -1.04473153,  2.21694203,  1.8374814 ],\n",
       "       [ 0.22471069,  0.94062401, -0.8014375 ,  0.02730601],\n",
       "       [ 0.55457881,  1.56482329, -1.98472666, -0.27764329],\n",
       "       [ 0.24118607, -1.05389751,  1.38322279,  3.76390268],\n",
       "       [-1.50602898,  0.49989581, -0.39559854, -1.16130619]])"
      ]
     },
     "execution_count": 28,
     "metadata": {},
     "output_type": "execute_result"
    }
   ],
   "source": [
    "df.to_numpy()"
   ]
  },
  {
   "cell_type": "code",
   "execution_count": 29,
   "metadata": {},
   "outputs": [
    {
     "data": {
      "text/html": [
       "<div>\n",
       "<style scoped>\n",
       "    .dataframe tbody tr th:only-of-type {\n",
       "        vertical-align: middle;\n",
       "    }\n",
       "\n",
       "    .dataframe tbody tr th {\n",
       "        vertical-align: top;\n",
       "    }\n",
       "\n",
       "    .dataframe thead th {\n",
       "        text-align: right;\n",
       "    }\n",
       "</style>\n",
       "<table border=\"1\" class=\"dataframe\">\n",
       "  <thead>\n",
       "    <tr style=\"text-align: right;\">\n",
       "      <th></th>\n",
       "      <th>A</th>\n",
       "      <th>B</th>\n",
       "      <th>C</th>\n",
       "      <th>D</th>\n",
       "    </tr>\n",
       "  </thead>\n",
       "  <tbody>\n",
       "    <tr>\n",
       "      <th>count</th>\n",
       "      <td>6.000000</td>\n",
       "      <td>6.000000</td>\n",
       "      <td>6.000000</td>\n",
       "      <td>6.000000</td>\n",
       "    </tr>\n",
       "    <tr>\n",
       "      <th>mean</th>\n",
       "      <td>0.244062</td>\n",
       "      <td>0.121140</td>\n",
       "      <td>0.109165</td>\n",
       "      <td>0.713471</td>\n",
       "    </tr>\n",
       "    <tr>\n",
       "      <th>std</th>\n",
       "      <td>1.466582</td>\n",
       "      <td>1.070496</td>\n",
       "      <td>1.519905</td>\n",
       "      <td>1.784590</td>\n",
       "    </tr>\n",
       "    <tr>\n",
       "      <th>min</th>\n",
       "      <td>-1.506029</td>\n",
       "      <td>-1.053898</td>\n",
       "      <td>-1.984727</td>\n",
       "      <td>-1.161306</td>\n",
       "    </tr>\n",
       "    <tr>\n",
       "      <th>25%</th>\n",
       "      <td>-0.567410</td>\n",
       "      <td>-0.828517</td>\n",
       "      <td>-0.699978</td>\n",
       "      <td>-0.201406</td>\n",
       "    </tr>\n",
       "    <tr>\n",
       "      <th>50%</th>\n",
       "      <td>0.232948</td>\n",
       "      <td>0.160012</td>\n",
       "      <td>-0.079505</td>\n",
       "      <td>0.059196</td>\n",
       "    </tr>\n",
       "    <tr>\n",
       "      <th>75%</th>\n",
       "      <td>0.476231</td>\n",
       "      <td>0.830442</td>\n",
       "      <td>1.096564</td>\n",
       "      <td>1.400883</td>\n",
       "    </tr>\n",
       "    <tr>\n",
       "      <th>max</th>\n",
       "      <td>2.781378</td>\n",
       "      <td>1.564823</td>\n",
       "      <td>2.216942</td>\n",
       "      <td>3.763903</td>\n",
       "    </tr>\n",
       "  </tbody>\n",
       "</table>\n",
       "</div>"
      ],
      "text/plain": [
       "              A         B         C         D\n",
       "count  6.000000  6.000000  6.000000  6.000000\n",
       "mean   0.244062  0.121140  0.109165  0.713471\n",
       "std    1.466582  1.070496  1.519905  1.784590\n",
       "min   -1.506029 -1.053898 -1.984727 -1.161306\n",
       "25%   -0.567410 -0.828517 -0.699978 -0.201406\n",
       "50%    0.232948  0.160012 -0.079505  0.059196\n",
       "75%    0.476231  0.830442  1.096564  1.400883\n",
       "max    2.781378  1.564823  2.216942  3.763903"
      ]
     },
     "execution_count": 29,
     "metadata": {},
     "output_type": "execute_result"
    }
   ],
   "source": [
    "df.describe()"
   ]
  },
  {
   "cell_type": "code",
   "execution_count": 30,
   "metadata": {},
   "outputs": [
    {
     "data": {
      "text/html": [
       "<div>\n",
       "<style scoped>\n",
       "    .dataframe tbody tr th:only-of-type {\n",
       "        vertical-align: middle;\n",
       "    }\n",
       "\n",
       "    .dataframe tbody tr th {\n",
       "        vertical-align: top;\n",
       "    }\n",
       "\n",
       "    .dataframe thead th {\n",
       "        text-align: right;\n",
       "    }\n",
       "</style>\n",
       "<table border=\"1\" class=\"dataframe\">\n",
       "  <thead>\n",
       "    <tr style=\"text-align: right;\">\n",
       "      <th></th>\n",
       "      <th>2013-01-01</th>\n",
       "      <th>2013-01-02</th>\n",
       "      <th>2013-01-03</th>\n",
       "      <th>2013-01-04</th>\n",
       "      <th>2013-01-05</th>\n",
       "      <th>2013-01-06</th>\n",
       "    </tr>\n",
       "  </thead>\n",
       "  <tbody>\n",
       "    <tr>\n",
       "      <th>A</th>\n",
       "      <td>-0.831450</td>\n",
       "      <td>2.781378</td>\n",
       "      <td>0.224711</td>\n",
       "      <td>0.554579</td>\n",
       "      <td>0.241186</td>\n",
       "      <td>-1.506029</td>\n",
       "    </tr>\n",
       "    <tr>\n",
       "      <th>B</th>\n",
       "      <td>-0.179872</td>\n",
       "      <td>-1.044732</td>\n",
       "      <td>0.940624</td>\n",
       "      <td>1.564823</td>\n",
       "      <td>-1.053898</td>\n",
       "      <td>0.499896</td>\n",
       "    </tr>\n",
       "    <tr>\n",
       "      <th>C</th>\n",
       "      <td>0.236589</td>\n",
       "      <td>2.216942</td>\n",
       "      <td>-0.801437</td>\n",
       "      <td>-1.984727</td>\n",
       "      <td>1.383223</td>\n",
       "      <td>-0.395599</td>\n",
       "    </tr>\n",
       "    <tr>\n",
       "      <th>D</th>\n",
       "      <td>0.091086</td>\n",
       "      <td>1.837481</td>\n",
       "      <td>0.027306</td>\n",
       "      <td>-0.277643</td>\n",
       "      <td>3.763903</td>\n",
       "      <td>-1.161306</td>\n",
       "    </tr>\n",
       "  </tbody>\n",
       "</table>\n",
       "</div>"
      ],
      "text/plain": [
       "   2013-01-01  2013-01-02  2013-01-03  2013-01-04  2013-01-05  2013-01-06\n",
       "A   -0.831450    2.781378    0.224711    0.554579    0.241186   -1.506029\n",
       "B   -0.179872   -1.044732    0.940624    1.564823   -1.053898    0.499896\n",
       "C    0.236589    2.216942   -0.801437   -1.984727    1.383223   -0.395599\n",
       "D    0.091086    1.837481    0.027306   -0.277643    3.763903   -1.161306"
      ]
     },
     "execution_count": 30,
     "metadata": {},
     "output_type": "execute_result"
    }
   ],
   "source": [
    "df.T"
   ]
  },
  {
   "cell_type": "code",
   "execution_count": 32,
   "metadata": {},
   "outputs": [
    {
     "data": {
      "text/html": [
       "<div>\n",
       "<style scoped>\n",
       "    .dataframe tbody tr th:only-of-type {\n",
       "        vertical-align: middle;\n",
       "    }\n",
       "\n",
       "    .dataframe tbody tr th {\n",
       "        vertical-align: top;\n",
       "    }\n",
       "\n",
       "    .dataframe thead th {\n",
       "        text-align: right;\n",
       "    }\n",
       "</style>\n",
       "<table border=\"1\" class=\"dataframe\">\n",
       "  <thead>\n",
       "    <tr style=\"text-align: right;\">\n",
       "      <th></th>\n",
       "      <th>A</th>\n",
       "      <th>B</th>\n",
       "      <th>C</th>\n",
       "      <th>D</th>\n",
       "    </tr>\n",
       "  </thead>\n",
       "  <tbody>\n",
       "    <tr>\n",
       "      <th>2013-01-01</th>\n",
       "      <td>-0.831450</td>\n",
       "      <td>-0.179872</td>\n",
       "      <td>0.236589</td>\n",
       "      <td>0.091086</td>\n",
       "    </tr>\n",
       "    <tr>\n",
       "      <th>2013-01-02</th>\n",
       "      <td>2.781378</td>\n",
       "      <td>-1.044732</td>\n",
       "      <td>2.216942</td>\n",
       "      <td>1.837481</td>\n",
       "    </tr>\n",
       "    <tr>\n",
       "      <th>2013-01-03</th>\n",
       "      <td>0.224711</td>\n",
       "      <td>0.940624</td>\n",
       "      <td>-0.801437</td>\n",
       "      <td>0.027306</td>\n",
       "    </tr>\n",
       "    <tr>\n",
       "      <th>2013-01-04</th>\n",
       "      <td>0.554579</td>\n",
       "      <td>1.564823</td>\n",
       "      <td>-1.984727</td>\n",
       "      <td>-0.277643</td>\n",
       "    </tr>\n",
       "    <tr>\n",
       "      <th>2013-01-05</th>\n",
       "      <td>0.241186</td>\n",
       "      <td>-1.053898</td>\n",
       "      <td>1.383223</td>\n",
       "      <td>3.763903</td>\n",
       "    </tr>\n",
       "    <tr>\n",
       "      <th>2013-01-06</th>\n",
       "      <td>-1.506029</td>\n",
       "      <td>0.499896</td>\n",
       "      <td>-0.395599</td>\n",
       "      <td>-1.161306</td>\n",
       "    </tr>\n",
       "  </tbody>\n",
       "</table>\n",
       "</div>"
      ],
      "text/plain": [
       "                   A         B         C         D\n",
       "2013-01-01 -0.831450 -0.179872  0.236589  0.091086\n",
       "2013-01-02  2.781378 -1.044732  2.216942  1.837481\n",
       "2013-01-03  0.224711  0.940624 -0.801437  0.027306\n",
       "2013-01-04  0.554579  1.564823 -1.984727 -0.277643\n",
       "2013-01-05  0.241186 -1.053898  1.383223  3.763903\n",
       "2013-01-06 -1.506029  0.499896 -0.395599 -1.161306"
      ]
     },
     "execution_count": 32,
     "metadata": {},
     "output_type": "execute_result"
    }
   ],
   "source": [
    "df"
   ]
  },
  {
   "cell_type": "code",
   "execution_count": 33,
   "metadata": {},
   "outputs": [
    {
     "data": {
      "text/html": [
       "<div>\n",
       "<style scoped>\n",
       "    .dataframe tbody tr th:only-of-type {\n",
       "        vertical-align: middle;\n",
       "    }\n",
       "\n",
       "    .dataframe tbody tr th {\n",
       "        vertical-align: top;\n",
       "    }\n",
       "\n",
       "    .dataframe thead th {\n",
       "        text-align: right;\n",
       "    }\n",
       "</style>\n",
       "<table border=\"1\" class=\"dataframe\">\n",
       "  <thead>\n",
       "    <tr style=\"text-align: right;\">\n",
       "      <th></th>\n",
       "      <th>D</th>\n",
       "      <th>C</th>\n",
       "      <th>B</th>\n",
       "      <th>A</th>\n",
       "    </tr>\n",
       "  </thead>\n",
       "  <tbody>\n",
       "    <tr>\n",
       "      <th>2013-01-01</th>\n",
       "      <td>0.091086</td>\n",
       "      <td>0.236589</td>\n",
       "      <td>-0.179872</td>\n",
       "      <td>-0.831450</td>\n",
       "    </tr>\n",
       "    <tr>\n",
       "      <th>2013-01-02</th>\n",
       "      <td>1.837481</td>\n",
       "      <td>2.216942</td>\n",
       "      <td>-1.044732</td>\n",
       "      <td>2.781378</td>\n",
       "    </tr>\n",
       "    <tr>\n",
       "      <th>2013-01-03</th>\n",
       "      <td>0.027306</td>\n",
       "      <td>-0.801437</td>\n",
       "      <td>0.940624</td>\n",
       "      <td>0.224711</td>\n",
       "    </tr>\n",
       "    <tr>\n",
       "      <th>2013-01-04</th>\n",
       "      <td>-0.277643</td>\n",
       "      <td>-1.984727</td>\n",
       "      <td>1.564823</td>\n",
       "      <td>0.554579</td>\n",
       "    </tr>\n",
       "    <tr>\n",
       "      <th>2013-01-05</th>\n",
       "      <td>3.763903</td>\n",
       "      <td>1.383223</td>\n",
       "      <td>-1.053898</td>\n",
       "      <td>0.241186</td>\n",
       "    </tr>\n",
       "    <tr>\n",
       "      <th>2013-01-06</th>\n",
       "      <td>-1.161306</td>\n",
       "      <td>-0.395599</td>\n",
       "      <td>0.499896</td>\n",
       "      <td>-1.506029</td>\n",
       "    </tr>\n",
       "  </tbody>\n",
       "</table>\n",
       "</div>"
      ],
      "text/plain": [
       "                   D         C         B         A\n",
       "2013-01-01  0.091086  0.236589 -0.179872 -0.831450\n",
       "2013-01-02  1.837481  2.216942 -1.044732  2.781378\n",
       "2013-01-03  0.027306 -0.801437  0.940624  0.224711\n",
       "2013-01-04 -0.277643 -1.984727  1.564823  0.554579\n",
       "2013-01-05  3.763903  1.383223 -1.053898  0.241186\n",
       "2013-01-06 -1.161306 -0.395599  0.499896 -1.506029"
      ]
     },
     "execution_count": 33,
     "metadata": {},
     "output_type": "execute_result"
    }
   ],
   "source": [
    "df.sort_index(axis=1, ascending=False)"
   ]
  },
  {
   "cell_type": "code",
   "execution_count": 34,
   "metadata": {},
   "outputs": [
    {
     "data": {
      "text/html": [
       "<div>\n",
       "<style scoped>\n",
       "    .dataframe tbody tr th:only-of-type {\n",
       "        vertical-align: middle;\n",
       "    }\n",
       "\n",
       "    .dataframe tbody tr th {\n",
       "        vertical-align: top;\n",
       "    }\n",
       "\n",
       "    .dataframe thead th {\n",
       "        text-align: right;\n",
       "    }\n",
       "</style>\n",
       "<table border=\"1\" class=\"dataframe\">\n",
       "  <thead>\n",
       "    <tr style=\"text-align: right;\">\n",
       "      <th></th>\n",
       "      <th>A</th>\n",
       "      <th>B</th>\n",
       "      <th>C</th>\n",
       "      <th>D</th>\n",
       "    </tr>\n",
       "  </thead>\n",
       "  <tbody>\n",
       "    <tr>\n",
       "      <th>2013-01-05</th>\n",
       "      <td>0.241186</td>\n",
       "      <td>-1.053898</td>\n",
       "      <td>1.383223</td>\n",
       "      <td>3.763903</td>\n",
       "    </tr>\n",
       "    <tr>\n",
       "      <th>2013-01-02</th>\n",
       "      <td>2.781378</td>\n",
       "      <td>-1.044732</td>\n",
       "      <td>2.216942</td>\n",
       "      <td>1.837481</td>\n",
       "    </tr>\n",
       "    <tr>\n",
       "      <th>2013-01-01</th>\n",
       "      <td>-0.831450</td>\n",
       "      <td>-0.179872</td>\n",
       "      <td>0.236589</td>\n",
       "      <td>0.091086</td>\n",
       "    </tr>\n",
       "    <tr>\n",
       "      <th>2013-01-06</th>\n",
       "      <td>-1.506029</td>\n",
       "      <td>0.499896</td>\n",
       "      <td>-0.395599</td>\n",
       "      <td>-1.161306</td>\n",
       "    </tr>\n",
       "    <tr>\n",
       "      <th>2013-01-03</th>\n",
       "      <td>0.224711</td>\n",
       "      <td>0.940624</td>\n",
       "      <td>-0.801437</td>\n",
       "      <td>0.027306</td>\n",
       "    </tr>\n",
       "    <tr>\n",
       "      <th>2013-01-04</th>\n",
       "      <td>0.554579</td>\n",
       "      <td>1.564823</td>\n",
       "      <td>-1.984727</td>\n",
       "      <td>-0.277643</td>\n",
       "    </tr>\n",
       "  </tbody>\n",
       "</table>\n",
       "</div>"
      ],
      "text/plain": [
       "                   A         B         C         D\n",
       "2013-01-05  0.241186 -1.053898  1.383223  3.763903\n",
       "2013-01-02  2.781378 -1.044732  2.216942  1.837481\n",
       "2013-01-01 -0.831450 -0.179872  0.236589  0.091086\n",
       "2013-01-06 -1.506029  0.499896 -0.395599 -1.161306\n",
       "2013-01-03  0.224711  0.940624 -0.801437  0.027306\n",
       "2013-01-04  0.554579  1.564823 -1.984727 -0.277643"
      ]
     },
     "execution_count": 34,
     "metadata": {},
     "output_type": "execute_result"
    }
   ],
   "source": [
    "df.sort_values(by='B')"
   ]
  }
 ],
 "metadata": {
  "kernelspec": {
   "display_name": "Python 3",
   "language": "python",
   "name": "python3"
  },
  "language_info": {
   "codemirror_mode": {
    "name": "ipython",
    "version": 3
   },
   "file_extension": ".py",
   "mimetype": "text/x-python",
   "name": "python",
   "nbconvert_exporter": "python",
   "pygments_lexer": "ipython3",
   "version": "3.8.2"
  }
 },
 "nbformat": 4,
 "nbformat_minor": 4
}
