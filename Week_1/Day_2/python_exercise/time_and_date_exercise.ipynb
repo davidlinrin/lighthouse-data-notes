{
 "cells": [
  {
   "cell_type": "code",
   "execution_count": 71,
   "metadata": {
    "ExecuteTime": {
     "end_time": "2020-04-23T12:59:43.427172Z",
     "start_time": "2020-04-23T12:59:43.421241Z"
    }
   },
   "outputs": [],
   "source": [
    "from datetime import timedelta\n",
    "import datetime\n",
    "import calendar \n",
    "import pandas as pd\n",
    "import numpy as np"
   ]
  },
  {
   "cell_type": "markdown",
   "metadata": {
    "ExecuteTime": {
     "end_time": "2020-04-23T12:52:58.201151Z",
     "start_time": "2020-04-23T12:52:58.193651Z"
    }
   },
   "source": [
    "print:\n",
    "* a) Current date and time\n",
    "* b) Current year\n",
    "* c) Month of year\n",
    "* d) Week number of the year\n",
    "* e) Weekday of the week\n",
    "* f) Day of year\n",
    "* g) Day of the month\n",
    "* h) Day of week"
   ]
  },
  {
   "cell_type": "code",
   "execution_count": 111,
   "metadata": {
    "ExecuteTime": {
     "end_time": "2020-04-23T12:53:26.216074Z",
     "start_time": "2020-04-23T12:53:26.206960Z"
    }
   },
   "outputs": [
    {
     "name": "stdout",
     "output_type": "stream",
     "text": [
      "A) 2020-07-21 14:29:15.957445\n",
      "B) 2020\n",
      "C) 7\n",
      "D) 30\n",
      "E) Tuesday\n",
      "F) 203\n",
      "G) 21\n",
      "H) 1\n"
     ]
    }
   ],
   "source": [
    "print('A)', datetime.datetime.now())\n",
    "print('B)', datetime.datetime.now().year)\n",
    "print('C)', datetime.datetime.now().month)\n",
    "print('D)', datetime.datetime.now().isocalendar()[1])\n",
    "print('E)', calendar.day_name[datetime.datetime.now().weekday()])\n",
    "\n",
    "print('F)', (datetime.datetime.now() - datetime.datetime(datetime.datetime.now().year,1,1)).days + 1)\n",
    "\n",
    "print('G)', datetime.datetime.now().day)\n",
    "print('H)', datetime.datetime.now().weekday())"
   ]
  },
  {
   "cell_type": "code",
   "execution_count": 115,
   "metadata": {},
   "outputs": [
    {
     "name": "stdout",
     "output_type": "stream",
     "text": [
      "2020-07-21 14:30:39.465247\n",
      "2020-01-01 00:00:00\n",
      "202 days, 14:30:39.465556\n"
     ]
    }
   ],
   "source": [
    "print(datetime.datetime.now())\n",
    "print(datetime.datetime(datetime.datetime.now().year,1,1))\n",
    "print(datetime.datetime.now() - datetime.datetime(datetime.datetime.now().year,1,1))"
   ]
  },
  {
   "cell_type": "markdown",
   "metadata": {},
   "source": [
    "* convert a string to datetime\n",
    "* string = 'Jan 1 2014 2:43PM'"
   ]
  },
  {
   "cell_type": "code",
   "execution_count": 74,
   "metadata": {
    "ExecuteTime": {
     "end_time": "2020-04-23T12:53:52.241615Z",
     "start_time": "2020-04-23T12:53:52.231428Z"
    }
   },
   "outputs": [
    {
     "name": "stdout",
     "output_type": "stream",
     "text": [
      "2014-01-01 14:43:00\n"
     ]
    }
   ],
   "source": [
    "date = 'Jan 1 2014 2:43PM'\n",
    "print(datetime.datetime.strptime(date, \"%b %d %Y %I:%M%p\"))"
   ]
  },
  {
   "cell_type": "markdown",
   "metadata": {},
   "source": [
    "* print the current time "
   ]
  },
  {
   "cell_type": "code",
   "execution_count": 75,
   "metadata": {
    "ExecuteTime": {
     "end_time": "2020-03-11T18:16:28.915595Z",
     "start_time": "2020-03-11T18:16:28.909658Z"
    }
   },
   "outputs": [
    {
     "name": "stdout",
     "output_type": "stream",
     "text": [
      "14:14:18.716999\n"
     ]
    }
   ],
   "source": [
    "print(datetime.datetime.now().time())"
   ]
  },
  {
   "cell_type": "markdown",
   "metadata": {},
   "source": [
    "* subtract five days from current date"
   ]
  },
  {
   "cell_type": "code",
   "execution_count": 76,
   "metadata": {
    "ExecuteTime": {
     "end_time": "2020-04-23T12:54:56.116690Z",
     "start_time": "2020-04-23T12:54:56.111293Z"
    }
   },
   "outputs": [
    {
     "name": "stdout",
     "output_type": "stream",
     "text": [
      "2020-07-16 14:14:21.464640\n"
     ]
    }
   ],
   "source": [
    "print(datetime.datetime.now() - timedelta(days = 5))"
   ]
  },
  {
   "cell_type": "markdown",
   "metadata": {
    "ExecuteTime": {
     "end_time": "2020-04-23T12:55:10.916163Z",
     "start_time": "2020-04-23T12:55:10.910245Z"
    }
   },
   "source": [
    "* convert unix timestamp string to readable date\n",
    "* unix = 1284105682"
   ]
  },
  {
   "cell_type": "code",
   "execution_count": 77,
   "metadata": {
    "ExecuteTime": {
     "end_time": "2020-03-11T18:19:02.952818Z",
     "start_time": "2020-03-11T18:19:02.946930Z"
    }
   },
   "outputs": [
    {
     "name": "stdout",
     "output_type": "stream",
     "text": [
      "2010-09-10 02:01:22\n"
     ]
    }
   ],
   "source": [
    "unix = 1284105682\n",
    "unix_date = datetime.datetime.fromtimestamp(unix)\n",
    "\n",
    "print(unix_date)"
   ]
  },
  {
   "cell_type": "markdown",
   "metadata": {
    "ExecuteTime": {
     "end_time": "2020-04-23T12:56:00.886007Z",
     "start_time": "2020-04-23T12:56:00.878697Z"
    }
   },
   "source": [
    "* convert today date to Day of Year"
   ]
  },
  {
   "cell_type": "code",
   "execution_count": 78,
   "metadata": {
    "ExecuteTime": {
     "end_time": "2020-04-23T12:55:58.575327Z",
     "start_time": "2020-04-23T12:55:58.553895Z"
    }
   },
   "outputs": [
    {
     "name": "stdout",
     "output_type": "stream",
     "text": [
      "2020-07-21 14:14:27.999748\n"
     ]
    }
   ],
   "source": [
    "today = datetime.datetime.now()\n",
    "print(today)\n"
   ]
  },
  {
   "cell_type": "markdown",
   "metadata": {},
   "source": [
    "* get week number from today's date"
   ]
  },
  {
   "cell_type": "code",
   "execution_count": 87,
   "metadata": {
    "ExecuteTime": {
     "end_time": "2020-04-23T12:56:28.577424Z",
     "start_time": "2020-04-23T12:56:28.572138Z"
    }
   },
   "outputs": [
    {
     "name": "stdout",
     "output_type": "stream",
     "text": [
      "D) 30\n"
     ]
    }
   ],
   "source": [
    "print('D)', datetime.datetime.now().isocalendar()[1])"
   ]
  },
  {
   "cell_type": "markdown",
   "metadata": {
    "ExecuteTime": {
     "end_time": "2020-04-23T12:56:43.939475Z",
     "start_time": "2020-04-23T12:56:43.932915Z"
    }
   },
   "source": [
    "* get days between two dates"
   ]
  },
  {
   "cell_type": "code",
   "execution_count": 86,
   "metadata": {
    "ExecuteTime": {
     "end_time": "2020-04-23T12:59:47.672905Z",
     "start_time": "2020-04-23T12:59:47.667373Z"
    }
   },
   "outputs": [
    {
     "name": "stdout",
     "output_type": "stream",
     "text": [
      "32\n"
     ]
    }
   ],
   "source": [
    "from datetime import date\n",
    "date_a = date(2020,2,2)\n",
    "date_b = date(2020,1,1)\n",
    "delta = date_a-date_b\n",
    "\n",
    "print(delta.days)"
   ]
  },
  {
   "cell_type": "markdown",
   "metadata": {},
   "source": [
    "* get the number of days of a given month and year"
   ]
  },
  {
   "cell_type": "code",
   "execution_count": 84,
   "metadata": {
    "ExecuteTime": {
     "end_time": "2020-04-23T12:59:48.516068Z",
     "start_time": "2020-04-23T12:59:48.511765Z"
    }
   },
   "outputs": [
    {
     "name": "stdout",
     "output_type": "stream",
     "text": [
      "31\n"
     ]
    }
   ],
   "source": [
    "month = 10\n",
    "year = 2016\n",
    "\n",
    "print(calendar.monthrange(year,month)[1])"
   ]
  },
  {
   "cell_type": "markdown",
   "metadata": {},
   "source": [
    "* get a list of dates between two dates"
   ]
  },
  {
   "cell_type": "code",
   "execution_count": 103,
   "metadata": {
    "ExecuteTime": {
     "end_time": "2020-04-23T12:59:53.461312Z",
     "start_time": "2020-04-23T12:59:53.456769Z"
    }
   },
   "outputs": [
    {
     "name": "stdout",
     "output_type": "stream",
     "text": [
      "22 days, 0:00:00\n",
      "22\n"
     ]
    }
   ],
   "source": [
    "start_dt = datetime.date(2015, 12, 20)\n",
    "end_dt = datetime.date(2016, 1, 11)\n",
    "delta = end_dt - start_dt\n",
    "lst = []\n",
    "print(delta)\n",
    "print(delta.days)"
   ]
  },
  {
   "cell_type": "code",
   "execution_count": 109,
   "metadata": {},
   "outputs": [
    {
     "name": "stdout",
     "output_type": "stream",
     "text": [
      "2015-12-20\n",
      "2015-12-21\n",
      "2015-12-22\n",
      "2015-12-23\n",
      "2015-12-24\n",
      "2015-12-25\n",
      "2015-12-26\n",
      "2015-12-27\n",
      "2015-12-28\n",
      "2015-12-29\n",
      "2015-12-30\n",
      "2015-12-31\n",
      "2016-01-01\n",
      "2016-01-02\n",
      "2016-01-03\n",
      "2016-01-04\n",
      "2016-01-05\n",
      "2016-01-06\n",
      "2016-01-07\n",
      "2016-01-08\n",
      "2016-01-09\n",
      "2016-01-10\n",
      "2016-01-11\n"
     ]
    }
   ],
   "source": [
    "for i in range(delta.days + 1):\n",
    "    lst.append(start_dt + timedelta(days = i))\n",
    "    print(start_dt + timedelta(days = i))           "
   ]
  },
  {
   "cell_type": "code",
   "execution_count": 108,
   "metadata": {},
   "outputs": [
    {
     "name": "stdout",
     "output_type": "stream",
     "text": [
      "[datetime.date(2015, 12, 20), datetime.date(2015, 12, 21), datetime.date(2015, 12, 22), datetime.date(2015, 12, 23), datetime.date(2015, 12, 24), datetime.date(2015, 12, 25), datetime.date(2015, 12, 26), datetime.date(2015, 12, 27), datetime.date(2015, 12, 28), datetime.date(2015, 12, 29), datetime.date(2015, 12, 30), datetime.date(2015, 12, 31), datetime.date(2016, 1, 1), datetime.date(2016, 1, 2), datetime.date(2016, 1, 3), datetime.date(2016, 1, 4), datetime.date(2016, 1, 5), datetime.date(2016, 1, 6), datetime.date(2016, 1, 7), datetime.date(2016, 1, 8), datetime.date(2016, 1, 9), datetime.date(2016, 1, 10), datetime.date(2016, 1, 11)]\n"
     ]
    }
   ],
   "source": [
    "print(lst)"
   ]
  }
 ],
 "metadata": {
  "kernelspec": {
   "display_name": "Python 3",
   "language": "python",
   "name": "python3"
  },
  "language_info": {
   "codemirror_mode": {
    "name": "ipython",
    "version": 3
   },
   "file_extension": ".py",
   "mimetype": "text/x-python",
   "name": "python",
   "nbconvert_exporter": "python",
   "pygments_lexer": "ipython3",
   "version": "3.8.2"
  },
  "toc": {
   "base_numbering": 1,
   "nav_menu": {},
   "number_sections": true,
   "sideBar": true,
   "skip_h1_title": false,
   "title_cell": "Table of Contents",
   "title_sidebar": "Contents",
   "toc_cell": false,
   "toc_position": {},
   "toc_section_display": true,
   "toc_window_display": false
  },
  "varInspector": {
   "cols": {
    "lenName": 16,
    "lenType": 16,
    "lenVar": 40
   },
   "kernels_config": {
    "python": {
     "delete_cmd_postfix": "",
     "delete_cmd_prefix": "del ",
     "library": "var_list.py",
     "varRefreshCmd": "print(var_dic_list())"
    },
    "r": {
     "delete_cmd_postfix": ") ",
     "delete_cmd_prefix": "rm(",
     "library": "var_list.r",
     "varRefreshCmd": "cat(var_dic_list()) "
    }
   },
   "types_to_exclude": [
    "module",
    "function",
    "builtin_function_or_method",
    "instance",
    "_Feature"
   ],
   "window_display": false
  }
 },
 "nbformat": 4,
 "nbformat_minor": 2
}
