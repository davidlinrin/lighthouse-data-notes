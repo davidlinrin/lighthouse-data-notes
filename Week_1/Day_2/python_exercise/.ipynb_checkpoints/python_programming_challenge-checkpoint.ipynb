{
 "cells": [
  {
   "cell_type": "markdown",
   "metadata": {},
   "source": [
    "## Poker Hand\n",
    "\n",
    "In this challenge, we have to find out which kind of Poker combination is present in a deck of 5 cards.Every card is a string containing the card value (with the upper-case initial for face-cards) and the lower-case initial for suits, as in the examples below:\n",
    "\n",
    "> \"Ah\" ➞ Ace of hearts <br>\n",
    "> \"Ks\" ➞ King of spades<br>\n",
    "> \"3d\" ➞ Three of diamonds<br>\n",
    "> \"Qc\" ➞ Queen of clubs <br>\n",
    "\n",
    "There are 10 different combinations. Here's the list, in decreasing order of importance:"
   ]
  },
  {
   "cell_type": "markdown",
   "metadata": {},
   "source": [
    "| Name            | Description                                         |\n",
    "|-----------------|-----------------------------------------------------|\n",
    "| Royal Flush     | A, K, Q, J, 10, all with the same suit.             |\n",
    "| Straight Flush  | Five cards in sequence, all with the same suit.     |\n",
    "| Four of a Kind  | Four cards of the same rank.                        |\n",
    "| Full House      | Three of a Kind with a Pair.                        |\n",
    "| Flush           | Any five cards of the same suit, not in sequence    |\n",
    "| Straight        | Five cards in a sequence, but not of the same suit. |\n",
    "| Three of a Kind | Three cards of the same rank.                       |\n",
    "| Two Pair        | Two different Pairs.                                |\n",
    "| Pair            | Two cards of the same rank.                         |\n",
    "| High Card       | No other valid combination.                         |"
   ]
  },
  {
   "cell_type": "markdown",
   "metadata": {},
   "source": [
    "### 1. Given a list `hand` containing five strings being the cards, implement a function `poker_hand_ranking` that returns a string with the name of the **highest** combination obtained, accordingly to the table above.\n",
    "\n",
    "#### Examples\n",
    "\n",
    "> poker_hand_ranking([\"10h\", \"Jh\", \"Qh\", \"Ah\", \"Kh\"]) ➞ \"Royal Flush\"<br>\n",
    "> poker_hand_ranking([\"3h\", \"5h\", \"Qs\", \"9h\", \"Ad\"]) ➞ \"High Card\"<br>\n",
    "> poker_hand_ranking([\"10s\", \"10c\", \"8d\", \"10d\", \"10h\"]) ➞ \"Four of a Kind\"<br>"
   ]
  },
  {
   "cell_type": "code",
   "execution_count": 503,
   "metadata": {},
   "outputs": [],
   "source": [
    "from collections import Counter\n",
    "\n",
    "h4 = [\"10h\", \"Jh\", \"Qh\", \"Ah\", \"Kh\"] #Royal\n",
    "h3 = [\"3h\", \"3h\", \"5s\", \"5h\", \"5d\"]  # Full\n",
    "h2 = [\"10s\", \"10c\", \"8d\", \"10d\", \"10h\"]  #4 of a kind\n",
    "h5 = [\"10s\", \"Jh\", \"Qh\", \"Ah\", \"Kh\"]  # Straight\n",
    "h6 = [\"3h\", \"2h\", \"5s\", \"5h\", \"5d\"]  # 3 of kind\n",
    "h1 = [\"2h\", \"2h\", \"6s\", \"8h\", \"3d\"] # pair\n",
    "h7 = [\"1h\", \"6h\", \"8s\", \"2h\", \"3d\"] # high card\n",
    "\n",
    "h8 = [\"8s\", \"9s\", \"10s\", \"Ks\", \"Js\"]\n",
    "h9 = [\"9h\", \"Jh\", \"Qh\", \"Ah\", \"Kh\"]\n",
    "\n",
    "hands = [h8,h9]\n",
    "Name = ['Royal Flush','Straight Flush','Four of a Kind','Full House','Flush','Straight','Three of a Kind','Two Pair','Pair', 'High Card']\n",
    "S = {'s': 0,'h':1,'c':2,'d':3}\n",
    "\n",
    "def poker_hand_ranking(hand):\n",
    "    highest = []\n",
    "    for i in hand:\n",
    "        new_hand = face_to_num(i)\n",
    "        \n",
    "        number =[]\n",
    "        suits = []\n",
    "        diff = []\n",
    "        \n",
    "        number = numbers(new_hand)\n",
    "        suits = suit(new_hand)\n",
    "        diff = differences(number)\n",
    "        \n",
    "        \n",
    "        if (set(number) == {12,10,11,13,1} and len(set(suits)) == 1):\n",
    "            highest.append(0)\n",
    "        elif((set(number) == {12,10,11,13,1} or len(Counter(diff)) == 1) and len(set(suits)) == 1):\n",
    "            highest.append(1)\n",
    "        elif(4 in Counter(number).values()):\n",
    "            highest.append(2)\n",
    "        elif(3 in Counter(number).values() and 2 in Counter(number).values()):\n",
    "            highest.append(3)\n",
    "        elif(len(set(suits)) == 1):\n",
    "            highest.append(4)\n",
    "        elif(set(number) == {12,10,11,13,1} or (len(Counter(diff)) == 1 and len(set(suits)) != 1)):\n",
    "            highest.append(5)\n",
    "        elif(3 in Counter(number).values()):\n",
    "            highest.append(6)\n",
    "        elif(2 in Counter(Counter(number).values()).values()):\n",
    "            highest.append(7)\n",
    "        elif(2 in Counter(number).values()):\n",
    "            highest.append(8)\n",
    "        else:\n",
    "            highest.append(9)\n",
    "        \n",
    "    return(Name[min(highest)], highest)"
   ]
  },
  {
   "cell_type": "code",
   "execution_count": 504,
   "metadata": {},
   "outputs": [
    {
     "name": "stdout",
     "output_type": "stream",
     "text": [
      "('Flush', [4, 4])\n"
     ]
    }
   ],
   "source": [
    "x = poker_hand_ranking(hands)\n",
    "print(x)"
   ]
  },
  {
   "cell_type": "code",
   "execution_count": 465,
   "metadata": {},
   "outputs": [],
   "source": [
    "# Converts face cards to numbers\n",
    "def face_to_num(face_hand):\n",
    "    for i in range (len(face_hand)):\n",
    "        face_hand[i] = face_hand[i].replace('A','1')\n",
    "        face_hand[i] = face_hand[i].replace('J','11')\n",
    "        face_hand[i] = face_hand[i].replace('Q','12')\n",
    "        face_hand[i] = face_hand[i].replace('K','13')\n",
    "    return(face_hand)\n",
    "\n",
    "# Seperates suits from numbers\n",
    "def numbers(suit_hand):\n",
    "    number = []\n",
    "    for i in suit_hand:\n",
    "        temp = ''\n",
    "        for j in i:\n",
    "            if j.isdigit() == True:\n",
    "                temp += j\n",
    "            else:\n",
    "                continue\n",
    "        number.append(int(temp))\n",
    "    number = sorted(number)\n",
    "    return(number)\n",
    "\n",
    "# Seperates number from suits\n",
    "def suit(number_hand):\n",
    "    suit = []\n",
    "    for i in number_hand:\n",
    "        temp = ''\n",
    "        for j in i:\n",
    "            if j.isdigit() == False:\n",
    "                suit.append(j)\n",
    "            else:\n",
    "                continue\n",
    "    return(suit)\n",
    "\n",
    "# Checks difference for straight\n",
    "def differences(numbers):\n",
    "    diff = []\n",
    "    for i in range(len(numbers)-1):\n",
    "        diff.append((abs(numbers[i]-numbers[i+1])))\n",
    "    return(diff)\n"
   ]
  },
  {
   "cell_type": "code",
   "execution_count": 469,
   "metadata": {},
   "outputs": [
    {
     "name": "stdout",
     "output_type": "stream",
     "text": [
      "['9h', '11h', '12h', '1h', '13h']\n",
      "[1, 9, 11, 12, 13]\n",
      "['h', 'h', 'h', 'h', 'h']\n"
     ]
    }
   ],
   "source": [
    "h9 = [\"9h\", \"Jh\", \"Qh\", \"Ah\", \"Kh\"]\n",
    "print(face_to_num(h9))\n",
    "print(numbers(face_to_num(h9)))\n",
    "print(suit(face_to_num(h9)))"
   ]
  },
  {
   "cell_type": "markdown",
   "metadata": {},
   "source": [
    "### 2.  Implement a function `winner_is` that returns the winner given a dictionary with different players and their hands. For example:\n",
    "\n",
    "#### Example\n",
    "\n",
    "We define dictionary like\n",
    "```\n",
    "round_1 = {\"John\" = [\"10h\", \"Jh\", \"Qh\", \"Ah\", \"Kh\"], \n",
    "        \"Peter\" = [\"3h\", \"5h\", \"Qs\", \"9h\", \"Ad\"]\n",
    "}\n",
    "```\n",
    "\n",
    "Our function returns the name of the winner:\n",
    "> winner_is(round_1) -> \"John\"\n",
    "\n",
    "One table can have up to 10 players.\n"
   ]
  },
  {
   "cell_type": "code",
   "execution_count": 687,
   "metadata": {},
   "outputs": [
    {
     "data": {
      "text/plain": [
       "'John'"
      ]
     },
     "execution_count": 687,
     "metadata": {},
     "output_type": "execute_result"
    }
   ],
   "source": [
    "round_1 = {\"John\" : [\"9h\", \"Jh\", \"Qh\", \"Ah\", \"Kh\"], \n",
    "           \"Peter\" : [\"3h\", \"5h\", \"Qs\", \"9h\", \"Ad\"],\n",
    "           \"David\" : [\"8s\", \"9s\", \"10s\", \"Ks\", \"Js\"],\n",
    "           #\"Andrew\": [\"1s\", \"6s\", \"8s\", \"2s\", \"3s\"],\n",
    "           #\"Kelvin\": [\"3h\", \"2h\", \"5s\", \"5h\", \"5d\"],\n",
    "           #\"Josh\" : [\"3h\", \"4s\", \"5s\", \"6h\", \"7d\"]\n",
    "           #\"Tim\" : [\"2h\", \"2s\", \"6s\", \"6h\", \"6d\"]\n",
    "}\n",
    "\n",
    "def winner_is(dict_of_players):\n",
    "    player = []\n",
    "    hands = []\n",
    "    result = []\n",
    "    \n",
    "    for i in dict_of_players:\n",
    "        player.append(i)\n",
    "    \n",
    "    for i in player:\n",
    "        temp = dict_of_players[i]\n",
    "        hands.append(temp)  \n",
    "        \n",
    "    result = poker_hand_ranking(hands)\n",
    "    \n",
    "    return(player[result[1].index(min(result[1]))])\n",
    "    \n",
    "winner_is(round_1)"
   ]
  },
  {
   "cell_type": "code",
   "execution_count": 500,
   "metadata": {},
   "outputs": [
    {
     "ename": "SyntaxError",
     "evalue": "invalid syntax (<ipython-input-500-e5c5e94ddad3>, line 21)",
     "output_type": "error",
     "traceback": [
      "\u001b[0;36m  File \u001b[0;32m\"<ipython-input-500-e5c5e94ddad3>\"\u001b[0;36m, line \u001b[0;32m21\u001b[0m\n\u001b[0;31m    if\u001b[0m\n\u001b[0m       ^\u001b[0m\n\u001b[0;31mSyntaxError\u001b[0m\u001b[0;31m:\u001b[0m invalid syntax\n"
     ]
    }
   ],
   "source": [
    "# Compares High Card\n",
    "def high_card(hands, indecies, type_of_hand):\n",
    "    high = []\n",
    "    high_suit = []\n",
    "    hand_of_interest =[]\n",
    "    \n",
    "    if (type_of_hand in [5,9]):\n",
    "        print('5 or 9')\n",
    "        for i in indecies:\n",
    "            high.append(max(numbers(face_to_num(hands[i]))))\n",
    "        return(high.index(max(high)))\n",
    "    \n",
    "    elif(type_of_hand in [0,1,4]):\n",
    "        print('0 or 1 or 4')\n",
    "        for i in indecies:\n",
    "            hand_of_interest.append(face_to_num(hands[i])[4])\n",
    "            \n",
    "        print(hand_of_interest)\n",
    "        high = numbers(hand_of_interest)\n",
    "        high_suit = suit(hand_of_interest)\n",
    "        return(1)\n",
    "    else:\n",
    "        print('end')\n",
    "        \n",
    "        \n",
    "        "
   ]
  },
  {
   "cell_type": "markdown",
   "metadata": {},
   "source": [
    "### Optional: Create a generator that randomly gives 5 cards to every player given a list of player names\n",
    "#### Example\n",
    "\n",
    "> distribute_cards([\"John\",\"Peter\"])  -> round_1 = {\"John\" = [\"10h\", \"Jh\", \"Qh\", \"Ah\", \"Kh\"], \n",
    "        \"Peter\" = [\"3h\", \"5h\", \"Qs\", \"9h\", \"Ad\"]\n",
    "}"
   ]
  },
  {
   "cell_type": "code",
   "execution_count": 677,
   "metadata": {},
   "outputs": [],
   "source": [
    "import random\n",
    "import numpy as np"
   ]
  },
  {
   "cell_type": "code",
   "execution_count": 684,
   "metadata": {},
   "outputs": [],
   "source": [
    "def distribute_cards(players):\n",
    "    num_cards = len(players) * 5\n",
    "    cards = set()\n",
    "    result = {}\n",
    "    while (len(cards)< num_cards):\n",
    "        x = get_card()\n",
    "        cards.add(x)\n",
    "    cards = list(cards)\n",
    "    l = np.array_split(np.array(cards),len(players))\n",
    "    for i in range(len(players)):\n",
    "        result[players[i]] = l[i]\n",
    "    return(result)"
   ]
  },
  {
   "cell_type": "code",
   "execution_count": 685,
   "metadata": {},
   "outputs": [],
   "source": [
    "S = {0: 's',1:'h',2:'c',3:'d'}\n",
    "def get_card():\n",
    "    number = random.randint(1,13)\n",
    "    suits  =random.randint(0,3)\n",
    "    suits = S[suits]\n",
    "    c = str(number)+str(suits)\n",
    "    c = c.replace(\" \", '')\n",
    "    return(c)"
   ]
  },
  {
   "cell_type": "code",
   "execution_count": 686,
   "metadata": {},
   "outputs": [
    {
     "name": "stdout",
     "output_type": "stream",
     "text": [
      "{'John': array(['12s', '1c', '5d', '11d', '3h'], dtype='<U3'), 'Peter': array(['2h', '10h', '10c', '8d', '5s'], dtype='<U3'), 'David': array(['4c', '7h', '4d', '11s', '11h'], dtype='<U3'), 'Tom': array(['4h', '7c', '10d', '2c', '3s'], dtype='<U3')}\n"
     ]
    }
   ],
   "source": [
    "x = distribute_cards([\"John\",\"Peter\",\"David\",\"Tom\"])\n",
    "print(x)"
   ]
  },
  {
   "cell_type": "code",
   "execution_count": null,
   "metadata": {},
   "outputs": [],
   "source": []
  }
 ],
 "metadata": {
  "kernelspec": {
   "display_name": "Python 3",
   "language": "python",
   "name": "python3"
  },
  "language_info": {
   "codemirror_mode": {
    "name": "ipython",
    "version": 3
   },
   "file_extension": ".py",
   "mimetype": "text/x-python",
   "name": "python",
   "nbconvert_exporter": "python",
   "pygments_lexer": "ipython3",
   "version": "3.8.2"
  }
 },
 "nbformat": 4,
 "nbformat_minor": 4
}
