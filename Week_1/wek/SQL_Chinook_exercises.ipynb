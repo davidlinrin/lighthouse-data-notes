{
 "cells": [
  {
   "cell_type": "markdown",
   "metadata": {},
   "source": [
    "## We will be working with database chinook.db\n",
    "You can download it here: https://drive.google.com/file/d/0Bz9_0VdXvv9bWUtqM0NBYzhKZ3c/view?usp=sharing\n",
    "\n",
    "The\tChinook\tDatabase is\tabout an imaginary video and music store. Each track is\tstored using one of\tthe digital formats and\thas\ta genre. The store has also\tsome playlists,\twhere a single track can be\tpart of several\tplaylists. Orders are recorded\tfor\tcustomers, but are called invoices. Every customer is assigned a support employee, and Employees report to other employees."
   ]
  },
  {
   "cell_type": "markdown",
   "metadata": {},
   "source": [
    "### Which\tartists\tdid\tnot\tmake\tany\talbums\tat\tall?\tInclude\ttheir\tnames\tin your\tanswer."
   ]
  },
  {
   "cell_type": "code",
   "execution_count": 3,
   "metadata": {},
   "outputs": [],
   "source": [
    "#select * from artists;\n",
    "#select * from albums;\n",
    "\n",
    "#select distinct a.ArtistId, Name from artists a\n",
    "#left join albums b on a.ArtistId = b.ArtistId\n",
    "#where a.ArtistId not in (select distinct a.ArtistId from artists a\n",
    "#                         join albums b on a.ArtistId = b.ArtistId);"
   ]
  },
  {
   "cell_type": "markdown",
   "metadata": {},
   "source": [
    "### Which\tartists\trecorded\tany\ttracks\tof\tthe\tLatin\tgenre?"
   ]
  },
  {
   "cell_type": "code",
   "execution_count": null,
   "metadata": {},
   "outputs": [],
   "source": [
    "#select * from artists;\n",
    "\n",
    "#select * from tracks;\n",
    "\n",
    "#select GenreID from genres\n",
    "#where Name = 'Latin';\n",
    "\n",
    "#select distinct a.ArtistId, a.name, b.AlbumId from artists a\n",
    "#left join albums b on a.ArtistId = b.ArtistId\n",
    "#where b.AlbumId in (select distinct AlbumId from tracks\n",
    "#where GenreId in \n",
    "#(select GenreID from genres where Name = 'Latin'));"
   ]
  },
  {
   "cell_type": "markdown",
   "metadata": {},
   "source": [
    "### Which\tvideo track\thas\tthe\tlongest\tlength?"
   ]
  },
  {
   "cell_type": "code",
   "execution_count": null,
   "metadata": {},
   "outputs": [],
   "source": [
    "#select * from playlists;\n",
    "#select * from playlist_track;\n",
    "#select * from tracks;\n",
    "#select * from media_types;\n",
    "\n",
    "#select TrackId, Name, AlbumId, Milliseconds, MAX(Milliseconds), MediaTypeId  from tracks\n",
    "#where MediaTypeId = 3;\n",
    "\n",
    "#select MAX(Milliseconds) from (Select Milliseconds from tracks\n",
    "#where MediaTypeId = 3);"
   ]
  },
  {
   "cell_type": "markdown",
   "metadata": {},
   "source": [
    "### Find\tthe\tnames\tof\tcustomers\twho\tlive\tin\tthe\tsame\tcity\tas\tthe\ttop\temployee\t(The\tone\tnot\tmanaged\tby\tanyone)."
   ]
  },
  {
   "cell_type": "code",
   "execution_count": null,
   "metadata": {},
   "outputs": [],
   "source": [
    "#SELECT EmployeeId,LastName,FirstName,Title,ReportsTo,Address,City,State,Country,PostalCode,Phone,Fax,Email\n",
    "#FROM employees;\n",
    "\n",
    "#select * from customers;\n",
    "\n",
    "#select CustomerId,FirstName, LastName from customers\n",
    "#where City in( \n",
    "#select City from employees\n",
    "#where ReportsTo is NULL);\n"
   ]
  },
  {
   "cell_type": "markdown",
   "metadata": {},
   "source": [
    "### Find\tthe\tmanagers of\temployees\tsupporting\tBrazilian\tcustomers."
   ]
  },
  {
   "cell_type": "code",
   "execution_count": null,
   "metadata": {},
   "outputs": [],
   "source": [
    "#select * from customers;\n",
    "\n",
    "#SELECT EmployeeId,LastName,FirstName,Title,ReportsTo,Address,City,State,Country,PostalCode,Phone,Fax,Email\n",
    "#FROM employees;\n",
    "\n",
    "#select distinct SupportRepID from customers\n",
    "#where Country ='Brazil';\n",
    "\n",
    "#select distinct ReportsTo from employees\n",
    "#where EmployeeId in (\n",
    "#select distinct SupportRepID from customers\n",
    "#where Country ='Brazil'\n",
    "#);\n",
    "\n",
    "#select EmployeeId, LastName, FirstName from employees\n",
    "#where EmployeeId in(\n",
    "#select e.ReportsTo from employees e\n",
    "#join customers c on e.EmployeeId = c.SupportRepId\n",
    "#where c.Country ='Brazil');"
   ]
  },
  {
   "cell_type": "markdown",
   "metadata": {},
   "source": [
    "### Which\tplaylists\thave\tno\tLatin\ttracks?"
   ]
  },
  {
   "cell_type": "code",
   "execution_count": null,
   "metadata": {},
   "outputs": [],
   "source": [
    "#select * from tracks;\n",
    "#select * from playlists;\n",
    "#select * from playlist_track;\n",
    "\n",
    "#select TrackId, Name, GenreId from tracks\n",
    "#where GenreID in (select GenreID from genres\n",
    "#where Name = 'Latin');\n",
    "\n",
    "#select distinct PlaylistId from playlist_track\n",
    "#where TrackId in (\n",
    "#select TrackId from tracks\n",
    "#where GenreID in (select GenreID from genres\n",
    "#where Name = 'Latin')\n",
    "#);\n",
    "\n",
    "#select distinct p.Name, p.PlaylistId from playlist_track pt\n",
    "#  join playlists p on p.PlaylistId = pt.PlaylistId\n",
    "#where pt.PlaylistId not in(\n",
    "#select distinct PlaylistId from playlist_track\n",
    "#where TrackId in (\n",
    "#select TrackId from tracks\n",
    "#where GenreID in (select GenreID from genres\n",
    "#where Name = 'Latin')\n",
    "#)\n",
    "#);"
   ]
  }
 ],
 "metadata": {
  "kernelspec": {
   "display_name": "Python 3",
   "language": "python",
   "name": "python3"
  },
  "language_info": {
   "codemirror_mode": {
    "name": "ipython",
    "version": 3
   },
   "file_extension": ".py",
   "mimetype": "text/x-python",
   "name": "python",
   "nbconvert_exporter": "python",
   "pygments_lexer": "ipython3",
   "version": "3.8.2"
  }
 },
 "nbformat": 4,
 "nbformat_minor": 4
}
