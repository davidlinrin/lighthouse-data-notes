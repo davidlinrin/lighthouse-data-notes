{
 "cells": [
  {
   "cell_type": "markdown",
   "metadata": {},
   "source": [
    "# Mini-Project I\n",
    "During this project, we will practice handling of complex lists and dictionaries in Python. Plus, we will learn how to work with API documentation. Don't be afraid to search for the information in the [**documentation**](https://api.tfl.gov.uk/swagger/ui/index.html?url=/swagger/docs/v1#!/AccidentStats/AccidentStats_Get).\n",
    "\n",
    "Let's go to the tasks, we have some parsing to do :)!!"
   ]
  },
  {
   "cell_type": "code",
   "execution_count": 704,
   "metadata": {},
   "outputs": [],
   "source": [
    "# import packages we need (remember what packages we used yesterday during the API session)\n",
    "import os\n",
    "import json\n",
    "import requests as re\n",
    "from collections import Counter\n",
    "from pprint import pprint"
   ]
  },
  {
   "cell_type": "markdown",
   "metadata": {},
   "source": [
    "## Demo"
   ]
  },
  {
   "cell_type": "code",
   "execution_count": 705,
   "metadata": {},
   "outputs": [],
   "source": [
    "app_id = ''\n",
    "app_key = ''\n",
    "url_append = f'?app_id={app_id}&app_key={app_key}' "
   ]
  },
  {
   "cell_type": "code",
   "execution_count": 706,
   "metadata": {},
   "outputs": [
    {
     "name": "stdout",
     "output_type": "stream",
     "text": [
      "?app_id=&app_key=\n"
     ]
    }
   ],
   "source": [
    "print(url_append)"
   ]
  },
  {
   "cell_type": "code",
   "execution_count": 707,
   "metadata": {},
   "outputs": [],
   "source": [
    "# URL\n",
    "url = \"https://api.tfl.gov.uk/AirQuality\""
   ]
  },
  {
   "cell_type": "code",
   "execution_count": 708,
   "metadata": {},
   "outputs": [],
   "source": [
    "# We send the request to the API\n",
    "res = re.get(url+url_append)"
   ]
  },
  {
   "cell_type": "code",
   "execution_count": 709,
   "metadata": {},
   "outputs": [],
   "source": [
    "# We can check if the request was successful\n",
    "result = res.json()\n",
    "\n",
    "#print(type(result))\n",
    "#print(len(result))\n",
    "#print(result.keys())\n",
    "\n",
    "#print(result['$id'], '\\n')\n",
    "#print(result['$type'], '\\n')\n",
    "#print(result['updatePeriod'], '\\n')\n",
    "#print(result['updateFrequency'], '\\n')\n",
    "#print(result['forecastURL'], '\\n')\n",
    "#print(result['disclaimerText'], '\\n')\n",
    "#print(result['currentForecast'], '\\n')"
   ]
  },
  {
   "cell_type": "markdown",
   "metadata": {},
   "source": [
    "## Task\n",
    "Parse the dictionary and print the AirQuality predictions for tomorrow"
   ]
  },
  {
   "cell_type": "code",
   "execution_count": 710,
   "metadata": {},
   "outputs": [
    {
     "name": "stdout",
     "output_type": "stream",
     "text": [
      "Low air pollution forecast valid from Saturday 25 July to end of Saturday 25 July GMT\n"
     ]
    }
   ],
   "source": [
    "# Parses the furture forcast summary\n",
    "current_forecast = result['currentForecast']\n",
    "\n",
    "# Prints the air forecast summary from the future forcast\n",
    "print(current_forecast[1]['forecastSummary'])"
   ]
  },
  {
   "cell_type": "markdown",
   "metadata": {},
   "source": [
    "## Task\n",
    "What are the different modes of transport which are operated by Transfer for London? How many of modes do they have?\n",
    "\n",
    "Print the list with different modes of transport, plus their count. Example output:\n",
    "```\n",
    "[bus, cable-car,.....]\n",
    "Number of different modes of transport is: xyz\n",
    "```\n",
    "\n",
    "We need to search the documentation for correct request."
   ]
  },
  {
   "cell_type": "code",
   "execution_count": 559,
   "metadata": {},
   "outputs": [],
   "source": [
    "# New URL for request\n",
    "url = \"https://api.tfl.gov.uk//Line/Meta/Modes\"\n",
    "res = re.get(url+url_append)"
   ]
  },
  {
   "cell_type": "code",
   "execution_count": 560,
   "metadata": {},
   "outputs": [
    {
     "data": {
      "text/plain": [
       "<Response [200]>"
      ]
     },
     "execution_count": 560,
     "metadata": {},
     "output_type": "execute_result"
    }
   ],
   "source": [
    "# Check status of the request\n",
    "res"
   ]
  },
  {
   "cell_type": "code",
   "execution_count": 561,
   "metadata": {},
   "outputs": [
    {
     "name": "stdout",
     "output_type": "stream",
     "text": [
      "['cycle-hire', 'river-bus', 'tram', 'tube', 'tflrail', 'interchange-secure', 'overground', 'walking', 'interchange-keep-sitting', 'river-tour', 'dlr', 'taxi', 'bus', 'replacement-bus', 'cycle', 'coach', 'cable-car', 'national-rail'] \n",
      "\n",
      "Number of different modes of transportation is: 18\n"
     ]
    }
   ],
   "source": [
    "#Converts to json\n",
    "result = res.json()\n",
    "types_of_transportation = set()\n",
    "\n",
    "#parses the 'modeName' (modes of transportation) from results\n",
    "for i in result:\n",
    "    types_of_transportation.add(i['modeName'])\n",
    "\n",
    "# Counts the total amount of types_of_transportation\n",
    "number_of_transportation = len(types_of_transportation)\n",
    "\n",
    "# Prints the result\n",
    "print(list(types_of_transportation), '\\n')\n",
    "print('Number of different modes of transportation is:', number_of_transportation)"
   ]
  },
  {
   "cell_type": "markdown",
   "metadata": {},
   "source": [
    "## Task\n",
    "How many BikePoints in London are operated by Transfor for London? How many docks are in **all** BikePoints? There is the information for empty and full docks for each BikePoint."
   ]
  },
  {
   "cell_type": "code",
   "execution_count": 507,
   "metadata": {},
   "outputs": [],
   "source": [
    "# New URL for request \n",
    "url = 'https://api.tfl.gov.uk/BikePoint'\n",
    "res = re.get(url+url_append)"
   ]
  },
  {
   "cell_type": "code",
   "execution_count": 508,
   "metadata": {},
   "outputs": [
    {
     "data": {
      "text/plain": [
       "<Response [200]>"
      ]
     },
     "execution_count": 508,
     "metadata": {},
     "output_type": "execute_result"
    }
   ],
   "source": [
    "#Check status of request\n",
    "res"
   ]
  },
  {
   "cell_type": "code",
   "execution_count": 483,
   "metadata": {},
   "outputs": [],
   "source": [
    "# Function to check if any bike points had not int values\n",
    "#for i in range(len(result)):\n",
    "#    if result[i]['additionalProperties'][6]['key'] not in ['NbBikes','NbEmptyDocks','NbDocks']:\n",
    "#        print(result[i]['additionalProperties'][6])\n",
    "#        print(result[i]['additionalProperties'][7])\n",
    "#        print(result[i]['additionalProperties'][8])\n",
    "#    else:\n",
    "#        continue"
   ]
  },
  {
   "cell_type": "code",
   "execution_count": 509,
   "metadata": {},
   "outputs": [
    {
     "name": "stdout",
     "output_type": "stream",
     "text": [
      "There are a total of 783 being operated by Transfor for London\n",
      "There are a total of 20351 unbroken docks and a total of 20788 docks in all Bike Points\n",
      "Thus, there are a total of 437 broken docks in all bike points\n"
     ]
    }
   ],
   "source": [
    "# Convert to Json and count number of BikePoints\n",
    "result = res.json()\n",
    "dock = 0\n",
    "include_broken = 0\n",
    "total_BikePoints = len(result)\n",
    "\n",
    "# Iterates over all Bike points to check if there are any borken bike points\n",
    "# At the same time adding total amount of docks to the variables created above\n",
    "for i in range(len(result)):\n",
    "    \n",
    "    #Assigning relavent values to an array\n",
    "    values= [result[i]['additionalProperties'][6]['value'],\n",
    "             result[i]['additionalProperties'][7]['value'],\n",
    "             result[i]['additionalProperties'][8]['value']]\n",
    "    \n",
    "    # Skip the Bike point if values are not numbers\n",
    "    if ('true' in values or 'false' in values):\n",
    "        continue\n",
    "        \n",
    "    # Assigning the values of \"number of bikes\", \"number of spaces\", and \"number of docks\" in ech Bike point\n",
    "    nbBike = int(values[0])\n",
    "    nbSpaces = int(values[1])\n",
    "    nbDocks = int(values[2])\n",
    "    \n",
    "    # Check if there are nay broken docks in Bike point\n",
    "    # If so, docks should only include non-broken docks in that Bike point\n",
    "    # Whilst, include_broken should include all docks\n",
    "    if (nbDocks - (nbBike + nbSpaces) == 0):\n",
    "        dock += nbDocks\n",
    "        include_broken += nbDocks\n",
    "    elif (nbDocks - (nbBike + nbSpaces) != 0):\n",
    "        dock += nbDocks - (nbDocks - (nbBike + nbSpaces))\n",
    "        include_broken += nbDocks\n",
    "\n",
    "# Printing the answer obtained\n",
    "print(f'There are a total of {total_BikePoints} being operated by Transfor for London')\n",
    "print(f'There are a total of {dock} unbroken docks and a total of {include_broken} docks in all Bike Points')\n",
    "print(f'Thus, there are a total of {include_broken-dock} broken docks in all bike points')"
   ]
  },
  {
   "cell_type": "markdown",
   "metadata": {},
   "source": [
    "## Task\n",
    "How many tube and bus lines are in London? Print names of all tube lines."
   ]
  },
  {
   "cell_type": "code",
   "execution_count": 289,
   "metadata": {},
   "outputs": [],
   "source": [
    "# New URL for request \n",
    "url = 'https://api.tfl.gov.uk/Line/Mode/tube'\n",
    "url2 = 'https://api.tfl.gov.uk/Line/Mode/bus'\n",
    "res = re.get(url+url_append)\n",
    "res2 = re.get(url2+url_append)"
   ]
  },
  {
   "cell_type": "code",
   "execution_count": 290,
   "metadata": {},
   "outputs": [
    {
     "name": "stdout",
     "output_type": "stream",
     "text": [
      "<Response [200]>\n"
     ]
    },
    {
     "data": {
      "text/plain": [
       "<Response [200]>"
      ]
     },
     "execution_count": 290,
     "metadata": {},
     "output_type": "execute_result"
    }
   ],
   "source": [
    "#Check status of request\n",
    "print(res)\n",
    "res2"
   ]
  },
  {
   "cell_type": "code",
   "execution_count": 293,
   "metadata": {},
   "outputs": [
    {
     "name": "stdout",
     "output_type": "stream",
     "text": [
      "There are a total of 11 tube lines and 609 bus lines in London\n",
      "['Bakerloo', 'Central', 'Circle', 'District', 'Hammersmith & City', 'Jubilee', 'Metropolitan', 'Northern', 'Piccadilly', 'Victoria', 'Waterloo & City']\n"
     ]
    }
   ],
   "source": [
    "# Converts to json\n",
    "result_tube = res.json()\n",
    "result_bus = res2.json()\n",
    "\n",
    "# Counting number of tube lines\n",
    "num_tube_lines = len(result_tube)\n",
    "\n",
    "# Counting number of bus lines\n",
    "num_bus_lines = len(result_bus)\n",
    "\n",
    "# Storing the name of all tube lines\n",
    "name_tube_lines = []\n",
    "for i in result_tube:\n",
    "    name_tube_lines.append(i['name'])\n",
    "\n",
    "\n",
    "print(f'There are a total of {num_tube_lines} tube lines and {num_bus_lines} bus lines in London')\n",
    "print(name_tube_lines)"
   ]
  },
  {
   "cell_type": "markdown",
   "metadata": {},
   "source": [
    "## Task\n",
    "How many station has `victoria` line. How many times a day does this line leave from Victoria Station?"
   ]
  },
  {
   "cell_type": "code",
   "execution_count": 754,
   "metadata": {},
   "outputs": [],
   "source": [
    "# New URL for request \n",
    "url = 'https://api.tfl.gov.uk/Line/victoria/StopPoints'\n",
    "res = re.get(url+url_append)"
   ]
  },
  {
   "cell_type": "code",
   "execution_count": 755,
   "metadata": {},
   "outputs": [
    {
     "name": "stdout",
     "output_type": "stream",
     "text": [
      "<Response [200]>\n"
     ]
    }
   ],
   "source": [
    "#Check status of request\n",
    "print(res)"
   ]
  },
  {
   "cell_type": "code",
   "execution_count": 756,
   "metadata": {},
   "outputs": [
    {
     "name": "stdout",
     "output_type": "stream",
     "text": [
      "there is a total of 16 station that has the vitoria line: \n",
      "\n",
      "Blackhorse Road Underground Station\n",
      "Brixton Underground Station\n",
      "Euston Underground Station\n",
      "Finsbury Park Underground Station\n",
      "Green Park Underground Station\n",
      "Highbury & Islington Underground Station\n",
      "King's Cross St. Pancras Underground Station\n",
      "Oxford Circus Underground Station\n",
      "Pimlico Underground Station\n",
      "Stockwell Underground Station\n",
      "Seven Sisters Underground Station\n",
      "Tottenham Hale Underground Station\n",
      "Victoria Underground Station\n",
      "Vauxhall Underground Station\n",
      "Warren Street Underground Station\n",
      "Walthamstow Central Underground Station\n"
     ]
    }
   ],
   "source": [
    "# Converts to json\n",
    "result = res.json()\n",
    "result2 = res2.json()\n",
    "\n",
    "# Counts total amount of stations that have the vitorial line\n",
    "total_station_victoria = len(result)\n",
    "\n",
    "print(f'there is a total of {total_station_victoria} station that has the vitoria line:', '\\n')\n",
    "for i in range(len(result)):\n",
    "    print(result[i]['commonName'])"
   ]
  },
  {
   "cell_type": "markdown",
   "metadata": {},
   "source": [
    "## Task\n",
    "Plan the journey from Heathrow Airport to Tower Bridge using Public Transport, Taxi or Bike? Which way is the fastest? Example output:\n",
    "```\n",
    "Planned duration:\n",
    "Public Transport: x minutes\n",
    "Bike: y minutes\n",
    "```\n",
    "\n",
    "We need to search the documentation for correct requests."
   ]
  },
  {
   "cell_type": "code",
   "execution_count": 751,
   "metadata": {},
   "outputs": [],
   "source": [
    "# New URL for request \n",
    "url = 'https://api.tfl.gov.uk/Journey/JourneyResults/TW63XA/to/SE14TW'\n",
    "res = re.get(url+url_append, params={'mode':'Taxi'})\n",
    "res2 = re.get(url+url_append, params={'mode':'Motorbike-scooter'})"
   ]
  },
  {
   "cell_type": "code",
   "execution_count": 742,
   "metadata": {},
   "outputs": [
    {
     "name": "stdout",
     "output_type": "stream",
     "text": [
      "<Response [200]>\n"
     ]
    },
    {
     "data": {
      "text/plain": [
       "<Response [200]>"
      ]
     },
     "execution_count": 742,
     "metadata": {},
     "output_type": "execute_result"
    }
   ],
   "source": [
    "#Check status of request\n",
    "print(res)\n",
    "res2"
   ]
  },
  {
   "cell_type": "code",
   "execution_count": 743,
   "metadata": {
    "scrolled": true
   },
   "outputs": [
    {
     "name": "stdout",
     "output_type": "stream",
     "text": [
      "PLanned duration:\n",
      "Public Transport: 110 minutes\n",
      "Public Transport: 110 minutes\n"
     ]
    }
   ],
   "source": [
    "# Converts to json\n",
    "taxi_result = res.json()\n",
    "bike_result = res2.json()\n",
    "\n",
    "# Taking average of Taxi travel time\n",
    "taxi_avg_time = sum([taxi_result['journeys'][x]['duration'] for x in range(len(taxi_result['journeys']))])/ len(taxi_result['journeys'])\n",
    "bike_avg_time = sum([bike_result['journeys'][x]['duration'] for x in range(len(bike_result['journeys']))])/ len(bike_result['journeys'])\n",
    "\n",
    "\n",
    "# printing the obtained result\n",
    "print('Planned duration:')\n",
    "print(f'Public Transport: {round(taxi_avg_time)} minutes')\n",
    "print(f'Public Transport: {round(bike_avg_time)} minutes')"
   ]
  },
  {
   "cell_type": "markdown",
   "metadata": {},
   "source": [
    "# Double Checking the files are not the same"
   ]
  },
  {
   "cell_type": "code",
   "execution_count": 726,
   "metadata": {},
   "outputs": [
    {
     "name": "stdout",
     "output_type": "stream",
     "text": [
      "3\n",
      "3\n"
     ]
    }
   ],
   "source": [
    "print(len(taxi_result['journeys']))\n",
    "print(len(bike_result['journeys']))"
   ]
  },
  {
   "cell_type": "code",
   "execution_count": 744,
   "metadata": {},
   "outputs": [
    {
     "name": "stdout",
     "output_type": "stream",
     "text": [
      "103\n",
      "120\n",
      "108\n"
     ]
    }
   ],
   "source": [
    "print(taxi_result['journeys'][0]['duration'])\n",
    "print(taxi_result['journeys'][1]['duration'])\n",
    "print(taxi_result['journeys'][2]['duration'])"
   ]
  },
  {
   "cell_type": "code",
   "execution_count": 745,
   "metadata": {},
   "outputs": [
    {
     "name": "stdout",
     "output_type": "stream",
     "text": [
      "103\n",
      "120\n",
      "108\n"
     ]
    }
   ],
   "source": [
    "print(bike_result['journeys'][0]['duration'])\n",
    "print(bike_result['journeys'][1]['duration'])\n",
    "print(bike_result['journeys'][2]['duration'])"
   ]
  },
  {
   "cell_type": "code",
   "execution_count": 740,
   "metadata": {},
   "outputs": [
    {
     "name": "stdout",
     "output_type": "stream",
     "text": [
      "True\n"
     ]
    }
   ],
   "source": [
    "print(bike_result == taxi_result)"
   ]
  }
 ],
 "metadata": {
  "kernelspec": {
   "display_name": "Python 3",
   "language": "python",
   "name": "python3"
  },
  "language_info": {
   "codemirror_mode": {
    "name": "ipython",
    "version": 3
   },
   "file_extension": ".py",
   "mimetype": "text/x-python",
   "name": "python",
   "nbconvert_exporter": "python",
   "pygments_lexer": "ipython3",
   "version": "3.8.2"
  }
 },
 "nbformat": 4,
 "nbformat_minor": 4
}
